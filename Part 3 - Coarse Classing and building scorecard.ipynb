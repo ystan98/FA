{
 "cells": [
  {
   "cell_type": "code",
   "execution_count": 677,
   "metadata": {},
   "outputs": [],
   "source": [
    "import pandas as pd \n",
    "import numpy as np\n",
    "import matplotlib.pyplot as plt\n",
    "import seaborn as sns\n",
    "from sklearn.preprocessing import LabelEncoder\n",
    "from sklearn.linear_model import LogisticRegression\n",
    "from sklearn.metrics import make_scorer, f1_score\n",
    "from sklearn.metrics import classification_report\n",
    "from sklearn.metrics import confusion_matrix\n",
    "import warnings\n",
    "warnings.filterwarnings('ignore')\n",
    "from sklearn.model_selection import train_test_split\n",
    "import scorecardpy as sc\n",
    "import pprint"
   ]
  },
  {
   "cell_type": "code",
   "execution_count": 678,
   "metadata": {},
   "outputs": [
    {
     "name": "stdout",
     "output_type": "stream",
     "text": [
      "<class 'pandas.core.frame.DataFrame'>\n",
      "RangeIndex: 114755 entries, 0 to 114754\n",
      "Data columns (total 20 columns):\n",
      " #   Column                    Non-Null Count   Dtype  \n",
      "---  ------                    --------------   -----  \n",
      " 0   Unnamed: 0                114755 non-null  int64  \n",
      " 1   STATUS                    114755 non-null  int64  \n",
      " 2   NAME_CONTRACT_TYPE        114755 non-null  object \n",
      " 3   FLAG_OWN_CAR              114755 non-null  object \n",
      " 4   FLAG_OWN_REALTY           114755 non-null  object \n",
      " 5   AMT_INCOME_TOTAL          114755 non-null  float64\n",
      " 6   AMT_CREDIT                114755 non-null  float64\n",
      " 7   AMT_ANNUITY               114755 non-null  float64\n",
      " 8   NAME_INCOME_TYPE          114755 non-null  object \n",
      " 9   NAME_EDUCATION_TYPE       114755 non-null  object \n",
      " 10  NAME_FAMILY_STATUS        114755 non-null  object \n",
      " 11  NAME_HOUSING_TYPE         114755 non-null  object \n",
      " 12  DAYS_EMPLOYED             114755 non-null  int64  \n",
      " 13  OCCUPATION_TYPE           114755 non-null  object \n",
      " 14  CNT_FAM_MEMBERS           114755 non-null  float64\n",
      " 15  EXT_SOURCE_2              114564 non-null  float64\n",
      " 16  DEF_60_CNT_SOCIAL_CIRCLE  114755 non-null  float64\n",
      " 17  age                       114755 non-null  float64\n",
      " 18  total_enquiries_cb        114755 non-null  float64\n",
      " 19  credit_income_ratio       114755 non-null  float64\n",
      "dtypes: float64(9), int64(3), object(8)\n",
      "memory usage: 17.5+ MB\n"
     ]
    }
   ],
   "source": [
    "df_main = pd.read_csv('filtered_data_iter2.csv')\n",
    "df = df_main.copy()\n",
    "df.info()"
   ]
  },
  {
   "cell_type": "code",
   "execution_count": 679,
   "metadata": {},
   "outputs": [
    {
     "data": {
      "text/plain": [
       "1    104221\n",
       "0     10534\n",
       "Name: STATUS, dtype: int64"
      ]
     },
     "execution_count": 679,
     "metadata": {},
     "output_type": "execute_result"
    }
   ],
   "source": [
    "#replace value 0 in status with 2\n",
    "df[\"STATUS\"].replace(0,2,inplace=True)\n",
    "df[\"STATUS\"].replace(1,0,inplace=True)\n",
    "df[\"STATUS\"].replace(2,1,inplace=True)\n",
    "df[\"STATUS\"].value_counts()\n"
   ]
  },
  {
   "cell_type": "code",
   "execution_count": 680,
   "metadata": {},
   "outputs": [
    {
     "data": {
      "text/plain": [
       "Unnamed: 0                  0\n",
       "STATUS                      0\n",
       "NAME_CONTRACT_TYPE          0\n",
       "FLAG_OWN_CAR                0\n",
       "FLAG_OWN_REALTY             0\n",
       "AMT_INCOME_TOTAL            0\n",
       "AMT_CREDIT                  0\n",
       "AMT_ANNUITY                 0\n",
       "NAME_INCOME_TYPE            0\n",
       "NAME_EDUCATION_TYPE         0\n",
       "NAME_FAMILY_STATUS          0\n",
       "NAME_HOUSING_TYPE           0\n",
       "DAYS_EMPLOYED               0\n",
       "OCCUPATION_TYPE             0\n",
       "CNT_FAM_MEMBERS             0\n",
       "EXT_SOURCE_2                0\n",
       "DEF_60_CNT_SOCIAL_CIRCLE    0\n",
       "age                         0\n",
       "total_enquiries_cb          0\n",
       "credit_income_ratio         0\n",
       "dtype: int64"
      ]
     },
     "execution_count": 680,
     "metadata": {},
     "output_type": "execute_result"
    }
   ],
   "source": [
    "df.dropna(inplace=True)\n",
    "df.isnull().sum()"
   ]
  },
  {
   "cell_type": "code",
   "execution_count": 681,
   "metadata": {},
   "outputs": [],
   "source": [
    "data_dict = {}\n",
    "for col in df.columns:\n",
    "    data_dict[col] = [str(df[col].dtypes)]\n",
    "    "
   ]
  },
  {
   "cell_type": "code",
   "execution_count": 682,
   "metadata": {},
   "outputs": [],
   "source": [
    "object_list = []\n",
    "for key, value in data_dict.items():\n",
    "    if value == ['object']:\n",
    "        object_list.append(key)\n",
    "object_list.append('STATUS')\n",
    "object_list\n",
    "\n",
    "#label encode all object columns\n",
    "for col in object_list:\n",
    "    df[col] = LabelEncoder().fit_transform(df[col])"
   ]
  },
  {
   "cell_type": "code",
   "execution_count": 683,
   "metadata": {},
   "outputs": [
    {
     "data": {
      "text/html": [
       "<div>\n",
       "<style scoped>\n",
       "    .dataframe tbody tr th:only-of-type {\n",
       "        vertical-align: middle;\n",
       "    }\n",
       "\n",
       "    .dataframe tbody tr th {\n",
       "        vertical-align: top;\n",
       "    }\n",
       "\n",
       "    .dataframe thead th {\n",
       "        text-align: right;\n",
       "    }\n",
       "</style>\n",
       "<table border=\"1\" class=\"dataframe\">\n",
       "  <thead>\n",
       "    <tr style=\"text-align: right;\">\n",
       "      <th></th>\n",
       "      <th>Unnamed: 0</th>\n",
       "      <th>STATUS</th>\n",
       "      <th>NAME_CONTRACT_TYPE</th>\n",
       "      <th>FLAG_OWN_CAR</th>\n",
       "      <th>FLAG_OWN_REALTY</th>\n",
       "      <th>AMT_INCOME_TOTAL</th>\n",
       "      <th>AMT_CREDIT</th>\n",
       "      <th>AMT_ANNUITY</th>\n",
       "      <th>NAME_INCOME_TYPE</th>\n",
       "      <th>NAME_EDUCATION_TYPE</th>\n",
       "      <th>NAME_FAMILY_STATUS</th>\n",
       "      <th>NAME_HOUSING_TYPE</th>\n",
       "      <th>DAYS_EMPLOYED</th>\n",
       "      <th>OCCUPATION_TYPE</th>\n",
       "      <th>CNT_FAM_MEMBERS</th>\n",
       "      <th>EXT_SOURCE_2</th>\n",
       "      <th>DEF_60_CNT_SOCIAL_CIRCLE</th>\n",
       "      <th>age</th>\n",
       "      <th>total_enquiries_cb</th>\n",
       "      <th>credit_income_ratio</th>\n",
       "    </tr>\n",
       "  </thead>\n",
       "  <tbody>\n",
       "    <tr>\n",
       "      <th>0</th>\n",
       "      <td>0</td>\n",
       "      <td>1</td>\n",
       "      <td>0</td>\n",
       "      <td>1</td>\n",
       "      <td>1</td>\n",
       "      <td>171000.0</td>\n",
       "      <td>1560726.0</td>\n",
       "      <td>41301.0</td>\n",
       "      <td>1</td>\n",
       "      <td>1</td>\n",
       "      <td>1</td>\n",
       "      <td>1</td>\n",
       "      <td>-3130</td>\n",
       "      <td>0</td>\n",
       "      <td>3.0</td>\n",
       "      <td>0.724000</td>\n",
       "      <td>0.0</td>\n",
       "      <td>37.0</td>\n",
       "      <td>4.0</td>\n",
       "      <td>9.127053</td>\n",
       "    </tr>\n",
       "    <tr>\n",
       "      <th>1</th>\n",
       "      <td>2</td>\n",
       "      <td>1</td>\n",
       "      <td>0</td>\n",
       "      <td>0</td>\n",
       "      <td>1</td>\n",
       "      <td>112500.0</td>\n",
       "      <td>652500.0</td>\n",
       "      <td>21177.0</td>\n",
       "      <td>5</td>\n",
       "      <td>1</td>\n",
       "      <td>1</td>\n",
       "      <td>1</td>\n",
       "      <td>-679</td>\n",
       "      <td>3</td>\n",
       "      <td>3.0</td>\n",
       "      <td>0.651862</td>\n",
       "      <td>0.0</td>\n",
       "      <td>27.0</td>\n",
       "      <td>1.0</td>\n",
       "      <td>5.800000</td>\n",
       "    </tr>\n",
       "    <tr>\n",
       "      <th>2</th>\n",
       "      <td>3</td>\n",
       "      <td>1</td>\n",
       "      <td>0</td>\n",
       "      <td>0</td>\n",
       "      <td>1</td>\n",
       "      <td>67500.0</td>\n",
       "      <td>80865.0</td>\n",
       "      <td>5881.5</td>\n",
       "      <td>5</td>\n",
       "      <td>4</td>\n",
       "      <td>1</td>\n",
       "      <td>1</td>\n",
       "      <td>-2717</td>\n",
       "      <td>8</td>\n",
       "      <td>2.0</td>\n",
       "      <td>0.715042</td>\n",
       "      <td>0.0</td>\n",
       "      <td>36.0</td>\n",
       "      <td>1.0</td>\n",
       "      <td>1.198000</td>\n",
       "    </tr>\n",
       "    <tr>\n",
       "      <th>3</th>\n",
       "      <td>4</td>\n",
       "      <td>1</td>\n",
       "      <td>0</td>\n",
       "      <td>1</td>\n",
       "      <td>0</td>\n",
       "      <td>225000.0</td>\n",
       "      <td>918468.0</td>\n",
       "      <td>28966.5</td>\n",
       "      <td>5</td>\n",
       "      <td>4</td>\n",
       "      <td>1</td>\n",
       "      <td>1</td>\n",
       "      <td>-3028</td>\n",
       "      <td>4</td>\n",
       "      <td>3.0</td>\n",
       "      <td>0.566907</td>\n",
       "      <td>0.0</td>\n",
       "      <td>38.0</td>\n",
       "      <td>1.0</td>\n",
       "      <td>4.082080</td>\n",
       "    </tr>\n",
       "    <tr>\n",
       "      <th>4</th>\n",
       "      <td>6</td>\n",
       "      <td>1</td>\n",
       "      <td>0</td>\n",
       "      <td>0</td>\n",
       "      <td>0</td>\n",
       "      <td>108000.0</td>\n",
       "      <td>509602.5</td>\n",
       "      <td>26149.5</td>\n",
       "      <td>5</td>\n",
       "      <td>4</td>\n",
       "      <td>1</td>\n",
       "      <td>1</td>\n",
       "      <td>-1317</td>\n",
       "      <td>4</td>\n",
       "      <td>2.0</td>\n",
       "      <td>0.236378</td>\n",
       "      <td>0.0</td>\n",
       "      <td>35.0</td>\n",
       "      <td>1.0</td>\n",
       "      <td>4.718542</td>\n",
       "    </tr>\n",
       "  </tbody>\n",
       "</table>\n",
       "</div>"
      ],
      "text/plain": [
       "   Unnamed: 0  STATUS  NAME_CONTRACT_TYPE  FLAG_OWN_CAR  FLAG_OWN_REALTY  \\\n",
       "0           0       1                   0             1                1   \n",
       "1           2       1                   0             0                1   \n",
       "2           3       1                   0             0                1   \n",
       "3           4       1                   0             1                0   \n",
       "4           6       1                   0             0                0   \n",
       "\n",
       "   AMT_INCOME_TOTAL  AMT_CREDIT  AMT_ANNUITY  NAME_INCOME_TYPE  \\\n",
       "0          171000.0   1560726.0      41301.0                 1   \n",
       "1          112500.0    652500.0      21177.0                 5   \n",
       "2           67500.0     80865.0       5881.5                 5   \n",
       "3          225000.0    918468.0      28966.5                 5   \n",
       "4          108000.0    509602.5      26149.5                 5   \n",
       "\n",
       "   NAME_EDUCATION_TYPE  NAME_FAMILY_STATUS  NAME_HOUSING_TYPE  DAYS_EMPLOYED  \\\n",
       "0                    1                   1                  1          -3130   \n",
       "1                    1                   1                  1           -679   \n",
       "2                    4                   1                  1          -2717   \n",
       "3                    4                   1                  1          -3028   \n",
       "4                    4                   1                  1          -1317   \n",
       "\n",
       "   OCCUPATION_TYPE  CNT_FAM_MEMBERS  EXT_SOURCE_2  DEF_60_CNT_SOCIAL_CIRCLE  \\\n",
       "0                0              3.0      0.724000                       0.0   \n",
       "1                3              3.0      0.651862                       0.0   \n",
       "2                8              2.0      0.715042                       0.0   \n",
       "3                4              3.0      0.566907                       0.0   \n",
       "4                4              2.0      0.236378                       0.0   \n",
       "\n",
       "    age  total_enquiries_cb  credit_income_ratio  \n",
       "0  37.0                 4.0             9.127053  \n",
       "1  27.0                 1.0             5.800000  \n",
       "2  36.0                 1.0             1.198000  \n",
       "3  38.0                 1.0             4.082080  \n",
       "4  35.0                 1.0             4.718542  "
      ]
     },
     "execution_count": 683,
     "metadata": {},
     "output_type": "execute_result"
    }
   ],
   "source": [
    "df.head()"
   ]
  },
  {
   "cell_type": "code",
   "execution_count": 684,
   "metadata": {},
   "outputs": [],
   "source": [
    "del df['Unnamed: 0']"
   ]
  },
  {
   "cell_type": "code",
   "execution_count": 685,
   "metadata": {},
   "outputs": [
    {
     "name": "stdout",
     "output_type": "stream",
     "text": [
      "[INFO] creating woe binning ...\n",
      "Binning on 114564 rows and 19 columns in 00:00:15\n",
      "AMT_ANNUITY  : \n"
     ]
    },
    {
     "data": {
      "text/html": [
       "<div>\n",
       "<style scoped>\n",
       "    .dataframe tbody tr th:only-of-type {\n",
       "        vertical-align: middle;\n",
       "    }\n",
       "\n",
       "    .dataframe tbody tr th {\n",
       "        vertical-align: top;\n",
       "    }\n",
       "\n",
       "    .dataframe thead th {\n",
       "        text-align: right;\n",
       "    }\n",
       "</style>\n",
       "<table border=\"1\" class=\"dataframe\">\n",
       "  <thead>\n",
       "    <tr style=\"text-align: right;\">\n",
       "      <th></th>\n",
       "      <th>variable</th>\n",
       "      <th>bin</th>\n",
       "      <th>count</th>\n",
       "      <th>count_distr</th>\n",
       "      <th>good</th>\n",
       "      <th>bad</th>\n",
       "      <th>badprob</th>\n",
       "      <th>woe</th>\n",
       "      <th>bin_iv</th>\n",
       "      <th>total_iv</th>\n",
       "      <th>breaks</th>\n",
       "      <th>is_special_values</th>\n",
       "    </tr>\n",
       "  </thead>\n",
       "  <tbody>\n",
       "    <tr>\n",
       "      <th>0</th>\n",
       "      <td>AMT_ANNUITY</td>\n",
       "      <td>[-inf,14000.0)</td>\n",
       "      <td>19409</td>\n",
       "      <td>0.169416</td>\n",
       "      <td>17979</td>\n",
       "      <td>1430</td>\n",
       "      <td>0.073677</td>\n",
       "      <td>-0.239052</td>\n",
       "      <td>8.782527e-03</td>\n",
       "      <td>0.032036</td>\n",
       "      <td>14000.0</td>\n",
       "      <td>False</td>\n",
       "    </tr>\n",
       "    <tr>\n",
       "      <th>1</th>\n",
       "      <td>AMT_ANNUITY</td>\n",
       "      <td>[14000.0,36000.0)</td>\n",
       "      <td>67860</td>\n",
       "      <td>0.592333</td>\n",
       "      <td>60889</td>\n",
       "      <td>6971</td>\n",
       "      <td>0.102726</td>\n",
       "      <td>0.125184</td>\n",
       "      <td>9.769004e-03</td>\n",
       "      <td>0.032036</td>\n",
       "      <td>36000.0</td>\n",
       "      <td>False</td>\n",
       "    </tr>\n",
       "    <tr>\n",
       "      <th>2</th>\n",
       "      <td>AMT_ANNUITY</td>\n",
       "      <td>[36000.0,42000.0)</td>\n",
       "      <td>10646</td>\n",
       "      <td>0.092926</td>\n",
       "      <td>9668</td>\n",
       "      <td>978</td>\n",
       "      <td>0.091865</td>\n",
       "      <td>0.001411</td>\n",
       "      <td>1.851115e-07</td>\n",
       "      <td>0.032036</td>\n",
       "      <td>42000.0</td>\n",
       "      <td>False</td>\n",
       "    </tr>\n",
       "    <tr>\n",
       "      <th>3</th>\n",
       "      <td>AMT_ANNUITY</td>\n",
       "      <td>[42000.0,inf)</td>\n",
       "      <td>16649</td>\n",
       "      <td>0.145325</td>\n",
       "      <td>15517</td>\n",
       "      <td>1132</td>\n",
       "      <td>0.067992</td>\n",
       "      <td>-0.325472</td>\n",
       "      <td>1.348406e-02</td>\n",
       "      <td>0.032036</td>\n",
       "      <td>inf</td>\n",
       "      <td>False</td>\n",
       "    </tr>\n",
       "  </tbody>\n",
       "</table>\n",
       "</div>"
      ],
      "text/plain": [
       "      variable                bin  count  count_distr   good   bad   badprob  \\\n",
       "0  AMT_ANNUITY     [-inf,14000.0)  19409     0.169416  17979  1430  0.073677   \n",
       "1  AMT_ANNUITY  [14000.0,36000.0)  67860     0.592333  60889  6971  0.102726   \n",
       "2  AMT_ANNUITY  [36000.0,42000.0)  10646     0.092926   9668   978  0.091865   \n",
       "3  AMT_ANNUITY      [42000.0,inf)  16649     0.145325  15517  1132  0.067992   \n",
       "\n",
       "        woe        bin_iv  total_iv   breaks  is_special_values  \n",
       "0 -0.239052  8.782527e-03  0.032036  14000.0              False  \n",
       "1  0.125184  9.769004e-03  0.032036  36000.0              False  \n",
       "2  0.001411  1.851115e-07  0.032036  42000.0              False  \n",
       "3 -0.325472  1.348406e-02  0.032036      inf              False  "
      ]
     },
     "metadata": {},
     "output_type": "display_data"
    },
    {
     "name": "stdout",
     "output_type": "stream",
     "text": [
      "----------------------------------------------------------------------------------------------------\n",
      "NAME_FAMILY_STATUS  : \n"
     ]
    },
    {
     "data": {
      "text/html": [
       "<div>\n",
       "<style scoped>\n",
       "    .dataframe tbody tr th:only-of-type {\n",
       "        vertical-align: middle;\n",
       "    }\n",
       "\n",
       "    .dataframe tbody tr th {\n",
       "        vertical-align: top;\n",
       "    }\n",
       "\n",
       "    .dataframe thead th {\n",
       "        text-align: right;\n",
       "    }\n",
       "</style>\n",
       "<table border=\"1\" class=\"dataframe\">\n",
       "  <thead>\n",
       "    <tr style=\"text-align: right;\">\n",
       "      <th></th>\n",
       "      <th>variable</th>\n",
       "      <th>bin</th>\n",
       "      <th>count</th>\n",
       "      <th>count_distr</th>\n",
       "      <th>good</th>\n",
       "      <th>bad</th>\n",
       "      <th>badprob</th>\n",
       "      <th>woe</th>\n",
       "      <th>bin_iv</th>\n",
       "      <th>total_iv</th>\n",
       "      <th>breaks</th>\n",
       "      <th>is_special_values</th>\n",
       "    </tr>\n",
       "  </thead>\n",
       "  <tbody>\n",
       "    <tr>\n",
       "      <th>0</th>\n",
       "      <td>NAME_FAMILY_STATUS</td>\n",
       "      <td>[-inf,1.0)</td>\n",
       "      <td>12185</td>\n",
       "      <td>0.106360</td>\n",
       "      <td>10877</td>\n",
       "      <td>1308</td>\n",
       "      <td>0.107345</td>\n",
       "      <td>0.174327</td>\n",
       "      <td>0.003470</td>\n",
       "      <td>0.009239</td>\n",
       "      <td>1.0</td>\n",
       "      <td>False</td>\n",
       "    </tr>\n",
       "    <tr>\n",
       "      <th>1</th>\n",
       "      <td>NAME_FAMILY_STATUS</td>\n",
       "      <td>[1.0,2.0)</td>\n",
       "      <td>78550</td>\n",
       "      <td>0.685643</td>\n",
       "      <td>71755</td>\n",
       "      <td>6795</td>\n",
       "      <td>0.086505</td>\n",
       "      <td>-0.064592</td>\n",
       "      <td>0.002786</td>\n",
       "      <td>0.009239</td>\n",
       "      <td>2.0</td>\n",
       "      <td>False</td>\n",
       "    </tr>\n",
       "    <tr>\n",
       "      <th>2</th>\n",
       "      <td>NAME_FAMILY_STATUS</td>\n",
       "      <td>[2.0,3.0)</td>\n",
       "      <td>6580</td>\n",
       "      <td>0.057435</td>\n",
       "      <td>5961</td>\n",
       "      <td>619</td>\n",
       "      <td>0.094073</td>\n",
       "      <td>0.027590</td>\n",
       "      <td>0.000044</td>\n",
       "      <td>0.009239</td>\n",
       "      <td>3.0</td>\n",
       "      <td>False</td>\n",
       "    </tr>\n",
       "    <tr>\n",
       "      <th>3</th>\n",
       "      <td>NAME_FAMILY_STATUS</td>\n",
       "      <td>[3.0,inf)</td>\n",
       "      <td>17249</td>\n",
       "      <td>0.150562</td>\n",
       "      <td>15460</td>\n",
       "      <td>1789</td>\n",
       "      <td>0.103716</td>\n",
       "      <td>0.135879</td>\n",
       "      <td>0.002938</td>\n",
       "      <td>0.009239</td>\n",
       "      <td>inf</td>\n",
       "      <td>False</td>\n",
       "    </tr>\n",
       "  </tbody>\n",
       "</table>\n",
       "</div>"
      ],
      "text/plain": [
       "             variable         bin  count  count_distr   good   bad   badprob  \\\n",
       "0  NAME_FAMILY_STATUS  [-inf,1.0)  12185     0.106360  10877  1308  0.107345   \n",
       "1  NAME_FAMILY_STATUS   [1.0,2.0)  78550     0.685643  71755  6795  0.086505   \n",
       "2  NAME_FAMILY_STATUS   [2.0,3.0)   6580     0.057435   5961   619  0.094073   \n",
       "3  NAME_FAMILY_STATUS   [3.0,inf)  17249     0.150562  15460  1789  0.103716   \n",
       "\n",
       "        woe    bin_iv  total_iv breaks  is_special_values  \n",
       "0  0.174327  0.003470  0.009239    1.0              False  \n",
       "1 -0.064592  0.002786  0.009239    2.0              False  \n",
       "2  0.027590  0.000044  0.009239    3.0              False  \n",
       "3  0.135879  0.002938  0.009239    inf              False  "
      ]
     },
     "metadata": {},
     "output_type": "display_data"
    },
    {
     "name": "stdout",
     "output_type": "stream",
     "text": [
      "----------------------------------------------------------------------------------------------------\n",
      "DEF_60_CNT_SOCIAL_CIRCLE  : \n"
     ]
    },
    {
     "data": {
      "text/html": [
       "<div>\n",
       "<style scoped>\n",
       "    .dataframe tbody tr th:only-of-type {\n",
       "        vertical-align: middle;\n",
       "    }\n",
       "\n",
       "    .dataframe tbody tr th {\n",
       "        vertical-align: top;\n",
       "    }\n",
       "\n",
       "    .dataframe thead th {\n",
       "        text-align: right;\n",
       "    }\n",
       "</style>\n",
       "<table border=\"1\" class=\"dataframe\">\n",
       "  <thead>\n",
       "    <tr style=\"text-align: right;\">\n",
       "      <th></th>\n",
       "      <th>variable</th>\n",
       "      <th>bin</th>\n",
       "      <th>count</th>\n",
       "      <th>count_distr</th>\n",
       "      <th>good</th>\n",
       "      <th>bad</th>\n",
       "      <th>badprob</th>\n",
       "      <th>woe</th>\n",
       "      <th>bin_iv</th>\n",
       "      <th>total_iv</th>\n",
       "      <th>breaks</th>\n",
       "      <th>is_special_values</th>\n",
       "    </tr>\n",
       "  </thead>\n",
       "  <tbody>\n",
       "    <tr>\n",
       "      <th>0</th>\n",
       "      <td>DEF_60_CNT_SOCIAL_CIRCLE</td>\n",
       "      <td>[-inf,1.0)</td>\n",
       "      <td>104874</td>\n",
       "      <td>0.915418</td>\n",
       "      <td>95565</td>\n",
       "      <td>9309</td>\n",
       "      <td>0.088764</td>\n",
       "      <td>-0.036347</td>\n",
       "      <td>0.001192</td>\n",
       "      <td>0.012266</td>\n",
       "      <td>1.0</td>\n",
       "      <td>False</td>\n",
       "    </tr>\n",
       "    <tr>\n",
       "      <th>1</th>\n",
       "      <td>DEF_60_CNT_SOCIAL_CIRCLE</td>\n",
       "      <td>[1.0,inf)</td>\n",
       "      <td>9690</td>\n",
       "      <td>0.084582</td>\n",
       "      <td>8488</td>\n",
       "      <td>1202</td>\n",
       "      <td>0.124045</td>\n",
       "      <td>0.337811</td>\n",
       "      <td>0.011074</td>\n",
       "      <td>0.012266</td>\n",
       "      <td>inf</td>\n",
       "      <td>False</td>\n",
       "    </tr>\n",
       "  </tbody>\n",
       "</table>\n",
       "</div>"
      ],
      "text/plain": [
       "                   variable         bin   count  count_distr   good   bad  \\\n",
       "0  DEF_60_CNT_SOCIAL_CIRCLE  [-inf,1.0)  104874     0.915418  95565  9309   \n",
       "1  DEF_60_CNT_SOCIAL_CIRCLE   [1.0,inf)    9690     0.084582   8488  1202   \n",
       "\n",
       "    badprob       woe    bin_iv  total_iv breaks  is_special_values  \n",
       "0  0.088764 -0.036347  0.001192  0.012266    1.0              False  \n",
       "1  0.124045  0.337811  0.011074  0.012266    inf              False  "
      ]
     },
     "metadata": {},
     "output_type": "display_data"
    },
    {
     "name": "stdout",
     "output_type": "stream",
     "text": [
      "----------------------------------------------------------------------------------------------------\n",
      "NAME_CONTRACT_TYPE  : \n"
     ]
    },
    {
     "data": {
      "text/html": [
       "<div>\n",
       "<style scoped>\n",
       "    .dataframe tbody tr th:only-of-type {\n",
       "        vertical-align: middle;\n",
       "    }\n",
       "\n",
       "    .dataframe tbody tr th {\n",
       "        vertical-align: top;\n",
       "    }\n",
       "\n",
       "    .dataframe thead th {\n",
       "        text-align: right;\n",
       "    }\n",
       "</style>\n",
       "<table border=\"1\" class=\"dataframe\">\n",
       "  <thead>\n",
       "    <tr style=\"text-align: right;\">\n",
       "      <th></th>\n",
       "      <th>variable</th>\n",
       "      <th>bin</th>\n",
       "      <th>count</th>\n",
       "      <th>count_distr</th>\n",
       "      <th>good</th>\n",
       "      <th>bad</th>\n",
       "      <th>badprob</th>\n",
       "      <th>woe</th>\n",
       "      <th>bin_iv</th>\n",
       "      <th>total_iv</th>\n",
       "      <th>breaks</th>\n",
       "      <th>is_special_values</th>\n",
       "    </tr>\n",
       "  </thead>\n",
       "  <tbody>\n",
       "    <tr>\n",
       "      <th>0</th>\n",
       "      <td>NAME_CONTRACT_TYPE</td>\n",
       "      <td>[-inf,1.0)</td>\n",
       "      <td>103860</td>\n",
       "      <td>0.906568</td>\n",
       "      <td>93904</td>\n",
       "      <td>9956</td>\n",
       "      <td>0.09586</td>\n",
       "      <td>0.048380</td>\n",
       "      <td>0.002164</td>\n",
       "      <td>0.029617</td>\n",
       "      <td>1.0</td>\n",
       "      <td>False</td>\n",
       "    </tr>\n",
       "    <tr>\n",
       "      <th>1</th>\n",
       "      <td>NAME_CONTRACT_TYPE</td>\n",
       "      <td>[1.0,inf)</td>\n",
       "      <td>10704</td>\n",
       "      <td>0.093432</td>\n",
       "      <td>10149</td>\n",
       "      <td>555</td>\n",
       "      <td>0.05185</td>\n",
       "      <td>-0.613684</td>\n",
       "      <td>0.027453</td>\n",
       "      <td>0.029617</td>\n",
       "      <td>inf</td>\n",
       "      <td>False</td>\n",
       "    </tr>\n",
       "  </tbody>\n",
       "</table>\n",
       "</div>"
      ],
      "text/plain": [
       "             variable         bin   count  count_distr   good   bad  badprob  \\\n",
       "0  NAME_CONTRACT_TYPE  [-inf,1.0)  103860     0.906568  93904  9956  0.09586   \n",
       "1  NAME_CONTRACT_TYPE   [1.0,inf)   10704     0.093432  10149   555  0.05185   \n",
       "\n",
       "        woe    bin_iv  total_iv breaks  is_special_values  \n",
       "0  0.048380  0.002164  0.029617    1.0              False  \n",
       "1 -0.613684  0.027453  0.029617    inf              False  "
      ]
     },
     "metadata": {},
     "output_type": "display_data"
    },
    {
     "name": "stdout",
     "output_type": "stream",
     "text": [
      "----------------------------------------------------------------------------------------------------\n",
      "FLAG_OWN_CAR  : \n"
     ]
    },
    {
     "data": {
      "text/html": [
       "<div>\n",
       "<style scoped>\n",
       "    .dataframe tbody tr th:only-of-type {\n",
       "        vertical-align: middle;\n",
       "    }\n",
       "\n",
       "    .dataframe tbody tr th {\n",
       "        vertical-align: top;\n",
       "    }\n",
       "\n",
       "    .dataframe thead th {\n",
       "        text-align: right;\n",
       "    }\n",
       "</style>\n",
       "<table border=\"1\" class=\"dataframe\">\n",
       "  <thead>\n",
       "    <tr style=\"text-align: right;\">\n",
       "      <th></th>\n",
       "      <th>variable</th>\n",
       "      <th>bin</th>\n",
       "      <th>count</th>\n",
       "      <th>count_distr</th>\n",
       "      <th>good</th>\n",
       "      <th>bad</th>\n",
       "      <th>badprob</th>\n",
       "      <th>woe</th>\n",
       "      <th>bin_iv</th>\n",
       "      <th>total_iv</th>\n",
       "      <th>breaks</th>\n",
       "      <th>is_special_values</th>\n",
       "    </tr>\n",
       "  </thead>\n",
       "  <tbody>\n",
       "    <tr>\n",
       "      <th>0</th>\n",
       "      <td>FLAG_OWN_CAR</td>\n",
       "      <td>[-inf,1.0)</td>\n",
       "      <td>67448</td>\n",
       "      <td>0.588736</td>\n",
       "      <td>60551</td>\n",
       "      <td>6897</td>\n",
       "      <td>0.102257</td>\n",
       "      <td>0.120079</td>\n",
       "      <td>0.008915</td>\n",
       "      <td>0.023431</td>\n",
       "      <td>1.0</td>\n",
       "      <td>False</td>\n",
       "    </tr>\n",
       "    <tr>\n",
       "      <th>1</th>\n",
       "      <td>FLAG_OWN_CAR</td>\n",
       "      <td>[1.0,inf)</td>\n",
       "      <td>47116</td>\n",
       "      <td>0.411264</td>\n",
       "      <td>43502</td>\n",
       "      <td>3614</td>\n",
       "      <td>0.076704</td>\n",
       "      <td>-0.195514</td>\n",
       "      <td>0.014516</td>\n",
       "      <td>0.023431</td>\n",
       "      <td>inf</td>\n",
       "      <td>False</td>\n",
       "    </tr>\n",
       "  </tbody>\n",
       "</table>\n",
       "</div>"
      ],
      "text/plain": [
       "       variable         bin  count  count_distr   good   bad   badprob  \\\n",
       "0  FLAG_OWN_CAR  [-inf,1.0)  67448     0.588736  60551  6897  0.102257   \n",
       "1  FLAG_OWN_CAR   [1.0,inf)  47116     0.411264  43502  3614  0.076704   \n",
       "\n",
       "        woe    bin_iv  total_iv breaks  is_special_values  \n",
       "0  0.120079  0.008915  0.023431    1.0              False  \n",
       "1 -0.195514  0.014516  0.023431    inf              False  "
      ]
     },
     "metadata": {},
     "output_type": "display_data"
    },
    {
     "name": "stdout",
     "output_type": "stream",
     "text": [
      "----------------------------------------------------------------------------------------------------\n",
      "AMT_CREDIT  : \n"
     ]
    },
    {
     "data": {
      "text/html": [
       "<div>\n",
       "<style scoped>\n",
       "    .dataframe tbody tr th:only-of-type {\n",
       "        vertical-align: middle;\n",
       "    }\n",
       "\n",
       "    .dataframe tbody tr th {\n",
       "        vertical-align: top;\n",
       "    }\n",
       "\n",
       "    .dataframe thead th {\n",
       "        text-align: right;\n",
       "    }\n",
       "</style>\n",
       "<table border=\"1\" class=\"dataframe\">\n",
       "  <thead>\n",
       "    <tr style=\"text-align: right;\">\n",
       "      <th></th>\n",
       "      <th>variable</th>\n",
       "      <th>bin</th>\n",
       "      <th>count</th>\n",
       "      <th>count_distr</th>\n",
       "      <th>good</th>\n",
       "      <th>bad</th>\n",
       "      <th>badprob</th>\n",
       "      <th>woe</th>\n",
       "      <th>bin_iv</th>\n",
       "      <th>total_iv</th>\n",
       "      <th>breaks</th>\n",
       "      <th>is_special_values</th>\n",
       "    </tr>\n",
       "  </thead>\n",
       "  <tbody>\n",
       "    <tr>\n",
       "      <th>0</th>\n",
       "      <td>AMT_CREDIT</td>\n",
       "      <td>[-inf,150000.0)</td>\n",
       "      <td>6177</td>\n",
       "      <td>0.053917</td>\n",
       "      <td>5756</td>\n",
       "      <td>421</td>\n",
       "      <td>0.068156</td>\n",
       "      <td>-0.322887</td>\n",
       "      <td>0.004929</td>\n",
       "      <td>0.067077</td>\n",
       "      <td>150000.0</td>\n",
       "      <td>False</td>\n",
       "    </tr>\n",
       "    <tr>\n",
       "      <th>1</th>\n",
       "      <td>AMT_CREDIT</td>\n",
       "      <td>[150000.0,300000.0)</td>\n",
       "      <td>26222</td>\n",
       "      <td>0.228885</td>\n",
       "      <td>23953</td>\n",
       "      <td>2269</td>\n",
       "      <td>0.086530</td>\n",
       "      <td>-0.064276</td>\n",
       "      <td>0.000921</td>\n",
       "      <td>0.067077</td>\n",
       "      <td>300000.0</td>\n",
       "      <td>False</td>\n",
       "    </tr>\n",
       "    <tr>\n",
       "      <th>2</th>\n",
       "      <td>AMT_CREDIT</td>\n",
       "      <td>[300000.0,650000.0)</td>\n",
       "      <td>39699</td>\n",
       "      <td>0.346522</td>\n",
       "      <td>35029</td>\n",
       "      <td>4670</td>\n",
       "      <td>0.117635</td>\n",
       "      <td>0.277461</td>\n",
       "      <td>0.029869</td>\n",
       "      <td>0.067077</td>\n",
       "      <td>650000.0</td>\n",
       "      <td>False</td>\n",
       "    </tr>\n",
       "    <tr>\n",
       "      <th>3</th>\n",
       "      <td>AMT_CREDIT</td>\n",
       "      <td>[650000.0,850000.0)</td>\n",
       "      <td>16348</td>\n",
       "      <td>0.142698</td>\n",
       "      <td>14927</td>\n",
       "      <td>1421</td>\n",
       "      <td>0.086922</td>\n",
       "      <td>-0.059333</td>\n",
       "      <td>0.000490</td>\n",
       "      <td>0.067077</td>\n",
       "      <td>850000.0</td>\n",
       "      <td>False</td>\n",
       "    </tr>\n",
       "    <tr>\n",
       "      <th>4</th>\n",
       "      <td>AMT_CREDIT</td>\n",
       "      <td>[850000.0,1350000.0)</td>\n",
       "      <td>20145</td>\n",
       "      <td>0.175841</td>\n",
       "      <td>18698</td>\n",
       "      <td>1447</td>\n",
       "      <td>0.071829</td>\n",
       "      <td>-0.266446</td>\n",
       "      <td>0.011199</td>\n",
       "      <td>0.067077</td>\n",
       "      <td>1350000.0</td>\n",
       "      <td>False</td>\n",
       "    </tr>\n",
       "    <tr>\n",
       "      <th>5</th>\n",
       "      <td>AMT_CREDIT</td>\n",
       "      <td>[1350000.0,inf)</td>\n",
       "      <td>5973</td>\n",
       "      <td>0.052137</td>\n",
       "      <td>5690</td>\n",
       "      <td>283</td>\n",
       "      <td>0.047380</td>\n",
       "      <td>-0.708541</td>\n",
       "      <td>0.019669</td>\n",
       "      <td>0.067077</td>\n",
       "      <td>inf</td>\n",
       "      <td>False</td>\n",
       "    </tr>\n",
       "  </tbody>\n",
       "</table>\n",
       "</div>"
      ],
      "text/plain": [
       "     variable                   bin  count  count_distr   good   bad  \\\n",
       "0  AMT_CREDIT       [-inf,150000.0)   6177     0.053917   5756   421   \n",
       "1  AMT_CREDIT   [150000.0,300000.0)  26222     0.228885  23953  2269   \n",
       "2  AMT_CREDIT   [300000.0,650000.0)  39699     0.346522  35029  4670   \n",
       "3  AMT_CREDIT   [650000.0,850000.0)  16348     0.142698  14927  1421   \n",
       "4  AMT_CREDIT  [850000.0,1350000.0)  20145     0.175841  18698  1447   \n",
       "5  AMT_CREDIT       [1350000.0,inf)   5973     0.052137   5690   283   \n",
       "\n",
       "    badprob       woe    bin_iv  total_iv     breaks  is_special_values  \n",
       "0  0.068156 -0.322887  0.004929  0.067077   150000.0              False  \n",
       "1  0.086530 -0.064276  0.000921  0.067077   300000.0              False  \n",
       "2  0.117635  0.277461  0.029869  0.067077   650000.0              False  \n",
       "3  0.086922 -0.059333  0.000490  0.067077   850000.0              False  \n",
       "4  0.071829 -0.266446  0.011199  0.067077  1350000.0              False  \n",
       "5  0.047380 -0.708541  0.019669  0.067077        inf              False  "
      ]
     },
     "metadata": {},
     "output_type": "display_data"
    },
    {
     "name": "stdout",
     "output_type": "stream",
     "text": [
      "----------------------------------------------------------------------------------------------------\n",
      "AMT_INCOME_TOTAL  : \n"
     ]
    },
    {
     "data": {
      "text/html": [
       "<div>\n",
       "<style scoped>\n",
       "    .dataframe tbody tr th:only-of-type {\n",
       "        vertical-align: middle;\n",
       "    }\n",
       "\n",
       "    .dataframe tbody tr th {\n",
       "        vertical-align: top;\n",
       "    }\n",
       "\n",
       "    .dataframe thead th {\n",
       "        text-align: right;\n",
       "    }\n",
       "</style>\n",
       "<table border=\"1\" class=\"dataframe\">\n",
       "  <thead>\n",
       "    <tr style=\"text-align: right;\">\n",
       "      <th></th>\n",
       "      <th>variable</th>\n",
       "      <th>bin</th>\n",
       "      <th>count</th>\n",
       "      <th>count_distr</th>\n",
       "      <th>good</th>\n",
       "      <th>bad</th>\n",
       "      <th>badprob</th>\n",
       "      <th>woe</th>\n",
       "      <th>bin_iv</th>\n",
       "      <th>total_iv</th>\n",
       "      <th>breaks</th>\n",
       "      <th>is_special_values</th>\n",
       "    </tr>\n",
       "  </thead>\n",
       "  <tbody>\n",
       "    <tr>\n",
       "      <th>0</th>\n",
       "      <td>AMT_INCOME_TOTAL</td>\n",
       "      <td>[-inf,170000.0)</td>\n",
       "      <td>64065</td>\n",
       "      <td>0.559207</td>\n",
       "      <td>57661</td>\n",
       "      <td>6404</td>\n",
       "      <td>0.099961</td>\n",
       "      <td>0.094820</td>\n",
       "      <td>0.005226</td>\n",
       "      <td>0.021284</td>\n",
       "      <td>170000.0</td>\n",
       "      <td>False</td>\n",
       "    </tr>\n",
       "    <tr>\n",
       "      <th>1</th>\n",
       "      <td>AMT_INCOME_TOTAL</td>\n",
       "      <td>[170000.0,220000.0)</td>\n",
       "      <td>21151</td>\n",
       "      <td>0.184622</td>\n",
       "      <td>19194</td>\n",
       "      <td>1957</td>\n",
       "      <td>0.092525</td>\n",
       "      <td>0.009293</td>\n",
       "      <td>0.000016</td>\n",
       "      <td>0.021284</td>\n",
       "      <td>220000.0</td>\n",
       "      <td>False</td>\n",
       "    </tr>\n",
       "    <tr>\n",
       "      <th>2</th>\n",
       "      <td>AMT_INCOME_TOTAL</td>\n",
       "      <td>[220000.0,340000.0)</td>\n",
       "      <td>23182</td>\n",
       "      <td>0.202350</td>\n",
       "      <td>21409</td>\n",
       "      <td>1773</td>\n",
       "      <td>0.076482</td>\n",
       "      <td>-0.198660</td>\n",
       "      <td>0.007364</td>\n",
       "      <td>0.021284</td>\n",
       "      <td>340000.0</td>\n",
       "      <td>False</td>\n",
       "    </tr>\n",
       "    <tr>\n",
       "      <th>3</th>\n",
       "      <td>AMT_INCOME_TOTAL</td>\n",
       "      <td>[340000.0,inf)</td>\n",
       "      <td>6166</td>\n",
       "      <td>0.053821</td>\n",
       "      <td>5789</td>\n",
       "      <td>377</td>\n",
       "      <td>0.061142</td>\n",
       "      <td>-0.438992</td>\n",
       "      <td>0.008678</td>\n",
       "      <td>0.021284</td>\n",
       "      <td>inf</td>\n",
       "      <td>False</td>\n",
       "    </tr>\n",
       "  </tbody>\n",
       "</table>\n",
       "</div>"
      ],
      "text/plain": [
       "           variable                  bin  count  count_distr   good   bad  \\\n",
       "0  AMT_INCOME_TOTAL      [-inf,170000.0)  64065     0.559207  57661  6404   \n",
       "1  AMT_INCOME_TOTAL  [170000.0,220000.0)  21151     0.184622  19194  1957   \n",
       "2  AMT_INCOME_TOTAL  [220000.0,340000.0)  23182     0.202350  21409  1773   \n",
       "3  AMT_INCOME_TOTAL       [340000.0,inf)   6166     0.053821   5789   377   \n",
       "\n",
       "    badprob       woe    bin_iv  total_iv    breaks  is_special_values  \n",
       "0  0.099961  0.094820  0.005226  0.021284  170000.0              False  \n",
       "1  0.092525  0.009293  0.000016  0.021284  220000.0              False  \n",
       "2  0.076482 -0.198660  0.007364  0.021284  340000.0              False  \n",
       "3  0.061142 -0.438992  0.008678  0.021284       inf              False  "
      ]
     },
     "metadata": {},
     "output_type": "display_data"
    },
    {
     "name": "stdout",
     "output_type": "stream",
     "text": [
      "----------------------------------------------------------------------------------------------------\n",
      "EXT_SOURCE_2  : \n"
     ]
    },
    {
     "data": {
      "text/html": [
       "<div>\n",
       "<style scoped>\n",
       "    .dataframe tbody tr th:only-of-type {\n",
       "        vertical-align: middle;\n",
       "    }\n",
       "\n",
       "    .dataframe tbody tr th {\n",
       "        vertical-align: top;\n",
       "    }\n",
       "\n",
       "    .dataframe thead th {\n",
       "        text-align: right;\n",
       "    }\n",
       "</style>\n",
       "<table border=\"1\" class=\"dataframe\">\n",
       "  <thead>\n",
       "    <tr style=\"text-align: right;\">\n",
       "      <th></th>\n",
       "      <th>variable</th>\n",
       "      <th>bin</th>\n",
       "      <th>count</th>\n",
       "      <th>count_distr</th>\n",
       "      <th>good</th>\n",
       "      <th>bad</th>\n",
       "      <th>badprob</th>\n",
       "      <th>woe</th>\n",
       "      <th>bin_iv</th>\n",
       "      <th>total_iv</th>\n",
       "      <th>breaks</th>\n",
       "      <th>is_special_values</th>\n",
       "    </tr>\n",
       "  </thead>\n",
       "  <tbody>\n",
       "    <tr>\n",
       "      <th>0</th>\n",
       "      <td>EXT_SOURCE_2</td>\n",
       "      <td>[-inf,0.16)</td>\n",
       "      <td>7373</td>\n",
       "      <td>0.064357</td>\n",
       "      <td>5638</td>\n",
       "      <td>1735</td>\n",
       "      <td>0.235318</td>\n",
       "      <td>1.113956</td>\n",
       "      <td>0.123517</td>\n",
       "      <td>0.303694</td>\n",
       "      <td>0.16</td>\n",
       "      <td>False</td>\n",
       "    </tr>\n",
       "    <tr>\n",
       "      <th>1</th>\n",
       "      <td>EXT_SOURCE_2</td>\n",
       "      <td>[0.16,0.44)</td>\n",
       "      <td>27167</td>\n",
       "      <td>0.237134</td>\n",
       "      <td>23610</td>\n",
       "      <td>3557</td>\n",
       "      <td>0.130931</td>\n",
       "      <td>0.399725</td>\n",
       "      <td>0.044571</td>\n",
       "      <td>0.303694</td>\n",
       "      <td>0.44</td>\n",
       "      <td>False</td>\n",
       "    </tr>\n",
       "    <tr>\n",
       "      <th>2</th>\n",
       "      <td>EXT_SOURCE_2</td>\n",
       "      <td>[0.44,0.66)</td>\n",
       "      <td>51666</td>\n",
       "      <td>0.450979</td>\n",
       "      <td>47684</td>\n",
       "      <td>3982</td>\n",
       "      <td>0.077072</td>\n",
       "      <td>-0.190334</td>\n",
       "      <td>0.015117</td>\n",
       "      <td>0.303694</td>\n",
       "      <td>0.66</td>\n",
       "      <td>False</td>\n",
       "    </tr>\n",
       "    <tr>\n",
       "      <th>3</th>\n",
       "      <td>EXT_SOURCE_2</td>\n",
       "      <td>[0.66,0.72)</td>\n",
       "      <td>17372</td>\n",
       "      <td>0.151636</td>\n",
       "      <td>16508</td>\n",
       "      <td>864</td>\n",
       "      <td>0.049735</td>\n",
       "      <td>-0.657550</td>\n",
       "      <td>0.050270</td>\n",
       "      <td>0.303694</td>\n",
       "      <td>0.72</td>\n",
       "      <td>False</td>\n",
       "    </tr>\n",
       "    <tr>\n",
       "      <th>4</th>\n",
       "      <td>EXT_SOURCE_2</td>\n",
       "      <td>[0.72,inf)</td>\n",
       "      <td>10986</td>\n",
       "      <td>0.095894</td>\n",
       "      <td>10613</td>\n",
       "      <td>373</td>\n",
       "      <td>0.033952</td>\n",
       "      <td>-1.055778</td>\n",
       "      <td>0.070219</td>\n",
       "      <td>0.303694</td>\n",
       "      <td>inf</td>\n",
       "      <td>False</td>\n",
       "    </tr>\n",
       "  </tbody>\n",
       "</table>\n",
       "</div>"
      ],
      "text/plain": [
       "       variable          bin  count  count_distr   good   bad   badprob  \\\n",
       "0  EXT_SOURCE_2  [-inf,0.16)   7373     0.064357   5638  1735  0.235318   \n",
       "1  EXT_SOURCE_2  [0.16,0.44)  27167     0.237134  23610  3557  0.130931   \n",
       "2  EXT_SOURCE_2  [0.44,0.66)  51666     0.450979  47684  3982  0.077072   \n",
       "3  EXT_SOURCE_2  [0.66,0.72)  17372     0.151636  16508   864  0.049735   \n",
       "4  EXT_SOURCE_2   [0.72,inf)  10986     0.095894  10613   373  0.033952   \n",
       "\n",
       "        woe    bin_iv  total_iv breaks  is_special_values  \n",
       "0  1.113956  0.123517  0.303694   0.16              False  \n",
       "1  0.399725  0.044571  0.303694   0.44              False  \n",
       "2 -0.190334  0.015117  0.303694   0.66              False  \n",
       "3 -0.657550  0.050270  0.303694   0.72              False  \n",
       "4 -1.055778  0.070219  0.303694    inf              False  "
      ]
     },
     "metadata": {},
     "output_type": "display_data"
    },
    {
     "name": "stdout",
     "output_type": "stream",
     "text": [
      "----------------------------------------------------------------------------------------------------\n",
      "NAME_HOUSING_TYPE  : \n"
     ]
    },
    {
     "data": {
      "text/html": [
       "<div>\n",
       "<style scoped>\n",
       "    .dataframe tbody tr th:only-of-type {\n",
       "        vertical-align: middle;\n",
       "    }\n",
       "\n",
       "    .dataframe tbody tr th {\n",
       "        vertical-align: top;\n",
       "    }\n",
       "\n",
       "    .dataframe thead th {\n",
       "        text-align: right;\n",
       "    }\n",
       "</style>\n",
       "<table border=\"1\" class=\"dataframe\">\n",
       "  <thead>\n",
       "    <tr style=\"text-align: right;\">\n",
       "      <th></th>\n",
       "      <th>variable</th>\n",
       "      <th>bin</th>\n",
       "      <th>count</th>\n",
       "      <th>count_distr</th>\n",
       "      <th>good</th>\n",
       "      <th>bad</th>\n",
       "      <th>badprob</th>\n",
       "      <th>woe</th>\n",
       "      <th>bin_iv</th>\n",
       "      <th>total_iv</th>\n",
       "      <th>breaks</th>\n",
       "      <th>is_special_values</th>\n",
       "    </tr>\n",
       "  </thead>\n",
       "  <tbody>\n",
       "    <tr>\n",
       "      <th>0</th>\n",
       "      <td>NAME_HOUSING_TYPE</td>\n",
       "      <td>[-inf,4.0)</td>\n",
       "      <td>104238</td>\n",
       "      <td>0.909867</td>\n",
       "      <td>94928</td>\n",
       "      <td>9310</td>\n",
       "      <td>0.089315</td>\n",
       "      <td>-0.029552</td>\n",
       "      <td>0.000785</td>\n",
       "      <td>0.007815</td>\n",
       "      <td>4.0</td>\n",
       "      <td>False</td>\n",
       "    </tr>\n",
       "    <tr>\n",
       "      <th>1</th>\n",
       "      <td>NAME_HOUSING_TYPE</td>\n",
       "      <td>[4.0,inf)</td>\n",
       "      <td>10326</td>\n",
       "      <td>0.090133</td>\n",
       "      <td>9125</td>\n",
       "      <td>1201</td>\n",
       "      <td>0.116308</td>\n",
       "      <td>0.264615</td>\n",
       "      <td>0.007030</td>\n",
       "      <td>0.007815</td>\n",
       "      <td>inf</td>\n",
       "      <td>False</td>\n",
       "    </tr>\n",
       "  </tbody>\n",
       "</table>\n",
       "</div>"
      ],
      "text/plain": [
       "            variable         bin   count  count_distr   good   bad   badprob  \\\n",
       "0  NAME_HOUSING_TYPE  [-inf,4.0)  104238     0.909867  94928  9310  0.089315   \n",
       "1  NAME_HOUSING_TYPE   [4.0,inf)   10326     0.090133   9125  1201  0.116308   \n",
       "\n",
       "        woe    bin_iv  total_iv breaks  is_special_values  \n",
       "0 -0.029552  0.000785  0.007815    4.0              False  \n",
       "1  0.264615  0.007030  0.007815    inf              False  "
      ]
     },
     "metadata": {},
     "output_type": "display_data"
    },
    {
     "name": "stdout",
     "output_type": "stream",
     "text": [
      "----------------------------------------------------------------------------------------------------\n",
      "CNT_FAM_MEMBERS  : \n"
     ]
    },
    {
     "data": {
      "text/html": [
       "<div>\n",
       "<style scoped>\n",
       "    .dataframe tbody tr th:only-of-type {\n",
       "        vertical-align: middle;\n",
       "    }\n",
       "\n",
       "    .dataframe tbody tr th {\n",
       "        vertical-align: top;\n",
       "    }\n",
       "\n",
       "    .dataframe thead th {\n",
       "        text-align: right;\n",
       "    }\n",
       "</style>\n",
       "<table border=\"1\" class=\"dataframe\">\n",
       "  <thead>\n",
       "    <tr style=\"text-align: right;\">\n",
       "      <th></th>\n",
       "      <th>variable</th>\n",
       "      <th>bin</th>\n",
       "      <th>count</th>\n",
       "      <th>count_distr</th>\n",
       "      <th>good</th>\n",
       "      <th>bad</th>\n",
       "      <th>badprob</th>\n",
       "      <th>woe</th>\n",
       "      <th>bin_iv</th>\n",
       "      <th>total_iv</th>\n",
       "      <th>breaks</th>\n",
       "      <th>is_special_values</th>\n",
       "    </tr>\n",
       "  </thead>\n",
       "  <tbody>\n",
       "    <tr>\n",
       "      <th>0</th>\n",
       "      <td>CNT_FAM_MEMBERS</td>\n",
       "      <td>[-inf,2.0)</td>\n",
       "      <td>15571</td>\n",
       "      <td>0.135915</td>\n",
       "      <td>13972</td>\n",
       "      <td>1599</td>\n",
       "      <td>0.102691</td>\n",
       "      <td>0.124801</td>\n",
       "      <td>0.002228</td>\n",
       "      <td>0.005076</td>\n",
       "      <td>2.0</td>\n",
       "      <td>False</td>\n",
       "    </tr>\n",
       "    <tr>\n",
       "      <th>1</th>\n",
       "      <td>CNT_FAM_MEMBERS</td>\n",
       "      <td>[2.0,3.0)</td>\n",
       "      <td>45360</td>\n",
       "      <td>0.395936</td>\n",
       "      <td>41060</td>\n",
       "      <td>4300</td>\n",
       "      <td>0.094797</td>\n",
       "      <td>0.036059</td>\n",
       "      <td>0.000522</td>\n",
       "      <td>0.005076</td>\n",
       "      <td>3.0</td>\n",
       "      <td>False</td>\n",
       "    </tr>\n",
       "    <tr>\n",
       "      <th>2</th>\n",
       "      <td>CNT_FAM_MEMBERS</td>\n",
       "      <td>[3.0,4.0)</td>\n",
       "      <td>32181</td>\n",
       "      <td>0.280900</td>\n",
       "      <td>29398</td>\n",
       "      <td>2783</td>\n",
       "      <td>0.086480</td>\n",
       "      <td>-0.064919</td>\n",
       "      <td>0.001153</td>\n",
       "      <td>0.005076</td>\n",
       "      <td>4.0</td>\n",
       "      <td>False</td>\n",
       "    </tr>\n",
       "    <tr>\n",
       "      <th>3</th>\n",
       "      <td>CNT_FAM_MEMBERS</td>\n",
       "      <td>[4.0,inf)</td>\n",
       "      <td>21452</td>\n",
       "      <td>0.187249</td>\n",
       "      <td>19623</td>\n",
       "      <td>1829</td>\n",
       "      <td>0.085260</td>\n",
       "      <td>-0.080455</td>\n",
       "      <td>0.001173</td>\n",
       "      <td>0.005076</td>\n",
       "      <td>inf</td>\n",
       "      <td>False</td>\n",
       "    </tr>\n",
       "  </tbody>\n",
       "</table>\n",
       "</div>"
      ],
      "text/plain": [
       "          variable         bin  count  count_distr   good   bad   badprob  \\\n",
       "0  CNT_FAM_MEMBERS  [-inf,2.0)  15571     0.135915  13972  1599  0.102691   \n",
       "1  CNT_FAM_MEMBERS   [2.0,3.0)  45360     0.395936  41060  4300  0.094797   \n",
       "2  CNT_FAM_MEMBERS   [3.0,4.0)  32181     0.280900  29398  2783  0.086480   \n",
       "3  CNT_FAM_MEMBERS   [4.0,inf)  21452     0.187249  19623  1829  0.085260   \n",
       "\n",
       "        woe    bin_iv  total_iv breaks  is_special_values  \n",
       "0  0.124801  0.002228  0.005076    2.0              False  \n",
       "1  0.036059  0.000522  0.005076    3.0              False  \n",
       "2 -0.064919  0.001153  0.005076    4.0              False  \n",
       "3 -0.080455  0.001173  0.005076    inf              False  "
      ]
     },
     "metadata": {},
     "output_type": "display_data"
    },
    {
     "name": "stdout",
     "output_type": "stream",
     "text": [
      "----------------------------------------------------------------------------------------------------\n",
      "OCCUPATION_TYPE  : \n"
     ]
    },
    {
     "data": {
      "text/html": [
       "<div>\n",
       "<style scoped>\n",
       "    .dataframe tbody tr th:only-of-type {\n",
       "        vertical-align: middle;\n",
       "    }\n",
       "\n",
       "    .dataframe tbody tr th {\n",
       "        vertical-align: top;\n",
       "    }\n",
       "\n",
       "    .dataframe thead th {\n",
       "        text-align: right;\n",
       "    }\n",
       "</style>\n",
       "<table border=\"1\" class=\"dataframe\">\n",
       "  <thead>\n",
       "    <tr style=\"text-align: right;\">\n",
       "      <th></th>\n",
       "      <th>variable</th>\n",
       "      <th>bin</th>\n",
       "      <th>count</th>\n",
       "      <th>count_distr</th>\n",
       "      <th>good</th>\n",
       "      <th>bad</th>\n",
       "      <th>badprob</th>\n",
       "      <th>woe</th>\n",
       "      <th>bin_iv</th>\n",
       "      <th>total_iv</th>\n",
       "      <th>breaks</th>\n",
       "      <th>is_special_values</th>\n",
       "    </tr>\n",
       "  </thead>\n",
       "  <tbody>\n",
       "    <tr>\n",
       "      <th>0</th>\n",
       "      <td>OCCUPATION_TYPE</td>\n",
       "      <td>[-inf,3.0)</td>\n",
       "      <td>8438</td>\n",
       "      <td>0.073653</td>\n",
       "      <td>7737</td>\n",
       "      <td>701</td>\n",
       "      <td>0.083077</td>\n",
       "      <td>-0.108783</td>\n",
       "      <td>0.000834</td>\n",
       "      <td>0.055655</td>\n",
       "      <td>3.0</td>\n",
       "      <td>False</td>\n",
       "    </tr>\n",
       "    <tr>\n",
       "      <th>1</th>\n",
       "      <td>OCCUPATION_TYPE</td>\n",
       "      <td>[3.0,4.0)</td>\n",
       "      <td>13653</td>\n",
       "      <td>0.119174</td>\n",
       "      <td>12780</td>\n",
       "      <td>873</td>\n",
       "      <td>0.063942</td>\n",
       "      <td>-0.391223</td>\n",
       "      <td>0.015557</td>\n",
       "      <td>0.055655</td>\n",
       "      <td>4.0</td>\n",
       "      <td>False</td>\n",
       "    </tr>\n",
       "    <tr>\n",
       "      <th>2</th>\n",
       "      <td>OCCUPATION_TYPE</td>\n",
       "      <td>[4.0,5.0)</td>\n",
       "      <td>8063</td>\n",
       "      <td>0.070380</td>\n",
       "      <td>7159</td>\n",
       "      <td>904</td>\n",
       "      <td>0.112117</td>\n",
       "      <td>0.223182</td>\n",
       "      <td>0.003840</td>\n",
       "      <td>0.055655</td>\n",
       "      <td>5.0</td>\n",
       "      <td>False</td>\n",
       "    </tr>\n",
       "    <tr>\n",
       "      <th>3</th>\n",
       "      <td>OCCUPATION_TYPE</td>\n",
       "      <td>[5.0,8.0)</td>\n",
       "      <td>5748</td>\n",
       "      <td>0.050173</td>\n",
       "      <td>5370</td>\n",
       "      <td>378</td>\n",
       "      <td>0.065762</td>\n",
       "      <td>-0.361211</td>\n",
       "      <td>0.005652</td>\n",
       "      <td>0.055655</td>\n",
       "      <td>8.0</td>\n",
       "      <td>False</td>\n",
       "    </tr>\n",
       "    <tr>\n",
       "      <th>4</th>\n",
       "      <td>OCCUPATION_TYPE</td>\n",
       "      <td>[8.0,10.0)</td>\n",
       "      <td>26126</td>\n",
       "      <td>0.228047</td>\n",
       "      <td>23095</td>\n",
       "      <td>3031</td>\n",
       "      <td>0.116015</td>\n",
       "      <td>0.261755</td>\n",
       "      <td>0.017383</td>\n",
       "      <td>0.055655</td>\n",
       "      <td>10.0</td>\n",
       "      <td>False</td>\n",
       "    </tr>\n",
       "    <tr>\n",
       "      <th>5</th>\n",
       "      <td>OCCUPATION_TYPE</td>\n",
       "      <td>[10.0,14.0)</td>\n",
       "      <td>33641</td>\n",
       "      <td>0.293644</td>\n",
       "      <td>31008</td>\n",
       "      <td>2633</td>\n",
       "      <td>0.078268</td>\n",
       "      <td>-0.173643</td>\n",
       "      <td>0.008248</td>\n",
       "      <td>0.055655</td>\n",
       "      <td>14.0</td>\n",
       "      <td>False</td>\n",
       "    </tr>\n",
       "    <tr>\n",
       "      <th>6</th>\n",
       "      <td>OCCUPATION_TYPE</td>\n",
       "      <td>[14.0,inf)</td>\n",
       "      <td>18895</td>\n",
       "      <td>0.164930</td>\n",
       "      <td>16904</td>\n",
       "      <td>1991</td>\n",
       "      <td>0.105372</td>\n",
       "      <td>0.153565</td>\n",
       "      <td>0.004141</td>\n",
       "      <td>0.055655</td>\n",
       "      <td>inf</td>\n",
       "      <td>False</td>\n",
       "    </tr>\n",
       "  </tbody>\n",
       "</table>\n",
       "</div>"
      ],
      "text/plain": [
       "          variable          bin  count  count_distr   good   bad   badprob  \\\n",
       "0  OCCUPATION_TYPE   [-inf,3.0)   8438     0.073653   7737   701  0.083077   \n",
       "1  OCCUPATION_TYPE    [3.0,4.0)  13653     0.119174  12780   873  0.063942   \n",
       "2  OCCUPATION_TYPE    [4.0,5.0)   8063     0.070380   7159   904  0.112117   \n",
       "3  OCCUPATION_TYPE    [5.0,8.0)   5748     0.050173   5370   378  0.065762   \n",
       "4  OCCUPATION_TYPE   [8.0,10.0)  26126     0.228047  23095  3031  0.116015   \n",
       "5  OCCUPATION_TYPE  [10.0,14.0)  33641     0.293644  31008  2633  0.078268   \n",
       "6  OCCUPATION_TYPE   [14.0,inf)  18895     0.164930  16904  1991  0.105372   \n",
       "\n",
       "        woe    bin_iv  total_iv breaks  is_special_values  \n",
       "0 -0.108783  0.000834  0.055655    3.0              False  \n",
       "1 -0.391223  0.015557  0.055655    4.0              False  \n",
       "2  0.223182  0.003840  0.055655    5.0              False  \n",
       "3 -0.361211  0.005652  0.055655    8.0              False  \n",
       "4  0.261755  0.017383  0.055655   10.0              False  \n",
       "5 -0.173643  0.008248  0.055655   14.0              False  \n",
       "6  0.153565  0.004141  0.055655    inf              False  "
      ]
     },
     "metadata": {},
     "output_type": "display_data"
    },
    {
     "name": "stdout",
     "output_type": "stream",
     "text": [
      "----------------------------------------------------------------------------------------------------\n",
      "credit_income_ratio  : \n"
     ]
    },
    {
     "data": {
      "text/html": [
       "<div>\n",
       "<style scoped>\n",
       "    .dataframe tbody tr th:only-of-type {\n",
       "        vertical-align: middle;\n",
       "    }\n",
       "\n",
       "    .dataframe tbody tr th {\n",
       "        vertical-align: top;\n",
       "    }\n",
       "\n",
       "    .dataframe thead th {\n",
       "        text-align: right;\n",
       "    }\n",
       "</style>\n",
       "<table border=\"1\" class=\"dataframe\">\n",
       "  <thead>\n",
       "    <tr style=\"text-align: right;\">\n",
       "      <th></th>\n",
       "      <th>variable</th>\n",
       "      <th>bin</th>\n",
       "      <th>count</th>\n",
       "      <th>count_distr</th>\n",
       "      <th>good</th>\n",
       "      <th>bad</th>\n",
       "      <th>badprob</th>\n",
       "      <th>woe</th>\n",
       "      <th>bin_iv</th>\n",
       "      <th>total_iv</th>\n",
       "      <th>breaks</th>\n",
       "      <th>is_special_values</th>\n",
       "    </tr>\n",
       "  </thead>\n",
       "  <tbody>\n",
       "    <tr>\n",
       "      <th>0</th>\n",
       "      <td>credit_income_ratio</td>\n",
       "      <td>[-inf,1.0)</td>\n",
       "      <td>6166</td>\n",
       "      <td>0.053821</td>\n",
       "      <td>5763</td>\n",
       "      <td>403</td>\n",
       "      <td>0.065358</td>\n",
       "      <td>-0.367799</td>\n",
       "      <td>0.006269</td>\n",
       "      <td>0.017477</td>\n",
       "      <td>1.0</td>\n",
       "      <td>False</td>\n",
       "    </tr>\n",
       "    <tr>\n",
       "      <th>1</th>\n",
       "      <td>credit_income_ratio</td>\n",
       "      <td>[1.0,1.6)</td>\n",
       "      <td>13397</td>\n",
       "      <td>0.116939</td>\n",
       "      <td>12328</td>\n",
       "      <td>1069</td>\n",
       "      <td>0.079794</td>\n",
       "      <td>-0.152671</td>\n",
       "      <td>0.002561</td>\n",
       "      <td>0.017477</td>\n",
       "      <td>1.6</td>\n",
       "      <td>False</td>\n",
       "    </tr>\n",
       "    <tr>\n",
       "      <th>2</th>\n",
       "      <td>credit_income_ratio</td>\n",
       "      <td>[1.6,2.2)</td>\n",
       "      <td>15601</td>\n",
       "      <td>0.136177</td>\n",
       "      <td>14188</td>\n",
       "      <td>1413</td>\n",
       "      <td>0.090571</td>\n",
       "      <td>-0.014203</td>\n",
       "      <td>0.000027</td>\n",
       "      <td>0.017477</td>\n",
       "      <td>2.2</td>\n",
       "      <td>False</td>\n",
       "    </tr>\n",
       "    <tr>\n",
       "      <th>3</th>\n",
       "      <td>credit_income_ratio</td>\n",
       "      <td>[2.2,6.2)</td>\n",
       "      <td>62738</td>\n",
       "      <td>0.547624</td>\n",
       "      <td>56445</td>\n",
       "      <td>6293</td>\n",
       "      <td>0.100306</td>\n",
       "      <td>0.098649</td>\n",
       "      <td>0.005548</td>\n",
       "      <td>0.017477</td>\n",
       "      <td>6.2</td>\n",
       "      <td>False</td>\n",
       "    </tr>\n",
       "    <tr>\n",
       "      <th>4</th>\n",
       "      <td>credit_income_ratio</td>\n",
       "      <td>[6.2,inf)</td>\n",
       "      <td>16662</td>\n",
       "      <td>0.145438</td>\n",
       "      <td>15329</td>\n",
       "      <td>1333</td>\n",
       "      <td>0.080002</td>\n",
       "      <td>-0.149836</td>\n",
       "      <td>0.003072</td>\n",
       "      <td>0.017477</td>\n",
       "      <td>inf</td>\n",
       "      <td>False</td>\n",
       "    </tr>\n",
       "  </tbody>\n",
       "</table>\n",
       "</div>"
      ],
      "text/plain": [
       "              variable         bin  count  count_distr   good   bad   badprob  \\\n",
       "0  credit_income_ratio  [-inf,1.0)   6166     0.053821   5763   403  0.065358   \n",
       "1  credit_income_ratio   [1.0,1.6)  13397     0.116939  12328  1069  0.079794   \n",
       "2  credit_income_ratio   [1.6,2.2)  15601     0.136177  14188  1413  0.090571   \n",
       "3  credit_income_ratio   [2.2,6.2)  62738     0.547624  56445  6293  0.100306   \n",
       "4  credit_income_ratio   [6.2,inf)  16662     0.145438  15329  1333  0.080002   \n",
       "\n",
       "        woe    bin_iv  total_iv breaks  is_special_values  \n",
       "0 -0.367799  0.006269  0.017477    1.0              False  \n",
       "1 -0.152671  0.002561  0.017477    1.6              False  \n",
       "2 -0.014203  0.000027  0.017477    2.2              False  \n",
       "3  0.098649  0.005548  0.017477    6.2              False  \n",
       "4 -0.149836  0.003072  0.017477    inf              False  "
      ]
     },
     "metadata": {},
     "output_type": "display_data"
    },
    {
     "name": "stdout",
     "output_type": "stream",
     "text": [
      "----------------------------------------------------------------------------------------------------\n",
      "total_enquiries_cb  : \n"
     ]
    },
    {
     "data": {
      "text/html": [
       "<div>\n",
       "<style scoped>\n",
       "    .dataframe tbody tr th:only-of-type {\n",
       "        vertical-align: middle;\n",
       "    }\n",
       "\n",
       "    .dataframe tbody tr th {\n",
       "        vertical-align: top;\n",
       "    }\n",
       "\n",
       "    .dataframe thead th {\n",
       "        text-align: right;\n",
       "    }\n",
       "</style>\n",
       "<table border=\"1\" class=\"dataframe\">\n",
       "  <thead>\n",
       "    <tr style=\"text-align: right;\">\n",
       "      <th></th>\n",
       "      <th>variable</th>\n",
       "      <th>bin</th>\n",
       "      <th>count</th>\n",
       "      <th>count_distr</th>\n",
       "      <th>good</th>\n",
       "      <th>bad</th>\n",
       "      <th>badprob</th>\n",
       "      <th>woe</th>\n",
       "      <th>bin_iv</th>\n",
       "      <th>total_iv</th>\n",
       "      <th>breaks</th>\n",
       "      <th>is_special_values</th>\n",
       "    </tr>\n",
       "  </thead>\n",
       "  <tbody>\n",
       "    <tr>\n",
       "      <th>0</th>\n",
       "      <td>total_enquiries_cb</td>\n",
       "      <td>[-inf,2.0)</td>\n",
       "      <td>46077</td>\n",
       "      <td>0.402194</td>\n",
       "      <td>42052</td>\n",
       "      <td>4025</td>\n",
       "      <td>0.087354</td>\n",
       "      <td>-0.053904</td>\n",
       "      <td>0.001143</td>\n",
       "      <td>0.002829</td>\n",
       "      <td>2.0</td>\n",
       "      <td>False</td>\n",
       "    </tr>\n",
       "    <tr>\n",
       "      <th>1</th>\n",
       "      <td>total_enquiries_cb</td>\n",
       "      <td>[2.0,5.0)</td>\n",
       "      <td>51492</td>\n",
       "      <td>0.449461</td>\n",
       "      <td>46706</td>\n",
       "      <td>4786</td>\n",
       "      <td>0.092946</td>\n",
       "      <td>0.014300</td>\n",
       "      <td>0.000092</td>\n",
       "      <td>0.002829</td>\n",
       "      <td>5.0</td>\n",
       "      <td>False</td>\n",
       "    </tr>\n",
       "    <tr>\n",
       "      <th>2</th>\n",
       "      <td>total_enquiries_cb</td>\n",
       "      <td>[5.0,6.0)</td>\n",
       "      <td>7048</td>\n",
       "      <td>0.061520</td>\n",
       "      <td>6369</td>\n",
       "      <td>679</td>\n",
       "      <td>0.096339</td>\n",
       "      <td>0.053901</td>\n",
       "      <td>0.000183</td>\n",
       "      <td>0.002829</td>\n",
       "      <td>6.0</td>\n",
       "      <td>False</td>\n",
       "    </tr>\n",
       "    <tr>\n",
       "      <th>3</th>\n",
       "      <td>total_enquiries_cb</td>\n",
       "      <td>[6.0,inf)</td>\n",
       "      <td>9947</td>\n",
       "      <td>0.086825</td>\n",
       "      <td>8926</td>\n",
       "      <td>1021</td>\n",
       "      <td>0.102644</td>\n",
       "      <td>0.124292</td>\n",
       "      <td>0.001411</td>\n",
       "      <td>0.002829</td>\n",
       "      <td>inf</td>\n",
       "      <td>False</td>\n",
       "    </tr>\n",
       "  </tbody>\n",
       "</table>\n",
       "</div>"
      ],
      "text/plain": [
       "             variable         bin  count  count_distr   good   bad   badprob  \\\n",
       "0  total_enquiries_cb  [-inf,2.0)  46077     0.402194  42052  4025  0.087354   \n",
       "1  total_enquiries_cb   [2.0,5.0)  51492     0.449461  46706  4786  0.092946   \n",
       "2  total_enquiries_cb   [5.0,6.0)   7048     0.061520   6369   679  0.096339   \n",
       "3  total_enquiries_cb   [6.0,inf)   9947     0.086825   8926  1021  0.102644   \n",
       "\n",
       "        woe    bin_iv  total_iv breaks  is_special_values  \n",
       "0 -0.053904  0.001143  0.002829    2.0              False  \n",
       "1  0.014300  0.000092  0.002829    5.0              False  \n",
       "2  0.053901  0.000183  0.002829    6.0              False  \n",
       "3  0.124292  0.001411  0.002829    inf              False  "
      ]
     },
     "metadata": {},
     "output_type": "display_data"
    },
    {
     "name": "stdout",
     "output_type": "stream",
     "text": [
      "----------------------------------------------------------------------------------------------------\n",
      "DAYS_EMPLOYED  : \n"
     ]
    },
    {
     "data": {
      "text/html": [
       "<div>\n",
       "<style scoped>\n",
       "    .dataframe tbody tr th:only-of-type {\n",
       "        vertical-align: middle;\n",
       "    }\n",
       "\n",
       "    .dataframe tbody tr th {\n",
       "        vertical-align: top;\n",
       "    }\n",
       "\n",
       "    .dataframe thead th {\n",
       "        text-align: right;\n",
       "    }\n",
       "</style>\n",
       "<table border=\"1\" class=\"dataframe\">\n",
       "  <thead>\n",
       "    <tr style=\"text-align: right;\">\n",
       "      <th></th>\n",
       "      <th>variable</th>\n",
       "      <th>bin</th>\n",
       "      <th>count</th>\n",
       "      <th>count_distr</th>\n",
       "      <th>good</th>\n",
       "      <th>bad</th>\n",
       "      <th>badprob</th>\n",
       "      <th>woe</th>\n",
       "      <th>bin_iv</th>\n",
       "      <th>total_iv</th>\n",
       "      <th>breaks</th>\n",
       "      <th>is_special_values</th>\n",
       "    </tr>\n",
       "  </thead>\n",
       "  <tbody>\n",
       "    <tr>\n",
       "      <th>0</th>\n",
       "      <td>DAYS_EMPLOYED</td>\n",
       "      <td>[-inf,-4000.0)</td>\n",
       "      <td>14262</td>\n",
       "      <td>0.124489</td>\n",
       "      <td>13453</td>\n",
       "      <td>809</td>\n",
       "      <td>0.056724</td>\n",
       "      <td>-0.518680</td>\n",
       "      <td>0.027139</td>\n",
       "      <td>0.06496</td>\n",
       "      <td>-4000.0</td>\n",
       "      <td>False</td>\n",
       "    </tr>\n",
       "    <tr>\n",
       "      <th>1</th>\n",
       "      <td>DAYS_EMPLOYED</td>\n",
       "      <td>[-4000.0,-1800.0)</td>\n",
       "      <td>36732</td>\n",
       "      <td>0.320624</td>\n",
       "      <td>33952</td>\n",
       "      <td>2780</td>\n",
       "      <td>0.075683</td>\n",
       "      <td>-0.210019</td>\n",
       "      <td>0.012981</td>\n",
       "      <td>0.06496</td>\n",
       "      <td>-1800.0</td>\n",
       "      <td>False</td>\n",
       "    </tr>\n",
       "    <tr>\n",
       "      <th>2</th>\n",
       "      <td>DAYS_EMPLOYED</td>\n",
       "      <td>[-1800.0,-1000.0)</td>\n",
       "      <td>25152</td>\n",
       "      <td>0.219545</td>\n",
       "      <td>22629</td>\n",
       "      <td>2523</td>\n",
       "      <td>0.100310</td>\n",
       "      <td>0.098694</td>\n",
       "      <td>0.002226</td>\n",
       "      <td>0.06496</td>\n",
       "      <td>-1000.0</td>\n",
       "      <td>False</td>\n",
       "    </tr>\n",
       "    <tr>\n",
       "      <th>3</th>\n",
       "      <td>DAYS_EMPLOYED</td>\n",
       "      <td>[-1000.0,inf)</td>\n",
       "      <td>38418</td>\n",
       "      <td>0.335341</td>\n",
       "      <td>34019</td>\n",
       "      <td>4399</td>\n",
       "      <td>0.114504</td>\n",
       "      <td>0.246936</td>\n",
       "      <td>0.022613</td>\n",
       "      <td>0.06496</td>\n",
       "      <td>inf</td>\n",
       "      <td>False</td>\n",
       "    </tr>\n",
       "  </tbody>\n",
       "</table>\n",
       "</div>"
      ],
      "text/plain": [
       "        variable                bin  count  count_distr   good   bad  \\\n",
       "0  DAYS_EMPLOYED     [-inf,-4000.0)  14262     0.124489  13453   809   \n",
       "1  DAYS_EMPLOYED  [-4000.0,-1800.0)  36732     0.320624  33952  2780   \n",
       "2  DAYS_EMPLOYED  [-1800.0,-1000.0)  25152     0.219545  22629  2523   \n",
       "3  DAYS_EMPLOYED      [-1000.0,inf)  38418     0.335341  34019  4399   \n",
       "\n",
       "    badprob       woe    bin_iv  total_iv   breaks  is_special_values  \n",
       "0  0.056724 -0.518680  0.027139   0.06496  -4000.0              False  \n",
       "1  0.075683 -0.210019  0.012981   0.06496  -1800.0              False  \n",
       "2  0.100310  0.098694  0.002226   0.06496  -1000.0              False  \n",
       "3  0.114504  0.246936  0.022613   0.06496      inf              False  "
      ]
     },
     "metadata": {},
     "output_type": "display_data"
    },
    {
     "name": "stdout",
     "output_type": "stream",
     "text": [
      "----------------------------------------------------------------------------------------------------\n",
      "NAME_EDUCATION_TYPE  : \n"
     ]
    },
    {
     "data": {
      "text/html": [
       "<div>\n",
       "<style scoped>\n",
       "    .dataframe tbody tr th:only-of-type {\n",
       "        vertical-align: middle;\n",
       "    }\n",
       "\n",
       "    .dataframe tbody tr th {\n",
       "        vertical-align: top;\n",
       "    }\n",
       "\n",
       "    .dataframe thead th {\n",
       "        text-align: right;\n",
       "    }\n",
       "</style>\n",
       "<table border=\"1\" class=\"dataframe\">\n",
       "  <thead>\n",
       "    <tr style=\"text-align: right;\">\n",
       "      <th></th>\n",
       "      <th>variable</th>\n",
       "      <th>bin</th>\n",
       "      <th>count</th>\n",
       "      <th>count_distr</th>\n",
       "      <th>good</th>\n",
       "      <th>bad</th>\n",
       "      <th>badprob</th>\n",
       "      <th>woe</th>\n",
       "      <th>bin_iv</th>\n",
       "      <th>total_iv</th>\n",
       "      <th>breaks</th>\n",
       "      <th>is_special_values</th>\n",
       "    </tr>\n",
       "  </thead>\n",
       "  <tbody>\n",
       "    <tr>\n",
       "      <th>0</th>\n",
       "      <td>NAME_EDUCATION_TYPE</td>\n",
       "      <td>[-inf,2.0)</td>\n",
       "      <td>34547</td>\n",
       "      <td>0.301552</td>\n",
       "      <td>32599</td>\n",
       "      <td>1948</td>\n",
       "      <td>0.056387</td>\n",
       "      <td>-0.525000</td>\n",
       "      <td>0.067180</td>\n",
       "      <td>0.08974</td>\n",
       "      <td>2.0</td>\n",
       "      <td>False</td>\n",
       "    </tr>\n",
       "    <tr>\n",
       "      <th>1</th>\n",
       "      <td>NAME_EDUCATION_TYPE</td>\n",
       "      <td>[2.0,4.0)</td>\n",
       "      <td>5941</td>\n",
       "      <td>0.051857</td>\n",
       "      <td>5365</td>\n",
       "      <td>576</td>\n",
       "      <td>0.096953</td>\n",
       "      <td>0.060934</td>\n",
       "      <td>0.000197</td>\n",
       "      <td>0.08974</td>\n",
       "      <td>4.0</td>\n",
       "      <td>False</td>\n",
       "    </tr>\n",
       "    <tr>\n",
       "      <th>2</th>\n",
       "      <td>NAME_EDUCATION_TYPE</td>\n",
       "      <td>[4.0,inf)</td>\n",
       "      <td>74076</td>\n",
       "      <td>0.646591</td>\n",
       "      <td>66089</td>\n",
       "      <td>7987</td>\n",
       "      <td>0.107822</td>\n",
       "      <td>0.179291</td>\n",
       "      <td>0.022362</td>\n",
       "      <td>0.08974</td>\n",
       "      <td>inf</td>\n",
       "      <td>False</td>\n",
       "    </tr>\n",
       "  </tbody>\n",
       "</table>\n",
       "</div>"
      ],
      "text/plain": [
       "              variable         bin  count  count_distr   good   bad   badprob  \\\n",
       "0  NAME_EDUCATION_TYPE  [-inf,2.0)  34547     0.301552  32599  1948  0.056387   \n",
       "1  NAME_EDUCATION_TYPE   [2.0,4.0)   5941     0.051857   5365   576  0.096953   \n",
       "2  NAME_EDUCATION_TYPE   [4.0,inf)  74076     0.646591  66089  7987  0.107822   \n",
       "\n",
       "        woe    bin_iv  total_iv breaks  is_special_values  \n",
       "0 -0.525000  0.067180   0.08974    2.0              False  \n",
       "1  0.060934  0.000197   0.08974    4.0              False  \n",
       "2  0.179291  0.022362   0.08974    inf              False  "
      ]
     },
     "metadata": {},
     "output_type": "display_data"
    },
    {
     "name": "stdout",
     "output_type": "stream",
     "text": [
      "----------------------------------------------------------------------------------------------------\n",
      "age  : \n"
     ]
    },
    {
     "data": {
      "text/html": [
       "<div>\n",
       "<style scoped>\n",
       "    .dataframe tbody tr th:only-of-type {\n",
       "        vertical-align: middle;\n",
       "    }\n",
       "\n",
       "    .dataframe tbody tr th {\n",
       "        vertical-align: top;\n",
       "    }\n",
       "\n",
       "    .dataframe thead th {\n",
       "        text-align: right;\n",
       "    }\n",
       "</style>\n",
       "<table border=\"1\" class=\"dataframe\">\n",
       "  <thead>\n",
       "    <tr style=\"text-align: right;\">\n",
       "      <th></th>\n",
       "      <th>variable</th>\n",
       "      <th>bin</th>\n",
       "      <th>count</th>\n",
       "      <th>count_distr</th>\n",
       "      <th>good</th>\n",
       "      <th>bad</th>\n",
       "      <th>badprob</th>\n",
       "      <th>woe</th>\n",
       "      <th>bin_iv</th>\n",
       "      <th>total_iv</th>\n",
       "      <th>breaks</th>\n",
       "      <th>is_special_values</th>\n",
       "    </tr>\n",
       "  </thead>\n",
       "  <tbody>\n",
       "    <tr>\n",
       "      <th>0</th>\n",
       "      <td>age</td>\n",
       "      <td>[-inf,32.0)</td>\n",
       "      <td>34162</td>\n",
       "      <td>0.298191</td>\n",
       "      <td>30533</td>\n",
       "      <td>3629</td>\n",
       "      <td>0.106229</td>\n",
       "      <td>0.162627</td>\n",
       "      <td>0.008427</td>\n",
       "      <td>0.01892</td>\n",
       "      <td>32.0</td>\n",
       "      <td>False</td>\n",
       "    </tr>\n",
       "    <tr>\n",
       "      <th>1</th>\n",
       "      <td>age</td>\n",
       "      <td>[32.0,37.0)</td>\n",
       "      <td>34633</td>\n",
       "      <td>0.302303</td>\n",
       "      <td>31382</td>\n",
       "      <td>3251</td>\n",
       "      <td>0.093870</td>\n",
       "      <td>0.025206</td>\n",
       "      <td>0.000194</td>\n",
       "      <td>0.01892</td>\n",
       "      <td>37.0</td>\n",
       "      <td>False</td>\n",
       "    </tr>\n",
       "    <tr>\n",
       "      <th>2</th>\n",
       "      <td>age</td>\n",
       "      <td>[37.0,40.0)</td>\n",
       "      <td>23321</td>\n",
       "      <td>0.203563</td>\n",
       "      <td>21392</td>\n",
       "      <td>1929</td>\n",
       "      <td>0.082715</td>\n",
       "      <td>-0.113537</td>\n",
       "      <td>0.002505</td>\n",
       "      <td>0.01892</td>\n",
       "      <td>40.0</td>\n",
       "      <td>False</td>\n",
       "    </tr>\n",
       "    <tr>\n",
       "      <th>3</th>\n",
       "      <td>age</td>\n",
       "      <td>[40.0,inf)</td>\n",
       "      <td>22448</td>\n",
       "      <td>0.195943</td>\n",
       "      <td>20746</td>\n",
       "      <td>1702</td>\n",
       "      <td>0.075820</td>\n",
       "      <td>-0.208071</td>\n",
       "      <td>0.007793</td>\n",
       "      <td>0.01892</td>\n",
       "      <td>inf</td>\n",
       "      <td>False</td>\n",
       "    </tr>\n",
       "  </tbody>\n",
       "</table>\n",
       "</div>"
      ],
      "text/plain": [
       "  variable          bin  count  count_distr   good   bad   badprob       woe  \\\n",
       "0      age  [-inf,32.0)  34162     0.298191  30533  3629  0.106229  0.162627   \n",
       "1      age  [32.0,37.0)  34633     0.302303  31382  3251  0.093870  0.025206   \n",
       "2      age  [37.0,40.0)  23321     0.203563  21392  1929  0.082715 -0.113537   \n",
       "3      age   [40.0,inf)  22448     0.195943  20746  1702  0.075820 -0.208071   \n",
       "\n",
       "     bin_iv  total_iv breaks  is_special_values  \n",
       "0  0.008427   0.01892   32.0              False  \n",
       "1  0.000194   0.01892   37.0              False  \n",
       "2  0.002505   0.01892   40.0              False  \n",
       "3  0.007793   0.01892    inf              False  "
      ]
     },
     "metadata": {},
     "output_type": "display_data"
    },
    {
     "name": "stdout",
     "output_type": "stream",
     "text": [
      "----------------------------------------------------------------------------------------------------\n",
      "FLAG_OWN_REALTY  : \n"
     ]
    },
    {
     "data": {
      "text/html": [
       "<div>\n",
       "<style scoped>\n",
       "    .dataframe tbody tr th:only-of-type {\n",
       "        vertical-align: middle;\n",
       "    }\n",
       "\n",
       "    .dataframe tbody tr th {\n",
       "        vertical-align: top;\n",
       "    }\n",
       "\n",
       "    .dataframe thead th {\n",
       "        text-align: right;\n",
       "    }\n",
       "</style>\n",
       "<table border=\"1\" class=\"dataframe\">\n",
       "  <thead>\n",
       "    <tr style=\"text-align: right;\">\n",
       "      <th></th>\n",
       "      <th>variable</th>\n",
       "      <th>bin</th>\n",
       "      <th>count</th>\n",
       "      <th>count_distr</th>\n",
       "      <th>good</th>\n",
       "      <th>bad</th>\n",
       "      <th>badprob</th>\n",
       "      <th>woe</th>\n",
       "      <th>bin_iv</th>\n",
       "      <th>total_iv</th>\n",
       "      <th>breaks</th>\n",
       "      <th>is_special_values</th>\n",
       "    </tr>\n",
       "  </thead>\n",
       "  <tbody>\n",
       "    <tr>\n",
       "      <th>0</th>\n",
       "      <td>FLAG_OWN_REALTY</td>\n",
       "      <td>[-inf,1.0)</td>\n",
       "      <td>41009</td>\n",
       "      <td>0.357957</td>\n",
       "      <td>37256</td>\n",
       "      <td>3753</td>\n",
       "      <td>0.091516</td>\n",
       "      <td>-0.002779</td>\n",
       "      <td>0.000003</td>\n",
       "      <td>0.000004</td>\n",
       "      <td>1.0</td>\n",
       "      <td>False</td>\n",
       "    </tr>\n",
       "    <tr>\n",
       "      <th>1</th>\n",
       "      <td>FLAG_OWN_REALTY</td>\n",
       "      <td>[1.0,inf)</td>\n",
       "      <td>73555</td>\n",
       "      <td>0.642043</td>\n",
       "      <td>66797</td>\n",
       "      <td>6758</td>\n",
       "      <td>0.091877</td>\n",
       "      <td>0.001547</td>\n",
       "      <td>0.000002</td>\n",
       "      <td>0.000004</td>\n",
       "      <td>inf</td>\n",
       "      <td>False</td>\n",
       "    </tr>\n",
       "  </tbody>\n",
       "</table>\n",
       "</div>"
      ],
      "text/plain": [
       "          variable         bin  count  count_distr   good   bad   badprob  \\\n",
       "0  FLAG_OWN_REALTY  [-inf,1.0)  41009     0.357957  37256  3753  0.091516   \n",
       "1  FLAG_OWN_REALTY   [1.0,inf)  73555     0.642043  66797  6758  0.091877   \n",
       "\n",
       "        woe    bin_iv  total_iv breaks  is_special_values  \n",
       "0 -0.002779  0.000003  0.000004    1.0              False  \n",
       "1  0.001547  0.000002  0.000004    inf              False  "
      ]
     },
     "metadata": {},
     "output_type": "display_data"
    },
    {
     "name": "stdout",
     "output_type": "stream",
     "text": [
      "----------------------------------------------------------------------------------------------------\n",
      "NAME_INCOME_TYPE  : \n"
     ]
    },
    {
     "data": {
      "text/html": [
       "<div>\n",
       "<style scoped>\n",
       "    .dataframe tbody tr th:only-of-type {\n",
       "        vertical-align: middle;\n",
       "    }\n",
       "\n",
       "    .dataframe tbody tr th {\n",
       "        vertical-align: top;\n",
       "    }\n",
       "\n",
       "    .dataframe thead th {\n",
       "        text-align: right;\n",
       "    }\n",
       "</style>\n",
       "<table border=\"1\" class=\"dataframe\">\n",
       "  <thead>\n",
       "    <tr style=\"text-align: right;\">\n",
       "      <th></th>\n",
       "      <th>variable</th>\n",
       "      <th>bin</th>\n",
       "      <th>count</th>\n",
       "      <th>count_distr</th>\n",
       "      <th>good</th>\n",
       "      <th>bad</th>\n",
       "      <th>badprob</th>\n",
       "      <th>woe</th>\n",
       "      <th>bin_iv</th>\n",
       "      <th>total_iv</th>\n",
       "      <th>breaks</th>\n",
       "      <th>is_special_values</th>\n",
       "    </tr>\n",
       "  </thead>\n",
       "  <tbody>\n",
       "    <tr>\n",
       "      <th>0</th>\n",
       "      <td>NAME_INCOME_TYPE</td>\n",
       "      <td>[-inf,3.0)</td>\n",
       "      <td>32903</td>\n",
       "      <td>0.287202</td>\n",
       "      <td>30348</td>\n",
       "      <td>2555</td>\n",
       "      <td>0.077652</td>\n",
       "      <td>-0.182200</td>\n",
       "      <td>0.008851</td>\n",
       "      <td>0.030297</td>\n",
       "      <td>3.0</td>\n",
       "      <td>False</td>\n",
       "    </tr>\n",
       "    <tr>\n",
       "      <th>1</th>\n",
       "      <td>NAME_INCOME_TYPE</td>\n",
       "      <td>[3.0,5.0)</td>\n",
       "      <td>10074</td>\n",
       "      <td>0.087933</td>\n",
       "      <td>9436</td>\n",
       "      <td>638</td>\n",
       "      <td>0.063331</td>\n",
       "      <td>-0.401471</td>\n",
       "      <td>0.012039</td>\n",
       "      <td>0.030297</td>\n",
       "      <td>5.0</td>\n",
       "      <td>False</td>\n",
       "    </tr>\n",
       "    <tr>\n",
       "      <th>2</th>\n",
       "      <td>NAME_INCOME_TYPE</td>\n",
       "      <td>[5.0,inf)</td>\n",
       "      <td>71587</td>\n",
       "      <td>0.624865</td>\n",
       "      <td>64269</td>\n",
       "      <td>7318</td>\n",
       "      <td>0.102225</td>\n",
       "      <td>0.119738</td>\n",
       "      <td>0.009407</td>\n",
       "      <td>0.030297</td>\n",
       "      <td>inf</td>\n",
       "      <td>False</td>\n",
       "    </tr>\n",
       "  </tbody>\n",
       "</table>\n",
       "</div>"
      ],
      "text/plain": [
       "           variable         bin  count  count_distr   good   bad   badprob  \\\n",
       "0  NAME_INCOME_TYPE  [-inf,3.0)  32903     0.287202  30348  2555  0.077652   \n",
       "1  NAME_INCOME_TYPE   [3.0,5.0)  10074     0.087933   9436   638  0.063331   \n",
       "2  NAME_INCOME_TYPE   [5.0,inf)  71587     0.624865  64269  7318  0.102225   \n",
       "\n",
       "        woe    bin_iv  total_iv breaks  is_special_values  \n",
       "0 -0.182200  0.008851  0.030297    3.0              False  \n",
       "1 -0.401471  0.012039  0.030297    5.0              False  \n",
       "2  0.119738  0.009407  0.030297    inf              False  "
      ]
     },
     "metadata": {},
     "output_type": "display_data"
    },
    {
     "name": "stdout",
     "output_type": "stream",
     "text": [
      "----------------------------------------------------------------------------------------------------\n"
     ]
    }
   ],
   "source": [
    "# automatically calculate bin ranges\n",
    "bins = sc.woebin(df, y='STATUS',positive=\"bad|0\")\n",
    "# bins = sc.woebin(df, y='STATUS')\n",
    "# make it easy to read the bins\n",
    "for variables , bindetails in bins.items():\n",
    "    print(variables , \" : \")\n",
    "    display(bindetails)\n",
    "    print(\"--\"*50)"
   ]
  },
  {
   "cell_type": "code",
   "execution_count": 686,
   "metadata": {},
   "outputs": [
    {
     "data": {
      "text/plain": [
       "{'AMT_ANNUITY': <Figure size 432x288 with 2 Axes>,\n",
       " 'NAME_FAMILY_STATUS': <Figure size 432x288 with 2 Axes>,\n",
       " 'DEF_60_CNT_SOCIAL_CIRCLE': <Figure size 432x288 with 2 Axes>,\n",
       " 'NAME_CONTRACT_TYPE': <Figure size 432x288 with 2 Axes>,\n",
       " 'FLAG_OWN_CAR': <Figure size 432x288 with 2 Axes>,\n",
       " 'AMT_CREDIT': <Figure size 432x288 with 2 Axes>,\n",
       " 'AMT_INCOME_TOTAL': <Figure size 432x288 with 2 Axes>,\n",
       " 'EXT_SOURCE_2': <Figure size 432x288 with 2 Axes>,\n",
       " 'NAME_HOUSING_TYPE': <Figure size 432x288 with 2 Axes>,\n",
       " 'CNT_FAM_MEMBERS': <Figure size 432x288 with 2 Axes>,\n",
       " 'OCCUPATION_TYPE': <Figure size 432x288 with 2 Axes>,\n",
       " 'credit_income_ratio': <Figure size 432x288 with 2 Axes>,\n",
       " 'total_enquiries_cb': <Figure size 432x288 with 2 Axes>,\n",
       " 'DAYS_EMPLOYED': <Figure size 432x288 with 2 Axes>,\n",
       " 'NAME_EDUCATION_TYPE': <Figure size 432x288 with 2 Axes>,\n",
       " 'age': <Figure size 432x288 with 2 Axes>,\n",
       " 'FLAG_OWN_REALTY': <Figure size 432x288 with 2 Axes>,\n",
       " 'NAME_INCOME_TYPE': <Figure size 432x288 with 2 Axes>}"
      ]
     },
     "execution_count": 686,
     "metadata": {},
     "output_type": "execute_result"
    },
    {
     "data": {
      "image/png": "[encoded data removed]",
      "text/plain": [
       "<Figure size 432x288 with 2 Axes>"
      ]
     },
     "metadata": {
      "needs_background": "light"
     },
     "output_type": "display_data"
    },
    {
     "data": {
      "image/png": "[encoded data removed]",
      "text/plain": [
       "<Figure size 432x288 with 2 Axes>"
      ]
     },
     "metadata": {
      "needs_background": "light"
     },
     "output_type": "display_data"
    },
    {
     "data": {
      "image/png": "[encoded data removed]",
      "text/plain": [
       "<Figure size 432x288 with 2 Axes>"
      ]
     },
     "metadata": {
      "needs_background": "light"
     },
     "output_type": "display_data"
    },
    {
     "data": {
      "image/png": "[encoded data removed]",
      "text/plain": [
       "<Figure size 432x288 with 2 Axes>"
      ]
     },
     "metadata": {
      "needs_background": "light"
     },
     "output_type": "display_data"
    },
    {
     "data": {
      "image/png": "[encoded data removed]",
      "text/plain": [
       "<Figure size 432x288 with 2 Axes>"
      ]
     },
     "metadata": {
      "needs_background": "light"
     },
     "output_type": "display_data"
    },
    {
     "data": {
      "image/png": "[encoded data removed]",
      "text/plain": [
       "<Figure size 432x288 with 2 Axes>"
      ]
     },
     "metadata": {
      "needs_background": "light"
     },
     "output_type": "display_data"
    },
    {
     "data": {
      "image/png": "[encoded data removed]",
      "text/plain": [
       "<Figure size 432x288 with 2 Axes>"
      ]
     },
     "metadata": {
      "needs_background": "light"
     },
     "output_type": "display_data"
    },
    {
     "data": {
      "image/png": "[encoded data removed]",
      "text/plain": [
       "<Figure size 432x288 with 2 Axes>"
      ]
     },
     "metadata": {
      "needs_background": "light"
     },
     "output_type": "display_data"
    },
    {
     "data": {
      "image/png": "[encoded data removed]",
      "text/plain": [
       "<Figure size 432x288 with 2 Axes>"
      ]
     },
     "metadata": {
      "needs_background": "light"
     },
     "output_type": "display_data"
    },
    {
     "data": {
      "image/png": "[encoded data removed]",
      "text/plain": [
       "<Figure size 432x288 with 2 Axes>"
      ]
     },
     "metadata": {
      "needs_background": "light"
     },
     "output_type": "display_data"
    },
    {
     "data": {
      "image/png": "[encoded data removed]",
      "text/plain": [
       "<Figure size 432x288 with 2 Axes>"
      ]
     },
     "metadata": {
      "needs_background": "light"
     },
     "output_type": "display_data"
    },
    {
     "data": {
      "image/png": "[encoded data removed]",
      "text/plain": [
       "<Figure size 432x288 with 2 Axes>"
      ]
     },
     "metadata": {
      "needs_background": "light"
     },
     "output_type": "display_data"
    },
    {
     "data": {
      "image/png": "[encoded data removed]",
      "text/plain": [
       "<Figure size 432x288 with 2 Axes>"
      ]
     },
     "metadata": {
      "needs_background": "light"
     },
     "output_type": "display_data"
    },
    {
     "data": {
      "image/png": "[encoded data removed]",
      "text/plain": [
       "<Figure size 432x288 with 2 Axes>"
      ]
     },
     "metadata": {
      "needs_background": "light"
     },
     "output_type": "display_data"
    },
    {
     "data": {
      "image/png": "[encoded data removed]",
      "text/plain": [
       "<Figure size 432x288 with 2 Axes>"
      ]
     },
     "metadata": {
      "needs_background": "light"
     },
     "output_type": "display_data"
    },
    {
     "data": {
      "image/png": "[encoded data removed]",
      "text/plain": [
       "<Figure size 432x288 with 2 Axes>"
      ]
     },
     "metadata": {
      "needs_background": "light"
     },
     "output_type": "display_data"
    },
    {
     "data": {
      "image/png": "[encoded data removed]",
      "text/plain": [
       "<Figure size 432x288 with 2 Axes>"
      ]
     },
     "metadata": {
      "needs_background": "light"
     },
     "output_type": "display_data"
    },
    {
     "data": {
      "image/png": "[encoded data removed]",
      "text/plain": [
       "<Figure size 432x288 with 2 Axes>"
      ]
     },
     "metadata": {
      "needs_background": "light"
     },
     "output_type": "display_data"
    }
   ],
   "source": [
    "# plot the bins\n",
    "sc.woebin_plot(bins)"
   ]
  },
  {
   "cell_type": "code",
   "execution_count": 687,
   "metadata": {},
   "outputs": [],
   "source": [
    "#drop credit_income_ratio\n",
    "df.drop(\"credit_income_ratio\",axis=1,inplace=True)\n",
    "df.drop(\"total_enquiries_cb\",axis=1,inplace=True)"
   ]
  },
  {
   "cell_type": "code",
   "execution_count": 688,
   "metadata": {},
   "outputs": [
    {
     "name": "stdout",
     "output_type": "stream",
     "text": [
      "(114564, 17)\n"
     ]
    },
    {
     "data": {
      "text/html": [
       "<div>\n",
       "<style scoped>\n",
       "    .dataframe tbody tr th:only-of-type {\n",
       "        vertical-align: middle;\n",
       "    }\n",
       "\n",
       "    .dataframe tbody tr th {\n",
       "        vertical-align: top;\n",
       "    }\n",
       "\n",
       "    .dataframe thead th {\n",
       "        text-align: right;\n",
       "    }\n",
       "</style>\n",
       "<table border=\"1\" class=\"dataframe\">\n",
       "  <thead>\n",
       "    <tr style=\"text-align: right;\">\n",
       "      <th></th>\n",
       "      <th>STATUS</th>\n",
       "      <th>NAME_CONTRACT_TYPE</th>\n",
       "      <th>FLAG_OWN_CAR</th>\n",
       "      <th>FLAG_OWN_REALTY</th>\n",
       "      <th>AMT_INCOME_TOTAL</th>\n",
       "      <th>AMT_CREDIT</th>\n",
       "      <th>AMT_ANNUITY</th>\n",
       "      <th>NAME_INCOME_TYPE</th>\n",
       "      <th>NAME_EDUCATION_TYPE</th>\n",
       "      <th>NAME_FAMILY_STATUS</th>\n",
       "      <th>NAME_HOUSING_TYPE</th>\n",
       "      <th>DAYS_EMPLOYED</th>\n",
       "      <th>OCCUPATION_TYPE</th>\n",
       "      <th>CNT_FAM_MEMBERS</th>\n",
       "      <th>EXT_SOURCE_2</th>\n",
       "      <th>DEF_60_CNT_SOCIAL_CIRCLE</th>\n",
       "      <th>age</th>\n",
       "    </tr>\n",
       "  </thead>\n",
       "  <tbody>\n",
       "    <tr>\n",
       "      <th>0</th>\n",
       "      <td>1</td>\n",
       "      <td>0</td>\n",
       "      <td>1</td>\n",
       "      <td>1</td>\n",
       "      <td>171000.0</td>\n",
       "      <td>1560726.0</td>\n",
       "      <td>41301.0</td>\n",
       "      <td>1</td>\n",
       "      <td>1</td>\n",
       "      <td>1</td>\n",
       "      <td>1</td>\n",
       "      <td>-3130</td>\n",
       "      <td>0</td>\n",
       "      <td>3.0</td>\n",
       "      <td>0.724000</td>\n",
       "      <td>0.0</td>\n",
       "      <td>37.0</td>\n",
       "    </tr>\n",
       "    <tr>\n",
       "      <th>1</th>\n",
       "      <td>1</td>\n",
       "      <td>0</td>\n",
       "      <td>0</td>\n",
       "      <td>1</td>\n",
       "      <td>112500.0</td>\n",
       "      <td>652500.0</td>\n",
       "      <td>21177.0</td>\n",
       "      <td>5</td>\n",
       "      <td>1</td>\n",
       "      <td>1</td>\n",
       "      <td>1</td>\n",
       "      <td>-679</td>\n",
       "      <td>3</td>\n",
       "      <td>3.0</td>\n",
       "      <td>0.651862</td>\n",
       "      <td>0.0</td>\n",
       "      <td>27.0</td>\n",
       "    </tr>\n",
       "    <tr>\n",
       "      <th>2</th>\n",
       "      <td>1</td>\n",
       "      <td>0</td>\n",
       "      <td>0</td>\n",
       "      <td>1</td>\n",
       "      <td>67500.0</td>\n",
       "      <td>80865.0</td>\n",
       "      <td>5881.5</td>\n",
       "      <td>5</td>\n",
       "      <td>4</td>\n",
       "      <td>1</td>\n",
       "      <td>1</td>\n",
       "      <td>-2717</td>\n",
       "      <td>8</td>\n",
       "      <td>2.0</td>\n",
       "      <td>0.715042</td>\n",
       "      <td>0.0</td>\n",
       "      <td>36.0</td>\n",
       "    </tr>\n",
       "    <tr>\n",
       "      <th>3</th>\n",
       "      <td>1</td>\n",
       "      <td>0</td>\n",
       "      <td>1</td>\n",
       "      <td>0</td>\n",
       "      <td>225000.0</td>\n",
       "      <td>918468.0</td>\n",
       "      <td>28966.5</td>\n",
       "      <td>5</td>\n",
       "      <td>4</td>\n",
       "      <td>1</td>\n",
       "      <td>1</td>\n",
       "      <td>-3028</td>\n",
       "      <td>4</td>\n",
       "      <td>3.0</td>\n",
       "      <td>0.566907</td>\n",
       "      <td>0.0</td>\n",
       "      <td>38.0</td>\n",
       "    </tr>\n",
       "    <tr>\n",
       "      <th>4</th>\n",
       "      <td>1</td>\n",
       "      <td>0</td>\n",
       "      <td>0</td>\n",
       "      <td>0</td>\n",
       "      <td>108000.0</td>\n",
       "      <td>509602.5</td>\n",
       "      <td>26149.5</td>\n",
       "      <td>5</td>\n",
       "      <td>4</td>\n",
       "      <td>1</td>\n",
       "      <td>1</td>\n",
       "      <td>-1317</td>\n",
       "      <td>4</td>\n",
       "      <td>2.0</td>\n",
       "      <td>0.236378</td>\n",
       "      <td>0.0</td>\n",
       "      <td>35.0</td>\n",
       "    </tr>\n",
       "  </tbody>\n",
       "</table>\n",
       "</div>"
      ],
      "text/plain": [
       "   STATUS  NAME_CONTRACT_TYPE  FLAG_OWN_CAR  FLAG_OWN_REALTY  \\\n",
       "0       1                   0             1                1   \n",
       "1       1                   0             0                1   \n",
       "2       1                   0             0                1   \n",
       "3       1                   0             1                0   \n",
       "4       1                   0             0                0   \n",
       "\n",
       "   AMT_INCOME_TOTAL  AMT_CREDIT  AMT_ANNUITY  NAME_INCOME_TYPE  \\\n",
       "0          171000.0   1560726.0      41301.0                 1   \n",
       "1          112500.0    652500.0      21177.0                 5   \n",
       "2           67500.0     80865.0       5881.5                 5   \n",
       "3          225000.0    918468.0      28966.5                 5   \n",
       "4          108000.0    509602.5      26149.5                 5   \n",
       "\n",
       "   NAME_EDUCATION_TYPE  NAME_FAMILY_STATUS  NAME_HOUSING_TYPE  DAYS_EMPLOYED  \\\n",
       "0                    1                   1                  1          -3130   \n",
       "1                    1                   1                  1           -679   \n",
       "2                    4                   1                  1          -2717   \n",
       "3                    4                   1                  1          -3028   \n",
       "4                    4                   1                  1          -1317   \n",
       "\n",
       "   OCCUPATION_TYPE  CNT_FAM_MEMBERS  EXT_SOURCE_2  DEF_60_CNT_SOCIAL_CIRCLE  \\\n",
       "0                0              3.0      0.724000                       0.0   \n",
       "1                3              3.0      0.651862                       0.0   \n",
       "2                8              2.0      0.715042                       0.0   \n",
       "3                4              3.0      0.566907                       0.0   \n",
       "4                4              2.0      0.236378                       0.0   \n",
       "\n",
       "    age  \n",
       "0  37.0  \n",
       "1  27.0  \n",
       "2  36.0  \n",
       "3  38.0  \n",
       "4  35.0  "
      ]
     },
     "execution_count": 688,
     "metadata": {},
     "output_type": "execute_result"
    }
   ],
   "source": [
    "print(df.shape)\n",
    "df.head()"
   ]
  },
  {
   "cell_type": "code",
   "execution_count": 689,
   "metadata": {},
   "outputs": [],
   "source": [
    "df.drop(\"FLAG_OWN_REALTY\",axis=1,inplace=True)\n",
    "df.drop(\"NAME_HOUSING_TYPE\",axis=1,inplace=True)"
   ]
  },
  {
   "cell_type": "code",
   "execution_count": 690,
   "metadata": {},
   "outputs": [
    {
     "name": "stdout",
     "output_type": "stream",
     "text": [
      "(114564, 15)\n"
     ]
    },
    {
     "data": {
      "text/html": [
       "<div>\n",
       "<style scoped>\n",
       "    .dataframe tbody tr th:only-of-type {\n",
       "        vertical-align: middle;\n",
       "    }\n",
       "\n",
       "    .dataframe tbody tr th {\n",
       "        vertical-align: top;\n",
       "    }\n",
       "\n",
       "    .dataframe thead th {\n",
       "        text-align: right;\n",
       "    }\n",
       "</style>\n",
       "<table border=\"1\" class=\"dataframe\">\n",
       "  <thead>\n",
       "    <tr style=\"text-align: right;\">\n",
       "      <th></th>\n",
       "      <th>STATUS</th>\n",
       "      <th>NAME_CONTRACT_TYPE</th>\n",
       "      <th>FLAG_OWN_CAR</th>\n",
       "      <th>AMT_INCOME_TOTAL</th>\n",
       "      <th>AMT_CREDIT</th>\n",
       "      <th>AMT_ANNUITY</th>\n",
       "      <th>NAME_INCOME_TYPE</th>\n",
       "      <th>NAME_EDUCATION_TYPE</th>\n",
       "      <th>NAME_FAMILY_STATUS</th>\n",
       "      <th>DAYS_EMPLOYED</th>\n",
       "      <th>OCCUPATION_TYPE</th>\n",
       "      <th>CNT_FAM_MEMBERS</th>\n",
       "      <th>EXT_SOURCE_2</th>\n",
       "      <th>DEF_60_CNT_SOCIAL_CIRCLE</th>\n",
       "      <th>age</th>\n",
       "    </tr>\n",
       "  </thead>\n",
       "  <tbody>\n",
       "    <tr>\n",
       "      <th>0</th>\n",
       "      <td>1</td>\n",
       "      <td>0</td>\n",
       "      <td>1</td>\n",
       "      <td>171000.0</td>\n",
       "      <td>1560726.0</td>\n",
       "      <td>41301.0</td>\n",
       "      <td>1</td>\n",
       "      <td>1</td>\n",
       "      <td>1</td>\n",
       "      <td>-3130</td>\n",
       "      <td>0</td>\n",
       "      <td>3.0</td>\n",
       "      <td>0.724000</td>\n",
       "      <td>0.0</td>\n",
       "      <td>37.0</td>\n",
       "    </tr>\n",
       "    <tr>\n",
       "      <th>1</th>\n",
       "      <td>1</td>\n",
       "      <td>0</td>\n",
       "      <td>0</td>\n",
       "      <td>112500.0</td>\n",
       "      <td>652500.0</td>\n",
       "      <td>21177.0</td>\n",
       "      <td>5</td>\n",
       "      <td>1</td>\n",
       "      <td>1</td>\n",
       "      <td>-679</td>\n",
       "      <td>3</td>\n",
       "      <td>3.0</td>\n",
       "      <td>0.651862</td>\n",
       "      <td>0.0</td>\n",
       "      <td>27.0</td>\n",
       "    </tr>\n",
       "    <tr>\n",
       "      <th>2</th>\n",
       "      <td>1</td>\n",
       "      <td>0</td>\n",
       "      <td>0</td>\n",
       "      <td>67500.0</td>\n",
       "      <td>80865.0</td>\n",
       "      <td>5881.5</td>\n",
       "      <td>5</td>\n",
       "      <td>4</td>\n",
       "      <td>1</td>\n",
       "      <td>-2717</td>\n",
       "      <td>8</td>\n",
       "      <td>2.0</td>\n",
       "      <td>0.715042</td>\n",
       "      <td>0.0</td>\n",
       "      <td>36.0</td>\n",
       "    </tr>\n",
       "    <tr>\n",
       "      <th>3</th>\n",
       "      <td>1</td>\n",
       "      <td>0</td>\n",
       "      <td>1</td>\n",
       "      <td>225000.0</td>\n",
       "      <td>918468.0</td>\n",
       "      <td>28966.5</td>\n",
       "      <td>5</td>\n",
       "      <td>4</td>\n",
       "      <td>1</td>\n",
       "      <td>-3028</td>\n",
       "      <td>4</td>\n",
       "      <td>3.0</td>\n",
       "      <td>0.566907</td>\n",
       "      <td>0.0</td>\n",
       "      <td>38.0</td>\n",
       "    </tr>\n",
       "    <tr>\n",
       "      <th>4</th>\n",
       "      <td>1</td>\n",
       "      <td>0</td>\n",
       "      <td>0</td>\n",
       "      <td>108000.0</td>\n",
       "      <td>509602.5</td>\n",
       "      <td>26149.5</td>\n",
       "      <td>5</td>\n",
       "      <td>4</td>\n",
       "      <td>1</td>\n",
       "      <td>-1317</td>\n",
       "      <td>4</td>\n",
       "      <td>2.0</td>\n",
       "      <td>0.236378</td>\n",
       "      <td>0.0</td>\n",
       "      <td>35.0</td>\n",
       "    </tr>\n",
       "  </tbody>\n",
       "</table>\n",
       "</div>"
      ],
      "text/plain": [
       "   STATUS  NAME_CONTRACT_TYPE  FLAG_OWN_CAR  AMT_INCOME_TOTAL  AMT_CREDIT  \\\n",
       "0       1                   0             1          171000.0   1560726.0   \n",
       "1       1                   0             0          112500.0    652500.0   \n",
       "2       1                   0             0           67500.0     80865.0   \n",
       "3       1                   0             1          225000.0    918468.0   \n",
       "4       1                   0             0          108000.0    509602.5   \n",
       "\n",
       "   AMT_ANNUITY  NAME_INCOME_TYPE  NAME_EDUCATION_TYPE  NAME_FAMILY_STATUS  \\\n",
       "0      41301.0                 1                    1                   1   \n",
       "1      21177.0                 5                    1                   1   \n",
       "2       5881.5                 5                    4                   1   \n",
       "3      28966.5                 5                    4                   1   \n",
       "4      26149.5                 5                    4                   1   \n",
       "\n",
       "   DAYS_EMPLOYED  OCCUPATION_TYPE  CNT_FAM_MEMBERS  EXT_SOURCE_2  \\\n",
       "0          -3130                0              3.0      0.724000   \n",
       "1           -679                3              3.0      0.651862   \n",
       "2          -2717                8              2.0      0.715042   \n",
       "3          -3028                4              3.0      0.566907   \n",
       "4          -1317                4              2.0      0.236378   \n",
       "\n",
       "   DEF_60_CNT_SOCIAL_CIRCLE   age  \n",
       "0                       0.0  37.0  \n",
       "1                       0.0  27.0  \n",
       "2                       0.0  36.0  \n",
       "3                       0.0  38.0  \n",
       "4                       0.0  35.0  "
      ]
     },
     "execution_count": 690,
     "metadata": {},
     "output_type": "execute_result"
    }
   ],
   "source": [
    "print(df.shape)\n",
    "df.head()"
   ]
  },
  {
   "cell_type": "markdown",
   "metadata": {},
   "source": [
    "# Adjust Occupation Type"
   ]
  },
  {
   "cell_type": "code",
   "execution_count": 691,
   "metadata": {},
   "outputs": [
    {
     "data": {
      "text/plain": [
       "0      4800\n",
       "1      1179\n",
       "2      2459\n",
       "3     13653\n",
       "4      8063\n",
       "5       279\n",
       "6      5159\n",
       "7       310\n",
       "8     25203\n",
       "9       923\n",
       "10     9875\n",
       "11     3583\n",
       "12    18883\n",
       "13     1300\n",
       "14      402\n",
       "15    15099\n",
       "16      651\n",
       "17     2157\n",
       "18      586\n",
       "Name: OCCUPATION_TYPE, dtype: int64"
      ]
     },
     "execution_count": 691,
     "metadata": {},
     "output_type": "execute_result"
    }
   ],
   "source": [
    "df[\"OCCUPATION_TYPE\"].value_counts().sort_index()"
   ]
  },
  {
   "cell_type": "code",
   "execution_count": 692,
   "metadata": {},
   "outputs": [
    {
     "name": "stdout",
     "output_type": "stream",
     "text": [
      "[INFO] creating woe binning ...\n",
      "Binning on 114564 rows and 15 columns in 00:00:12\n"
     ]
    },
    {
     "data": {
      "text/plain": [
       "{'OCCUPATION_TYPE': <Figure size 432x288 with 2 Axes>}"
      ]
     },
     "execution_count": 692,
     "metadata": {},
     "output_type": "execute_result"
    },
    {
     "data": {
      "image/png": "[encoded data removed]",
      "text/plain": [
       "<Figure size 432x288 with 2 Axes>"
      ]
     },
     "metadata": {
      "needs_background": "light"
     },
     "output_type": "display_data"
    }
   ],
   "source": [
    "#adjust the bins\n",
    "breaks_adj = {'OCCUPATION_TYPE' : [1, 4, 15]}\n",
    "bins2 = sc.woebin(df, y='STATUS',breaks_list=breaks_adj, positive=\"bad|0\")\n",
    "# bins2 = sc.woebin(df, y='STATUS',breaks_list=breaks_adj)\n",
    "sc.woebin_plot(bins2['OCCUPATION_TYPE'])"
   ]
  },
  {
   "cell_type": "markdown",
   "metadata": {},
   "source": [
    "# Adjust income type"
   ]
  },
  {
   "cell_type": "code",
   "execution_count": 693,
   "metadata": {},
   "outputs": [
    {
     "data": {
      "text/plain": [
       "0        1\n",
       "1    32204\n",
       "2      698\n",
       "3    10068\n",
       "4        6\n",
       "5    71587\n",
       "Name: NAME_INCOME_TYPE, dtype: int64"
      ]
     },
     "execution_count": 693,
     "metadata": {},
     "output_type": "execute_result"
    }
   ],
   "source": [
    "df[\"NAME_INCOME_TYPE\"].value_counts().sort_index()"
   ]
  },
  {
   "cell_type": "code",
   "execution_count": 694,
   "metadata": {},
   "outputs": [
    {
     "name": "stdout",
     "output_type": "stream",
     "text": [
      "[INFO] creating woe binning ...\n",
      "Binning on 114564 rows and 15 columns in 00:00:13\n"
     ]
    },
    {
     "data": {
      "text/plain": [
       "{'NAME_INCOME_TYPE': <Figure size 432x288 with 2 Axes>}"
      ]
     },
     "execution_count": 694,
     "metadata": {},
     "output_type": "execute_result"
    },
    {
     "data": {
      "image/png": "[encoded data removed]",
      "text/plain": [
       "<Figure size 432x288 with 2 Axes>"
      ]
     },
     "metadata": {
      "needs_background": "light"
     },
     "output_type": "display_data"
    }
   ],
   "source": [
    "#adjust the bins\n",
    "breaks_adj = {'NAME_INCOME_TYPE' : [0,2,5]}\n",
    "bins3 = sc.woebin(df, y='STATUS',breaks_list=breaks_adj, positive=\"bad|0\")\n",
    "# bins3 = sc.woebin(df, y='STATUS',breaks_list=breaks_adj)\n",
    "sc.woebin_plot(bins3['NAME_INCOME_TYPE'])"
   ]
  },
  {
   "cell_type": "markdown",
   "metadata": {},
   "source": [
    "# Adjust name education type"
   ]
  },
  {
   "cell_type": "code",
   "execution_count": 695,
   "metadata": {},
   "outputs": [
    {
     "data": {
      "text/plain": [
       "0       64\n",
       "1    34483\n",
       "2     4757\n",
       "3     1184\n",
       "4    74076\n",
       "Name: NAME_EDUCATION_TYPE, dtype: int64"
      ]
     },
     "execution_count": 695,
     "metadata": {},
     "output_type": "execute_result"
    }
   ],
   "source": [
    "df[\"NAME_EDUCATION_TYPE\"].value_counts().sort_index()"
   ]
  },
  {
   "cell_type": "code",
   "execution_count": 696,
   "metadata": {},
   "outputs": [
    {
     "name": "stdout",
     "output_type": "stream",
     "text": [
      "[INFO] creating woe binning ...\n",
      "Binning on 114564 rows and 15 columns in 00:00:12\n"
     ]
    },
    {
     "data": {
      "text/plain": [
       "{'NAME_EDUCATION_TYPE': <Figure size 432x288 with 2 Axes>}"
      ]
     },
     "execution_count": 696,
     "metadata": {},
     "output_type": "execute_result"
    },
    {
     "data": {
      "image/png": "[encoded data removed]",
      "text/plain": [
       "<Figure size 432x288 with 2 Axes>"
      ]
     },
     "metadata": {
      "needs_background": "light"
     },
     "output_type": "display_data"
    }
   ],
   "source": [
    "#adjust the bins\n",
    "breaks_adj = {'NAME_EDUCATION_TYPE' : [0,2,3]}\n",
    "bins4 = sc.woebin(df, y='STATUS',breaks_list=breaks_adj, positive=\"bad|0\")\n",
    "# bins4 = sc.woebin(df, y='STATUS',breaks_list=breaks_adj)\n",
    "sc.woebin_plot(bins4['NAME_EDUCATION_TYPE'])"
   ]
  },
  {
   "cell_type": "markdown",
   "metadata": {},
   "source": [
    "# Adjust amt income total"
   ]
  },
  {
   "cell_type": "code",
   "execution_count": 697,
   "metadata": {},
   "outputs": [
    {
     "data": {
      "text/plain": [
       "26550.0         1\n",
       "27000.0        15\n",
       "27900.0         2\n",
       "28723.5         1\n",
       "29250.0         4\n",
       "               ..\n",
       "3375000.0       1\n",
       "3600000.0       2\n",
       "3950059.5       1\n",
       "4500000.0       1\n",
       "117000000.0     1\n",
       "Name: AMT_INCOME_TOTAL, Length: 1172, dtype: int64"
      ]
     },
     "execution_count": 697,
     "metadata": {},
     "output_type": "execute_result"
    }
   ],
   "source": [
    "df[\"AMT_INCOME_TOTAL\"].value_counts().sort_index()"
   ]
  },
  {
   "cell_type": "code",
   "execution_count": 698,
   "metadata": {},
   "outputs": [
    {
     "name": "stdout",
     "output_type": "stream",
     "text": [
      "[INFO] creating woe binning ...\n",
      "Binning on 114564 rows and 15 columns in 00:00:11\n"
     ]
    },
    {
     "data": {
      "text/plain": [
       "{'AMT_INCOME_TOTAL': <Figure size 432x288 with 2 Axes>}"
      ]
     },
     "execution_count": 698,
     "metadata": {},
     "output_type": "execute_result"
    },
    {
     "data": {
      "image/png": "[encoded data removed]",
      "text/plain": [
       "<Figure size 432x288 with 2 Axes>"
      ]
     },
     "metadata": {
      "needs_background": "light"
     },
     "output_type": "display_data"
    }
   ],
   "source": [
    "#adjust the bins\n",
    "breaks_adj = {'AMT_INCOME_TOTAL' : [0,30000, 200000, 330000]}\n",
    "bins5 = sc.woebin(df, y='STATUS',breaks_list=breaks_adj, positive=\"bad|0\")\n",
    "# bins5 = sc.woebin(df, y='STATUS',breaks_list=breaks_adj)\n",
    "sc.woebin_plot(bins5['AMT_INCOME_TOTAL'])"
   ]
  },
  {
   "cell_type": "markdown",
   "metadata": {},
   "source": [
    "# Adjust days employed"
   ]
  },
  {
   "cell_type": "code",
   "execution_count": 699,
   "metadata": {},
   "outputs": [
    {
     "data": {
      "text/plain": [
       "-9136        1\n",
       "-9123        1\n",
       "-9112        1\n",
       "-9100        1\n",
       "-9039        1\n",
       "          ... \n",
       "-8           1\n",
       "-5           1\n",
       "-4           2\n",
       " 0           2\n",
       " 365243    697\n",
       "Name: DAYS_EMPLOYED, Length: 7976, dtype: int64"
      ]
     },
     "execution_count": 699,
     "metadata": {},
     "output_type": "execute_result"
    }
   ],
   "source": [
    "df[\"DAYS_EMPLOYED\"].value_counts().sort_index()"
   ]
  },
  {
   "cell_type": "code",
   "execution_count": 700,
   "metadata": {},
   "outputs": [
    {
     "name": "stdout",
     "output_type": "stream",
     "text": [
      "[INFO] creating woe binning ...\n",
      "Binning on 114564 rows and 15 columns in 00:00:12\n"
     ]
    },
    {
     "data": {
      "text/plain": [
       "{'DAYS_EMPLOYED': <Figure size 432x288 with 2 Axes>}"
      ]
     },
     "execution_count": 700,
     "metadata": {},
     "output_type": "execute_result"
    },
    {
     "data": {
      "image/png": "[encoded data removed]",
      "text/plain": [
       "<Figure size 432x288 with 2 Axes>"
      ]
     },
     "metadata": {
      "needs_background": "light"
     },
     "output_type": "display_data"
    }
   ],
   "source": [
    "#adjust the bins\n",
    "breaks_adj = {'DAYS_EMPLOYED' : [-5000,-3500, -2200, -1700, -1000]}\n",
    "bins6 = sc.woebin(df, y='STATUS',breaks_list=breaks_adj, positive=\"bad|0\")\n",
    "# bins6 = sc.woebin(df, y='STATUS',breaks_list=breaks_adj)\n",
    "sc.woebin_plot(bins6['DAYS_EMPLOYED'])"
   ]
  },
  {
   "cell_type": "markdown",
   "metadata": {},
   "source": [
    "# Adjust amt annuity"
   ]
  },
  {
   "cell_type": "code",
   "execution_count": 701,
   "metadata": {},
   "outputs": [
    {
     "data": {
      "text/plain": [
       "0.0          5\n",
       "2187.0       1\n",
       "2205.0       1\n",
       "2754.0       1\n",
       "2781.0       2\n",
       "            ..\n",
       "213291.0     3\n",
       "215500.5     1\n",
       "220297.5     1\n",
       "225000.0    10\n",
       "258025.5     1\n",
       "Name: AMT_ANNUITY, Length: 10881, dtype: int64"
      ]
     },
     "execution_count": 701,
     "metadata": {},
     "output_type": "execute_result"
    }
   ],
   "source": [
    "df[\"AMT_ANNUITY\"].value_counts().sort_index()"
   ]
  },
  {
   "cell_type": "code",
   "execution_count": 702,
   "metadata": {},
   "outputs": [
    {
     "name": "stdout",
     "output_type": "stream",
     "text": [
      "[INFO] creating woe binning ...\n",
      "Binning on 114564 rows and 15 columns in 00:00:12\n"
     ]
    },
    {
     "data": {
      "text/plain": [
       "{'AMT_ANNUITY': <Figure size 432x288 with 2 Axes>}"
      ]
     },
     "execution_count": 702,
     "metadata": {},
     "output_type": "execute_result"
    },
    {
     "data": {
      "image/png": "[encoded data removed]",
      "text/plain": [
       "<Figure size 432x288 with 2 Axes>"
      ]
     },
     "metadata": {
      "needs_background": "light"
     },
     "output_type": "display_data"
    }
   ],
   "source": [
    "#adjust the bins\n",
    "breaks_adj = {'AMT_ANNUITY' : [4000, 7000, 16000]}\n",
    "bins7 = sc.woebin(df, y='STATUS',breaks_list=breaks_adj, positive=\"bad|0\")\n",
    "# bins7 = sc.woebin(df, y='STATUS',breaks_list=breaks_adj)\n",
    "sc.woebin_plot(bins7['AMT_ANNUITY'])"
   ]
  },
  {
   "cell_type": "markdown",
   "metadata": {},
   "source": [
    "# Adjust ext source 2"
   ]
  },
  {
   "cell_type": "code",
   "execution_count": 703,
   "metadata": {},
   "outputs": [
    {
     "data": {
      "text/plain": [
       "0.000001    1\n",
       "0.000006    1\n",
       "0.000010    1\n",
       "0.000017    1\n",
       "0.000017    1\n",
       "           ..\n",
       "0.816462    1\n",
       "0.816504    1\n",
       "0.817873    1\n",
       "0.821714    1\n",
       "0.855000    9\n",
       "Name: EXT_SOURCE_2, Length: 72580, dtype: int64"
      ]
     },
     "execution_count": 703,
     "metadata": {},
     "output_type": "execute_result"
    }
   ],
   "source": [
    "df[\"EXT_SOURCE_2\"].value_counts().sort_index()"
   ]
  },
  {
   "cell_type": "code",
   "execution_count": 704,
   "metadata": {},
   "outputs": [
    {
     "name": "stdout",
     "output_type": "stream",
     "text": [
      "[INFO] creating woe binning ...\n",
      "Binning on 114564 rows and 15 columns in 00:00:11\n"
     ]
    },
    {
     "data": {
      "text/plain": [
       "{'EXT_SOURCE_2': <Figure size 432x288 with 2 Axes>}"
      ]
     },
     "execution_count": 704,
     "metadata": {},
     "output_type": "execute_result"
    },
    {
     "data": {
      "image/png": "[encoded data removed]",
      "text/plain": [
       "<Figure size 432x288 with 2 Axes>"
      ]
     },
     "metadata": {
      "needs_background": "light"
     },
     "output_type": "display_data"
    }
   ],
   "source": [
    "#adjust the bins\n",
    "breaks_adj = {'EXT_SOURCE_2' : [0.1,0.15,0.20,0.44,0.6,0.80]}\n",
    "bins8 = sc.woebin(df, y='STATUS',breaks_list=breaks_adj, positive=\"bad|0\")\n",
    "# bins8 = sc.woebin(df, y='STATUS',breaks_list=breaks_adj)\n",
    "sc.woebin_plot(bins8['EXT_SOURCE_2'])"
   ]
  },
  {
   "cell_type": "code",
   "execution_count": 705,
   "metadata": {},
   "outputs": [
    {
     "data": {
      "text/plain": [
       "45000.0      79\n",
       "47970.0      60\n",
       "48519.0       1\n",
       "49455.0       4\n",
       "49500.0      15\n",
       "             ..\n",
       "3312162.0     1\n",
       "3375000.0     3\n",
       "3600000.0     2\n",
       "3860019.0     1\n",
       "4050000.0     5\n",
       "Name: AMT_CREDIT, Length: 4124, dtype: int64"
      ]
     },
     "execution_count": 705,
     "metadata": {},
     "output_type": "execute_result"
    }
   ],
   "source": [
    "df[\"AMT_CREDIT\"].value_counts().sort_index()"
   ]
  },
  {
   "cell_type": "code",
   "execution_count": 706,
   "metadata": {},
   "outputs": [
    {
     "name": "stdout",
     "output_type": "stream",
     "text": [
      "[INFO] creating woe binning ...\n",
      "Binning on 114564 rows and 15 columns in 00:00:11\n"
     ]
    },
    {
     "data": {
      "text/plain": [
       "{'AMT_CREDIT': <Figure size 432x288 with 2 Axes>}"
      ]
     },
     "execution_count": 706,
     "metadata": {},
     "output_type": "execute_result"
    },
    {
     "data": {
      "image/png": "[encoded data removed]",
      "text/plain": [
       "<Figure size 432x288 with 2 Axes>"
      ]
     },
     "metadata": {
      "needs_background": "light"
     },
     "output_type": "display_data"
    }
   ],
   "source": [
    "#adjust the bins\n",
    "breaks_adj = {'AMT_CREDIT' : [91000,150000,200000,300000]}\n",
    "bins9 = sc.woebin(df, y='STATUS',breaks_list=breaks_adj, positive=\"bad|0\")\n",
    "# bins9 = sc.woebin(df, y='STATUS',breaks_list=breaks_adj)\n",
    "sc.woebin_plot(bins9['AMT_CREDIT'])"
   ]
  },
  {
   "cell_type": "code",
   "execution_count": 707,
   "metadata": {},
   "outputs": [
    {
     "data": {
      "text/plain": [
       "1.0     15571\n",
       "2.0     45360\n",
       "3.0     32181\n",
       "4.0     18466\n",
       "5.0      2639\n",
       "6.0       270\n",
       "7.0        54\n",
       "8.0        11\n",
       "9.0         2\n",
       "10.0        3\n",
       "11.0        1\n",
       "12.0        1\n",
       "14.0        2\n",
       "16.0        1\n",
       "20.0        2\n",
       "Name: CNT_FAM_MEMBERS, dtype: int64"
      ]
     },
     "execution_count": 707,
     "metadata": {},
     "output_type": "execute_result"
    }
   ],
   "source": [
    "df[\"CNT_FAM_MEMBERS\"].value_counts().sort_index()"
   ]
  },
  {
   "cell_type": "code",
   "execution_count": 708,
   "metadata": {},
   "outputs": [
    {
     "name": "stdout",
     "output_type": "stream",
     "text": [
      "[INFO] creating woe binning ...\n",
      "Binning on 114564 rows and 15 columns in 00:00:12\n"
     ]
    },
    {
     "data": {
      "text/plain": [
       "{'CNT_FAM_MEMBERS': <Figure size 432x288 with 2 Axes>}"
      ]
     },
     "execution_count": 708,
     "metadata": {},
     "output_type": "execute_result"
    },
    {
     "data": {
      "image/png": "[encoded data removed]",
      "text/plain": [
       "<Figure size 432x288 with 2 Axes>"
      ]
     },
     "metadata": {
      "needs_background": "light"
     },
     "output_type": "display_data"
    }
   ],
   "source": [
    "#adjust the bins\n",
    "breaks_adj = {'CNT_FAM_MEMBERS' : [1,2,3]}\n",
    "bins10 = sc.woebin(df, y='STATUS',breaks_list=breaks_adj, positive=\"bad|0\")\n",
    "# bins10 = sc.woebin(df, y='STATUS',breaks_list=breaks_adj)\n",
    "sc.woebin_plot(bins10['CNT_FAM_MEMBERS'])"
   ]
  },
  {
   "cell_type": "code",
   "execution_count": 709,
   "metadata": {},
   "outputs": [
    {
     "data": {
      "text/plain": [
       "0    12185\n",
       "1    78550\n",
       "2     6580\n",
       "3    16340\n",
       "4      909\n",
       "Name: NAME_FAMILY_STATUS, dtype: int64"
      ]
     },
     "execution_count": 709,
     "metadata": {},
     "output_type": "execute_result"
    }
   ],
   "source": [
    "df[\"NAME_FAMILY_STATUS\"].value_counts().sort_index()"
   ]
  },
  {
   "cell_type": "code",
   "execution_count": 710,
   "metadata": {},
   "outputs": [
    {
     "name": "stdout",
     "output_type": "stream",
     "text": [
      "[INFO] creating woe binning ...\n",
      "Binning on 114564 rows and 15 columns in 00:00:12\n"
     ]
    },
    {
     "data": {
      "text/plain": [
       "{'NAME_FAMILY_STATUS': <Figure size 432x288 with 2 Axes>}"
      ]
     },
     "execution_count": 710,
     "metadata": {},
     "output_type": "execute_result"
    },
    {
     "data": {
      "image/png": "[encoded data removed]",
      "text/plain": [
       "<Figure size 432x288 with 2 Axes>"
      ]
     },
     "metadata": {
      "needs_background": "light"
     },
     "output_type": "display_data"
    }
   ],
   "source": [
    "#adjust the bins\n",
    "breaks_adj = {'NAME_FAMILY_STATUS' : [0,3]}\n",
    "bins11 = sc.woebin(df, y='STATUS',breaks_list=breaks_adj, positive=\"bad|0\")\n",
    "# bins11 = sc.woebin(df, y='STATUS',breaks_list=breaks_adj)\n",
    "sc.woebin_plot(bins11['NAME_FAMILY_STATUS'])"
   ]
  },
  {
   "cell_type": "code",
   "execution_count": 711,
   "metadata": {},
   "outputs": [
    {
     "data": {
      "text/plain": [
       "27.0    7061\n",
       "28.0    6700\n",
       "29.0    6491\n",
       "30.0    6636\n",
       "31.0    7274\n",
       "32.0    6833\n",
       "33.0    6789\n",
       "34.0    6675\n",
       "35.0    6824\n",
       "36.0    7512\n",
       "37.0    7779\n",
       "38.0    7860\n",
       "39.0    7682\n",
       "40.0    7677\n",
       "41.0    7500\n",
       "42.0    7271\n",
       "Name: age, dtype: int64"
      ]
     },
     "execution_count": 711,
     "metadata": {},
     "output_type": "execute_result"
    }
   ],
   "source": [
    "df[\"age\"].value_counts().sort_index()"
   ]
  },
  {
   "cell_type": "code",
   "execution_count": 712,
   "metadata": {},
   "outputs": [
    {
     "name": "stdout",
     "output_type": "stream",
     "text": [
      "[INFO] creating woe binning ...\n",
      "Binning on 114564 rows and 15 columns in 00:00:13\n"
     ]
    },
    {
     "data": {
      "text/plain": [
       "{'age': <Figure size 432x288 with 2 Axes>}"
      ]
     },
     "execution_count": 712,
     "metadata": {},
     "output_type": "execute_result"
    },
    {
     "data": {
      "image/png": "[encoded data removed]",
      "text/plain": [
       "<Figure size 432x288 with 2 Axes>"
      ]
     },
     "metadata": {
      "needs_background": "light"
     },
     "output_type": "display_data"
    }
   ],
   "source": [
    "#adjust the bins\n",
    "breaks_adj = {'age' : [27, 34, 40]}\n",
    "bins12 = sc.woebin(df, y='STATUS',breaks_list=breaks_adj, positive=\"bad|0\")\n",
    "# bins12 = sc.woebin(df, y='STATUS',breaks_list=breaks_adj)\n",
    "sc.woebin_plot(bins12['age'])"
   ]
  },
  {
   "cell_type": "code",
   "execution_count": 713,
   "metadata": {},
   "outputs": [
    {
     "data": {
      "text/plain": [
       "0    103860\n",
       "1     10704\n",
       "Name: NAME_CONTRACT_TYPE, dtype: int64"
      ]
     },
     "execution_count": 713,
     "metadata": {},
     "output_type": "execute_result"
    }
   ],
   "source": [
    "df[\"NAME_CONTRACT_TYPE\"].value_counts().sort_index()"
   ]
  },
  {
   "cell_type": "code",
   "execution_count": 714,
   "metadata": {},
   "outputs": [
    {
     "name": "stdout",
     "output_type": "stream",
     "text": [
      "[INFO] creating woe binning ...\n",
      "Binning on 114564 rows and 15 columns in 00:00:11\n"
     ]
    },
    {
     "data": {
      "text/plain": [
       "{'NAME_CONTRACT_TYPE': <Figure size 432x288 with 2 Axes>}"
      ]
     },
     "execution_count": 714,
     "metadata": {},
     "output_type": "execute_result"
    },
    {
     "data": {
      "image/png": "[encoded data removed]",
      "text/plain": [
       "<Figure size 432x288 with 2 Axes>"
      ]
     },
     "metadata": {
      "needs_background": "light"
     },
     "output_type": "display_data"
    }
   ],
   "source": [
    "#adjust the bins\n",
    "breaks_adj = {'NAME_CONTRACT_TYPE' : [0,1]}\n",
    "bins13 = sc.woebin(df, y='STATUS',breaks_list=breaks_adj, positive=\"bad|0\")\n",
    "# bins13 = sc.woebin(df, y='STATUS',breaks_list=breaks_adj)\n",
    "sc.woebin_plot(bins13['NAME_CONTRACT_TYPE'])"
   ]
  },
  {
   "cell_type": "code",
   "execution_count": 715,
   "metadata": {},
   "outputs": [
    {
     "data": {
      "text/plain": [
       "0.0     104874\n",
       "1.0       8268\n",
       "2.0       1154\n",
       "3.0        222\n",
       "4.0         39\n",
       "5.0          5\n",
       "6.0          1\n",
       "24.0         1\n",
       "Name: DEF_60_CNT_SOCIAL_CIRCLE, dtype: int64"
      ]
     },
     "execution_count": 715,
     "metadata": {},
     "output_type": "execute_result"
    }
   ],
   "source": [
    "df[\"DEF_60_CNT_SOCIAL_CIRCLE\"].value_counts().sort_index()"
   ]
  },
  {
   "cell_type": "code",
   "execution_count": 716,
   "metadata": {},
   "outputs": [
    {
     "name": "stdout",
     "output_type": "stream",
     "text": [
      "[INFO] creating woe binning ...\n",
      "Binning on 114564 rows and 15 columns in 00:00:12\n"
     ]
    },
    {
     "data": {
      "text/plain": [
       "{'DEF_60_CNT_SOCIAL_CIRCLE': <Figure size 432x288 with 2 Axes>}"
      ]
     },
     "execution_count": 716,
     "metadata": {},
     "output_type": "execute_result"
    },
    {
     "data": {
      "image/png": "[encoded data removed]",
      "text/plain": [
       "<Figure size 432x288 with 2 Axes>"
      ]
     },
     "metadata": {
      "needs_background": "light"
     },
     "output_type": "display_data"
    }
   ],
   "source": [
    "#adjust the bins\n",
    "breaks_adj = {'DEF_60_CNT_SOCIAL_CIRCLE' : [0,1]}\n",
    "bins14 = sc.woebin(df, y='STATUS',breaks_list=breaks_adj, positive=\"bad|0\")\n",
    "# bins14 = sc.woebin(df, y='STATUS',breaks_list=breaks_adj)\n",
    "sc.woebin_plot(bins14['DEF_60_CNT_SOCIAL_CIRCLE'])"
   ]
  },
  {
   "cell_type": "code",
   "execution_count": 717,
   "metadata": {},
   "outputs": [
    {
     "data": {
      "text/plain": [
       "0    67448\n",
       "1    47116\n",
       "Name: FLAG_OWN_CAR, dtype: int64"
      ]
     },
     "execution_count": 717,
     "metadata": {},
     "output_type": "execute_result"
    }
   ],
   "source": [
    "df[\"FLAG_OWN_CAR\"].value_counts().sort_index()"
   ]
  },
  {
   "cell_type": "code",
   "execution_count": 718,
   "metadata": {},
   "outputs": [
    {
     "name": "stdout",
     "output_type": "stream",
     "text": [
      "[INFO] creating woe binning ...\n",
      "Binning on 114564 rows and 15 columns in 00:00:13\n"
     ]
    },
    {
     "data": {
      "text/plain": [
       "{'FLAG_OWN_CAR': <Figure size 432x288 with 2 Axes>}"
      ]
     },
     "execution_count": 718,
     "metadata": {},
     "output_type": "execute_result"
    },
    {
     "data": {
      "image/png": "[encoded data removed]",
      "text/plain": [
       "<Figure size 432x288 with 2 Axes>"
      ]
     },
     "metadata": {
      "needs_background": "light"
     },
     "output_type": "display_data"
    }
   ],
   "source": [
    "#adjust the bins\n",
    "breaks_adj = {'FLAG_OWN_CAR' : [0,1]}\n",
    "bins15 = sc.woebin(df, y='STATUS',breaks_list=breaks_adj, positive=\"bad|0\")\n",
    "# bins15 = sc.woebin(df, y='STATUS',breaks_list=breaks_adj)\n",
    "sc.woebin_plot(bins15['FLAG_OWN_CAR'])"
   ]
  },
  {
   "cell_type": "code",
   "execution_count": 796,
   "metadata": {},
   "outputs": [
    {
     "name": "stdout",
     "output_type": "stream",
     "text": [
      "[INFO] creating woe binning ...\n"
     ]
    }
   ],
   "source": [
    "breaks_adj = {\n",
    "       'OCCUPATION_TYPE' : [1, 4, 15],\n",
    "       'NAME_INCOME_TYPE' : [0,2,5],\n",
    "        'NAME_EDUCATION_TYPE' : [0,2,3],\n",
    "        'AMT_INCOME_TOTAL' : [0,30000, 200000, 330000],\n",
    "        'DAYS_EMPLOYED' : [-5000,-3500, -2200, -1700, -1000],\n",
    "        'AMT_ANNUITY' : [4000, 7000, 16000],\n",
    "        'EXT_SOURCE_2' : [0.1,0.15,0.20,0.44,0.6,0.80],\n",
    "        'AMT_CREDIT' : [91000,150000,200000,300000],\n",
    "        'CNT_FAM_MEMBERS' : [1,2,3],\n",
    "    'NAME_FAMILY_STATUS' : [0,3],\n",
    "        'age' : [27,34,40],\n",
    "        'DEF_60_CNT_SOCIAL_CIRCLE' : [0,1],\n",
    "        'FLAG_OWN_CAR': [0,1]\n",
    "        \n",
    "    }\n",
    "bins_final = sc.woebin(df, y='STATUS',breaks_list=breaks_adj, positive=\"bad|0\")"
   ]
  },
  {
   "cell_type": "code",
   "execution_count": 797,
   "metadata": {},
   "outputs": [
    {
     "name": "stdout",
     "output_type": "stream",
     "text": [
      "(91651, 15)\n",
      "(22913, 15)\n"
     ]
    }
   ],
   "source": [
    "# sample code\n",
    "train, test = sc.split_df(df, 'STATUS', ratio=0.8).values()\n",
    "print(train.shape)\n",
    "print(test.shape)"
   ]
  },
  {
   "cell_type": "code",
   "execution_count": 798,
   "metadata": {},
   "outputs": [
    {
     "name": "stdout",
     "output_type": "stream",
     "text": [
      "Proportion of positive cases in train set: 0.9082497735976695\n",
      "Proportion of positive cases in test set: 0.9082616855060446\n"
     ]
    }
   ],
   "source": [
    "print('Proportion of positive cases in train set:', train['STATUS'].mean())\n",
    "print('Proportion of positive cases in test set:', test['STATUS'].mean())"
   ]
  },
  {
   "cell_type": "code",
   "execution_count": 801,
   "metadata": {},
   "outputs": [
    {
     "name": "stdout",
     "output_type": "stream",
     "text": [
      "[INFO] converting into woe values ...\n",
      "[INFO] converting into woe values ...\n"
     ]
    }
   ],
   "source": [
    "train_woe = sc.woebin_ply(train, bins_final)\n",
    "test_woe = sc.woebin_ply(test, bins_final)"
   ]
  },
  {
   "cell_type": "code",
   "execution_count": 802,
   "metadata": {},
   "outputs": [],
   "source": [
    "y_train = train_woe.loc[:,'STATUS']\n",
    "X_train = train_woe.loc[:,train_woe.columns != 'STATUS']\n",
    "y_test = test_woe.loc[:,'STATUS']\n",
    "X_test = test_woe.loc[:,test_woe.columns != 'STATUS']"
   ]
  },
  {
   "cell_type": "code",
   "execution_count": 803,
   "metadata": {},
   "outputs": [
    {
     "name": "stdout",
     "output_type": "stream",
     "text": [
      "[[-0.40454267 -0.08231904 -0.8634496  -0.77774177 -0.74817737 -0.85806843\n",
      "  -1.16376288 -0.12020593 -0.89200911 -0.70434699 -0.86274736 -0.61799204\n",
      "  -0.48944096 -0.59820361]]\n",
      "[0.00395877]\n"
     ]
    }
   ],
   "source": [
    "#create a logistic regression model object\n",
    "lr = LogisticRegression(class_weight='balanced', random_state=7)\n",
    "lr.fit(X_train, y_train)\n",
    "print(lr.coef_)\n",
    "print(lr.intercept_)"
   ]
  },
  {
   "cell_type": "markdown",
   "metadata": {},
   "source": [
    "1 is good\n",
    "0 is default"
   ]
  },
  {
   "cell_type": "code",
   "execution_count": 804,
   "metadata": {},
   "outputs": [
    {
     "data": {
      "text/plain": [
       "0.6493693536420373"
      ]
     },
     "execution_count": 804,
     "metadata": {},
     "output_type": "execute_result"
    }
   ],
   "source": [
    "accuracy = lr.score(X_test, y_test)\n",
    "accuracy"
   ]
  },
  {
   "cell_type": "code",
   "execution_count": 805,
   "metadata": {},
   "outputs": [
    {
     "data": {
      "text/plain": [
       "1    20811\n",
       "0     2102\n",
       "Name: STATUS, dtype: int64"
      ]
     },
     "execution_count": 805,
     "metadata": {},
     "output_type": "execute_result"
    }
   ],
   "source": [
    "y_test.value_counts()"
   ]
  },
  {
   "cell_type": "code",
   "execution_count": 810,
   "metadata": {},
   "outputs": [],
   "source": [
    "# make predictions on the test set\n",
    "y_pred = lr.predict(X_test)"
   ]
  },
  {
   "cell_type": "code",
   "execution_count": 813,
   "metadata": {},
   "outputs": [
    {
     "name": "stdout",
     "output_type": "stream",
     "text": [
      "         Predict Good  Predict Default\n",
      "Good            13573             7238\n",
      "Default           796             1306\n"
     ]
    }
   ],
   "source": [
    "# assume y_true and y_pred are the true and predicted labels, respectively\n",
    "cm = confusion_matrix(y_test, y_pred, labels=[1,0])\n",
    "\n",
    "# create a dataframe from the confusion matrix\n",
    "df_cm = pd.DataFrame(cm, index=['Good', 'Default'], columns=['Predict Good', 'Predict Default'])\n",
    "\n",
    "\n",
    "# print the dataframe\n",
    "print(df_cm)"
   ]
  },
  {
   "cell_type": "markdown",
   "metadata": {},
   "source": [
    "True positive (TP)\n",
    "The model predicts a good customer, and the client did not default <br>\n",
    "False positive (FP)\n",
    "The model predicts a good customer, but the client defaulted<br>\n",
    "True negative (TN) \n",
    "The model predicts a default, and the client defaulted<br>\n",
    "False negative (FN)\n",
    "The model predicts a default, but the client did not default"
   ]
  },
  {
   "cell_type": "code",
   "execution_count": 815,
   "metadata": {},
   "outputs": [
    {
     "name": "stdout",
     "output_type": "stream",
     "text": [
      "13573 7238 796 1306\n",
      "Accuracy: 0.6493693536420373\n",
      "Precision: 0.9446029647157074\n",
      "Recall: 0.6522031617894383\n",
      "Specificity: 0.621313035204567\n",
      "F1: 0.7716316088686754\n"
     ]
    }
   ],
   "source": [
    "#import accuracy score from sklearn\n",
    "from sklearn.metrics import accuracy_score, recall_score, precision_score, f1_score, confusion_matrix\n",
    "tp, fn, fp, tn = confusion_matrix(y_test, y_pred, labels=[1,0]).ravel()\n",
    "print(tp,fn,fp,tn)\n",
    "\n",
    "accuracy = (tp + tn) / (tp + tn + fp + fn)\n",
    "precision = tp / (tp + fp) #Given that we predict positive, how often is it really positive\n",
    "recall = tp / (tp + fn) #How good at predicting positive\n",
    "f1 = 2 * (precision * recall) / (precision + recall)\n",
    "specificity = tn / (tn + fp) # How good at predicting negative?\n",
    "\n",
    "print(\"Accuracy:\", accuracy)\n",
    "print(\"Precision:\", precision)\n",
    "print(\"Recall:\", recall)\n",
    "print(\"Specificity:\", specificity) \n",
    "print(\"F1:\", f1)"
   ]
  },
  {
   "cell_type": "code",
   "execution_count": 820,
   "metadata": {},
   "outputs": [],
   "source": [
    "#import accuracy score from sklearn\n",
    "from sklearn.metrics import accuracy_score, recall_score, precision_score, f1_score, confusion_matrix\n",
    "def calculate(y_test,y_pred):\n",
    "    tp, fn, fp, tn = confusion_matrix(y_test, y_pred, labels=[1,0]).ravel()\n",
    "    return tn/(tn+fp)"
   ]
  },
  {
   "cell_type": "code",
   "execution_count": 821,
   "metadata": {},
   "outputs": [
    {
     "data": {
      "text/plain": [
       "199"
      ]
     },
     "execution_count": 821,
     "metadata": {},
     "output_type": "execute_result"
    }
   ],
   "source": [
    "len(numbers)"
   ]
  },
  {
   "cell_type": "code",
   "execution_count": 823,
   "metadata": {},
   "outputs": [],
   "source": [
    "numbers = []\n",
    "for i in range(1, 200):\n",
    "    numbers.append(i / 100)\n",
    "\n",
    "best_c = 1\n",
    "spec = 0.621313035204567"
   ]
  },
  {
   "cell_type": "code",
   "execution_count": 824,
   "metadata": {},
   "outputs": [],
   "source": [
    "for i in numbers:\n",
    "    lr = LogisticRegression(random_state=7,C= i, solver= 'liblinear', class_weight='balanced')\n",
    "    lr.fit(X_train, y_train)\n",
    "    y_pred = lr.predict(X_test)\n",
    "    res = calculate(y_test,y_pred)\n",
    "    if res > spec:\n",
    "        best_c=i\n",
    "        spec=res"
   ]
  },
  {
   "cell_type": "code",
   "execution_count": 825,
   "metadata": {},
   "outputs": [
    {
     "name": "stdout",
     "output_type": "stream",
     "text": [
      "0.42\n"
     ]
    }
   ],
   "source": [
    "print(best_c)"
   ]
  },
  {
   "cell_type": "code",
   "execution_count": 826,
   "metadata": {},
   "outputs": [
    {
     "name": "stdout",
     "output_type": "stream",
     "text": [
      "[[-0.41377222 -0.09159803 -0.85922562 -0.77533466 -0.74634404 -0.85728905\n",
      "  -1.14586529 -0.11994587 -0.89184634 -0.70380379 -0.84790758 -0.61495019\n",
      "  -0.48812632 -0.59668339]]\n",
      "[0.00398674]\n"
     ]
    }
   ],
   "source": [
    "#create a logistic regression model object\n",
    "lr = LogisticRegression(C=0.42,class_weight='balanced', solver='liblinear', random_state=7)\n",
    "lr.fit(X_train, y_train)\n",
    "print(lr.coef_)\n",
    "print(lr.intercept_)"
   ]
  },
  {
   "cell_type": "code",
   "execution_count": 828,
   "metadata": {},
   "outputs": [
    {
     "name": "stdout",
     "output_type": "stream",
     "text": [
      "         Predict Good  Predict Default\n",
      "Good            13572             7239\n",
      "Default           796             1306\n"
     ]
    }
   ],
   "source": [
    "# assume y_true and y_pred are the true and predicted labels, respectively\n",
    "cm = confusion_matrix(y_test, y_pred, labels=[1,0])\n",
    "\n",
    "# create a dataframe from the confusion matrix\n",
    "df_cm = pd.DataFrame(cm, index=['Good', 'Default'], columns=['Predict Good', 'Predict Default'])\n",
    "\n",
    "\n",
    "# print the dataframe\n",
    "print(df_cm)"
   ]
  },
  {
   "cell_type": "code",
   "execution_count": 830,
   "metadata": {},
   "outputs": [
    {
     "name": "stdout",
     "output_type": "stream",
     "text": [
      "13572 7239 796 1306\n",
      "Accuracy: 0.6493257102954655\n",
      "Precision: 0.9445991091314031\n",
      "Recall: 0.6521551102782183\n",
      "Specificity: 0.621313035204567\n",
      "F1: 0.7715966912078228\n"
     ]
    }
   ],
   "source": [
    "#import accuracy score from sklearn\n",
    "from sklearn.metrics import accuracy_score, recall_score, precision_score, f1_score, confusion_matrix\n",
    "tp, fn, fp, tn = confusion_matrix(y_test, y_pred, labels=[1,0]).ravel()\n",
    "print(tp,fn,fp,tn)\n",
    "\n",
    "accuracy = (tp + tn) / (tp + tn + fp + fn)\n",
    "precision = tp / (tp + fp) #Given that we predict positive, how often is it really positive\n",
    "recall = tp / (tp + fn) #How good at predicting positive\n",
    "f1 = 2 * (precision * recall) / (precision + recall)\n",
    "specificity = tn / (tn + fp) # How good at predicting negative?\n",
    "\n",
    "print(\"Accuracy:\", accuracy)\n",
    "print(\"Precision:\", precision)\n",
    "print(\"Recall:\", recall)\n",
    "print(\"Specificity:\", specificity) \n",
    "print(\"F1:\", f1)"
   ]
  },
  {
   "cell_type": "code",
   "execution_count": 831,
   "metadata": {},
   "outputs": [
    {
     "data": {
      "text/plain": [
       "Index(['AMT_ANNUITY_woe', 'NAME_FAMILY_STATUS_woe',\n",
       "       'DEF_60_CNT_SOCIAL_CIRCLE_woe', 'FLAG_OWN_CAR_woe',\n",
       "       'NAME_CONTRACT_TYPE_woe', 'DAYS_EMPLOYED_woe', 'AMT_CREDIT_woe',\n",
       "       'AMT_INCOME_TOTAL_woe', 'EXT_SOURCE_2_woe', 'NAME_EDUCATION_TYPE_woe',\n",
       "       'CNT_FAM_MEMBERS_woe', 'age_woe', 'OCCUPATION_TYPE_woe',\n",
       "       'NAME_INCOME_TYPE_woe'],\n",
       "      dtype='object')"
      ]
     },
     "execution_count": 831,
     "metadata": {},
     "output_type": "execute_result"
    }
   ],
   "source": [
    "X_train.columns"
   ]
  },
  {
   "cell_type": "code",
   "execution_count": 832,
   "metadata": {},
   "outputs": [
    {
     "name": "stdout",
     "output_type": "stream",
     "text": [
      "{'AMT_ANNUITY':       variable               bin  points\n",
      "0  AMT_ANNUITY     [-inf,4000.0)    29.0\n",
      "1  AMT_ANNUITY   [4000.0,7000.0)    32.0\n",
      "2  AMT_ANNUITY  [7000.0,16000.0)    35.0\n",
      "3  AMT_ANNUITY     [16000.0,inf)    37.0,\n",
      " 'AMT_CREDIT':       variable                  bin  points\n",
      "18  AMT_CREDIT       [-inf,91000.0)    22.0\n",
      "19  AMT_CREDIT   [91000.0,150000.0)    27.0\n",
      "20  AMT_CREDIT  [150000.0,200000.0)    32.0\n",
      "21  AMT_CREDIT  [200000.0,300000.0)    35.0\n",
      "22  AMT_CREDIT       [300000.0,inf)    38.0,\n",
      " 'AMT_INCOME_TOTAL':             variable                  bin  points\n",
      "23  AMT_INCOME_TOTAL       [-inf,30000.0)    38.0\n",
      "24  AMT_INCOME_TOTAL   [30000.0,200000.0)    37.0\n",
      "25  AMT_INCOME_TOTAL  [200000.0,330000.0)    36.0\n",
      "26  AMT_INCOME_TOTAL       [330000.0,inf)    35.0,\n",
      " 'CNT_FAM_MEMBERS':            variable         bin  points\n",
      "37  CNT_FAM_MEMBERS  [-inf,2.0)    40.0\n",
      "38  CNT_FAM_MEMBERS   [2.0,3.0)    38.0\n",
      "39  CNT_FAM_MEMBERS   [3.0,inf)    35.0,\n",
      " 'DAYS_EMPLOYED':          variable                bin  points\n",
      "12  DAYS_EMPLOYED     [-inf,-5000.0)    22.0\n",
      "13  DAYS_EMPLOYED  [-5000.0,-3500.0)    28.0\n",
      "14  DAYS_EMPLOYED  [-3500.0,-2200.0)    31.0\n",
      "15  DAYS_EMPLOYED  [-2200.0,-1700.0)    35.0\n",
      "16  DAYS_EMPLOYED  [-1700.0,-1000.0)    39.0\n",
      "17  DAYS_EMPLOYED      [-1000.0,inf)    43.0,\n",
      " 'DEF_60_CNT_SOCIAL_CIRCLE':                    variable         bin  points\n",
      "6  DEF_60_CNT_SOCIAL_CIRCLE  [-inf,1.0)    36.0\n",
      "7  DEF_60_CNT_SOCIAL_CIRCLE   [1.0,inf)    45.0,\n",
      " 'EXT_SOURCE_2':         variable         bin  points\n",
      "27  EXT_SOURCE_2  [-inf,0.1)    68.0\n",
      "28  EXT_SOURCE_2  [0.1,0.15)    62.0\n",
      "29  EXT_SOURCE_2  [0.15,0.2)    54.0\n",
      "30  EXT_SOURCE_2  [0.2,0.44)    46.0\n",
      "31  EXT_SOURCE_2  [0.44,0.6)    34.0\n",
      "32  EXT_SOURCE_2   [0.6,0.8)    21.0\n",
      "33  EXT_SOURCE_2   [0.8,inf)     7.0,\n",
      " 'FLAG_OWN_CAR':        variable         bin  points\n",
      "8  FLAG_OWN_CAR  [-inf,1.0)    39.0\n",
      "9  FLAG_OWN_CAR   [1.0,inf)    32.0,\n",
      " 'NAME_CONTRACT_TYPE':               variable         bin  points\n",
      "10  NAME_CONTRACT_TYPE  [-inf,1.0)    38.0\n",
      "11  NAME_CONTRACT_TYPE   [1.0,inf)    23.0,\n",
      " 'NAME_EDUCATION_TYPE':                variable         bin  points\n",
      "34  NAME_EDUCATION_TYPE  [-inf,2.0)    26.0\n",
      "35  NAME_EDUCATION_TYPE   [2.0,3.0)    35.0\n",
      "36  NAME_EDUCATION_TYPE   [3.0,inf)    40.0,\n",
      " 'NAME_FAMILY_STATUS':              variable         bin  points\n",
      "4  NAME_FAMILY_STATUS  [-inf,3.0)    37.0\n",
      "5  NAME_FAMILY_STATUS   [3.0,inf)    37.0,\n",
      " 'NAME_INCOME_TYPE':             variable         bin  points\n",
      "47  NAME_INCOME_TYPE  [-inf,2.0)    33.0\n",
      "48  NAME_INCOME_TYPE   [2.0,5.0)    30.0\n",
      "49  NAME_INCOME_TYPE   [5.0,inf)    39.0,\n",
      " 'OCCUPATION_TYPE':            variable         bin  points\n",
      "43  OCCUPATION_TYPE  [-inf,1.0)    28.0\n",
      "44  OCCUPATION_TYPE   [1.0,4.0)    34.0\n",
      "45  OCCUPATION_TYPE  [4.0,15.0)    37.0\n",
      "46  OCCUPATION_TYPE  [15.0,inf)    39.0,\n",
      " 'age':    variable          bin  points\n",
      "40      age  [-inf,34.0)    39.0\n",
      "41      age  [34.0,40.0)    36.0\n",
      "42      age   [40.0,inf)    33.0,\n",
      " 'basepoints':      variable  bin  points\n",
      "0  basepoints  NaN       0}\n"
     ]
    }
   ],
   "source": [
    "#generate a card from the model and bins. The scores will be based on probability of default from the model\n",
    "card = sc.scorecard(bins_final, lr, X_train.columns, points0 = 600, odds0 = 1/20, pdo = 20,\n",
    "      basepoints_eq0 = True)\n",
    "\n",
    "pprint.pprint(card)"
   ]
  },
  {
   "cell_type": "code",
   "execution_count": null,
   "metadata": {},
   "outputs": [],
   "source": []
  },
  {
   "cell_type": "code",
   "execution_count": 833,
   "metadata": {},
   "outputs": [
    {
     "data": {
      "text/plain": [
       "array([[<AxesSubplot:title={'center':'score'}>]], dtype=object)"
      ]
     },
     "execution_count": 833,
     "metadata": {},
     "output_type": "execute_result"
    },
    {
     "data": {
      "image/png": "[encoded data removed]",
      "text/plain": [
       "<Figure size 1152x648 with 1 Axes>"
      ]
     },
     "metadata": {
      "needs_background": "light"
     },
     "output_type": "display_data"
    }
   ],
   "source": [
    "train_score = sc.scorecard_ply(train, card)\n",
    "test_score = sc.scorecard_ply(test, card)\n",
    "\n",
    "#distrubution of scores on test data\n",
    "test_score.hist(figsize=(16,9),bins=60)"
   ]
  },
  {
   "cell_type": "markdown",
   "metadata": {},
   "source": [
    "Please don't clear the codes behind. Incase we need later on"
   ]
  },
  {
   "cell_type": "code",
   "execution_count": 834,
   "metadata": {},
   "outputs": [],
   "source": [
    "# scorecards = {}\n",
    "# for i in range(len(bins_list)):\n",
    "#     # Generate scorecard for each variable\n",
    "#     card = sc.scorecard(bins_list[i], lr, X_train.columns, points0=600, odds0=1/20, pdo=20, basepoints_eq0=True)\n",
    "#     # Add scorecard to dictionary\n",
    "#     scorecards[X_train.columns[i]] = card"
   ]
  },
  {
   "cell_type": "code",
   "execution_count": 835,
   "metadata": {},
   "outputs": [],
   "source": [
    "# test_woe1 = sc.woebin_ply(test, bins_list[0])"
   ]
  },
  {
   "cell_type": "code",
   "execution_count": 836,
   "metadata": {},
   "outputs": [],
   "source": [
    "# train_woe1.drop(train_woe1.columns[1:15], axis=1, inplace=True)\n",
    "# train_woe1"
   ]
  },
  {
   "cell_type": "code",
   "execution_count": 837,
   "metadata": {},
   "outputs": [],
   "source": [
    "# bins_list = [bins2,bins3,bins4,bins5,bins6,bins7,bins8,bins9,bins10,bins11,bins12,bins13,bins14, bins15]"
   ]
  },
  {
   "cell_type": "code",
   "execution_count": 838,
   "metadata": {},
   "outputs": [],
   "source": [
    "# for i in range(len(bins_list)):\n",
    "#     print(i)"
   ]
  },
  {
   "cell_type": "code",
   "execution_count": 839,
   "metadata": {},
   "outputs": [],
   "source": [
    "# train_woe1 = sc.woebin_ply(train, bins_list[0])\n",
    "# test_woe1 = sc.woebin_ply(test, bins_list[0])\n",
    "# for i in range(len(bins_list)):\n",
    "#     train_woe = sc.woebin_ply(train, bins_list[i])\n",
    "#     test_woe = sc.woebin_ply(test, bins_list[i])\n",
    "#     if i==0:\n",
    "#         train_woe1['OCCUPATION_TYPE_woe_encoded']=train_woe['OCCUPATION_TYPE_woe']\n",
    "#         test_woe1['OCCUPATION_TYPE_woe_encoded']=test_woe['OCCUPATION_TYPE_woe']\n",
    "#     if i==1:\n",
    "#         train_woe1['NAME_INCOME_TYPE_woe_encoded']=train_woe['NAME_INCOME_TYPE_woe']  \n",
    "#         test_woe1['NAME_INCOME_TYPE_woe_encoded']=test_woe['NAME_INCOME_TYPE_woe']\n",
    "#     if i==2:\n",
    "#         train_woe1['NAME_EDUCATION_TYPE_woe_encoded']=train_woe['NAME_EDUCATION_TYPE_woe']   \n",
    "#         test_woe1['NAME_EDUCATION_TYPE_woe_encoded']=test_woe['NAME_EDUCATION_TYPE_woe']\n",
    "#     if i==3:\n",
    "#         train_woe1['AMT_INCOME_TOTAL_woe_encoded']=train_woe['AMT_INCOME_TOTAL_woe'] \n",
    "#         test_woe1['AMT_INCOME_TOTAL_woe_encoded']=test_woe['AMT_INCOME_TOTAL_woe']\n",
    "#     if i==4:\n",
    "#         train_woe1['DAYS_EMPLOYED_woe_encoded']=train_woe['DAYS_EMPLOYED_woe']    \n",
    "#         test_woe1['DAYS_EMPLOYED_woe_encoded']=test_woe['DAYS_EMPLOYED_woe']\n",
    "#     if i==5:  \n",
    "#         train_woe1['AMT_ANNUITY_woe_encoded']=train_woe['AMT_ANNUITY_woe'] \n",
    "#         test_woe1['AMT_ANNUITY_woe_encoded']=test_woe['AMT_ANNUITY_woe']\n",
    "#     if i==6:\n",
    "#         train_woe1['EXT_SOURCE_2_woe_encoded']=train_woe['EXT_SOURCE_2_woe']           \n",
    "#         test_woe1['EXT_SOURCE_2_woe_encoded']=test_woe['EXT_SOURCE_2_woe']     \n",
    "#     if i==7:\n",
    "#         train_woe1['AMT_CREDIT_woe_encoded']=train_woe['AMT_CREDIT_woe']        \n",
    "#         test_woe1['AMT_CREDIT_woe_encoded']=test_woe['AMT_CREDIT_woe']  \n",
    "#     if i==8:\n",
    "#         train_woe1['CNT_FAM_MEMBERS_woe_encoded']=train_woe['CNT_FAM_MEMBERS_woe']       #10\n",
    "#         test_woe1['CNT_FAM_MEMBERS_woe_encoded']=test_woe['CNT_FAM_MEMBERS_woe']       #10\n",
    "#     if i==9:\n",
    "#         train_woe1['NAME_FAMILY_STATUS_woe_encoded']=train_woe['NAME_FAMILY_STATUS_woe']     #11    \n",
    "#         test_woe1['NAME_FAMILY_STATUS_woe_encoded']=test_woe['NAME_FAMILY_STATUS_woe']     #11    \n",
    "#     if i==10: \n",
    "#         train_woe1['age_woe_encoded']=train_woe['age_woe']      #12   \n",
    "#         test_woe1['age_woe_encoded']=test_woe['age_woe']      #12   \n",
    "#     if i==11:\n",
    "#         train_woe1['NAME_CONTRACT_TYPE_woe_encoded']=train_woe['NAME_CONTRACT_TYPE_woe']      #13\n",
    "#         test_woe1['NAME_CONTRACT_TYPE_woe_encoded']=test_woe['NAME_CONTRACT_TYPE_woe']      #13\n",
    "#     if i==12:\n",
    "#         train_woe1['DEF_60_CNT_SOCIAL_CIRCLE_woe_encoded']=train_woe['DEF_60_CNT_SOCIAL_CIRCLE_woe']      #14\n",
    "#         test_woe1['DEF_60_CNT_SOCIAL_CIRCLE_woe_encoded']=test_woe['DEF_60_CNT_SOCIAL_CIRCLE_woe']      #14\n",
    "#     if i==13:\n",
    "#         train_woe1['FLAG_OWN_CAR_woe_encoded']=train_woe['FLAG_OWN_CAR_woe']      #15\n",
    "#         test_woe1['FLAG_OWN_CAR_woe_encoded']=test_woe['FLAG_OWN_CAR_woe']      #15"
   ]
  },
  {
   "cell_type": "code",
   "execution_count": 840,
   "metadata": {},
   "outputs": [],
   "source": [
    "# train_woe1.drop(train_woe1.columns[1:15], axis=1, inplace=True)\n",
    "# train_woe1"
   ]
  },
  {
   "cell_type": "code",
   "execution_count": 758,
   "metadata": {},
   "outputs": [],
   "source": [
    "# test_woe1.drop(test_woe1.columns[1:15], axis=1, inplace=True)"
   ]
  },
  {
   "cell_type": "code",
   "execution_count": 841,
   "metadata": {},
   "outputs": [],
   "source": [
    "# # Define the desired column order\n",
    "# new_order = ['AMT_ANNUITY_woe_encoded', 'NAME_FAMILY_STATUS_woe_encoded', 'DEF_60_CNT_SOCIAL_CIRCLE_woe_encoded',\n",
    "#               'FLAG_OWN_CAR_woe_encoded','NAME_CONTRACT_TYPE_woe_encoded','DAYS_EMPLOYED_woe_encoded', 'AMT_CREDIT_woe_encoded',\n",
    "#               'AMT_INCOME_TOTAL_woe_encoded','EXT_SOURCE_2_woe_encoded','NAME_EDUCATION_TYPE_woe_encoded','CNT_FAM_MEMBERS_woe_encoded','age_woe_encoded'\n",
    "#               ,'OCCUPATION_TYPE_woe_encoded','NAME_INCOME_TYPE_woe_encoded','STATUS']\n",
    "\n",
    "# train_woe1 = train_woe1.reindex(columns=new_order)\n",
    "# test_woe1 = test_woe1.reindex(columns=new_order)"
   ]
  },
  {
   "cell_type": "code",
   "execution_count": 842,
   "metadata": {},
   "outputs": [],
   "source": [
    "# train_woe1"
   ]
  },
  {
   "cell_type": "code",
   "execution_count": 843,
   "metadata": {},
   "outputs": [],
   "source": [
    "# test_woe1"
   ]
  }
 ],
 "metadata": {
  "kernelspec": {
   "display_name": "Python 3 (ipykernel)",
   "language": "python",
   "name": "python3"
  },
  "language_info": {
   "codemirror_mode": {
    "name": "ipython",
    "version": 3
   },
   "file_extension": ".py",
   "mimetype": "text/x-python",
   "name": "python",
   "nbconvert_exporter": "python",
   "pygments_lexer": "ipython3",
   "version": "3.9.7"
  }
 },
 "nbformat": 4,
 "nbformat_minor": 2
}
