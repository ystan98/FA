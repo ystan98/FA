{
 "cells": [
  {
   "cell_type": "code",
   "execution_count": 233,
   "metadata": {},
   "outputs": [],
   "source": [
    "import pandas as pd \n",
    "import numpy as np\n",
    "import matplotlib.pyplot as plt\n",
    "import seaborn as sns\n",
    "from sklearn.preprocessing import LabelEncoder\n",
    "from sklearn.linear_model import LogisticRegression\n",
    "from sklearn.metrics import make_scorer, f1_score\n",
    "from sklearn.metrics import classification_report\n",
    "from sklearn.metrics import confusion_matrix\n",
    "import warnings\n",
    "warnings.filterwarnings('ignore')\n",
    "from sklearn.model_selection import train_test_split\n",
    "import scorecardpy as sc\n",
    "import pprint"
   ]
  },
  {
   "cell_type": "code",
   "execution_count": 234,
   "metadata": {},
   "outputs": [
    {
     "name": "stdout",
     "output_type": "stream",
     "text": [
      "<class 'pandas.core.frame.DataFrame'>\n",
      "RangeIndex: 114755 entries, 0 to 114754\n",
      "Data columns (total 18 columns):\n",
      " #   Column                    Non-Null Count   Dtype  \n",
      "---  ------                    --------------   -----  \n",
      " 0   Unnamed: 0                114755 non-null  int64  \n",
      " 1   STATUS                    114755 non-null  int64  \n",
      " 2   NAME_CONTRACT_TYPE        114755 non-null  object \n",
      " 3   FLAG_OWN_CAR              114755 non-null  object \n",
      " 4   FLAG_OWN_REALTY           114755 non-null  object \n",
      " 5   AMT_INCOME_TOTAL          114755 non-null  float64\n",
      " 6   AMT_CREDIT                114755 non-null  float64\n",
      " 7   AMT_ANNUITY               114755 non-null  float64\n",
      " 8   NAME_INCOME_TYPE          114755 non-null  object \n",
      " 9   NAME_EDUCATION_TYPE       114755 non-null  object \n",
      " 10  NAME_FAMILY_STATUS        114755 non-null  object \n",
      " 11  NAME_HOUSING_TYPE         114755 non-null  object \n",
      " 12  DAYS_EMPLOYED             114755 non-null  int64  \n",
      " 13  OCCUPATION_TYPE           114755 non-null  object \n",
      " 14  CNT_FAM_MEMBERS           114755 non-null  float64\n",
      " 15  EXT_SOURCE_2              114564 non-null  float64\n",
      " 16  DEF_60_CNT_SOCIAL_CIRCLE  114755 non-null  float64\n",
      " 17  age                       114755 non-null  float64\n",
      "dtypes: float64(7), int64(3), object(8)\n",
      "memory usage: 15.8+ MB\n"
     ]
    }
   ],
   "source": [
    "df_main = pd.read_csv('filtered_data_iter2.csv')\n",
    "df = df_main.copy()\n",
    "df.info()"
   ]
  },
  {
   "cell_type": "code",
   "execution_count": 235,
   "metadata": {},
   "outputs": [
    {
     "data": {
      "text/plain": [
       "0    104221\n",
       "1     10534\n",
       "Name: STATUS, dtype: int64"
      ]
     },
     "execution_count": 235,
     "metadata": {},
     "output_type": "execute_result"
    }
   ],
   "source": [
    "#replace value 0 in status with 2\n",
    "# df[\"STATUS\"].replace(0,2,inplace=True)\n",
    "# df[\"STATUS\"].replace(1,0,inplace=True)\n",
    "# df[\"STATUS\"].replace(2,1,inplace=True)\n",
    "df[\"STATUS\"].value_counts()"
   ]
  },
  {
   "cell_type": "code",
   "execution_count": 236,
   "metadata": {},
   "outputs": [
    {
     "data": {
      "text/plain": [
       "Unnamed: 0                  0\n",
       "STATUS                      0\n",
       "NAME_CONTRACT_TYPE          0\n",
       "FLAG_OWN_CAR                0\n",
       "FLAG_OWN_REALTY             0\n",
       "AMT_INCOME_TOTAL            0\n",
       "AMT_CREDIT                  0\n",
       "AMT_ANNUITY                 0\n",
       "NAME_INCOME_TYPE            0\n",
       "NAME_EDUCATION_TYPE         0\n",
       "NAME_FAMILY_STATUS          0\n",
       "NAME_HOUSING_TYPE           0\n",
       "DAYS_EMPLOYED               0\n",
       "OCCUPATION_TYPE             0\n",
       "CNT_FAM_MEMBERS             0\n",
       "EXT_SOURCE_2                0\n",
       "DEF_60_CNT_SOCIAL_CIRCLE    0\n",
       "age                         0\n",
       "dtype: int64"
      ]
     },
     "execution_count": 236,
     "metadata": {},
     "output_type": "execute_result"
    }
   ],
   "source": [
    "df.dropna(inplace=True)\n",
    "df.isnull().sum()"
   ]
  },
  {
   "cell_type": "code",
   "execution_count": 237,
   "metadata": {},
   "outputs": [],
   "source": [
    "data_dict = {}\n",
    "for col in df.columns:\n",
    "    data_dict[col] = [str(df[col].dtypes)]\n",
    "    "
   ]
  },
  {
   "cell_type": "markdown",
   "metadata": {},
   "source": [
    "# Manual Encoding so that the order is relevant"
   ]
  },
  {
   "cell_type": "code",
   "execution_count": 238,
   "metadata": {},
   "outputs": [],
   "source": [
    "df['OCCUPATION_TYPE'] = df['OCCUPATION_TYPE'].map({'Low-skill Laborers': 1, 'Cooking staff': 2, 'Cleaning staff': 3, 'Security staff': 4, 'Waiters/barmen staff': 5, 'Laborers': 6, 'Drivers': 7, 'Sales staff': 8, 'Realty agents': 9, 'Secretaries': 10, 'Not Specified': 11, 'Medicine staff': 12, 'Managers': 13, 'High skill tech staff': 14, 'HR staff': 15, 'Core staff': 16, 'Private service staff': 17, 'Accountants': 18, 'IT staff': 19})\n",
    "\n",
    "# Education labels are in order of increasing education level\n",
    "df['NAME_EDUCATION_TYPE'] = df['NAME_EDUCATION_TYPE'].map({'Lower secondary': 1, 'Secondary / secondary special': 2, 'Incomplete higher': 3, 'Higher education': 4, 'Academic degree': 5})\n",
    "\n",
    "# Income labels are in order of increasing income level\n",
    "df['NAME_INCOME_TYPE'] = df['NAME_INCOME_TYPE'].map({'Student': 1, 'Pensioner': 2, 'Working': 3, 'Commercial associate': 4, 'State servant': 5, 'Businessman': 6})\n",
    "\n",
    "# Housing labels are in order of increasing loan burden on the individual\n",
    "df['NAME_HOUSING_TYPE'] = df['NAME_HOUSING_TYPE'].map({'With parents': 1, 'Rented apartment': 2, 'Municipal apartment': 3, 'Office apartment': 4, 'Co-op apartment': 5, 'House / apartment': 6})"
   ]
  },
  {
   "cell_type": "code",
   "execution_count": 239,
   "metadata": {},
   "outputs": [
    {
     "data": {
      "text/plain": [
       "DAYS_EMPLOYED\n",
       "-9136      0.0000\n",
       "-9123      0.0000\n",
       "-9112      0.0000\n",
       "-9100      0.0000\n",
       "-9039      0.0000\n",
       "            ...  \n",
       "-8         0.0000\n",
       "-5         0.0000\n",
       "-4         0.5000\n",
       " 0         0.5000\n",
       " 365243    0.1033\n",
       "Name: STATUS, Length: 7976, dtype: float64"
      ]
     },
     "execution_count": 239,
     "metadata": {},
     "output_type": "execute_result"
    }
   ],
   "source": [
    "df.groupby('DAYS_EMPLOYED')['STATUS'].mean()"
   ]
  },
  {
   "cell_type": "code",
   "execution_count": 240,
   "metadata": {},
   "outputs": [
    {
     "data": {
      "text/plain": [
       "<AxesSubplot:>"
      ]
     },
     "execution_count": 240,
     "metadata": {},
     "output_type": "execute_result"
    },
    {
     "data": {
      "image/png": "[encoded data removed]",
      "text/plain": [
       "<Figure size 432x288 with 1 Axes>"
      ]
     },
     "metadata": {
      "needs_background": "light"
     },
     "output_type": "display_data"
    }
   ],
   "source": [
    "df['DAYS_EMPLOYED'].hist()"
   ]
  },
  {
   "cell_type": "markdown",
   "metadata": {},
   "source": [
    "# We assume that those positives are outliers (data-entry), and we should take those values that are negative, and perform abs() function."
   ]
  },
  {
   "cell_type": "code",
   "execution_count": 241,
   "metadata": {},
   "outputs": [],
   "source": [
    "df.drop(df[df['DAYS_EMPLOYED'] > 0].index, inplace=True)"
   ]
  },
  {
   "cell_type": "code",
   "execution_count": 244,
   "metadata": {},
   "outputs": [],
   "source": [
    "df.drop(df[df['DAYS_EMPLOYED'] == 0].index, inplace=True)"
   ]
  },
  {
   "cell_type": "code",
   "execution_count": 245,
   "metadata": {},
   "outputs": [],
   "source": [
    "df['DAYS_EMPLOYED'] = df['DAYS_EMPLOYED'].abs()"
   ]
  },
  {
   "cell_type": "code",
   "execution_count": 246,
   "metadata": {},
   "outputs": [
    {
     "data": {
      "text/plain": [
       "<AxesSubplot:>"
      ]
     },
     "execution_count": 246,
     "metadata": {},
     "output_type": "execute_result"
    },
    {
     "data": {
      "image/png": "[encoded data removed]",
      "text/plain": [
       "<Figure size 432x288 with 1 Axes>"
      ]
     },
     "metadata": {
      "needs_background": "light"
     },
     "output_type": "display_data"
    }
   ],
   "source": [
    "df['DAYS_EMPLOYED'].hist()"
   ]
  },
  {
   "cell_type": "markdown",
   "metadata": {},
   "source": [
    "# Label encode the rest that is not manually set."
   ]
  },
  {
   "cell_type": "code",
   "execution_count": 247,
   "metadata": {},
   "outputs": [
    {
     "name": "stdout",
     "output_type": "stream",
     "text": [
      "FLAG_OWN_REALTY\n",
      "NAME_CONTRACT_TYPE\n",
      "FLAG_OWN_CAR\n",
      "NAME_FAMILY_STATUS\n"
     ]
    }
   ],
   "source": [
    "manual_encodings = ['OCCUPATION_TYPE', 'NAME_EDUCATION_TYPE', 'NAME_INCOME_TYPE', 'NAME_HOUSING_TYPE']\n",
    "\n",
    "# define the target variable\n",
    "target = df['STATUS']\n",
    "\n",
    "# create a list of object columns\n",
    "object_list = [col for col in df.columns if df[col].dtype == 'object']\n",
    "\n",
    "# create a dictionary to store the original categorical variables and their encoded values\n",
    "df_label_encoded = df.copy()\n",
    "# label encode all object columns and store the original categorical variables and their encoded values\n",
    "for col in (set(object_list) - set(manual_encodings)):\n",
    "    print(col)\n",
    "    le = LabelEncoder()\n",
    "    df[col] = le.fit_transform(df[col])\n",
    "\n",
    "# label encode the target variable and add it to the dictionary\n",
    "le = LabelEncoder()\n",
    "target = le.fit_transform(target)"
   ]
  },
  {
   "cell_type": "code",
   "execution_count": 131,
   "metadata": {},
   "outputs": [],
   "source": [
    "del df['Unnamed: 0']"
   ]
  },
  {
   "cell_type": "code",
   "execution_count": 132,
   "metadata": {},
   "outputs": [
    {
     "data": {
      "text/html": [
       "<div>\n",
       "<style scoped>\n",
       "    .dataframe tbody tr th:only-of-type {\n",
       "        vertical-align: middle;\n",
       "    }\n",
       "\n",
       "    .dataframe tbody tr th {\n",
       "        vertical-align: top;\n",
       "    }\n",
       "\n",
       "    .dataframe thead th {\n",
       "        text-align: right;\n",
       "    }\n",
       "</style>\n",
       "<table border=\"1\" class=\"dataframe\">\n",
       "  <thead>\n",
       "    <tr style=\"text-align: right;\">\n",
       "      <th></th>\n",
       "      <th>STATUS</th>\n",
       "      <th>NAME_CONTRACT_TYPE</th>\n",
       "      <th>FLAG_OWN_CAR</th>\n",
       "      <th>FLAG_OWN_REALTY</th>\n",
       "      <th>AMT_INCOME_TOTAL</th>\n",
       "      <th>AMT_CREDIT</th>\n",
       "      <th>AMT_ANNUITY</th>\n",
       "      <th>NAME_INCOME_TYPE</th>\n",
       "      <th>NAME_EDUCATION_TYPE</th>\n",
       "      <th>NAME_FAMILY_STATUS</th>\n",
       "      <th>NAME_HOUSING_TYPE</th>\n",
       "      <th>DAYS_EMPLOYED</th>\n",
       "      <th>OCCUPATION_TYPE</th>\n",
       "      <th>CNT_FAM_MEMBERS</th>\n",
       "      <th>EXT_SOURCE_2</th>\n",
       "      <th>DEF_60_CNT_SOCIAL_CIRCLE</th>\n",
       "      <th>age</th>\n",
       "    </tr>\n",
       "  </thead>\n",
       "  <tbody>\n",
       "    <tr>\n",
       "      <th>0</th>\n",
       "      <td>0</td>\n",
       "      <td>0</td>\n",
       "      <td>1</td>\n",
       "      <td>1</td>\n",
       "      <td>171000.0</td>\n",
       "      <td>1560726.0</td>\n",
       "      <td>41301.0</td>\n",
       "      <td>5</td>\n",
       "      <td>4</td>\n",
       "      <td>1</td>\n",
       "      <td>6</td>\n",
       "      <td>-3130</td>\n",
       "      <td>18</td>\n",
       "      <td>3.0</td>\n",
       "      <td>0.724000</td>\n",
       "      <td>0.0</td>\n",
       "      <td>37.0</td>\n",
       "    </tr>\n",
       "    <tr>\n",
       "      <th>1</th>\n",
       "      <td>0</td>\n",
       "      <td>0</td>\n",
       "      <td>0</td>\n",
       "      <td>1</td>\n",
       "      <td>112500.0</td>\n",
       "      <td>652500.0</td>\n",
       "      <td>21177.0</td>\n",
       "      <td>3</td>\n",
       "      <td>4</td>\n",
       "      <td>1</td>\n",
       "      <td>6</td>\n",
       "      <td>-679</td>\n",
       "      <td>16</td>\n",
       "      <td>3.0</td>\n",
       "      <td>0.651862</td>\n",
       "      <td>0.0</td>\n",
       "      <td>27.0</td>\n",
       "    </tr>\n",
       "    <tr>\n",
       "      <th>2</th>\n",
       "      <td>0</td>\n",
       "      <td>0</td>\n",
       "      <td>0</td>\n",
       "      <td>1</td>\n",
       "      <td>67500.0</td>\n",
       "      <td>80865.0</td>\n",
       "      <td>5881.5</td>\n",
       "      <td>3</td>\n",
       "      <td>2</td>\n",
       "      <td>1</td>\n",
       "      <td>6</td>\n",
       "      <td>-2717</td>\n",
       "      <td>6</td>\n",
       "      <td>2.0</td>\n",
       "      <td>0.715042</td>\n",
       "      <td>0.0</td>\n",
       "      <td>36.0</td>\n",
       "    </tr>\n",
       "    <tr>\n",
       "      <th>3</th>\n",
       "      <td>0</td>\n",
       "      <td>0</td>\n",
       "      <td>1</td>\n",
       "      <td>0</td>\n",
       "      <td>225000.0</td>\n",
       "      <td>918468.0</td>\n",
       "      <td>28966.5</td>\n",
       "      <td>3</td>\n",
       "      <td>2</td>\n",
       "      <td>1</td>\n",
       "      <td>6</td>\n",
       "      <td>-3028</td>\n",
       "      <td>7</td>\n",
       "      <td>3.0</td>\n",
       "      <td>0.566907</td>\n",
       "      <td>0.0</td>\n",
       "      <td>38.0</td>\n",
       "    </tr>\n",
       "    <tr>\n",
       "      <th>4</th>\n",
       "      <td>0</td>\n",
       "      <td>0</td>\n",
       "      <td>0</td>\n",
       "      <td>0</td>\n",
       "      <td>108000.0</td>\n",
       "      <td>509602.5</td>\n",
       "      <td>26149.5</td>\n",
       "      <td>3</td>\n",
       "      <td>2</td>\n",
       "      <td>1</td>\n",
       "      <td>6</td>\n",
       "      <td>-1317</td>\n",
       "      <td>7</td>\n",
       "      <td>2.0</td>\n",
       "      <td>0.236378</td>\n",
       "      <td>0.0</td>\n",
       "      <td>35.0</td>\n",
       "    </tr>\n",
       "  </tbody>\n",
       "</table>\n",
       "</div>"
      ],
      "text/plain": [
       "   STATUS  NAME_CONTRACT_TYPE  FLAG_OWN_CAR  FLAG_OWN_REALTY  \\\n",
       "0       0                   0             1                1   \n",
       "1       0                   0             0                1   \n",
       "2       0                   0             0                1   \n",
       "3       0                   0             1                0   \n",
       "4       0                   0             0                0   \n",
       "\n",
       "   AMT_INCOME_TOTAL  AMT_CREDIT  AMT_ANNUITY  NAME_INCOME_TYPE  \\\n",
       "0          171000.0   1560726.0      41301.0                 5   \n",
       "1          112500.0    652500.0      21177.0                 3   \n",
       "2           67500.0     80865.0       5881.5                 3   \n",
       "3          225000.0    918468.0      28966.5                 3   \n",
       "4          108000.0    509602.5      26149.5                 3   \n",
       "\n",
       "   NAME_EDUCATION_TYPE  NAME_FAMILY_STATUS  NAME_HOUSING_TYPE  DAYS_EMPLOYED  \\\n",
       "0                    4                   1                  6          -3130   \n",
       "1                    4                   1                  6           -679   \n",
       "2                    2                   1                  6          -2717   \n",
       "3                    2                   1                  6          -3028   \n",
       "4                    2                   1                  6          -1317   \n",
       "\n",
       "   OCCUPATION_TYPE  CNT_FAM_MEMBERS  EXT_SOURCE_2  DEF_60_CNT_SOCIAL_CIRCLE  \\\n",
       "0               18              3.0      0.724000                       0.0   \n",
       "1               16              3.0      0.651862                       0.0   \n",
       "2                6              2.0      0.715042                       0.0   \n",
       "3                7              3.0      0.566907                       0.0   \n",
       "4                7              2.0      0.236378                       0.0   \n",
       "\n",
       "    age  \n",
       "0  37.0  \n",
       "1  27.0  \n",
       "2  36.0  \n",
       "3  38.0  \n",
       "4  35.0  "
      ]
     },
     "execution_count": 132,
     "metadata": {},
     "output_type": "execute_result"
    }
   ],
   "source": [
    "df.head()"
   ]
  },
  {
   "cell_type": "markdown",
   "metadata": {},
   "source": [
    "# Dropping columns with terrible IVs"
   ]
  },
  {
   "cell_type": "code",
   "execution_count": 133,
   "metadata": {},
   "outputs": [
    {
     "name": "stdout",
     "output_type": "stream",
     "text": [
      "[INFO] creating woe binning ...\n",
      "Binning on 114564 rows and 17 columns in 00:00:11\n",
      "DAYS_EMPLOYED  : \n"
     ]
    },
    {
     "data": {
      "text/html": [
       "<div>\n",
       "<style scoped>\n",
       "    .dataframe tbody tr th:only-of-type {\n",
       "        vertical-align: middle;\n",
       "    }\n",
       "\n",
       "    .dataframe tbody tr th {\n",
       "        vertical-align: top;\n",
       "    }\n",
       "\n",
       "    .dataframe thead th {\n",
       "        text-align: right;\n",
       "    }\n",
       "</style>\n",
       "<table border=\"1\" class=\"dataframe\">\n",
       "  <thead>\n",
       "    <tr style=\"text-align: right;\">\n",
       "      <th></th>\n",
       "      <th>variable</th>\n",
       "      <th>bin</th>\n",
       "      <th>count</th>\n",
       "      <th>count_distr</th>\n",
       "      <th>good</th>\n",
       "      <th>bad</th>\n",
       "      <th>badprob</th>\n",
       "      <th>woe</th>\n",
       "      <th>bin_iv</th>\n",
       "      <th>total_iv</th>\n",
       "      <th>breaks</th>\n",
       "      <th>is_special_values</th>\n",
       "    </tr>\n",
       "  </thead>\n",
       "  <tbody>\n",
       "    <tr>\n",
       "      <th>0</th>\n",
       "      <td>DAYS_EMPLOYED</td>\n",
       "      <td>[-inf,-4000.0)</td>\n",
       "      <td>14262</td>\n",
       "      <td>0.124489</td>\n",
       "      <td>13453</td>\n",
       "      <td>809</td>\n",
       "      <td>0.056724</td>\n",
       "      <td>-0.518680</td>\n",
       "      <td>0.027139</td>\n",
       "      <td>0.06496</td>\n",
       "      <td>-4000.0</td>\n",
       "      <td>False</td>\n",
       "    </tr>\n",
       "    <tr>\n",
       "      <th>1</th>\n",
       "      <td>DAYS_EMPLOYED</td>\n",
       "      <td>[-4000.0,-1800.0)</td>\n",
       "      <td>36732</td>\n",
       "      <td>0.320624</td>\n",
       "      <td>33952</td>\n",
       "      <td>2780</td>\n",
       "      <td>0.075683</td>\n",
       "      <td>-0.210019</td>\n",
       "      <td>0.012981</td>\n",
       "      <td>0.06496</td>\n",
       "      <td>-1800.0</td>\n",
       "      <td>False</td>\n",
       "    </tr>\n",
       "    <tr>\n",
       "      <th>2</th>\n",
       "      <td>DAYS_EMPLOYED</td>\n",
       "      <td>[-1800.0,-1000.0)</td>\n",
       "      <td>25152</td>\n",
       "      <td>0.219545</td>\n",
       "      <td>22629</td>\n",
       "      <td>2523</td>\n",
       "      <td>0.100310</td>\n",
       "      <td>0.098694</td>\n",
       "      <td>0.002226</td>\n",
       "      <td>0.06496</td>\n",
       "      <td>-1000.0</td>\n",
       "      <td>False</td>\n",
       "    </tr>\n",
       "    <tr>\n",
       "      <th>3</th>\n",
       "      <td>DAYS_EMPLOYED</td>\n",
       "      <td>[-1000.0,inf)</td>\n",
       "      <td>38418</td>\n",
       "      <td>0.335341</td>\n",
       "      <td>34019</td>\n",
       "      <td>4399</td>\n",
       "      <td>0.114504</td>\n",
       "      <td>0.246936</td>\n",
       "      <td>0.022613</td>\n",
       "      <td>0.06496</td>\n",
       "      <td>inf</td>\n",
       "      <td>False</td>\n",
       "    </tr>\n",
       "  </tbody>\n",
       "</table>\n",
       "</div>"
      ],
      "text/plain": [
       "        variable                bin  count  count_distr   good   bad  \\\n",
       "0  DAYS_EMPLOYED     [-inf,-4000.0)  14262     0.124489  13453   809   \n",
       "1  DAYS_EMPLOYED  [-4000.0,-1800.0)  36732     0.320624  33952  2780   \n",
       "2  DAYS_EMPLOYED  [-1800.0,-1000.0)  25152     0.219545  22629  2523   \n",
       "3  DAYS_EMPLOYED      [-1000.0,inf)  38418     0.335341  34019  4399   \n",
       "\n",
       "    badprob       woe    bin_iv  total_iv   breaks  is_special_values  \n",
       "0  0.056724 -0.518680  0.027139   0.06496  -4000.0              False  \n",
       "1  0.075683 -0.210019  0.012981   0.06496  -1800.0              False  \n",
       "2  0.100310  0.098694  0.002226   0.06496  -1000.0              False  \n",
       "3  0.114504  0.246936  0.022613   0.06496      inf              False  "
      ]
     },
     "metadata": {},
     "output_type": "display_data"
    },
    {
     "name": "stdout",
     "output_type": "stream",
     "text": [
      "----------------------------------------------------------------------------------------------------\n",
      "FLAG_OWN_CAR  : \n"
     ]
    },
    {
     "data": {
      "text/html": [
       "<div>\n",
       "<style scoped>\n",
       "    .dataframe tbody tr th:only-of-type {\n",
       "        vertical-align: middle;\n",
       "    }\n",
       "\n",
       "    .dataframe tbody tr th {\n",
       "        vertical-align: top;\n",
       "    }\n",
       "\n",
       "    .dataframe thead th {\n",
       "        text-align: right;\n",
       "    }\n",
       "</style>\n",
       "<table border=\"1\" class=\"dataframe\">\n",
       "  <thead>\n",
       "    <tr style=\"text-align: right;\">\n",
       "      <th></th>\n",
       "      <th>variable</th>\n",
       "      <th>bin</th>\n",
       "      <th>count</th>\n",
       "      <th>count_distr</th>\n",
       "      <th>good</th>\n",
       "      <th>bad</th>\n",
       "      <th>badprob</th>\n",
       "      <th>woe</th>\n",
       "      <th>bin_iv</th>\n",
       "      <th>total_iv</th>\n",
       "      <th>breaks</th>\n",
       "      <th>is_special_values</th>\n",
       "    </tr>\n",
       "  </thead>\n",
       "  <tbody>\n",
       "    <tr>\n",
       "      <th>0</th>\n",
       "      <td>FLAG_OWN_CAR</td>\n",
       "      <td>[-inf,1.0)</td>\n",
       "      <td>67448</td>\n",
       "      <td>0.588736</td>\n",
       "      <td>60551</td>\n",
       "      <td>6897</td>\n",
       "      <td>0.102257</td>\n",
       "      <td>0.120079</td>\n",
       "      <td>0.008915</td>\n",
       "      <td>0.023431</td>\n",
       "      <td>1.0</td>\n",
       "      <td>False</td>\n",
       "    </tr>\n",
       "    <tr>\n",
       "      <th>1</th>\n",
       "      <td>FLAG_OWN_CAR</td>\n",
       "      <td>[1.0,inf)</td>\n",
       "      <td>47116</td>\n",
       "      <td>0.411264</td>\n",
       "      <td>43502</td>\n",
       "      <td>3614</td>\n",
       "      <td>0.076704</td>\n",
       "      <td>-0.195514</td>\n",
       "      <td>0.014516</td>\n",
       "      <td>0.023431</td>\n",
       "      <td>inf</td>\n",
       "      <td>False</td>\n",
       "    </tr>\n",
       "  </tbody>\n",
       "</table>\n",
       "</div>"
      ],
      "text/plain": [
       "       variable         bin  count  count_distr   good   bad   badprob  \\\n",
       "0  FLAG_OWN_CAR  [-inf,1.0)  67448     0.588736  60551  6897  0.102257   \n",
       "1  FLAG_OWN_CAR   [1.0,inf)  47116     0.411264  43502  3614  0.076704   \n",
       "\n",
       "        woe    bin_iv  total_iv breaks  is_special_values  \n",
       "0  0.120079  0.008915  0.023431    1.0              False  \n",
       "1 -0.195514  0.014516  0.023431    inf              False  "
      ]
     },
     "metadata": {},
     "output_type": "display_data"
    },
    {
     "name": "stdout",
     "output_type": "stream",
     "text": [
      "----------------------------------------------------------------------------------------------------\n",
      "NAME_CONTRACT_TYPE  : \n"
     ]
    },
    {
     "data": {
      "text/html": [
       "<div>\n",
       "<style scoped>\n",
       "    .dataframe tbody tr th:only-of-type {\n",
       "        vertical-align: middle;\n",
       "    }\n",
       "\n",
       "    .dataframe tbody tr th {\n",
       "        vertical-align: top;\n",
       "    }\n",
       "\n",
       "    .dataframe thead th {\n",
       "        text-align: right;\n",
       "    }\n",
       "</style>\n",
       "<table border=\"1\" class=\"dataframe\">\n",
       "  <thead>\n",
       "    <tr style=\"text-align: right;\">\n",
       "      <th></th>\n",
       "      <th>variable</th>\n",
       "      <th>bin</th>\n",
       "      <th>count</th>\n",
       "      <th>count_distr</th>\n",
       "      <th>good</th>\n",
       "      <th>bad</th>\n",
       "      <th>badprob</th>\n",
       "      <th>woe</th>\n",
       "      <th>bin_iv</th>\n",
       "      <th>total_iv</th>\n",
       "      <th>breaks</th>\n",
       "      <th>is_special_values</th>\n",
       "    </tr>\n",
       "  </thead>\n",
       "  <tbody>\n",
       "    <tr>\n",
       "      <th>0</th>\n",
       "      <td>NAME_CONTRACT_TYPE</td>\n",
       "      <td>[-inf,1.0)</td>\n",
       "      <td>103860</td>\n",
       "      <td>0.906568</td>\n",
       "      <td>93904</td>\n",
       "      <td>9956</td>\n",
       "      <td>0.09586</td>\n",
       "      <td>0.048380</td>\n",
       "      <td>0.002164</td>\n",
       "      <td>0.029617</td>\n",
       "      <td>1.0</td>\n",
       "      <td>False</td>\n",
       "    </tr>\n",
       "    <tr>\n",
       "      <th>1</th>\n",
       "      <td>NAME_CONTRACT_TYPE</td>\n",
       "      <td>[1.0,inf)</td>\n",
       "      <td>10704</td>\n",
       "      <td>0.093432</td>\n",
       "      <td>10149</td>\n",
       "      <td>555</td>\n",
       "      <td>0.05185</td>\n",
       "      <td>-0.613684</td>\n",
       "      <td>0.027453</td>\n",
       "      <td>0.029617</td>\n",
       "      <td>inf</td>\n",
       "      <td>False</td>\n",
       "    </tr>\n",
       "  </tbody>\n",
       "</table>\n",
       "</div>"
      ],
      "text/plain": [
       "             variable         bin   count  count_distr   good   bad  badprob  \\\n",
       "0  NAME_CONTRACT_TYPE  [-inf,1.0)  103860     0.906568  93904  9956  0.09586   \n",
       "1  NAME_CONTRACT_TYPE   [1.0,inf)   10704     0.093432  10149   555  0.05185   \n",
       "\n",
       "        woe    bin_iv  total_iv breaks  is_special_values  \n",
       "0  0.048380  0.002164  0.029617    1.0              False  \n",
       "1 -0.613684  0.027453  0.029617    inf              False  "
      ]
     },
     "metadata": {},
     "output_type": "display_data"
    },
    {
     "name": "stdout",
     "output_type": "stream",
     "text": [
      "----------------------------------------------------------------------------------------------------\n",
      "AMT_CREDIT  : \n"
     ]
    },
    {
     "data": {
      "text/html": [
       "<div>\n",
       "<style scoped>\n",
       "    .dataframe tbody tr th:only-of-type {\n",
       "        vertical-align: middle;\n",
       "    }\n",
       "\n",
       "    .dataframe tbody tr th {\n",
       "        vertical-align: top;\n",
       "    }\n",
       "\n",
       "    .dataframe thead th {\n",
       "        text-align: right;\n",
       "    }\n",
       "</style>\n",
       "<table border=\"1\" class=\"dataframe\">\n",
       "  <thead>\n",
       "    <tr style=\"text-align: right;\">\n",
       "      <th></th>\n",
       "      <th>variable</th>\n",
       "      <th>bin</th>\n",
       "      <th>count</th>\n",
       "      <th>count_distr</th>\n",
       "      <th>good</th>\n",
       "      <th>bad</th>\n",
       "      <th>badprob</th>\n",
       "      <th>woe</th>\n",
       "      <th>bin_iv</th>\n",
       "      <th>total_iv</th>\n",
       "      <th>breaks</th>\n",
       "      <th>is_special_values</th>\n",
       "    </tr>\n",
       "  </thead>\n",
       "  <tbody>\n",
       "    <tr>\n",
       "      <th>0</th>\n",
       "      <td>AMT_CREDIT</td>\n",
       "      <td>[-inf,150000.0)</td>\n",
       "      <td>6177</td>\n",
       "      <td>0.053917</td>\n",
       "      <td>5756</td>\n",
       "      <td>421</td>\n",
       "      <td>0.068156</td>\n",
       "      <td>-0.322887</td>\n",
       "      <td>0.004929</td>\n",
       "      <td>0.067077</td>\n",
       "      <td>150000.0</td>\n",
       "      <td>False</td>\n",
       "    </tr>\n",
       "    <tr>\n",
       "      <th>1</th>\n",
       "      <td>AMT_CREDIT</td>\n",
       "      <td>[150000.0,300000.0)</td>\n",
       "      <td>26222</td>\n",
       "      <td>0.228885</td>\n",
       "      <td>23953</td>\n",
       "      <td>2269</td>\n",
       "      <td>0.086530</td>\n",
       "      <td>-0.064276</td>\n",
       "      <td>0.000921</td>\n",
       "      <td>0.067077</td>\n",
       "      <td>300000.0</td>\n",
       "      <td>False</td>\n",
       "    </tr>\n",
       "    <tr>\n",
       "      <th>2</th>\n",
       "      <td>AMT_CREDIT</td>\n",
       "      <td>[300000.0,650000.0)</td>\n",
       "      <td>39699</td>\n",
       "      <td>0.346522</td>\n",
       "      <td>35029</td>\n",
       "      <td>4670</td>\n",
       "      <td>0.117635</td>\n",
       "      <td>0.277461</td>\n",
       "      <td>0.029869</td>\n",
       "      <td>0.067077</td>\n",
       "      <td>650000.0</td>\n",
       "      <td>False</td>\n",
       "    </tr>\n",
       "    <tr>\n",
       "      <th>3</th>\n",
       "      <td>AMT_CREDIT</td>\n",
       "      <td>[650000.0,850000.0)</td>\n",
       "      <td>16348</td>\n",
       "      <td>0.142698</td>\n",
       "      <td>14927</td>\n",
       "      <td>1421</td>\n",
       "      <td>0.086922</td>\n",
       "      <td>-0.059333</td>\n",
       "      <td>0.000490</td>\n",
       "      <td>0.067077</td>\n",
       "      <td>850000.0</td>\n",
       "      <td>False</td>\n",
       "    </tr>\n",
       "    <tr>\n",
       "      <th>4</th>\n",
       "      <td>AMT_CREDIT</td>\n",
       "      <td>[850000.0,1350000.0)</td>\n",
       "      <td>20145</td>\n",
       "      <td>0.175841</td>\n",
       "      <td>18698</td>\n",
       "      <td>1447</td>\n",
       "      <td>0.071829</td>\n",
       "      <td>-0.266446</td>\n",
       "      <td>0.011199</td>\n",
       "      <td>0.067077</td>\n",
       "      <td>1350000.0</td>\n",
       "      <td>False</td>\n",
       "    </tr>\n",
       "    <tr>\n",
       "      <th>5</th>\n",
       "      <td>AMT_CREDIT</td>\n",
       "      <td>[1350000.0,inf)</td>\n",
       "      <td>5973</td>\n",
       "      <td>0.052137</td>\n",
       "      <td>5690</td>\n",
       "      <td>283</td>\n",
       "      <td>0.047380</td>\n",
       "      <td>-0.708541</td>\n",
       "      <td>0.019669</td>\n",
       "      <td>0.067077</td>\n",
       "      <td>inf</td>\n",
       "      <td>False</td>\n",
       "    </tr>\n",
       "  </tbody>\n",
       "</table>\n",
       "</div>"
      ],
      "text/plain": [
       "     variable                   bin  count  count_distr   good   bad  \\\n",
       "0  AMT_CREDIT       [-inf,150000.0)   6177     0.053917   5756   421   \n",
       "1  AMT_CREDIT   [150000.0,300000.0)  26222     0.228885  23953  2269   \n",
       "2  AMT_CREDIT   [300000.0,650000.0)  39699     0.346522  35029  4670   \n",
       "3  AMT_CREDIT   [650000.0,850000.0)  16348     0.142698  14927  1421   \n",
       "4  AMT_CREDIT  [850000.0,1350000.0)  20145     0.175841  18698  1447   \n",
       "5  AMT_CREDIT       [1350000.0,inf)   5973     0.052137   5690   283   \n",
       "\n",
       "    badprob       woe    bin_iv  total_iv     breaks  is_special_values  \n",
       "0  0.068156 -0.322887  0.004929  0.067077   150000.0              False  \n",
       "1  0.086530 -0.064276  0.000921  0.067077   300000.0              False  \n",
       "2  0.117635  0.277461  0.029869  0.067077   650000.0              False  \n",
       "3  0.086922 -0.059333  0.000490  0.067077   850000.0              False  \n",
       "4  0.071829 -0.266446  0.011199  0.067077  1350000.0              False  \n",
       "5  0.047380 -0.708541  0.019669  0.067077        inf              False  "
      ]
     },
     "metadata": {},
     "output_type": "display_data"
    },
    {
     "name": "stdout",
     "output_type": "stream",
     "text": [
      "----------------------------------------------------------------------------------------------------\n",
      "NAME_EDUCATION_TYPE  : \n"
     ]
    },
    {
     "data": {
      "text/html": [
       "<div>\n",
       "<style scoped>\n",
       "    .dataframe tbody tr th:only-of-type {\n",
       "        vertical-align: middle;\n",
       "    }\n",
       "\n",
       "    .dataframe tbody tr th {\n",
       "        vertical-align: top;\n",
       "    }\n",
       "\n",
       "    .dataframe thead th {\n",
       "        text-align: right;\n",
       "    }\n",
       "</style>\n",
       "<table border=\"1\" class=\"dataframe\">\n",
       "  <thead>\n",
       "    <tr style=\"text-align: right;\">\n",
       "      <th></th>\n",
       "      <th>variable</th>\n",
       "      <th>bin</th>\n",
       "      <th>count</th>\n",
       "      <th>count_distr</th>\n",
       "      <th>good</th>\n",
       "      <th>bad</th>\n",
       "      <th>badprob</th>\n",
       "      <th>woe</th>\n",
       "      <th>bin_iv</th>\n",
       "      <th>total_iv</th>\n",
       "      <th>breaks</th>\n",
       "      <th>is_special_values</th>\n",
       "    </tr>\n",
       "  </thead>\n",
       "  <tbody>\n",
       "    <tr>\n",
       "      <th>0</th>\n",
       "      <td>NAME_EDUCATION_TYPE</td>\n",
       "      <td>[-inf,4.0)</td>\n",
       "      <td>80017</td>\n",
       "      <td>0.698448</td>\n",
       "      <td>71454</td>\n",
       "      <td>8563</td>\n",
       "      <td>0.107015</td>\n",
       "      <td>0.170875</td>\n",
       "      <td>0.021866</td>\n",
       "      <td>0.089046</td>\n",
       "      <td>4.0</td>\n",
       "      <td>False</td>\n",
       "    </tr>\n",
       "    <tr>\n",
       "      <th>1</th>\n",
       "      <td>NAME_EDUCATION_TYPE</td>\n",
       "      <td>[4.0,inf)</td>\n",
       "      <td>34547</td>\n",
       "      <td>0.301552</td>\n",
       "      <td>32599</td>\n",
       "      <td>1948</td>\n",
       "      <td>0.056387</td>\n",
       "      <td>-0.525000</td>\n",
       "      <td>0.067180</td>\n",
       "      <td>0.089046</td>\n",
       "      <td>inf</td>\n",
       "      <td>False</td>\n",
       "    </tr>\n",
       "  </tbody>\n",
       "</table>\n",
       "</div>"
      ],
      "text/plain": [
       "              variable         bin  count  count_distr   good   bad   badprob  \\\n",
       "0  NAME_EDUCATION_TYPE  [-inf,4.0)  80017     0.698448  71454  8563  0.107015   \n",
       "1  NAME_EDUCATION_TYPE   [4.0,inf)  34547     0.301552  32599  1948  0.056387   \n",
       "\n",
       "        woe    bin_iv  total_iv breaks  is_special_values  \n",
       "0  0.170875  0.021866  0.089046    4.0              False  \n",
       "1 -0.525000  0.067180  0.089046    inf              False  "
      ]
     },
     "metadata": {},
     "output_type": "display_data"
    },
    {
     "name": "stdout",
     "output_type": "stream",
     "text": [
      "----------------------------------------------------------------------------------------------------\n",
      "OCCUPATION_TYPE  : \n"
     ]
    },
    {
     "data": {
      "text/html": [
       "<div>\n",
       "<style scoped>\n",
       "    .dataframe tbody tr th:only-of-type {\n",
       "        vertical-align: middle;\n",
       "    }\n",
       "\n",
       "    .dataframe tbody tr th {\n",
       "        vertical-align: top;\n",
       "    }\n",
       "\n",
       "    .dataframe thead th {\n",
       "        text-align: right;\n",
       "    }\n",
       "</style>\n",
       "<table border=\"1\" class=\"dataframe\">\n",
       "  <thead>\n",
       "    <tr style=\"text-align: right;\">\n",
       "      <th></th>\n",
       "      <th>variable</th>\n",
       "      <th>bin</th>\n",
       "      <th>count</th>\n",
       "      <th>count_distr</th>\n",
       "      <th>good</th>\n",
       "      <th>bad</th>\n",
       "      <th>badprob</th>\n",
       "      <th>woe</th>\n",
       "      <th>bin_iv</th>\n",
       "      <th>total_iv</th>\n",
       "      <th>breaks</th>\n",
       "      <th>is_special_values</th>\n",
       "    </tr>\n",
       "  </thead>\n",
       "  <tbody>\n",
       "    <tr>\n",
       "      <th>0</th>\n",
       "      <td>OCCUPATION_TYPE</td>\n",
       "      <td>[-inf,5.0)</td>\n",
       "      <td>6718</td>\n",
       "      <td>0.058640</td>\n",
       "      <td>5835</td>\n",
       "      <td>883</td>\n",
       "      <td>0.131438</td>\n",
       "      <td>0.404174</td>\n",
       "      <td>0.011289</td>\n",
       "      <td>0.074947</td>\n",
       "      <td>5.0</td>\n",
       "      <td>False</td>\n",
       "    </tr>\n",
       "    <tr>\n",
       "      <th>1</th>\n",
       "      <td>OCCUPATION_TYPE</td>\n",
       "      <td>[5.0,10.0)</td>\n",
       "      <td>49353</td>\n",
       "      <td>0.430790</td>\n",
       "      <td>43908</td>\n",
       "      <td>5445</td>\n",
       "      <td>0.110328</td>\n",
       "      <td>0.205079</td>\n",
       "      <td>0.019698</td>\n",
       "      <td>0.074947</td>\n",
       "      <td>10.0</td>\n",
       "      <td>False</td>\n",
       "    </tr>\n",
       "    <tr>\n",
       "      <th>2</th>\n",
       "      <td>OCCUPATION_TYPE</td>\n",
       "      <td>[10.0,13.0)</td>\n",
       "      <td>23117</td>\n",
       "      <td>0.201782</td>\n",
       "      <td>21176</td>\n",
       "      <td>1941</td>\n",
       "      <td>0.083964</td>\n",
       "      <td>-0.097187</td>\n",
       "      <td>0.001832</td>\n",
       "      <td>0.074947</td>\n",
       "      <td>13.0</td>\n",
       "      <td>False</td>\n",
       "    </tr>\n",
       "    <tr>\n",
       "      <th>3</th>\n",
       "      <td>OCCUPATION_TYPE</td>\n",
       "      <td>[13.0,inf)</td>\n",
       "      <td>35376</td>\n",
       "      <td>0.308788</td>\n",
       "      <td>33134</td>\n",
       "      <td>2242</td>\n",
       "      <td>0.063376</td>\n",
       "      <td>-0.400714</td>\n",
       "      <td>0.042128</td>\n",
       "      <td>0.074947</td>\n",
       "      <td>inf</td>\n",
       "      <td>False</td>\n",
       "    </tr>\n",
       "  </tbody>\n",
       "</table>\n",
       "</div>"
      ],
      "text/plain": [
       "          variable          bin  count  count_distr   good   bad   badprob  \\\n",
       "0  OCCUPATION_TYPE   [-inf,5.0)   6718     0.058640   5835   883  0.131438   \n",
       "1  OCCUPATION_TYPE   [5.0,10.0)  49353     0.430790  43908  5445  0.110328   \n",
       "2  OCCUPATION_TYPE  [10.0,13.0)  23117     0.201782  21176  1941  0.083964   \n",
       "3  OCCUPATION_TYPE   [13.0,inf)  35376     0.308788  33134  2242  0.063376   \n",
       "\n",
       "        woe    bin_iv  total_iv breaks  is_special_values  \n",
       "0  0.404174  0.011289  0.074947    5.0              False  \n",
       "1  0.205079  0.019698  0.074947   10.0              False  \n",
       "2 -0.097187  0.001832  0.074947   13.0              False  \n",
       "3 -0.400714  0.042128  0.074947    inf              False  "
      ]
     },
     "metadata": {},
     "output_type": "display_data"
    },
    {
     "name": "stdout",
     "output_type": "stream",
     "text": [
      "----------------------------------------------------------------------------------------------------\n",
      "NAME_INCOME_TYPE  : \n"
     ]
    },
    {
     "data": {
      "text/html": [
       "<div>\n",
       "<style scoped>\n",
       "    .dataframe tbody tr th:only-of-type {\n",
       "        vertical-align: middle;\n",
       "    }\n",
       "\n",
       "    .dataframe tbody tr th {\n",
       "        vertical-align: top;\n",
       "    }\n",
       "\n",
       "    .dataframe thead th {\n",
       "        text-align: right;\n",
       "    }\n",
       "</style>\n",
       "<table border=\"1\" class=\"dataframe\">\n",
       "  <thead>\n",
       "    <tr style=\"text-align: right;\">\n",
       "      <th></th>\n",
       "      <th>variable</th>\n",
       "      <th>bin</th>\n",
       "      <th>count</th>\n",
       "      <th>count_distr</th>\n",
       "      <th>good</th>\n",
       "      <th>bad</th>\n",
       "      <th>badprob</th>\n",
       "      <th>woe</th>\n",
       "      <th>bin_iv</th>\n",
       "      <th>total_iv</th>\n",
       "      <th>breaks</th>\n",
       "      <th>is_special_values</th>\n",
       "    </tr>\n",
       "  </thead>\n",
       "  <tbody>\n",
       "    <tr>\n",
       "      <th>0</th>\n",
       "      <td>NAME_INCOME_TYPE</td>\n",
       "      <td>[-inf,4.0)</td>\n",
       "      <td>72291</td>\n",
       "      <td>0.631010</td>\n",
       "      <td>64901</td>\n",
       "      <td>7390</td>\n",
       "      <td>0.102226</td>\n",
       "      <td>0.119743</td>\n",
       "      <td>0.009501</td>\n",
       "      <td>0.030883</td>\n",
       "      <td>4.0</td>\n",
       "      <td>False</td>\n",
       "    </tr>\n",
       "    <tr>\n",
       "      <th>1</th>\n",
       "      <td>NAME_INCOME_TYPE</td>\n",
       "      <td>[4.0,5.0)</td>\n",
       "      <td>10068</td>\n",
       "      <td>0.087881</td>\n",
       "      <td>9430</td>\n",
       "      <td>638</td>\n",
       "      <td>0.063369</td>\n",
       "      <td>-0.400835</td>\n",
       "      <td>0.011996</td>\n",
       "      <td>0.030883</td>\n",
       "      <td>5.0</td>\n",
       "      <td>False</td>\n",
       "    </tr>\n",
       "    <tr>\n",
       "      <th>2</th>\n",
       "      <td>NAME_INCOME_TYPE</td>\n",
       "      <td>[5.0,inf)</td>\n",
       "      <td>32205</td>\n",
       "      <td>0.281109</td>\n",
       "      <td>29722</td>\n",
       "      <td>2483</td>\n",
       "      <td>0.077100</td>\n",
       "      <td>-0.189942</td>\n",
       "      <td>0.009386</td>\n",
       "      <td>0.030883</td>\n",
       "      <td>inf</td>\n",
       "      <td>False</td>\n",
       "    </tr>\n",
       "  </tbody>\n",
       "</table>\n",
       "</div>"
      ],
      "text/plain": [
       "           variable         bin  count  count_distr   good   bad   badprob  \\\n",
       "0  NAME_INCOME_TYPE  [-inf,4.0)  72291     0.631010  64901  7390  0.102226   \n",
       "1  NAME_INCOME_TYPE   [4.0,5.0)  10068     0.087881   9430   638  0.063369   \n",
       "2  NAME_INCOME_TYPE   [5.0,inf)  32205     0.281109  29722  2483  0.077100   \n",
       "\n",
       "        woe    bin_iv  total_iv breaks  is_special_values  \n",
       "0  0.119743  0.009501  0.030883    4.0              False  \n",
       "1 -0.400835  0.011996  0.030883    5.0              False  \n",
       "2 -0.189942  0.009386  0.030883    inf              False  "
      ]
     },
     "metadata": {},
     "output_type": "display_data"
    },
    {
     "name": "stdout",
     "output_type": "stream",
     "text": [
      "----------------------------------------------------------------------------------------------------\n",
      "FLAG_OWN_REALTY  : \n"
     ]
    },
    {
     "data": {
      "text/html": [
       "<div>\n",
       "<style scoped>\n",
       "    .dataframe tbody tr th:only-of-type {\n",
       "        vertical-align: middle;\n",
       "    }\n",
       "\n",
       "    .dataframe tbody tr th {\n",
       "        vertical-align: top;\n",
       "    }\n",
       "\n",
       "    .dataframe thead th {\n",
       "        text-align: right;\n",
       "    }\n",
       "</style>\n",
       "<table border=\"1\" class=\"dataframe\">\n",
       "  <thead>\n",
       "    <tr style=\"text-align: right;\">\n",
       "      <th></th>\n",
       "      <th>variable</th>\n",
       "      <th>bin</th>\n",
       "      <th>count</th>\n",
       "      <th>count_distr</th>\n",
       "      <th>good</th>\n",
       "      <th>bad</th>\n",
       "      <th>badprob</th>\n",
       "      <th>woe</th>\n",
       "      <th>bin_iv</th>\n",
       "      <th>total_iv</th>\n",
       "      <th>breaks</th>\n",
       "      <th>is_special_values</th>\n",
       "    </tr>\n",
       "  </thead>\n",
       "  <tbody>\n",
       "    <tr>\n",
       "      <th>0</th>\n",
       "      <td>FLAG_OWN_REALTY</td>\n",
       "      <td>[-inf,1.0)</td>\n",
       "      <td>41009</td>\n",
       "      <td>0.357957</td>\n",
       "      <td>37256</td>\n",
       "      <td>3753</td>\n",
       "      <td>0.091516</td>\n",
       "      <td>-0.002779</td>\n",
       "      <td>0.000003</td>\n",
       "      <td>0.000004</td>\n",
       "      <td>1.0</td>\n",
       "      <td>False</td>\n",
       "    </tr>\n",
       "    <tr>\n",
       "      <th>1</th>\n",
       "      <td>FLAG_OWN_REALTY</td>\n",
       "      <td>[1.0,inf)</td>\n",
       "      <td>73555</td>\n",
       "      <td>0.642043</td>\n",
       "      <td>66797</td>\n",
       "      <td>6758</td>\n",
       "      <td>0.091877</td>\n",
       "      <td>0.001547</td>\n",
       "      <td>0.000002</td>\n",
       "      <td>0.000004</td>\n",
       "      <td>inf</td>\n",
       "      <td>False</td>\n",
       "    </tr>\n",
       "  </tbody>\n",
       "</table>\n",
       "</div>"
      ],
      "text/plain": [
       "          variable         bin  count  count_distr   good   bad   badprob  \\\n",
       "0  FLAG_OWN_REALTY  [-inf,1.0)  41009     0.357957  37256  3753  0.091516   \n",
       "1  FLAG_OWN_REALTY   [1.0,inf)  73555     0.642043  66797  6758  0.091877   \n",
       "\n",
       "        woe    bin_iv  total_iv breaks  is_special_values  \n",
       "0 -0.002779  0.000003  0.000004    1.0              False  \n",
       "1  0.001547  0.000002  0.000004    inf              False  "
      ]
     },
     "metadata": {},
     "output_type": "display_data"
    },
    {
     "name": "stdout",
     "output_type": "stream",
     "text": [
      "----------------------------------------------------------------------------------------------------\n",
      "NAME_HOUSING_TYPE  : \n"
     ]
    },
    {
     "data": {
      "text/html": [
       "<div>\n",
       "<style scoped>\n",
       "    .dataframe tbody tr th:only-of-type {\n",
       "        vertical-align: middle;\n",
       "    }\n",
       "\n",
       "    .dataframe tbody tr th {\n",
       "        vertical-align: top;\n",
       "    }\n",
       "\n",
       "    .dataframe thead th {\n",
       "        text-align: right;\n",
       "    }\n",
       "</style>\n",
       "<table border=\"1\" class=\"dataframe\">\n",
       "  <thead>\n",
       "    <tr style=\"text-align: right;\">\n",
       "      <th></th>\n",
       "      <th>variable</th>\n",
       "      <th>bin</th>\n",
       "      <th>count</th>\n",
       "      <th>count_distr</th>\n",
       "      <th>good</th>\n",
       "      <th>bad</th>\n",
       "      <th>badprob</th>\n",
       "      <th>woe</th>\n",
       "      <th>bin_iv</th>\n",
       "      <th>total_iv</th>\n",
       "      <th>breaks</th>\n",
       "      <th>is_special_values</th>\n",
       "    </tr>\n",
       "  </thead>\n",
       "  <tbody>\n",
       "    <tr>\n",
       "      <th>0</th>\n",
       "      <td>NAME_HOUSING_TYPE</td>\n",
       "      <td>[-inf,3.0)</td>\n",
       "      <td>10326</td>\n",
       "      <td>0.090133</td>\n",
       "      <td>9125</td>\n",
       "      <td>1201</td>\n",
       "      <td>0.116308</td>\n",
       "      <td>0.264615</td>\n",
       "      <td>0.007030</td>\n",
       "      <td>0.007815</td>\n",
       "      <td>3.0</td>\n",
       "      <td>False</td>\n",
       "    </tr>\n",
       "    <tr>\n",
       "      <th>1</th>\n",
       "      <td>NAME_HOUSING_TYPE</td>\n",
       "      <td>[3.0,inf)</td>\n",
       "      <td>104238</td>\n",
       "      <td>0.909867</td>\n",
       "      <td>94928</td>\n",
       "      <td>9310</td>\n",
       "      <td>0.089315</td>\n",
       "      <td>-0.029552</td>\n",
       "      <td>0.000785</td>\n",
       "      <td>0.007815</td>\n",
       "      <td>inf</td>\n",
       "      <td>False</td>\n",
       "    </tr>\n",
       "  </tbody>\n",
       "</table>\n",
       "</div>"
      ],
      "text/plain": [
       "            variable         bin   count  count_distr   good   bad   badprob  \\\n",
       "0  NAME_HOUSING_TYPE  [-inf,3.0)   10326     0.090133   9125  1201  0.116308   \n",
       "1  NAME_HOUSING_TYPE   [3.0,inf)  104238     0.909867  94928  9310  0.089315   \n",
       "\n",
       "        woe    bin_iv  total_iv breaks  is_special_values  \n",
       "0  0.264615  0.007030  0.007815    3.0              False  \n",
       "1 -0.029552  0.000785  0.007815    inf              False  "
      ]
     },
     "metadata": {},
     "output_type": "display_data"
    },
    {
     "name": "stdout",
     "output_type": "stream",
     "text": [
      "----------------------------------------------------------------------------------------------------\n",
      "AMT_INCOME_TOTAL  : \n"
     ]
    },
    {
     "data": {
      "text/html": [
       "<div>\n",
       "<style scoped>\n",
       "    .dataframe tbody tr th:only-of-type {\n",
       "        vertical-align: middle;\n",
       "    }\n",
       "\n",
       "    .dataframe tbody tr th {\n",
       "        vertical-align: top;\n",
       "    }\n",
       "\n",
       "    .dataframe thead th {\n",
       "        text-align: right;\n",
       "    }\n",
       "</style>\n",
       "<table border=\"1\" class=\"dataframe\">\n",
       "  <thead>\n",
       "    <tr style=\"text-align: right;\">\n",
       "      <th></th>\n",
       "      <th>variable</th>\n",
       "      <th>bin</th>\n",
       "      <th>count</th>\n",
       "      <th>count_distr</th>\n",
       "      <th>good</th>\n",
       "      <th>bad</th>\n",
       "      <th>badprob</th>\n",
       "      <th>woe</th>\n",
       "      <th>bin_iv</th>\n",
       "      <th>total_iv</th>\n",
       "      <th>breaks</th>\n",
       "      <th>is_special_values</th>\n",
       "    </tr>\n",
       "  </thead>\n",
       "  <tbody>\n",
       "    <tr>\n",
       "      <th>0</th>\n",
       "      <td>AMT_INCOME_TOTAL</td>\n",
       "      <td>[-inf,170000.0)</td>\n",
       "      <td>64065</td>\n",
       "      <td>0.559207</td>\n",
       "      <td>57661</td>\n",
       "      <td>6404</td>\n",
       "      <td>0.099961</td>\n",
       "      <td>0.094820</td>\n",
       "      <td>0.005226</td>\n",
       "      <td>0.021284</td>\n",
       "      <td>170000.0</td>\n",
       "      <td>False</td>\n",
       "    </tr>\n",
       "    <tr>\n",
       "      <th>1</th>\n",
       "      <td>AMT_INCOME_TOTAL</td>\n",
       "      <td>[170000.0,220000.0)</td>\n",
       "      <td>21151</td>\n",
       "      <td>0.184622</td>\n",
       "      <td>19194</td>\n",
       "      <td>1957</td>\n",
       "      <td>0.092525</td>\n",
       "      <td>0.009293</td>\n",
       "      <td>0.000016</td>\n",
       "      <td>0.021284</td>\n",
       "      <td>220000.0</td>\n",
       "      <td>False</td>\n",
       "    </tr>\n",
       "    <tr>\n",
       "      <th>2</th>\n",
       "      <td>AMT_INCOME_TOTAL</td>\n",
       "      <td>[220000.0,340000.0)</td>\n",
       "      <td>23182</td>\n",
       "      <td>0.202350</td>\n",
       "      <td>21409</td>\n",
       "      <td>1773</td>\n",
       "      <td>0.076482</td>\n",
       "      <td>-0.198660</td>\n",
       "      <td>0.007364</td>\n",
       "      <td>0.021284</td>\n",
       "      <td>340000.0</td>\n",
       "      <td>False</td>\n",
       "    </tr>\n",
       "    <tr>\n",
       "      <th>3</th>\n",
       "      <td>AMT_INCOME_TOTAL</td>\n",
       "      <td>[340000.0,inf)</td>\n",
       "      <td>6166</td>\n",
       "      <td>0.053821</td>\n",
       "      <td>5789</td>\n",
       "      <td>377</td>\n",
       "      <td>0.061142</td>\n",
       "      <td>-0.438992</td>\n",
       "      <td>0.008678</td>\n",
       "      <td>0.021284</td>\n",
       "      <td>inf</td>\n",
       "      <td>False</td>\n",
       "    </tr>\n",
       "  </tbody>\n",
       "</table>\n",
       "</div>"
      ],
      "text/plain": [
       "           variable                  bin  count  count_distr   good   bad  \\\n",
       "0  AMT_INCOME_TOTAL      [-inf,170000.0)  64065     0.559207  57661  6404   \n",
       "1  AMT_INCOME_TOTAL  [170000.0,220000.0)  21151     0.184622  19194  1957   \n",
       "2  AMT_INCOME_TOTAL  [220000.0,340000.0)  23182     0.202350  21409  1773   \n",
       "3  AMT_INCOME_TOTAL       [340000.0,inf)   6166     0.053821   5789   377   \n",
       "\n",
       "    badprob       woe    bin_iv  total_iv    breaks  is_special_values  \n",
       "0  0.099961  0.094820  0.005226  0.021284  170000.0              False  \n",
       "1  0.092525  0.009293  0.000016  0.021284  220000.0              False  \n",
       "2  0.076482 -0.198660  0.007364  0.021284  340000.0              False  \n",
       "3  0.061142 -0.438992  0.008678  0.021284       inf              False  "
      ]
     },
     "metadata": {},
     "output_type": "display_data"
    },
    {
     "name": "stdout",
     "output_type": "stream",
     "text": [
      "----------------------------------------------------------------------------------------------------\n",
      "NAME_FAMILY_STATUS  : \n"
     ]
    },
    {
     "data": {
      "text/html": [
       "<div>\n",
       "<style scoped>\n",
       "    .dataframe tbody tr th:only-of-type {\n",
       "        vertical-align: middle;\n",
       "    }\n",
       "\n",
       "    .dataframe tbody tr th {\n",
       "        vertical-align: top;\n",
       "    }\n",
       "\n",
       "    .dataframe thead th {\n",
       "        text-align: right;\n",
       "    }\n",
       "</style>\n",
       "<table border=\"1\" class=\"dataframe\">\n",
       "  <thead>\n",
       "    <tr style=\"text-align: right;\">\n",
       "      <th></th>\n",
       "      <th>variable</th>\n",
       "      <th>bin</th>\n",
       "      <th>count</th>\n",
       "      <th>count_distr</th>\n",
       "      <th>good</th>\n",
       "      <th>bad</th>\n",
       "      <th>badprob</th>\n",
       "      <th>woe</th>\n",
       "      <th>bin_iv</th>\n",
       "      <th>total_iv</th>\n",
       "      <th>breaks</th>\n",
       "      <th>is_special_values</th>\n",
       "    </tr>\n",
       "  </thead>\n",
       "  <tbody>\n",
       "    <tr>\n",
       "      <th>0</th>\n",
       "      <td>NAME_FAMILY_STATUS</td>\n",
       "      <td>[-inf,1.0)</td>\n",
       "      <td>12185</td>\n",
       "      <td>0.106360</td>\n",
       "      <td>10877</td>\n",
       "      <td>1308</td>\n",
       "      <td>0.107345</td>\n",
       "      <td>0.174327</td>\n",
       "      <td>0.003470</td>\n",
       "      <td>0.009239</td>\n",
       "      <td>1.0</td>\n",
       "      <td>False</td>\n",
       "    </tr>\n",
       "    <tr>\n",
       "      <th>1</th>\n",
       "      <td>NAME_FAMILY_STATUS</td>\n",
       "      <td>[1.0,2.0)</td>\n",
       "      <td>78550</td>\n",
       "      <td>0.685643</td>\n",
       "      <td>71755</td>\n",
       "      <td>6795</td>\n",
       "      <td>0.086505</td>\n",
       "      <td>-0.064592</td>\n",
       "      <td>0.002786</td>\n",
       "      <td>0.009239</td>\n",
       "      <td>2.0</td>\n",
       "      <td>False</td>\n",
       "    </tr>\n",
       "    <tr>\n",
       "      <th>2</th>\n",
       "      <td>NAME_FAMILY_STATUS</td>\n",
       "      <td>[2.0,3.0)</td>\n",
       "      <td>6580</td>\n",
       "      <td>0.057435</td>\n",
       "      <td>5961</td>\n",
       "      <td>619</td>\n",
       "      <td>0.094073</td>\n",
       "      <td>0.027590</td>\n",
       "      <td>0.000044</td>\n",
       "      <td>0.009239</td>\n",
       "      <td>3.0</td>\n",
       "      <td>False</td>\n",
       "    </tr>\n",
       "    <tr>\n",
       "      <th>3</th>\n",
       "      <td>NAME_FAMILY_STATUS</td>\n",
       "      <td>[3.0,inf)</td>\n",
       "      <td>17249</td>\n",
       "      <td>0.150562</td>\n",
       "      <td>15460</td>\n",
       "      <td>1789</td>\n",
       "      <td>0.103716</td>\n",
       "      <td>0.135879</td>\n",
       "      <td>0.002938</td>\n",
       "      <td>0.009239</td>\n",
       "      <td>inf</td>\n",
       "      <td>False</td>\n",
       "    </tr>\n",
       "  </tbody>\n",
       "</table>\n",
       "</div>"
      ],
      "text/plain": [
       "             variable         bin  count  count_distr   good   bad   badprob  \\\n",
       "0  NAME_FAMILY_STATUS  [-inf,1.0)  12185     0.106360  10877  1308  0.107345   \n",
       "1  NAME_FAMILY_STATUS   [1.0,2.0)  78550     0.685643  71755  6795  0.086505   \n",
       "2  NAME_FAMILY_STATUS   [2.0,3.0)   6580     0.057435   5961   619  0.094073   \n",
       "3  NAME_FAMILY_STATUS   [3.0,inf)  17249     0.150562  15460  1789  0.103716   \n",
       "\n",
       "        woe    bin_iv  total_iv breaks  is_special_values  \n",
       "0  0.174327  0.003470  0.009239    1.0              False  \n",
       "1 -0.064592  0.002786  0.009239    2.0              False  \n",
       "2  0.027590  0.000044  0.009239    3.0              False  \n",
       "3  0.135879  0.002938  0.009239    inf              False  "
      ]
     },
     "metadata": {},
     "output_type": "display_data"
    },
    {
     "name": "stdout",
     "output_type": "stream",
     "text": [
      "----------------------------------------------------------------------------------------------------\n",
      "DEF_60_CNT_SOCIAL_CIRCLE  : \n"
     ]
    },
    {
     "data": {
      "text/html": [
       "<div>\n",
       "<style scoped>\n",
       "    .dataframe tbody tr th:only-of-type {\n",
       "        vertical-align: middle;\n",
       "    }\n",
       "\n",
       "    .dataframe tbody tr th {\n",
       "        vertical-align: top;\n",
       "    }\n",
       "\n",
       "    .dataframe thead th {\n",
       "        text-align: right;\n",
       "    }\n",
       "</style>\n",
       "<table border=\"1\" class=\"dataframe\">\n",
       "  <thead>\n",
       "    <tr style=\"text-align: right;\">\n",
       "      <th></th>\n",
       "      <th>variable</th>\n",
       "      <th>bin</th>\n",
       "      <th>count</th>\n",
       "      <th>count_distr</th>\n",
       "      <th>good</th>\n",
       "      <th>bad</th>\n",
       "      <th>badprob</th>\n",
       "      <th>woe</th>\n",
       "      <th>bin_iv</th>\n",
       "      <th>total_iv</th>\n",
       "      <th>breaks</th>\n",
       "      <th>is_special_values</th>\n",
       "    </tr>\n",
       "  </thead>\n",
       "  <tbody>\n",
       "    <tr>\n",
       "      <th>0</th>\n",
       "      <td>DEF_60_CNT_SOCIAL_CIRCLE</td>\n",
       "      <td>[-inf,1.0)</td>\n",
       "      <td>104874</td>\n",
       "      <td>0.915418</td>\n",
       "      <td>95565</td>\n",
       "      <td>9309</td>\n",
       "      <td>0.088764</td>\n",
       "      <td>-0.036347</td>\n",
       "      <td>0.001192</td>\n",
       "      <td>0.012266</td>\n",
       "      <td>1.0</td>\n",
       "      <td>False</td>\n",
       "    </tr>\n",
       "    <tr>\n",
       "      <th>1</th>\n",
       "      <td>DEF_60_CNT_SOCIAL_CIRCLE</td>\n",
       "      <td>[1.0,inf)</td>\n",
       "      <td>9690</td>\n",
       "      <td>0.084582</td>\n",
       "      <td>8488</td>\n",
       "      <td>1202</td>\n",
       "      <td>0.124045</td>\n",
       "      <td>0.337811</td>\n",
       "      <td>0.011074</td>\n",
       "      <td>0.012266</td>\n",
       "      <td>inf</td>\n",
       "      <td>False</td>\n",
       "    </tr>\n",
       "  </tbody>\n",
       "</table>\n",
       "</div>"
      ],
      "text/plain": [
       "                   variable         bin   count  count_distr   good   bad  \\\n",
       "0  DEF_60_CNT_SOCIAL_CIRCLE  [-inf,1.0)  104874     0.915418  95565  9309   \n",
       "1  DEF_60_CNT_SOCIAL_CIRCLE   [1.0,inf)    9690     0.084582   8488  1202   \n",
       "\n",
       "    badprob       woe    bin_iv  total_iv breaks  is_special_values  \n",
       "0  0.088764 -0.036347  0.001192  0.012266    1.0              False  \n",
       "1  0.124045  0.337811  0.011074  0.012266    inf              False  "
      ]
     },
     "metadata": {},
     "output_type": "display_data"
    },
    {
     "name": "stdout",
     "output_type": "stream",
     "text": [
      "----------------------------------------------------------------------------------------------------\n",
      "AMT_ANNUITY  : \n"
     ]
    },
    {
     "data": {
      "text/html": [
       "<div>\n",
       "<style scoped>\n",
       "    .dataframe tbody tr th:only-of-type {\n",
       "        vertical-align: middle;\n",
       "    }\n",
       "\n",
       "    .dataframe tbody tr th {\n",
       "        vertical-align: top;\n",
       "    }\n",
       "\n",
       "    .dataframe thead th {\n",
       "        text-align: right;\n",
       "    }\n",
       "</style>\n",
       "<table border=\"1\" class=\"dataframe\">\n",
       "  <thead>\n",
       "    <tr style=\"text-align: right;\">\n",
       "      <th></th>\n",
       "      <th>variable</th>\n",
       "      <th>bin</th>\n",
       "      <th>count</th>\n",
       "      <th>count_distr</th>\n",
       "      <th>good</th>\n",
       "      <th>bad</th>\n",
       "      <th>badprob</th>\n",
       "      <th>woe</th>\n",
       "      <th>bin_iv</th>\n",
       "      <th>total_iv</th>\n",
       "      <th>breaks</th>\n",
       "      <th>is_special_values</th>\n",
       "    </tr>\n",
       "  </thead>\n",
       "  <tbody>\n",
       "    <tr>\n",
       "      <th>0</th>\n",
       "      <td>AMT_ANNUITY</td>\n",
       "      <td>[-inf,14000.0)</td>\n",
       "      <td>19409</td>\n",
       "      <td>0.169416</td>\n",
       "      <td>17979</td>\n",
       "      <td>1430</td>\n",
       "      <td>0.073677</td>\n",
       "      <td>-0.239052</td>\n",
       "      <td>8.782527e-03</td>\n",
       "      <td>0.032036</td>\n",
       "      <td>14000.0</td>\n",
       "      <td>False</td>\n",
       "    </tr>\n",
       "    <tr>\n",
       "      <th>1</th>\n",
       "      <td>AMT_ANNUITY</td>\n",
       "      <td>[14000.0,36000.0)</td>\n",
       "      <td>67860</td>\n",
       "      <td>0.592333</td>\n",
       "      <td>60889</td>\n",
       "      <td>6971</td>\n",
       "      <td>0.102726</td>\n",
       "      <td>0.125184</td>\n",
       "      <td>9.769004e-03</td>\n",
       "      <td>0.032036</td>\n",
       "      <td>36000.0</td>\n",
       "      <td>False</td>\n",
       "    </tr>\n",
       "    <tr>\n",
       "      <th>2</th>\n",
       "      <td>AMT_ANNUITY</td>\n",
       "      <td>[36000.0,42000.0)</td>\n",
       "      <td>10646</td>\n",
       "      <td>0.092926</td>\n",
       "      <td>9668</td>\n",
       "      <td>978</td>\n",
       "      <td>0.091865</td>\n",
       "      <td>0.001411</td>\n",
       "      <td>1.851115e-07</td>\n",
       "      <td>0.032036</td>\n",
       "      <td>42000.0</td>\n",
       "      <td>False</td>\n",
       "    </tr>\n",
       "    <tr>\n",
       "      <th>3</th>\n",
       "      <td>AMT_ANNUITY</td>\n",
       "      <td>[42000.0,inf)</td>\n",
       "      <td>16649</td>\n",
       "      <td>0.145325</td>\n",
       "      <td>15517</td>\n",
       "      <td>1132</td>\n",
       "      <td>0.067992</td>\n",
       "      <td>-0.325472</td>\n",
       "      <td>1.348406e-02</td>\n",
       "      <td>0.032036</td>\n",
       "      <td>inf</td>\n",
       "      <td>False</td>\n",
       "    </tr>\n",
       "  </tbody>\n",
       "</table>\n",
       "</div>"
      ],
      "text/plain": [
       "      variable                bin  count  count_distr   good   bad   badprob  \\\n",
       "0  AMT_ANNUITY     [-inf,14000.0)  19409     0.169416  17979  1430  0.073677   \n",
       "1  AMT_ANNUITY  [14000.0,36000.0)  67860     0.592333  60889  6971  0.102726   \n",
       "2  AMT_ANNUITY  [36000.0,42000.0)  10646     0.092926   9668   978  0.091865   \n",
       "3  AMT_ANNUITY      [42000.0,inf)  16649     0.145325  15517  1132  0.067992   \n",
       "\n",
       "        woe        bin_iv  total_iv   breaks  is_special_values  \n",
       "0 -0.239052  8.782527e-03  0.032036  14000.0              False  \n",
       "1  0.125184  9.769004e-03  0.032036  36000.0              False  \n",
       "2  0.001411  1.851115e-07  0.032036  42000.0              False  \n",
       "3 -0.325472  1.348406e-02  0.032036      inf              False  "
      ]
     },
     "metadata": {},
     "output_type": "display_data"
    },
    {
     "name": "stdout",
     "output_type": "stream",
     "text": [
      "----------------------------------------------------------------------------------------------------\n",
      "CNT_FAM_MEMBERS  : \n"
     ]
    },
    {
     "data": {
      "text/html": [
       "<div>\n",
       "<style scoped>\n",
       "    .dataframe tbody tr th:only-of-type {\n",
       "        vertical-align: middle;\n",
       "    }\n",
       "\n",
       "    .dataframe tbody tr th {\n",
       "        vertical-align: top;\n",
       "    }\n",
       "\n",
       "    .dataframe thead th {\n",
       "        text-align: right;\n",
       "    }\n",
       "</style>\n",
       "<table border=\"1\" class=\"dataframe\">\n",
       "  <thead>\n",
       "    <tr style=\"text-align: right;\">\n",
       "      <th></th>\n",
       "      <th>variable</th>\n",
       "      <th>bin</th>\n",
       "      <th>count</th>\n",
       "      <th>count_distr</th>\n",
       "      <th>good</th>\n",
       "      <th>bad</th>\n",
       "      <th>badprob</th>\n",
       "      <th>woe</th>\n",
       "      <th>bin_iv</th>\n",
       "      <th>total_iv</th>\n",
       "      <th>breaks</th>\n",
       "      <th>is_special_values</th>\n",
       "    </tr>\n",
       "  </thead>\n",
       "  <tbody>\n",
       "    <tr>\n",
       "      <th>0</th>\n",
       "      <td>CNT_FAM_MEMBERS</td>\n",
       "      <td>[-inf,2.0)</td>\n",
       "      <td>15571</td>\n",
       "      <td>0.135915</td>\n",
       "      <td>13972</td>\n",
       "      <td>1599</td>\n",
       "      <td>0.102691</td>\n",
       "      <td>0.124801</td>\n",
       "      <td>0.002228</td>\n",
       "      <td>0.005076</td>\n",
       "      <td>2.0</td>\n",
       "      <td>False</td>\n",
       "    </tr>\n",
       "    <tr>\n",
       "      <th>1</th>\n",
       "      <td>CNT_FAM_MEMBERS</td>\n",
       "      <td>[2.0,3.0)</td>\n",
       "      <td>45360</td>\n",
       "      <td>0.395936</td>\n",
       "      <td>41060</td>\n",
       "      <td>4300</td>\n",
       "      <td>0.094797</td>\n",
       "      <td>0.036059</td>\n",
       "      <td>0.000522</td>\n",
       "      <td>0.005076</td>\n",
       "      <td>3.0</td>\n",
       "      <td>False</td>\n",
       "    </tr>\n",
       "    <tr>\n",
       "      <th>2</th>\n",
       "      <td>CNT_FAM_MEMBERS</td>\n",
       "      <td>[3.0,4.0)</td>\n",
       "      <td>32181</td>\n",
       "      <td>0.280900</td>\n",
       "      <td>29398</td>\n",
       "      <td>2783</td>\n",
       "      <td>0.086480</td>\n",
       "      <td>-0.064919</td>\n",
       "      <td>0.001153</td>\n",
       "      <td>0.005076</td>\n",
       "      <td>4.0</td>\n",
       "      <td>False</td>\n",
       "    </tr>\n",
       "    <tr>\n",
       "      <th>3</th>\n",
       "      <td>CNT_FAM_MEMBERS</td>\n",
       "      <td>[4.0,inf)</td>\n",
       "      <td>21452</td>\n",
       "      <td>0.187249</td>\n",
       "      <td>19623</td>\n",
       "      <td>1829</td>\n",
       "      <td>0.085260</td>\n",
       "      <td>-0.080455</td>\n",
       "      <td>0.001173</td>\n",
       "      <td>0.005076</td>\n",
       "      <td>inf</td>\n",
       "      <td>False</td>\n",
       "    </tr>\n",
       "  </tbody>\n",
       "</table>\n",
       "</div>"
      ],
      "text/plain": [
       "          variable         bin  count  count_distr   good   bad   badprob  \\\n",
       "0  CNT_FAM_MEMBERS  [-inf,2.0)  15571     0.135915  13972  1599  0.102691   \n",
       "1  CNT_FAM_MEMBERS   [2.0,3.0)  45360     0.395936  41060  4300  0.094797   \n",
       "2  CNT_FAM_MEMBERS   [3.0,4.0)  32181     0.280900  29398  2783  0.086480   \n",
       "3  CNT_FAM_MEMBERS   [4.0,inf)  21452     0.187249  19623  1829  0.085260   \n",
       "\n",
       "        woe    bin_iv  total_iv breaks  is_special_values  \n",
       "0  0.124801  0.002228  0.005076    2.0              False  \n",
       "1  0.036059  0.000522  0.005076    3.0              False  \n",
       "2 -0.064919  0.001153  0.005076    4.0              False  \n",
       "3 -0.080455  0.001173  0.005076    inf              False  "
      ]
     },
     "metadata": {},
     "output_type": "display_data"
    },
    {
     "name": "stdout",
     "output_type": "stream",
     "text": [
      "----------------------------------------------------------------------------------------------------\n",
      "EXT_SOURCE_2  : \n"
     ]
    },
    {
     "data": {
      "text/html": [
       "<div>\n",
       "<style scoped>\n",
       "    .dataframe tbody tr th:only-of-type {\n",
       "        vertical-align: middle;\n",
       "    }\n",
       "\n",
       "    .dataframe tbody tr th {\n",
       "        vertical-align: top;\n",
       "    }\n",
       "\n",
       "    .dataframe thead th {\n",
       "        text-align: right;\n",
       "    }\n",
       "</style>\n",
       "<table border=\"1\" class=\"dataframe\">\n",
       "  <thead>\n",
       "    <tr style=\"text-align: right;\">\n",
       "      <th></th>\n",
       "      <th>variable</th>\n",
       "      <th>bin</th>\n",
       "      <th>count</th>\n",
       "      <th>count_distr</th>\n",
       "      <th>good</th>\n",
       "      <th>bad</th>\n",
       "      <th>badprob</th>\n",
       "      <th>woe</th>\n",
       "      <th>bin_iv</th>\n",
       "      <th>total_iv</th>\n",
       "      <th>breaks</th>\n",
       "      <th>is_special_values</th>\n",
       "    </tr>\n",
       "  </thead>\n",
       "  <tbody>\n",
       "    <tr>\n",
       "      <th>0</th>\n",
       "      <td>EXT_SOURCE_2</td>\n",
       "      <td>[-inf,0.16)</td>\n",
       "      <td>7373</td>\n",
       "      <td>0.064357</td>\n",
       "      <td>5638</td>\n",
       "      <td>1735</td>\n",
       "      <td>0.235318</td>\n",
       "      <td>1.113956</td>\n",
       "      <td>0.123517</td>\n",
       "      <td>0.303694</td>\n",
       "      <td>0.16</td>\n",
       "      <td>False</td>\n",
       "    </tr>\n",
       "    <tr>\n",
       "      <th>1</th>\n",
       "      <td>EXT_SOURCE_2</td>\n",
       "      <td>[0.16,0.44)</td>\n",
       "      <td>27167</td>\n",
       "      <td>0.237134</td>\n",
       "      <td>23610</td>\n",
       "      <td>3557</td>\n",
       "      <td>0.130931</td>\n",
       "      <td>0.399725</td>\n",
       "      <td>0.044571</td>\n",
       "      <td>0.303694</td>\n",
       "      <td>0.44</td>\n",
       "      <td>False</td>\n",
       "    </tr>\n",
       "    <tr>\n",
       "      <th>2</th>\n",
       "      <td>EXT_SOURCE_2</td>\n",
       "      <td>[0.44,0.66)</td>\n",
       "      <td>51666</td>\n",
       "      <td>0.450979</td>\n",
       "      <td>47684</td>\n",
       "      <td>3982</td>\n",
       "      <td>0.077072</td>\n",
       "      <td>-0.190334</td>\n",
       "      <td>0.015117</td>\n",
       "      <td>0.303694</td>\n",
       "      <td>0.66</td>\n",
       "      <td>False</td>\n",
       "    </tr>\n",
       "    <tr>\n",
       "      <th>3</th>\n",
       "      <td>EXT_SOURCE_2</td>\n",
       "      <td>[0.66,0.72)</td>\n",
       "      <td>17372</td>\n",
       "      <td>0.151636</td>\n",
       "      <td>16508</td>\n",
       "      <td>864</td>\n",
       "      <td>0.049735</td>\n",
       "      <td>-0.657550</td>\n",
       "      <td>0.050270</td>\n",
       "      <td>0.303694</td>\n",
       "      <td>0.72</td>\n",
       "      <td>False</td>\n",
       "    </tr>\n",
       "    <tr>\n",
       "      <th>4</th>\n",
       "      <td>EXT_SOURCE_2</td>\n",
       "      <td>[0.72,inf)</td>\n",
       "      <td>10986</td>\n",
       "      <td>0.095894</td>\n",
       "      <td>10613</td>\n",
       "      <td>373</td>\n",
       "      <td>0.033952</td>\n",
       "      <td>-1.055778</td>\n",
       "      <td>0.070219</td>\n",
       "      <td>0.303694</td>\n",
       "      <td>inf</td>\n",
       "      <td>False</td>\n",
       "    </tr>\n",
       "  </tbody>\n",
       "</table>\n",
       "</div>"
      ],
      "text/plain": [
       "       variable          bin  count  count_distr   good   bad   badprob  \\\n",
       "0  EXT_SOURCE_2  [-inf,0.16)   7373     0.064357   5638  1735  0.235318   \n",
       "1  EXT_SOURCE_2  [0.16,0.44)  27167     0.237134  23610  3557  0.130931   \n",
       "2  EXT_SOURCE_2  [0.44,0.66)  51666     0.450979  47684  3982  0.077072   \n",
       "3  EXT_SOURCE_2  [0.66,0.72)  17372     0.151636  16508   864  0.049735   \n",
       "4  EXT_SOURCE_2   [0.72,inf)  10986     0.095894  10613   373  0.033952   \n",
       "\n",
       "        woe    bin_iv  total_iv breaks  is_special_values  \n",
       "0  1.113956  0.123517  0.303694   0.16              False  \n",
       "1  0.399725  0.044571  0.303694   0.44              False  \n",
       "2 -0.190334  0.015117  0.303694   0.66              False  \n",
       "3 -0.657550  0.050270  0.303694   0.72              False  \n",
       "4 -1.055778  0.070219  0.303694    inf              False  "
      ]
     },
     "metadata": {},
     "output_type": "display_data"
    },
    {
     "name": "stdout",
     "output_type": "stream",
     "text": [
      "----------------------------------------------------------------------------------------------------\n",
      "age  : \n"
     ]
    },
    {
     "data": {
      "text/html": [
       "<div>\n",
       "<style scoped>\n",
       "    .dataframe tbody tr th:only-of-type {\n",
       "        vertical-align: middle;\n",
       "    }\n",
       "\n",
       "    .dataframe tbody tr th {\n",
       "        vertical-align: top;\n",
       "    }\n",
       "\n",
       "    .dataframe thead th {\n",
       "        text-align: right;\n",
       "    }\n",
       "</style>\n",
       "<table border=\"1\" class=\"dataframe\">\n",
       "  <thead>\n",
       "    <tr style=\"text-align: right;\">\n",
       "      <th></th>\n",
       "      <th>variable</th>\n",
       "      <th>bin</th>\n",
       "      <th>count</th>\n",
       "      <th>count_distr</th>\n",
       "      <th>good</th>\n",
       "      <th>bad</th>\n",
       "      <th>badprob</th>\n",
       "      <th>woe</th>\n",
       "      <th>bin_iv</th>\n",
       "      <th>total_iv</th>\n",
       "      <th>breaks</th>\n",
       "      <th>is_special_values</th>\n",
       "    </tr>\n",
       "  </thead>\n",
       "  <tbody>\n",
       "    <tr>\n",
       "      <th>0</th>\n",
       "      <td>age</td>\n",
       "      <td>[-inf,32.0)</td>\n",
       "      <td>34162</td>\n",
       "      <td>0.298191</td>\n",
       "      <td>30533</td>\n",
       "      <td>3629</td>\n",
       "      <td>0.106229</td>\n",
       "      <td>0.162627</td>\n",
       "      <td>0.008427</td>\n",
       "      <td>0.01892</td>\n",
       "      <td>32.0</td>\n",
       "      <td>False</td>\n",
       "    </tr>\n",
       "    <tr>\n",
       "      <th>1</th>\n",
       "      <td>age</td>\n",
       "      <td>[32.0,37.0)</td>\n",
       "      <td>34633</td>\n",
       "      <td>0.302303</td>\n",
       "      <td>31382</td>\n",
       "      <td>3251</td>\n",
       "      <td>0.093870</td>\n",
       "      <td>0.025206</td>\n",
       "      <td>0.000194</td>\n",
       "      <td>0.01892</td>\n",
       "      <td>37.0</td>\n",
       "      <td>False</td>\n",
       "    </tr>\n",
       "    <tr>\n",
       "      <th>2</th>\n",
       "      <td>age</td>\n",
       "      <td>[37.0,40.0)</td>\n",
       "      <td>23321</td>\n",
       "      <td>0.203563</td>\n",
       "      <td>21392</td>\n",
       "      <td>1929</td>\n",
       "      <td>0.082715</td>\n",
       "      <td>-0.113537</td>\n",
       "      <td>0.002505</td>\n",
       "      <td>0.01892</td>\n",
       "      <td>40.0</td>\n",
       "      <td>False</td>\n",
       "    </tr>\n",
       "    <tr>\n",
       "      <th>3</th>\n",
       "      <td>age</td>\n",
       "      <td>[40.0,inf)</td>\n",
       "      <td>22448</td>\n",
       "      <td>0.195943</td>\n",
       "      <td>20746</td>\n",
       "      <td>1702</td>\n",
       "      <td>0.075820</td>\n",
       "      <td>-0.208071</td>\n",
       "      <td>0.007793</td>\n",
       "      <td>0.01892</td>\n",
       "      <td>inf</td>\n",
       "      <td>False</td>\n",
       "    </tr>\n",
       "  </tbody>\n",
       "</table>\n",
       "</div>"
      ],
      "text/plain": [
       "  variable          bin  count  count_distr   good   bad   badprob       woe  \\\n",
       "0      age  [-inf,32.0)  34162     0.298191  30533  3629  0.106229  0.162627   \n",
       "1      age  [32.0,37.0)  34633     0.302303  31382  3251  0.093870  0.025206   \n",
       "2      age  [37.0,40.0)  23321     0.203563  21392  1929  0.082715 -0.113537   \n",
       "3      age   [40.0,inf)  22448     0.195943  20746  1702  0.075820 -0.208071   \n",
       "\n",
       "     bin_iv  total_iv breaks  is_special_values  \n",
       "0  0.008427   0.01892   32.0              False  \n",
       "1  0.000194   0.01892   37.0              False  \n",
       "2  0.002505   0.01892   40.0              False  \n",
       "3  0.007793   0.01892    inf              False  "
      ]
     },
     "metadata": {},
     "output_type": "display_data"
    },
    {
     "name": "stdout",
     "output_type": "stream",
     "text": [
      "----------------------------------------------------------------------------------------------------\n"
     ]
    }
   ],
   "source": [
    "# automatically calculate bin ranges\n",
    "# bins = sc.woebin(df, y='STATUS',positive=\"bad|0\")\n",
    "bins = sc.woebin(df, y='STATUS')\n",
    "# make it easy to read the bins\n",
    "for variables , bindetails in bins.items():\n",
    "    print(variables , \" : \")\n",
    "    display(bindetails)\n",
    "    print(\"--\"*50)"
   ]
  },
  {
   "cell_type": "code",
   "execution_count": 134,
   "metadata": {},
   "outputs": [],
   "source": [
    "df.drop(\"FLAG_OWN_REALTY\",axis=1,inplace=True) #0.000004\n",
    "# df.drop(\"CNT_FAM_MEMBERS\", axis=1, inplace=True) #0.005"
   ]
  },
  {
   "cell_type": "code",
   "execution_count": 135,
   "metadata": {},
   "outputs": [
    {
     "name": "stdout",
     "output_type": "stream",
     "text": [
      "Index(['STATUS', 'NAME_CONTRACT_TYPE', 'FLAG_OWN_CAR', 'AMT_INCOME_TOTAL',\n",
      "       'AMT_CREDIT', 'AMT_ANNUITY', 'NAME_INCOME_TYPE', 'NAME_EDUCATION_TYPE',\n",
      "       'NAME_FAMILY_STATUS', 'NAME_HOUSING_TYPE', 'DAYS_EMPLOYED',\n",
      "       'OCCUPATION_TYPE', 'CNT_FAM_MEMBERS', 'EXT_SOURCE_2',\n",
      "       'DEF_60_CNT_SOCIAL_CIRCLE', 'age'],\n",
      "      dtype='object')\n"
     ]
    }
   ],
   "source": [
    "len(df.columns)\n",
    "print(df.columns) #exlucing status, we have 15 characteristics"
   ]
  },
  {
   "cell_type": "code",
   "execution_count": 136,
   "metadata": {},
   "outputs": [
    {
     "name": "stdout",
     "output_type": "stream",
     "text": [
      "(114564, 16)\n"
     ]
    },
    {
     "data": {
      "text/html": [
       "<div>\n",
       "<style scoped>\n",
       "    .dataframe tbody tr th:only-of-type {\n",
       "        vertical-align: middle;\n",
       "    }\n",
       "\n",
       "    .dataframe tbody tr th {\n",
       "        vertical-align: top;\n",
       "    }\n",
       "\n",
       "    .dataframe thead th {\n",
       "        text-align: right;\n",
       "    }\n",
       "</style>\n",
       "<table border=\"1\" class=\"dataframe\">\n",
       "  <thead>\n",
       "    <tr style=\"text-align: right;\">\n",
       "      <th></th>\n",
       "      <th>STATUS</th>\n",
       "      <th>NAME_CONTRACT_TYPE</th>\n",
       "      <th>FLAG_OWN_CAR</th>\n",
       "      <th>AMT_INCOME_TOTAL</th>\n",
       "      <th>AMT_CREDIT</th>\n",
       "      <th>AMT_ANNUITY</th>\n",
       "      <th>NAME_INCOME_TYPE</th>\n",
       "      <th>NAME_EDUCATION_TYPE</th>\n",
       "      <th>NAME_FAMILY_STATUS</th>\n",
       "      <th>NAME_HOUSING_TYPE</th>\n",
       "      <th>DAYS_EMPLOYED</th>\n",
       "      <th>OCCUPATION_TYPE</th>\n",
       "      <th>CNT_FAM_MEMBERS</th>\n",
       "      <th>EXT_SOURCE_2</th>\n",
       "      <th>DEF_60_CNT_SOCIAL_CIRCLE</th>\n",
       "      <th>age</th>\n",
       "    </tr>\n",
       "  </thead>\n",
       "  <tbody>\n",
       "    <tr>\n",
       "      <th>0</th>\n",
       "      <td>0</td>\n",
       "      <td>0</td>\n",
       "      <td>1</td>\n",
       "      <td>171000.0</td>\n",
       "      <td>1560726.0</td>\n",
       "      <td>41301.0</td>\n",
       "      <td>5</td>\n",
       "      <td>4</td>\n",
       "      <td>1</td>\n",
       "      <td>6</td>\n",
       "      <td>-3130</td>\n",
       "      <td>18</td>\n",
       "      <td>3.0</td>\n",
       "      <td>0.724000</td>\n",
       "      <td>0.0</td>\n",
       "      <td>37.0</td>\n",
       "    </tr>\n",
       "    <tr>\n",
       "      <th>1</th>\n",
       "      <td>0</td>\n",
       "      <td>0</td>\n",
       "      <td>0</td>\n",
       "      <td>112500.0</td>\n",
       "      <td>652500.0</td>\n",
       "      <td>21177.0</td>\n",
       "      <td>3</td>\n",
       "      <td>4</td>\n",
       "      <td>1</td>\n",
       "      <td>6</td>\n",
       "      <td>-679</td>\n",
       "      <td>16</td>\n",
       "      <td>3.0</td>\n",
       "      <td>0.651862</td>\n",
       "      <td>0.0</td>\n",
       "      <td>27.0</td>\n",
       "    </tr>\n",
       "    <tr>\n",
       "      <th>2</th>\n",
       "      <td>0</td>\n",
       "      <td>0</td>\n",
       "      <td>0</td>\n",
       "      <td>67500.0</td>\n",
       "      <td>80865.0</td>\n",
       "      <td>5881.5</td>\n",
       "      <td>3</td>\n",
       "      <td>2</td>\n",
       "      <td>1</td>\n",
       "      <td>6</td>\n",
       "      <td>-2717</td>\n",
       "      <td>6</td>\n",
       "      <td>2.0</td>\n",
       "      <td>0.715042</td>\n",
       "      <td>0.0</td>\n",
       "      <td>36.0</td>\n",
       "    </tr>\n",
       "    <tr>\n",
       "      <th>3</th>\n",
       "      <td>0</td>\n",
       "      <td>0</td>\n",
       "      <td>1</td>\n",
       "      <td>225000.0</td>\n",
       "      <td>918468.0</td>\n",
       "      <td>28966.5</td>\n",
       "      <td>3</td>\n",
       "      <td>2</td>\n",
       "      <td>1</td>\n",
       "      <td>6</td>\n",
       "      <td>-3028</td>\n",
       "      <td>7</td>\n",
       "      <td>3.0</td>\n",
       "      <td>0.566907</td>\n",
       "      <td>0.0</td>\n",
       "      <td>38.0</td>\n",
       "    </tr>\n",
       "    <tr>\n",
       "      <th>4</th>\n",
       "      <td>0</td>\n",
       "      <td>0</td>\n",
       "      <td>0</td>\n",
       "      <td>108000.0</td>\n",
       "      <td>509602.5</td>\n",
       "      <td>26149.5</td>\n",
       "      <td>3</td>\n",
       "      <td>2</td>\n",
       "      <td>1</td>\n",
       "      <td>6</td>\n",
       "      <td>-1317</td>\n",
       "      <td>7</td>\n",
       "      <td>2.0</td>\n",
       "      <td>0.236378</td>\n",
       "      <td>0.0</td>\n",
       "      <td>35.0</td>\n",
       "    </tr>\n",
       "  </tbody>\n",
       "</table>\n",
       "</div>"
      ],
      "text/plain": [
       "   STATUS  NAME_CONTRACT_TYPE  FLAG_OWN_CAR  AMT_INCOME_TOTAL  AMT_CREDIT  \\\n",
       "0       0                   0             1          171000.0   1560726.0   \n",
       "1       0                   0             0          112500.0    652500.0   \n",
       "2       0                   0             0           67500.0     80865.0   \n",
       "3       0                   0             1          225000.0    918468.0   \n",
       "4       0                   0             0          108000.0    509602.5   \n",
       "\n",
       "   AMT_ANNUITY  NAME_INCOME_TYPE  NAME_EDUCATION_TYPE  NAME_FAMILY_STATUS  \\\n",
       "0      41301.0                 5                    4                   1   \n",
       "1      21177.0                 3                    4                   1   \n",
       "2       5881.5                 3                    2                   1   \n",
       "3      28966.5                 3                    2                   1   \n",
       "4      26149.5                 3                    2                   1   \n",
       "\n",
       "   NAME_HOUSING_TYPE  DAYS_EMPLOYED  OCCUPATION_TYPE  CNT_FAM_MEMBERS  \\\n",
       "0                  6          -3130               18              3.0   \n",
       "1                  6           -679               16              3.0   \n",
       "2                  6          -2717                6              2.0   \n",
       "3                  6          -3028                7              3.0   \n",
       "4                  6          -1317                7              2.0   \n",
       "\n",
       "   EXT_SOURCE_2  DEF_60_CNT_SOCIAL_CIRCLE   age  \n",
       "0      0.724000                       0.0  37.0  \n",
       "1      0.651862                       0.0  27.0  \n",
       "2      0.715042                       0.0  36.0  \n",
       "3      0.566907                       0.0  38.0  \n",
       "4      0.236378                       0.0  35.0  "
      ]
     },
     "execution_count": 136,
     "metadata": {},
     "output_type": "execute_result"
    }
   ],
   "source": [
    "print(df.shape)\n",
    "df.head()"
   ]
  },
  {
   "cell_type": "markdown",
   "metadata": {},
   "source": [
    "# Adjust NAME_HOUSING_TYPE"
   ]
  },
  {
   "cell_type": "code",
   "execution_count": 137,
   "metadata": {},
   "outputs": [
    {
     "data": {
      "text/plain": [
       "1     7889\n",
       "2     2437\n",
       "3     3815\n",
       "4     1199\n",
       "5      516\n",
       "6    98708\n",
       "Name: NAME_HOUSING_TYPE, dtype: int64"
      ]
     },
     "execution_count": 137,
     "metadata": {},
     "output_type": "execute_result"
    }
   ],
   "source": [
    "df[\"NAME_HOUSING_TYPE\"].value_counts().sort_index()"
   ]
  },
  {
   "cell_type": "code",
   "execution_count": 138,
   "metadata": {},
   "outputs": [
    {
     "name": "stdout",
     "output_type": "stream",
     "text": [
      "[INFO] creating woe binning ...\n",
      "Binning on 114564 rows and 16 columns in 00:00:10\n"
     ]
    },
    {
     "data": {
      "text/plain": [
       "{'NAME_HOUSING_TYPE': <Figure size 432x288 with 2 Axes>}"
      ]
     },
     "execution_count": 138,
     "metadata": {},
     "output_type": "execute_result"
    },
    {
     "data": {
      "image/png": "[encoded data removed]",
      "text/plain": [
       "<Figure size 432x288 with 2 Axes>"
      ]
     },
     "metadata": {
      "needs_background": "light"
     },
     "output_type": "display_data"
    }
   ],
   "source": [
    "#adjust the bins\n",
    "breaks_adj = {'NAME_HOUSING_TYPE' : [4]}\n",
    "bins0 = sc.woebin(df, y='STATUS',breaks_list=breaks_adj)\n",
    "sc.woebin_plot(bins0['NAME_HOUSING_TYPE'])"
   ]
  },
  {
   "cell_type": "markdown",
   "metadata": {},
   "source": [
    "# Adjust Occupation Type"
   ]
  },
  {
   "cell_type": "code",
   "execution_count": 23,
   "metadata": {},
   "outputs": [
    {
     "data": {
      "text/plain": [
       "1       923\n",
       "2      2459\n",
       "3      1179\n",
       "4      2157\n",
       "5       586\n",
       "6     25203\n",
       "7      8063\n",
       "8     15099\n",
       "9       402\n",
       "10      651\n",
       "11    18883\n",
       "12     3583\n",
       "13     9875\n",
       "14     5159\n",
       "15      279\n",
       "16    13653\n",
       "17     1300\n",
       "18     4800\n",
       "19      310\n",
       "Name: OCCUPATION_TYPE, dtype: int64"
      ]
     },
     "execution_count": 23,
     "metadata": {},
     "output_type": "execute_result"
    }
   ],
   "source": [
    "df[\"OCCUPATION_TYPE\"].value_counts().sort_index()"
   ]
  },
  {
   "cell_type": "code",
   "execution_count": 140,
   "metadata": {},
   "outputs": [
    {
     "name": "stdout",
     "output_type": "stream",
     "text": [
      "[INFO] creating woe binning ...\n",
      "Binning on 114564 rows and 16 columns in 00:00:11\n"
     ]
    },
    {
     "data": {
      "text/plain": [
       "{'OCCUPATION_TYPE': <Figure size 432x288 with 2 Axes>}"
      ]
     },
     "execution_count": 140,
     "metadata": {},
     "output_type": "execute_result"
    },
    {
     "data": {
      "image/png": "[encoded data removed]",
      "text/plain": [
       "<Figure size 432x288 with 2 Axes>"
      ]
     },
     "metadata": {
      "needs_background": "light"
     },
     "output_type": "display_data"
    }
   ],
   "source": [
    "#adjust the bins\n",
    "breaks_adj = {'OCCUPATION_TYPE' : [1,  6, 9]}\n",
    "# bins2 = sc.woebin(df, y='STATUS',breaks_list=breaks_adj, positive=\"bad|0\")\n",
    "bins2 = sc.woebin(df, y='STATUS',breaks_list=breaks_adj)\n",
    "sc.woebin_plot(bins2['OCCUPATION_TYPE'])"
   ]
  },
  {
   "cell_type": "markdown",
   "metadata": {},
   "source": [
    "# Adjust name income type"
   ]
  },
  {
   "cell_type": "code",
   "execution_count": 141,
   "metadata": {},
   "outputs": [
    {
     "data": {
      "text/plain": [
       "1        6\n",
       "2      698\n",
       "3    71587\n",
       "4    10068\n",
       "5    32204\n",
       "6        1\n",
       "Name: NAME_INCOME_TYPE, dtype: int64"
      ]
     },
     "execution_count": 141,
     "metadata": {},
     "output_type": "execute_result"
    }
   ],
   "source": [
    "df[\"NAME_INCOME_TYPE\"].value_counts().sort_index()"
   ]
  },
  {
   "cell_type": "code",
   "execution_count": 173,
   "metadata": {},
   "outputs": [
    {
     "name": "stdout",
     "output_type": "stream",
     "text": [
      "[INFO] creating woe binning ...\n",
      "Binning on 114564 rows and 18 columns in 00:00:12\n"
     ]
    },
    {
     "data": {
      "text/plain": [
       "{'NAME_INCOME_TYPE': <Figure size 432x288 with 2 Axes>}"
      ]
     },
     "execution_count": 173,
     "metadata": {},
     "output_type": "execute_result"
    },
    {
     "data": {
      "image/png": "[encoded data removed]",
      "text/plain": [
       "<Figure size 432x288 with 2 Axes>"
      ]
     },
     "metadata": {
      "needs_background": "light"
     },
     "output_type": "display_data"
    }
   ],
   "source": [
    "#adjust the bins\n",
    "breaks_adj = {'NAME_INCOME_TYPE' : [4,5]}\n",
    "# bins3 = sc.woebin(df, y='STATUS',breaks_list=breaks_adj, positive=\"bad|0\")\n",
    "bins3 = sc.woebin(df, y='STATUS',breaks_list=breaks_adj)\n",
    "sc.woebin_plot(bins3['NAME_INCOME_TYPE'])"
   ]
  },
  {
   "cell_type": "markdown",
   "metadata": {},
   "source": [
    "# Adjust name education type"
   ]
  },
  {
   "cell_type": "code",
   "execution_count": 143,
   "metadata": {},
   "outputs": [
    {
     "data": {
      "text/plain": [
       "1     1184\n",
       "2    74076\n",
       "3     4757\n",
       "4    34483\n",
       "5       64\n",
       "Name: NAME_EDUCATION_TYPE, dtype: int64"
      ]
     },
     "execution_count": 143,
     "metadata": {},
     "output_type": "execute_result"
    }
   ],
   "source": [
    "df[\"NAME_EDUCATION_TYPE\"].value_counts().sort_index()"
   ]
  },
  {
   "cell_type": "code",
   "execution_count": 178,
   "metadata": {},
   "outputs": [
    {
     "name": "stdout",
     "output_type": "stream",
     "text": [
      "[INFO] creating woe binning ...\n",
      "Binning on 114564 rows and 18 columns in 00:00:12\n"
     ]
    },
    {
     "data": {
      "text/plain": [
       "{'NAME_EDUCATION_TYPE': <Figure size 432x288 with 2 Axes>}"
      ]
     },
     "execution_count": 178,
     "metadata": {},
     "output_type": "execute_result"
    },
    {
     "data": {
      "image/png": "[encoded data removed]",
      "text/plain": [
       "<Figure size 432x288 with 2 Axes>"
      ]
     },
     "metadata": {
      "needs_background": "light"
     },
     "output_type": "display_data"
    }
   ],
   "source": [
    "#adjust the bins\n",
    "breaks_adj = {'NAME_EDUCATION_TYPE' : [3]}\n",
    "# bins4 = sc.woebin(df, y='STATUS',breaks_list=breaks_adj, positive=\"bad|0\")\n",
    "bins4 = sc.woebin(df, y='STATUS',breaks_list=breaks_adj)\n",
    "sc.woebin_plot(bins4['NAME_EDUCATION_TYPE'])"
   ]
  },
  {
   "cell_type": "markdown",
   "metadata": {},
   "source": [
    "# Adjust amt income total"
   ]
  },
  {
   "cell_type": "code",
   "execution_count": null,
   "metadata": {},
   "outputs": [
    {
     "data": {
      "text/plain": [
       "26550.0         1\n",
       "27000.0        15\n",
       "27900.0         2\n",
       "28723.5         1\n",
       "29250.0         4\n",
       "               ..\n",
       "3375000.0       1\n",
       "3600000.0       2\n",
       "3950059.5       1\n",
       "4500000.0       1\n",
       "117000000.0     1\n",
       "Name: AMT_INCOME_TOTAL, Length: 1172, dtype: int64"
      ]
     },
     "execution_count": 19,
     "metadata": {},
     "output_type": "execute_result"
    }
   ],
   "source": [
    "df[\"AMT_INCOME_TOTAL\"].value_counts().sort_index()"
   ]
  },
  {
   "cell_type": "code",
   "execution_count": 190,
   "metadata": {},
   "outputs": [
    {
     "name": "stdout",
     "output_type": "stream",
     "text": [
      "[INFO] creating woe binning ...\n",
      "Binning on 114564 rows and 18 columns in 00:00:12\n"
     ]
    },
    {
     "data": {
      "text/plain": [
       "{'AMT_INCOME_TOTAL': <Figure size 432x288 with 2 Axes>}"
      ]
     },
     "execution_count": 190,
     "metadata": {},
     "output_type": "execute_result"
    },
    {
     "data": {
      "image/png": "[encoded data removed]",
      "text/plain": [
       "<Figure size 432x288 with 2 Axes>"
      ]
     },
     "metadata": {
      "needs_background": "light"
     },
     "output_type": "display_data"
    }
   ],
   "source": [
    "#adjust the bins\n",
    "breaks_adj = {'AMT_INCOME_TOTAL' : [90000,200000,250000, 300000]}\n",
    "# bins5 = sc.woebin(df, y='STATUS',breaks_list=breaks_adj, positive=\"bad|0\")\n",
    "bins5 = sc.woebin(df, y='STATUS',breaks_list=breaks_adj)\n",
    "sc.woebin_plot(bins5['AMT_INCOME_TOTAL'])"
   ]
  },
  {
   "cell_type": "markdown",
   "metadata": {},
   "source": [
    "# Adjust days employed"
   ]
  },
  {
   "cell_type": "code",
   "execution_count": 248,
   "metadata": {},
   "outputs": [
    {
     "data": {
      "text/plain": [
       "4       2\n",
       "5       1\n",
       "8       1\n",
       "9       2\n",
       "12      1\n",
       "       ..\n",
       "9039    1\n",
       "9100    1\n",
       "9112    1\n",
       "9123    1\n",
       "9136    1\n",
       "Name: DAYS_EMPLOYED, Length: 7974, dtype: int64"
      ]
     },
     "execution_count": 248,
     "metadata": {},
     "output_type": "execute_result"
    }
   ],
   "source": [
    "df[\"DAYS_EMPLOYED\"].value_counts().sort_index()"
   ]
  },
  {
   "cell_type": "code",
   "execution_count": 249,
   "metadata": {},
   "outputs": [
    {
     "name": "stdout",
     "output_type": "stream",
     "text": [
      "[INFO] creating woe binning ...\n",
      "Binning on 113865 rows and 18 columns in 00:00:12\n"
     ]
    },
    {
     "data": {
      "text/plain": [
       "{'DAYS_EMPLOYED': <Figure size 432x288 with 2 Axes>}"
      ]
     },
     "execution_count": 249,
     "metadata": {},
     "output_type": "execute_result"
    },
    {
     "data": {
      "image/png": "[encoded data removed]",
      "text/plain": [
       "<Figure size 432x288 with 2 Axes>"
      ]
     },
     "metadata": {
      "needs_background": "light"
     },
     "output_type": "display_data"
    }
   ],
   "source": [
    "#adjust the bins\n",
    "breaks_adj = {'DAYS_EMPLOYED' : [1000,1700,2200,3500,5000]}\n",
    "# bins6 = sc.woebin(df, y='STATUS',breaks_list=breaks_adj, positive=\"bad|0\")\n",
    "bins6 = sc.woebin(df, y='STATUS',breaks_list=breaks_adj)\n",
    "sc.woebin_plot(bins6['DAYS_EMPLOYED'])"
   ]
  },
  {
   "cell_type": "markdown",
   "metadata": {},
   "source": [
    "# Adjust amt annuity"
   ]
  },
  {
   "cell_type": "code",
   "execution_count": null,
   "metadata": {},
   "outputs": [
    {
     "data": {
      "text/plain": [
       "0.0          5\n",
       "2187.0       1\n",
       "2205.0       1\n",
       "2754.0       1\n",
       "2781.0       2\n",
       "            ..\n",
       "213291.0     3\n",
       "215500.5     1\n",
       "220297.5     1\n",
       "225000.0    10\n",
       "258025.5     1\n",
       "Name: AMT_ANNUITY, Length: 10881, dtype: int64"
      ]
     },
     "execution_count": 23,
     "metadata": {},
     "output_type": "execute_result"
    }
   ],
   "source": [
    "df[\"AMT_ANNUITY\"].value_counts().sort_index()"
   ]
  },
  {
   "cell_type": "code",
   "execution_count": 193,
   "metadata": {},
   "outputs": [
    {
     "name": "stdout",
     "output_type": "stream",
     "text": [
      "[INFO] creating woe binning ...\n",
      "Binning on 114564 rows and 18 columns in 00:00:12\n"
     ]
    },
    {
     "data": {
      "text/plain": [
       "{'AMT_ANNUITY': <Figure size 432x288 with 2 Axes>}"
      ]
     },
     "execution_count": 193,
     "metadata": {},
     "output_type": "execute_result"
    },
    {
     "data": {
      "image/png": "[encoded data removed]",
      "text/plain": [
       "<Figure size 432x288 with 2 Axes>"
      ]
     },
     "metadata": {
      "needs_background": "light"
     },
     "output_type": "display_data"
    }
   ],
   "source": [
    "#adjust the bins\n",
    "breaks_adj = {'AMT_ANNUITY' : [12000, 16000]}\n",
    "# bins7 = sc.woebin(df, y='STATUS',breaks_list=breaks_adj, positive=\"bad|0\")\n",
    "bins7 = sc.woebin(df, y='STATUS',breaks_list=breaks_adj)\n",
    "sc.woebin_plot(bins7['AMT_ANNUITY'])"
   ]
  },
  {
   "cell_type": "markdown",
   "metadata": {},
   "source": [
    "# Adjust ext source 2"
   ]
  },
  {
   "cell_type": "code",
   "execution_count": null,
   "metadata": {},
   "outputs": [
    {
     "data": {
      "text/plain": [
       "0.000001    1\n",
       "0.000006    1\n",
       "0.000010    1\n",
       "0.000017    1\n",
       "0.000017    1\n",
       "           ..\n",
       "0.816462    1\n",
       "0.816504    1\n",
       "0.817873    1\n",
       "0.821714    1\n",
       "0.855000    9\n",
       "Name: EXT_SOURCE_2, Length: 72580, dtype: int64"
      ]
     },
     "execution_count": 25,
     "metadata": {},
     "output_type": "execute_result"
    }
   ],
   "source": [
    "df[\"EXT_SOURCE_2\"].value_counts().sort_index()"
   ]
  },
  {
   "cell_type": "code",
   "execution_count": 212,
   "metadata": {},
   "outputs": [
    {
     "name": "stdout",
     "output_type": "stream",
     "text": [
      "[INFO] creating woe binning ...\n",
      "Binning on 114564 rows and 18 columns in 00:00:11\n"
     ]
    },
    {
     "data": {
      "text/plain": [
       "{'EXT_SOURCE_2': <Figure size 432x288 with 2 Axes>}"
      ]
     },
     "execution_count": 212,
     "metadata": {},
     "output_type": "execute_result"
    },
    {
     "data": {
      "image/png": "[encoded data removed]",
      "text/plain": [
       "<Figure size 432x288 with 2 Axes>"
      ]
     },
     "metadata": {
      "needs_background": "light"
     },
     "output_type": "display_data"
    }
   ],
   "source": [
    "#adjust the bins\n",
    "breaks_adj = {'EXT_SOURCE_2' : [0.14,0.25,0.35,0.6]}\n",
    "# bins8 = sc.woebin(df, y='STATUS',breaks_list=breaks_adj, positive=\"bad|0\")\n",
    "bins8 = sc.woebin(df, y='STATUS',breaks_list=breaks_adj)\n",
    "sc.woebin_plot(bins8['EXT_SOURCE_2'])"
   ]
  },
  {
   "cell_type": "markdown",
   "metadata": {},
   "source": [
    "# Adjusting amt_credit"
   ]
  },
  {
   "cell_type": "code",
   "execution_count": null,
   "metadata": {},
   "outputs": [
    {
     "data": {
      "text/plain": [
       "45000.0      79\n",
       "47970.0      60\n",
       "48519.0       1\n",
       "49455.0       4\n",
       "49500.0      15\n",
       "             ..\n",
       "3312162.0     1\n",
       "3375000.0     3\n",
       "3600000.0     2\n",
       "3860019.0     1\n",
       "4050000.0     5\n",
       "Name: AMT_CREDIT, Length: 4124, dtype: int64"
      ]
     },
     "execution_count": 27,
     "metadata": {},
     "output_type": "execute_result"
    }
   ],
   "source": [
    "df[\"AMT_CREDIT\"].value_counts().sort_index()"
   ]
  },
  {
   "cell_type": "code",
   "execution_count": 217,
   "metadata": {},
   "outputs": [
    {
     "name": "stdout",
     "output_type": "stream",
     "text": [
      "[INFO] creating woe binning ...\n",
      "Binning on 114564 rows and 18 columns in 00:00:12\n"
     ]
    },
    {
     "data": {
      "text/plain": [
       "{'AMT_CREDIT': <Figure size 432x288 with 2 Axes>}"
      ]
     },
     "execution_count": 217,
     "metadata": {},
     "output_type": "execute_result"
    },
    {
     "data": {
      "image/png": "[encoded data removed]",
      "text/plain": [
       "<Figure size 432x288 with 2 Axes>"
      ]
     },
     "metadata": {
      "needs_background": "light"
     },
     "output_type": "display_data"
    }
   ],
   "source": [
    "#adjust the bins\n",
    "breaks_adj = {'AMT_CREDIT' : [150000,200000,250000, 300000]}\n",
    "# bins9 = sc.woebin(df, y='STATUS',breaks_list=breaks_adj, positive=\"bad|0\")\n",
    "bins9 = sc.woebin(df, y='STATUS',breaks_list=breaks_adj)\n",
    "sc.woebin_plot(bins9['AMT_CREDIT'])"
   ]
  },
  {
   "cell_type": "markdown",
   "metadata": {},
   "source": [
    "# Adjust CNT_FAM_MEMBERS"
   ]
  },
  {
   "cell_type": "code",
   "execution_count": null,
   "metadata": {},
   "outputs": [
    {
     "data": {
      "text/plain": [
       "1.0     15571\n",
       "2.0     45360\n",
       "3.0     32181\n",
       "4.0     18466\n",
       "5.0      2639\n",
       "6.0       270\n",
       "7.0        54\n",
       "8.0        11\n",
       "9.0         2\n",
       "10.0        3\n",
       "11.0        1\n",
       "12.0        1\n",
       "14.0        2\n",
       "16.0        1\n",
       "20.0        2\n",
       "Name: CNT_FAM_MEMBERS, dtype: int64"
      ]
     },
     "execution_count": 29,
     "metadata": {},
     "output_type": "execute_result"
    }
   ],
   "source": [
    "df[\"CNT_FAM_MEMBERS\"].value_counts().sort_index()"
   ]
  },
  {
   "cell_type": "code",
   "execution_count": null,
   "metadata": {},
   "outputs": [
    {
     "name": "stdout",
     "output_type": "stream",
     "text": [
      "[INFO] creating woe binning ...\n"
     ]
    },
    {
     "data": {
      "text/plain": [
       "{'CNT_FAM_MEMBERS': <Figure size 432x288 with 2 Axes>}"
      ]
     },
     "execution_count": 30,
     "metadata": {},
     "output_type": "execute_result"
    },
    {
     "data": {
      "image/png": "[encoded data removed]",
      "text/plain": [
       "<Figure size 432x288 with 2 Axes>"
      ]
     },
     "metadata": {
      "needs_background": "light"
     },
     "output_type": "display_data"
    }
   ],
   "source": [
    "#adjust the bins\n",
    "breaks_adj = {'CNT_FAM_MEMBERS' : [1,2,3]}\n",
    "# bins10 = sc.woebin(df, y='STATUS',breaks_list=breaks_adj, positive=\"bad|0\")\n",
    "bins10 = sc.woebin(df, y='STATUS',breaks_list=breaks_adj)\n",
    "sc.woebin_plot(bins10['CNT_FAM_MEMBERS'])"
   ]
  },
  {
   "cell_type": "markdown",
   "metadata": {},
   "source": [
    "# ADJ NAME_FAMILY_STATUS"
   ]
  },
  {
   "cell_type": "code",
   "execution_count": null,
   "metadata": {},
   "outputs": [
    {
     "data": {
      "text/plain": [
       "0    12185\n",
       "1    78550\n",
       "2     6580\n",
       "3    16340\n",
       "4      909\n",
       "Name: NAME_FAMILY_STATUS, dtype: int64"
      ]
     },
     "execution_count": 31,
     "metadata": {},
     "output_type": "execute_result"
    }
   ],
   "source": [
    "df[\"NAME_FAMILY_STATUS\"].value_counts().sort_index()"
   ]
  },
  {
   "cell_type": "code",
   "execution_count": null,
   "metadata": {},
   "outputs": [
    {
     "name": "stdout",
     "output_type": "stream",
     "text": [
      "[INFO] creating woe binning ...\n"
     ]
    },
    {
     "data": {
      "text/plain": [
       "{'NAME_FAMILY_STATUS': <Figure size 432x288 with 2 Axes>}"
      ]
     },
     "execution_count": 32,
     "metadata": {},
     "output_type": "execute_result"
    },
    {
     "data": {
      "image/png": "[encoded data removed]",
      "text/plain": [
       "<Figure size 432x288 with 2 Axes>"
      ]
     },
     "metadata": {
      "needs_background": "light"
     },
     "output_type": "display_data"
    }
   ],
   "source": [
    "#adjust the bins\n",
    "breaks_adj = {'NAME_FAMILY_STATUS' : [0,3]}\n",
    "# bins11 = sc.woebin(df, y='STATUS',breaks_list=breaks_adj, positive=\"bad|0\")\n",
    "bins11 = sc.woebin(df, y='STATUS',breaks_list=breaks_adj)\n",
    "sc.woebin_plot(bins11['NAME_FAMILY_STATUS'])"
   ]
  },
  {
   "cell_type": "markdown",
   "metadata": {},
   "source": [
    "# Adjust AGE"
   ]
  },
  {
   "cell_type": "code",
   "execution_count": null,
   "metadata": {},
   "outputs": [
    {
     "data": {
      "text/plain": [
       "27.0    7061\n",
       "28.0    6700\n",
       "29.0    6491\n",
       "30.0    6636\n",
       "31.0    7274\n",
       "32.0    6833\n",
       "33.0    6789\n",
       "34.0    6675\n",
       "35.0    6824\n",
       "36.0    7512\n",
       "37.0    7779\n",
       "38.0    7860\n",
       "39.0    7682\n",
       "40.0    7677\n",
       "41.0    7500\n",
       "42.0    7271\n",
       "Name: age, dtype: int64"
      ]
     },
     "execution_count": 33,
     "metadata": {},
     "output_type": "execute_result"
    }
   ],
   "source": [
    "df[\"age\"].value_counts().sort_index()"
   ]
  },
  {
   "cell_type": "code",
   "execution_count": null,
   "metadata": {},
   "outputs": [
    {
     "name": "stdout",
     "output_type": "stream",
     "text": [
      "[INFO] creating woe binning ...\n"
     ]
    },
    {
     "data": {
      "text/plain": [
       "{'age': <Figure size 432x288 with 2 Axes>}"
      ]
     },
     "execution_count": 34,
     "metadata": {},
     "output_type": "execute_result"
    },
    {
     "data": {
      "image/png": "[encoded data removed]",
      "text/plain": [
       "<Figure size 432x288 with 2 Axes>"
      ]
     },
     "metadata": {
      "needs_background": "light"
     },
     "output_type": "display_data"
    }
   ],
   "source": [
    "#adjust the bins\n",
    "breaks_adj = {'age' : [27, 30,35, 40]}\n",
    "# bins12 = sc.woebin(df, y='STATUS',breaks_list=breaks_adj, positive=\"bad|0\")\n",
    "bins12 = sc.woebin(df, y='STATUS',breaks_list=breaks_adj)\n",
    "sc.woebin_plot(bins12['age'])"
   ]
  },
  {
   "cell_type": "markdown",
   "metadata": {},
   "source": [
    "# Adj Name_contract_type"
   ]
  },
  {
   "cell_type": "code",
   "execution_count": null,
   "metadata": {},
   "outputs": [
    {
     "data": {
      "text/plain": [
       "0    103860\n",
       "1     10704\n",
       "Name: NAME_CONTRACT_TYPE, dtype: int64"
      ]
     },
     "execution_count": 36,
     "metadata": {},
     "output_type": "execute_result"
    }
   ],
   "source": [
    "df[\"NAME_CONTRACT_TYPE\"].value_counts().sort_index()"
   ]
  },
  {
   "cell_type": "code",
   "execution_count": null,
   "metadata": {},
   "outputs": [
    {
     "name": "stdout",
     "output_type": "stream",
     "text": [
      "[INFO] creating woe binning ...\n"
     ]
    },
    {
     "data": {
      "text/plain": [
       "{'NAME_CONTRACT_TYPE': <Figure size 432x288 with 2 Axes>}"
      ]
     },
     "execution_count": 37,
     "metadata": {},
     "output_type": "execute_result"
    },
    {
     "data": {
      "image/png": "[encoded data removed]",
      "text/plain": [
       "<Figure size 432x288 with 2 Axes>"
      ]
     },
     "metadata": {
      "needs_background": "light"
     },
     "output_type": "display_data"
    }
   ],
   "source": [
    "#adjust the bins\n",
    "breaks_adj = {'NAME_CONTRACT_TYPE' : [0,1]}\n",
    "# bins13 = sc.woebin(df, y='STATUS',breaks_list=breaks_adj, positive=\"bad|0\")\n",
    "bins13 = sc.woebin(df, y='STATUS',breaks_list=breaks_adj)\n",
    "sc.woebin_plot(bins13['NAME_CONTRACT_TYPE'])"
   ]
  },
  {
   "cell_type": "markdown",
   "metadata": {},
   "source": [
    "# Adjust DEF_60_CNT_SOCIAL_CIRCLE"
   ]
  },
  {
   "cell_type": "code",
   "execution_count": null,
   "metadata": {},
   "outputs": [
    {
     "data": {
      "text/plain": [
       "0.0     104874\n",
       "1.0       8268\n",
       "2.0       1154\n",
       "3.0        222\n",
       "4.0         39\n",
       "5.0          5\n",
       "6.0          1\n",
       "24.0         1\n",
       "Name: DEF_60_CNT_SOCIAL_CIRCLE, dtype: int64"
      ]
     },
     "execution_count": 38,
     "metadata": {},
     "output_type": "execute_result"
    }
   ],
   "source": [
    "df[\"DEF_60_CNT_SOCIAL_CIRCLE\"].value_counts().sort_index()"
   ]
  },
  {
   "cell_type": "code",
   "execution_count": 218,
   "metadata": {},
   "outputs": [
    {
     "name": "stdout",
     "output_type": "stream",
     "text": [
      "[INFO] creating woe binning ...\n",
      "Binning on 114564 rows and 18 columns in 00:00:12\n"
     ]
    },
    {
     "data": {
      "text/plain": [
       "{'DEF_60_CNT_SOCIAL_CIRCLE': <Figure size 432x288 with 2 Axes>}"
      ]
     },
     "execution_count": 218,
     "metadata": {},
     "output_type": "execute_result"
    },
    {
     "data": {
      "image/png": "[encoded data removed]",
      "text/plain": [
       "<Figure size 432x288 with 2 Axes>"
      ]
     },
     "metadata": {
      "needs_background": "light"
     },
     "output_type": "display_data"
    }
   ],
   "source": [
    "#adjust the bins\n",
    "breaks_adj = {'DEF_60_CNT_SOCIAL_CIRCLE' : [0,1]}\n",
    "# bins14 = sc.woebin(df, y='STATUS',breaks_list=breaks_adj, positive=\"bad|0\")\n",
    "bins14 = sc.woebin(df, y='STATUS',breaks_list=breaks_adj)\n",
    "sc.woebin_plot(bins14['DEF_60_CNT_SOCIAL_CIRCLE'])"
   ]
  },
  {
   "cell_type": "markdown",
   "metadata": {},
   "source": [
    "# Adjust flag_own_car"
   ]
  },
  {
   "cell_type": "code",
   "execution_count": null,
   "metadata": {},
   "outputs": [
    {
     "data": {
      "text/plain": [
       "0    67448\n",
       "1    47116\n",
       "Name: FLAG_OWN_CAR, dtype: int64"
      ]
     },
     "execution_count": 41,
     "metadata": {},
     "output_type": "execute_result"
    }
   ],
   "source": [
    "df[\"FLAG_OWN_CAR\"].value_counts().sort_index()"
   ]
  },
  {
   "cell_type": "code",
   "execution_count": null,
   "metadata": {},
   "outputs": [
    {
     "name": "stdout",
     "output_type": "stream",
     "text": [
      "[INFO] creating woe binning ...\n"
     ]
    },
    {
     "data": {
      "text/plain": [
       "{'FLAG_OWN_CAR': <Figure size 432x288 with 2 Axes>}"
      ]
     },
     "execution_count": 42,
     "metadata": {},
     "output_type": "execute_result"
    },
    {
     "data": {
      "image/png": "[encoded data removed]",
      "text/plain": [
       "<Figure size 432x288 with 2 Axes>"
      ]
     },
     "metadata": {
      "needs_background": "light"
     },
     "output_type": "display_data"
    }
   ],
   "source": [
    "#adjust the bins\n",
    "breaks_adj = {'FLAG_OWN_CAR' : [0,1]}\n",
    "# bins15 = sc.woebin(df, y='STATUS',breaks_list=breaks_adj, positive=\"bad|0\")\n",
    "bins15 = sc.woebin(df, y='STATUS',breaks_list=breaks_adj)\n",
    "sc.woebin_plot(bins15['FLAG_OWN_CAR'])"
   ]
  },
  {
   "cell_type": "markdown",
   "metadata": {},
   "source": [
    "# Select best bins"
   ]
  },
  {
   "cell_type": "code",
   "execution_count": 250,
   "metadata": {},
   "outputs": [
    {
     "name": "stdout",
     "output_type": "stream",
     "text": [
      "[INFO] creating woe binning ...\n"
     ]
    }
   ],
   "source": [
    "breaks_adj = {\n",
    "       'OCCUPATION_TYPE' : [1,  6, 9],\n",
    "    'NAME_HOUSING_TYPE': [4],\n",
    "       'NAME_INCOME_TYPE' : [4,5],\n",
    "        'NAME_EDUCATION_TYPE' : [3],\n",
    "        'AMT_INCOME_TOTAL' : [90000,200000,250000, 300000],\n",
    "    'DAYS_EMPLOYED' : [1000,1700,2200,3500,5000],\n",
    "        'AMT_ANNUITY' : [12000, 16000],\n",
    "        'EXT_SOURCE_2' : [0.14,0.25,0.35,0.6],\n",
    "        'AMT_CREDIT' : [150000,200000,250000, 300000],\n",
    "        'CNT_FAM_MEMBERS' : [1,2,3],\n",
    "        'NAME_FAMILY_STATUS' : [0,3],\n",
    "        'age' : [27, 30,35, 40],\n",
    "        'DEF_60_CNT_SOCIAL_CIRCLE' : [0,1],\n",
    "        'FLAG_OWN_CAR': [0,1]\n",
    "    }\n",
    "bins_final = sc.woebin(df, y='STATUS',breaks_list=breaks_adj)\n",
    "# bins_final = sc.woebin(df, y='STATUS',breaks_list=breaks_adj, positive=\"bad|0\")"
   ]
  }
 ],
 "metadata": {
  "kernelspec": {
   "display_name": "Python 3 (ipykernel)",
   "language": "python",
   "name": "python3"
  },
  "language_info": {
   "codemirror_mode": {
    "name": "ipython",
    "version": 3
   },
   "file_extension": ".py",
   "mimetype": "text/x-python",
   "name": "python",
   "nbconvert_exporter": "python",
   "pygments_lexer": "ipython3",
   "version": "3.9.7"
  }
 },
 "nbformat": 4,
 "nbformat_minor": 2
}
