{
 "cells": [
  {
   "cell_type": "code",
   "execution_count": 98,
   "metadata": {},
   "outputs": [],
   "source": [
    "import pandas as pd \n",
    "import numpy as np\n",
    "import matplotlib.pyplot as plt\n",
    "import seaborn as sns\n",
    "from sklearn.preprocessing import LabelEncoder\n",
    "from sklearn.linear_model import LogisticRegression\n",
    "from sklearn.metrics import make_scorer, f1_score\n",
    "from sklearn.metrics import classification_report\n",
    "from sklearn.metrics import confusion_matrix\n",
    "import warnings\n",
    "warnings.filterwarnings('ignore')\n",
    "from sklearn.model_selection import train_test_split\n",
    "import scorecardpy as sc\n",
    "import pprint"
   ]
  },
  {
   "cell_type": "code",
   "execution_count": 99,
   "metadata": {},
   "outputs": [
    {
     "name": "stdout",
     "output_type": "stream",
     "text": [
      "<class 'pandas.core.frame.DataFrame'>\n",
      "RangeIndex: 114755 entries, 0 to 114754\n",
      "Data columns (total 20 columns):\n",
      " #   Column                    Non-Null Count   Dtype  \n",
      "---  ------                    --------------   -----  \n",
      " 0   Unnamed: 0                114755 non-null  int64  \n",
      " 1   STATUS                    114755 non-null  int64  \n",
      " 2   NAME_CONTRACT_TYPE        114755 non-null  object \n",
      " 3   FLAG_OWN_CAR              114755 non-null  object \n",
      " 4   FLAG_OWN_REALTY           114755 non-null  object \n",
      " 5   AMT_INCOME_TOTAL          114755 non-null  float64\n",
      " 6   AMT_CREDIT                114755 non-null  float64\n",
      " 7   AMT_ANNUITY               114755 non-null  float64\n",
      " 8   NAME_INCOME_TYPE          114755 non-null  object \n",
      " 9   NAME_EDUCATION_TYPE       114755 non-null  object \n",
      " 10  NAME_FAMILY_STATUS        114755 non-null  object \n",
      " 11  NAME_HOUSING_TYPE         114755 non-null  object \n",
      " 12  DAYS_EMPLOYED             114755 non-null  int64  \n",
      " 13  OCCUPATION_TYPE           114755 non-null  object \n",
      " 14  CNT_FAM_MEMBERS           114755 non-null  float64\n",
      " 15  EXT_SOURCE_2              114564 non-null  float64\n",
      " 16  DEF_60_CNT_SOCIAL_CIRCLE  114755 non-null  float64\n",
      " 17  age                       114755 non-null  float64\n",
      " 18  total_enquiries_cb        114755 non-null  float64\n",
      " 19  credit_income_ratio       114755 non-null  float64\n",
      "dtypes: float64(9), int64(3), object(8)\n",
      "memory usage: 17.5+ MB\n"
     ]
    }
   ],
   "source": [
    "df_main = pd.read_csv('filtered_data_iter2.csv')\n",
    "df = df_main.copy()\n",
    "df.info()"
   ]
  },
  {
   "cell_type": "code",
   "execution_count": 100,
   "metadata": {},
   "outputs": [
    {
     "data": {
      "text/plain": [
       "0    104221\n",
       "1     10534\n",
       "Name: STATUS, dtype: int64"
      ]
     },
     "execution_count": 100,
     "metadata": {},
     "output_type": "execute_result"
    }
   ],
   "source": [
    "#replace value 0 in status with 2\n",
    "# df[\"STATUS\"].replace(0,2,inplace=True)\n",
    "# df[\"STATUS\"].replace(1,0,inplace=True)\n",
    "# df[\"STATUS\"].replace(2,1,inplace=True)\n",
    "df[\"STATUS\"].value_counts()\n"
   ]
  },
  {
   "cell_type": "code",
   "execution_count": 101,
   "metadata": {},
   "outputs": [
    {
     "data": {
      "text/plain": [
       "Unnamed: 0                  0\n",
       "STATUS                      0\n",
       "NAME_CONTRACT_TYPE          0\n",
       "FLAG_OWN_CAR                0\n",
       "FLAG_OWN_REALTY             0\n",
       "AMT_INCOME_TOTAL            0\n",
       "AMT_CREDIT                  0\n",
       "AMT_ANNUITY                 0\n",
       "NAME_INCOME_TYPE            0\n",
       "NAME_EDUCATION_TYPE         0\n",
       "NAME_FAMILY_STATUS          0\n",
       "NAME_HOUSING_TYPE           0\n",
       "DAYS_EMPLOYED               0\n",
       "OCCUPATION_TYPE             0\n",
       "CNT_FAM_MEMBERS             0\n",
       "EXT_SOURCE_2                0\n",
       "DEF_60_CNT_SOCIAL_CIRCLE    0\n",
       "age                         0\n",
       "total_enquiries_cb          0\n",
       "credit_income_ratio         0\n",
       "dtype: int64"
      ]
     },
     "execution_count": 101,
     "metadata": {},
     "output_type": "execute_result"
    }
   ],
   "source": [
    "df.dropna(inplace=True)\n",
    "df.isnull().sum()"
   ]
  },
  {
   "cell_type": "code",
   "execution_count": 102,
   "metadata": {},
   "outputs": [],
   "source": [
    "data_dict = {}\n",
    "for col in df.columns:\n",
    "    data_dict[col] = [str(df[col].dtypes)]\n",
    "    "
   ]
  },
  {
   "cell_type": "code",
   "execution_count": 103,
   "metadata": {},
   "outputs": [
    {
     "data": {
      "text/plain": [
       "NAME_HOUSING_TYPE\n",
       "Rented apartment       0.122692\n",
       "With parents           0.114336\n",
       "Municipal apartment    0.098296\n",
       "House / apartment      0.089223\n",
       "Co-op apartment        0.081395\n",
       "Office apartment       0.071726\n",
       "Name: STATUS, dtype: float64"
      ]
     },
     "execution_count": 103,
     "metadata": {},
     "output_type": "execute_result"
    }
   ],
   "source": [
    "df.groupby('NAME_HOUSING_TYPE')['STATUS'].mean().sort_values(ascending=False)"
   ]
  },
  {
   "cell_type": "code",
   "execution_count": 104,
   "metadata": {},
   "outputs": [],
   "source": [
    "df['OCCUPATION_TYPE'] = df['OCCUPATION_TYPE'].map({'Low-skill Laborers': 1, 'Cooking staff': 2, 'Cleaning staff': 3, 'Security staff': 4, 'Waiters/barmen staff': 5, 'Laborers': 6, 'Drivers': 7, 'Sales staff': 8, 'Realty agents': 9, 'Secretaries': 10, 'Not Specified': 11, 'Medicine staff': 12, 'Managers': 13, 'High skill tech staff': 14, 'HR staff': 15, 'Core staff': 16, 'Private service staff': 17, 'Accountants': 18, 'IT staff': 19})\n",
    "\n",
    "# Education labels are in order of increasing education level\n",
    "df['NAME_EDUCATION_TYPE'] = df['NAME_EDUCATION_TYPE'].map({'Lower secondary': 1, 'Secondary / secondary special': 2, 'Incomplete higher': 3, 'Higher education': 4, 'Academic degree': 5})\n",
    "\n",
    "# Income labels are in order of increasing income level\n",
    "df['NAME_INCOME_TYPE'] = df['NAME_INCOME_TYPE'].map({'Student': 1, 'Pensioner': 2, 'Working': 3, 'State servant': 4, 'Commercial associate': 5, 'Businessman': 6})\n",
    "\n",
    "# Housing labels are in order of increasing loan burden on the individual\n",
    "df['NAME_HOUSING_TYPE'] = df['NAME_HOUSING_TYPE'].map({'With parents': 1, 'Rented apartment': 2, 'Municipal apartment': 3, 'Office apartment': 4, 'Co-op apartment': 5, 'House / apartment': 6})"
   ]
  },
  {
   "cell_type": "code",
   "execution_count": 105,
   "metadata": {},
   "outputs": [
    {
     "data": {
      "text/plain": [
       "6     25203\n",
       "11    18883\n",
       "8     15099\n",
       "16    13653\n",
       "13     9875\n",
       "7      8063\n",
       "14     5159\n",
       "18     4800\n",
       "12     3583\n",
       "2      2459\n",
       "4      2157\n",
       "17     1300\n",
       "3      1179\n",
       "1       923\n",
       "10      651\n",
       "5       586\n",
       "9       402\n",
       "19      310\n",
       "15      279\n",
       "Name: OCCUPATION_TYPE, dtype: int64"
      ]
     },
     "execution_count": 105,
     "metadata": {},
     "output_type": "execute_result"
    }
   ],
   "source": [
    "df['OCCUPATION_TYPE'].value_counts()"
   ]
  },
  {
   "cell_type": "code",
   "execution_count": 106,
   "metadata": {},
   "outputs": [
    {
     "name": "stdout",
     "output_type": "stream",
     "text": [
      "NAME_FAMILY_STATUS\n",
      "NAME_CONTRACT_TYPE\n",
      "FLAG_OWN_CAR\n",
      "FLAG_OWN_REALTY\n"
     ]
    }
   ],
   "source": [
    "manual_encodings = ['OCCUPATION_TYPE', 'NAME_EDUCATION_TYPE', 'NAME_INCOME_TYPE', 'NAME_HOUSING_TYPE']\n",
    "\n",
    "# define the target variable\n",
    "target = df['STATUS']\n",
    "\n",
    "# create a list of object columns\n",
    "object_list = [col for col in df.columns if df[col].dtype == 'object']\n",
    "\n",
    "# create a dictionary to store the original categorical variables and their encoded values\n",
    "df_label_encoded = df.copy()\n",
    "# label encode all object columns and store the original categorical variables and their encoded values\n",
    "for col in (set(object_list) - set(manual_encodings)):\n",
    "    print(col)\n",
    "    le = LabelEncoder()\n",
    "    df[col] = le.fit_transform(df[col])\n",
    "\n",
    "# label encode the target variable and add it to the dictionary\n",
    "le = LabelEncoder()\n",
    "target = le.fit_transform(target)"
   ]
  },
  {
   "cell_type": "code",
   "execution_count": 107,
   "metadata": {},
   "outputs": [
    {
     "data": {
      "text/plain": [
       "array([4, 2, 3, 1, 5], dtype=int64)"
      ]
     },
     "execution_count": 107,
     "metadata": {},
     "output_type": "execute_result"
    }
   ],
   "source": [
    "df['NAME_EDUCATION_TYPE'].unique()"
   ]
  },
  {
   "cell_type": "code",
   "execution_count": 108,
   "metadata": {},
   "outputs": [
    {
     "data": {
      "text/html": [
       "<div>\n",
       "<style scoped>\n",
       "    .dataframe tbody tr th:only-of-type {\n",
       "        vertical-align: middle;\n",
       "    }\n",
       "\n",
       "    .dataframe tbody tr th {\n",
       "        vertical-align: top;\n",
       "    }\n",
       "\n",
       "    .dataframe thead th {\n",
       "        text-align: right;\n",
       "    }\n",
       "</style>\n",
       "<table border=\"1\" class=\"dataframe\">\n",
       "  <thead>\n",
       "    <tr style=\"text-align: right;\">\n",
       "      <th></th>\n",
       "      <th>Unnamed: 0</th>\n",
       "      <th>STATUS</th>\n",
       "      <th>NAME_CONTRACT_TYPE</th>\n",
       "      <th>FLAG_OWN_CAR</th>\n",
       "      <th>FLAG_OWN_REALTY</th>\n",
       "      <th>AMT_INCOME_TOTAL</th>\n",
       "      <th>AMT_CREDIT</th>\n",
       "      <th>AMT_ANNUITY</th>\n",
       "      <th>NAME_INCOME_TYPE</th>\n",
       "      <th>NAME_EDUCATION_TYPE</th>\n",
       "      <th>NAME_FAMILY_STATUS</th>\n",
       "      <th>NAME_HOUSING_TYPE</th>\n",
       "      <th>DAYS_EMPLOYED</th>\n",
       "      <th>OCCUPATION_TYPE</th>\n",
       "      <th>CNT_FAM_MEMBERS</th>\n",
       "      <th>EXT_SOURCE_2</th>\n",
       "      <th>DEF_60_CNT_SOCIAL_CIRCLE</th>\n",
       "      <th>age</th>\n",
       "      <th>total_enquiries_cb</th>\n",
       "      <th>credit_income_ratio</th>\n",
       "    </tr>\n",
       "  </thead>\n",
       "  <tbody>\n",
       "    <tr>\n",
       "      <th>0</th>\n",
       "      <td>0</td>\n",
       "      <td>0</td>\n",
       "      <td>0</td>\n",
       "      <td>1</td>\n",
       "      <td>1</td>\n",
       "      <td>171000.0</td>\n",
       "      <td>1560726.0</td>\n",
       "      <td>41301.0</td>\n",
       "      <td>5</td>\n",
       "      <td>4</td>\n",
       "      <td>1</td>\n",
       "      <td>6</td>\n",
       "      <td>-3130</td>\n",
       "      <td>18</td>\n",
       "      <td>3.0</td>\n",
       "      <td>0.724000</td>\n",
       "      <td>0.0</td>\n",
       "      <td>37.0</td>\n",
       "      <td>4.0</td>\n",
       "      <td>9.127053</td>\n",
       "    </tr>\n",
       "    <tr>\n",
       "      <th>1</th>\n",
       "      <td>2</td>\n",
       "      <td>0</td>\n",
       "      <td>0</td>\n",
       "      <td>0</td>\n",
       "      <td>1</td>\n",
       "      <td>112500.0</td>\n",
       "      <td>652500.0</td>\n",
       "      <td>21177.0</td>\n",
       "      <td>3</td>\n",
       "      <td>4</td>\n",
       "      <td>1</td>\n",
       "      <td>6</td>\n",
       "      <td>-679</td>\n",
       "      <td>16</td>\n",
       "      <td>3.0</td>\n",
       "      <td>0.651862</td>\n",
       "      <td>0.0</td>\n",
       "      <td>27.0</td>\n",
       "      <td>1.0</td>\n",
       "      <td>5.800000</td>\n",
       "    </tr>\n",
       "    <tr>\n",
       "      <th>2</th>\n",
       "      <td>3</td>\n",
       "      <td>0</td>\n",
       "      <td>0</td>\n",
       "      <td>0</td>\n",
       "      <td>1</td>\n",
       "      <td>67500.0</td>\n",
       "      <td>80865.0</td>\n",
       "      <td>5881.5</td>\n",
       "      <td>3</td>\n",
       "      <td>2</td>\n",
       "      <td>1</td>\n",
       "      <td>6</td>\n",
       "      <td>-2717</td>\n",
       "      <td>6</td>\n",
       "      <td>2.0</td>\n",
       "      <td>0.715042</td>\n",
       "      <td>0.0</td>\n",
       "      <td>36.0</td>\n",
       "      <td>1.0</td>\n",
       "      <td>1.198000</td>\n",
       "    </tr>\n",
       "    <tr>\n",
       "      <th>3</th>\n",
       "      <td>4</td>\n",
       "      <td>0</td>\n",
       "      <td>0</td>\n",
       "      <td>1</td>\n",
       "      <td>0</td>\n",
       "      <td>225000.0</td>\n",
       "      <td>918468.0</td>\n",
       "      <td>28966.5</td>\n",
       "      <td>3</td>\n",
       "      <td>2</td>\n",
       "      <td>1</td>\n",
       "      <td>6</td>\n",
       "      <td>-3028</td>\n",
       "      <td>7</td>\n",
       "      <td>3.0</td>\n",
       "      <td>0.566907</td>\n",
       "      <td>0.0</td>\n",
       "      <td>38.0</td>\n",
       "      <td>1.0</td>\n",
       "      <td>4.082080</td>\n",
       "    </tr>\n",
       "    <tr>\n",
       "      <th>4</th>\n",
       "      <td>6</td>\n",
       "      <td>0</td>\n",
       "      <td>0</td>\n",
       "      <td>0</td>\n",
       "      <td>0</td>\n",
       "      <td>108000.0</td>\n",
       "      <td>509602.5</td>\n",
       "      <td>26149.5</td>\n",
       "      <td>3</td>\n",
       "      <td>2</td>\n",
       "      <td>1</td>\n",
       "      <td>6</td>\n",
       "      <td>-1317</td>\n",
       "      <td>7</td>\n",
       "      <td>2.0</td>\n",
       "      <td>0.236378</td>\n",
       "      <td>0.0</td>\n",
       "      <td>35.0</td>\n",
       "      <td>1.0</td>\n",
       "      <td>4.718542</td>\n",
       "    </tr>\n",
       "  </tbody>\n",
       "</table>\n",
       "</div>"
      ],
      "text/plain": [
       "   Unnamed: 0  STATUS  NAME_CONTRACT_TYPE  FLAG_OWN_CAR  FLAG_OWN_REALTY  \\\n",
       "0           0       0                   0             1                1   \n",
       "1           2       0                   0             0                1   \n",
       "2           3       0                   0             0                1   \n",
       "3           4       0                   0             1                0   \n",
       "4           6       0                   0             0                0   \n",
       "\n",
       "   AMT_INCOME_TOTAL  AMT_CREDIT  AMT_ANNUITY  NAME_INCOME_TYPE  \\\n",
       "0          171000.0   1560726.0      41301.0                 5   \n",
       "1          112500.0    652500.0      21177.0                 3   \n",
       "2           67500.0     80865.0       5881.5                 3   \n",
       "3          225000.0    918468.0      28966.5                 3   \n",
       "4          108000.0    509602.5      26149.5                 3   \n",
       "\n",
       "   NAME_EDUCATION_TYPE  NAME_FAMILY_STATUS  NAME_HOUSING_TYPE  DAYS_EMPLOYED  \\\n",
       "0                    4                   1                  6          -3130   \n",
       "1                    4                   1                  6           -679   \n",
       "2                    2                   1                  6          -2717   \n",
       "3                    2                   1                  6          -3028   \n",
       "4                    2                   1                  6          -1317   \n",
       "\n",
       "   OCCUPATION_TYPE  CNT_FAM_MEMBERS  EXT_SOURCE_2  DEF_60_CNT_SOCIAL_CIRCLE  \\\n",
       "0               18              3.0      0.724000                       0.0   \n",
       "1               16              3.0      0.651862                       0.0   \n",
       "2                6              2.0      0.715042                       0.0   \n",
       "3                7              3.0      0.566907                       0.0   \n",
       "4                7              2.0      0.236378                       0.0   \n",
       "\n",
       "    age  total_enquiries_cb  credit_income_ratio  \n",
       "0  37.0                 4.0             9.127053  \n",
       "1  27.0                 1.0             5.800000  \n",
       "2  36.0                 1.0             1.198000  \n",
       "3  38.0                 1.0             4.082080  \n",
       "4  35.0                 1.0             4.718542  "
      ]
     },
     "execution_count": 108,
     "metadata": {},
     "output_type": "execute_result"
    }
   ],
   "source": [
    "df.head()"
   ]
  },
  {
   "cell_type": "code",
   "execution_count": 109,
   "metadata": {},
   "outputs": [
    {
     "data": {
      "text/plain": [
       "Unnamed: 0                  0\n",
       "STATUS                      0\n",
       "NAME_CONTRACT_TYPE          0\n",
       "FLAG_OWN_CAR                0\n",
       "FLAG_OWN_REALTY             0\n",
       "AMT_INCOME_TOTAL            0\n",
       "AMT_CREDIT                  0\n",
       "AMT_ANNUITY                 0\n",
       "NAME_INCOME_TYPE            0\n",
       "NAME_EDUCATION_TYPE         0\n",
       "NAME_FAMILY_STATUS          0\n",
       "NAME_HOUSING_TYPE           0\n",
       "DAYS_EMPLOYED               0\n",
       "OCCUPATION_TYPE             0\n",
       "CNT_FAM_MEMBERS             0\n",
       "EXT_SOURCE_2                0\n",
       "DEF_60_CNT_SOCIAL_CIRCLE    0\n",
       "age                         0\n",
       "total_enquiries_cb          0\n",
       "credit_income_ratio         0\n",
       "dtype: int64"
      ]
     },
     "execution_count": 109,
     "metadata": {},
     "output_type": "execute_result"
    }
   ],
   "source": [
    "df.isna().sum()"
   ]
  },
  {
   "cell_type": "code",
   "execution_count": 110,
   "metadata": {},
   "outputs": [],
   "source": [
    "del df['Unnamed: 0']\n",
    "del df['total_enquiries_cb']\n",
    "del df['NAME_HOUSING_TYPE']\n",
    "del df['credit_income_ratio']"
   ]
  },
  {
   "cell_type": "code",
   "execution_count": 111,
   "metadata": {},
   "outputs": [
    {
     "name": "stdout",
     "output_type": "stream",
     "text": [
      "[INFO] creating woe binning ...\n",
      "Binning on 114564 rows and 16 columns in 00:00:11\n",
      "CNT_FAM_MEMBERS  : \n"
     ]
    },
    {
     "data": {
      "text/html": [
       "<div>\n",
       "<style scoped>\n",
       "    .dataframe tbody tr th:only-of-type {\n",
       "        vertical-align: middle;\n",
       "    }\n",
       "\n",
       "    .dataframe tbody tr th {\n",
       "        vertical-align: top;\n",
       "    }\n",
       "\n",
       "    .dataframe thead th {\n",
       "        text-align: right;\n",
       "    }\n",
       "</style>\n",
       "<table border=\"1\" class=\"dataframe\">\n",
       "  <thead>\n",
       "    <tr style=\"text-align: right;\">\n",
       "      <th></th>\n",
       "      <th>variable</th>\n",
       "      <th>bin</th>\n",
       "      <th>count</th>\n",
       "      <th>count_distr</th>\n",
       "      <th>good</th>\n",
       "      <th>bad</th>\n",
       "      <th>badprob</th>\n",
       "      <th>woe</th>\n",
       "      <th>bin_iv</th>\n",
       "      <th>total_iv</th>\n",
       "      <th>breaks</th>\n",
       "      <th>is_special_values</th>\n",
       "    </tr>\n",
       "  </thead>\n",
       "  <tbody>\n",
       "    <tr>\n",
       "      <th>0</th>\n",
       "      <td>CNT_FAM_MEMBERS</td>\n",
       "      <td>[-inf,2.0)</td>\n",
       "      <td>15571</td>\n",
       "      <td>0.135915</td>\n",
       "      <td>13972</td>\n",
       "      <td>1599</td>\n",
       "      <td>0.102691</td>\n",
       "      <td>0.124801</td>\n",
       "      <td>0.002228</td>\n",
       "      <td>0.005076</td>\n",
       "      <td>2.0</td>\n",
       "      <td>False</td>\n",
       "    </tr>\n",
       "    <tr>\n",
       "      <th>1</th>\n",
       "      <td>CNT_FAM_MEMBERS</td>\n",
       "      <td>[2.0,3.0)</td>\n",
       "      <td>45360</td>\n",
       "      <td>0.395936</td>\n",
       "      <td>41060</td>\n",
       "      <td>4300</td>\n",
       "      <td>0.094797</td>\n",
       "      <td>0.036059</td>\n",
       "      <td>0.000522</td>\n",
       "      <td>0.005076</td>\n",
       "      <td>3.0</td>\n",
       "      <td>False</td>\n",
       "    </tr>\n",
       "    <tr>\n",
       "      <th>2</th>\n",
       "      <td>CNT_FAM_MEMBERS</td>\n",
       "      <td>[3.0,4.0)</td>\n",
       "      <td>32181</td>\n",
       "      <td>0.280900</td>\n",
       "      <td>29398</td>\n",
       "      <td>2783</td>\n",
       "      <td>0.086480</td>\n",
       "      <td>-0.064919</td>\n",
       "      <td>0.001153</td>\n",
       "      <td>0.005076</td>\n",
       "      <td>4.0</td>\n",
       "      <td>False</td>\n",
       "    </tr>\n",
       "    <tr>\n",
       "      <th>3</th>\n",
       "      <td>CNT_FAM_MEMBERS</td>\n",
       "      <td>[4.0,inf)</td>\n",
       "      <td>21452</td>\n",
       "      <td>0.187249</td>\n",
       "      <td>19623</td>\n",
       "      <td>1829</td>\n",
       "      <td>0.085260</td>\n",
       "      <td>-0.080455</td>\n",
       "      <td>0.001173</td>\n",
       "      <td>0.005076</td>\n",
       "      <td>inf</td>\n",
       "      <td>False</td>\n",
       "    </tr>\n",
       "  </tbody>\n",
       "</table>\n",
       "</div>"
      ],
      "text/plain": [
       "          variable         bin  count  count_distr   good   bad   badprob  \\\n",
       "0  CNT_FAM_MEMBERS  [-inf,2.0)  15571     0.135915  13972  1599  0.102691   \n",
       "1  CNT_FAM_MEMBERS   [2.0,3.0)  45360     0.395936  41060  4300  0.094797   \n",
       "2  CNT_FAM_MEMBERS   [3.0,4.0)  32181     0.280900  29398  2783  0.086480   \n",
       "3  CNT_FAM_MEMBERS   [4.0,inf)  21452     0.187249  19623  1829  0.085260   \n",
       "\n",
       "        woe    bin_iv  total_iv breaks  is_special_values  \n",
       "0  0.124801  0.002228  0.005076    2.0              False  \n",
       "1  0.036059  0.000522  0.005076    3.0              False  \n",
       "2 -0.064919  0.001153  0.005076    4.0              False  \n",
       "3 -0.080455  0.001173  0.005076    inf              False  "
      ]
     },
     "metadata": {},
     "output_type": "display_data"
    },
    {
     "name": "stdout",
     "output_type": "stream",
     "text": [
      "----------------------------------------------------------------------------------------------------\n",
      "AMT_CREDIT  : \n"
     ]
    },
    {
     "data": {
      "text/html": [
       "<div>\n",
       "<style scoped>\n",
       "    .dataframe tbody tr th:only-of-type {\n",
       "        vertical-align: middle;\n",
       "    }\n",
       "\n",
       "    .dataframe tbody tr th {\n",
       "        vertical-align: top;\n",
       "    }\n",
       "\n",
       "    .dataframe thead th {\n",
       "        text-align: right;\n",
       "    }\n",
       "</style>\n",
       "<table border=\"1\" class=\"dataframe\">\n",
       "  <thead>\n",
       "    <tr style=\"text-align: right;\">\n",
       "      <th></th>\n",
       "      <th>variable</th>\n",
       "      <th>bin</th>\n",
       "      <th>count</th>\n",
       "      <th>count_distr</th>\n",
       "      <th>good</th>\n",
       "      <th>bad</th>\n",
       "      <th>badprob</th>\n",
       "      <th>woe</th>\n",
       "      <th>bin_iv</th>\n",
       "      <th>total_iv</th>\n",
       "      <th>breaks</th>\n",
       "      <th>is_special_values</th>\n",
       "    </tr>\n",
       "  </thead>\n",
       "  <tbody>\n",
       "    <tr>\n",
       "      <th>0</th>\n",
       "      <td>AMT_CREDIT</td>\n",
       "      <td>[-inf,150000.0)</td>\n",
       "      <td>6177</td>\n",
       "      <td>0.053917</td>\n",
       "      <td>5756</td>\n",
       "      <td>421</td>\n",
       "      <td>0.068156</td>\n",
       "      <td>-0.322887</td>\n",
       "      <td>0.004929</td>\n",
       "      <td>0.067077</td>\n",
       "      <td>150000.0</td>\n",
       "      <td>False</td>\n",
       "    </tr>\n",
       "    <tr>\n",
       "      <th>1</th>\n",
       "      <td>AMT_CREDIT</td>\n",
       "      <td>[150000.0,300000.0)</td>\n",
       "      <td>26222</td>\n",
       "      <td>0.228885</td>\n",
       "      <td>23953</td>\n",
       "      <td>2269</td>\n",
       "      <td>0.086530</td>\n",
       "      <td>-0.064276</td>\n",
       "      <td>0.000921</td>\n",
       "      <td>0.067077</td>\n",
       "      <td>300000.0</td>\n",
       "      <td>False</td>\n",
       "    </tr>\n",
       "    <tr>\n",
       "      <th>2</th>\n",
       "      <td>AMT_CREDIT</td>\n",
       "      <td>[300000.0,650000.0)</td>\n",
       "      <td>39699</td>\n",
       "      <td>0.346522</td>\n",
       "      <td>35029</td>\n",
       "      <td>4670</td>\n",
       "      <td>0.117635</td>\n",
       "      <td>0.277461</td>\n",
       "      <td>0.029869</td>\n",
       "      <td>0.067077</td>\n",
       "      <td>650000.0</td>\n",
       "      <td>False</td>\n",
       "    </tr>\n",
       "    <tr>\n",
       "      <th>3</th>\n",
       "      <td>AMT_CREDIT</td>\n",
       "      <td>[650000.0,850000.0)</td>\n",
       "      <td>16348</td>\n",
       "      <td>0.142698</td>\n",
       "      <td>14927</td>\n",
       "      <td>1421</td>\n",
       "      <td>0.086922</td>\n",
       "      <td>-0.059333</td>\n",
       "      <td>0.000490</td>\n",
       "      <td>0.067077</td>\n",
       "      <td>850000.0</td>\n",
       "      <td>False</td>\n",
       "    </tr>\n",
       "    <tr>\n",
       "      <th>4</th>\n",
       "      <td>AMT_CREDIT</td>\n",
       "      <td>[850000.0,1350000.0)</td>\n",
       "      <td>20145</td>\n",
       "      <td>0.175841</td>\n",
       "      <td>18698</td>\n",
       "      <td>1447</td>\n",
       "      <td>0.071829</td>\n",
       "      <td>-0.266446</td>\n",
       "      <td>0.011199</td>\n",
       "      <td>0.067077</td>\n",
       "      <td>1350000.0</td>\n",
       "      <td>False</td>\n",
       "    </tr>\n",
       "    <tr>\n",
       "      <th>5</th>\n",
       "      <td>AMT_CREDIT</td>\n",
       "      <td>[1350000.0,inf)</td>\n",
       "      <td>5973</td>\n",
       "      <td>0.052137</td>\n",
       "      <td>5690</td>\n",
       "      <td>283</td>\n",
       "      <td>0.047380</td>\n",
       "      <td>-0.708541</td>\n",
       "      <td>0.019669</td>\n",
       "      <td>0.067077</td>\n",
       "      <td>inf</td>\n",
       "      <td>False</td>\n",
       "    </tr>\n",
       "  </tbody>\n",
       "</table>\n",
       "</div>"
      ],
      "text/plain": [
       "     variable                   bin  count  count_distr   good   bad  \\\n",
       "0  AMT_CREDIT       [-inf,150000.0)   6177     0.053917   5756   421   \n",
       "1  AMT_CREDIT   [150000.0,300000.0)  26222     0.228885  23953  2269   \n",
       "2  AMT_CREDIT   [300000.0,650000.0)  39699     0.346522  35029  4670   \n",
       "3  AMT_CREDIT   [650000.0,850000.0)  16348     0.142698  14927  1421   \n",
       "4  AMT_CREDIT  [850000.0,1350000.0)  20145     0.175841  18698  1447   \n",
       "5  AMT_CREDIT       [1350000.0,inf)   5973     0.052137   5690   283   \n",
       "\n",
       "    badprob       woe    bin_iv  total_iv     breaks  is_special_values  \n",
       "0  0.068156 -0.322887  0.004929  0.067077   150000.0              False  \n",
       "1  0.086530 -0.064276  0.000921  0.067077   300000.0              False  \n",
       "2  0.117635  0.277461  0.029869  0.067077   650000.0              False  \n",
       "3  0.086922 -0.059333  0.000490  0.067077   850000.0              False  \n",
       "4  0.071829 -0.266446  0.011199  0.067077  1350000.0              False  \n",
       "5  0.047380 -0.708541  0.019669  0.067077        inf              False  "
      ]
     },
     "metadata": {},
     "output_type": "display_data"
    },
    {
     "name": "stdout",
     "output_type": "stream",
     "text": [
      "----------------------------------------------------------------------------------------------------\n",
      "FLAG_OWN_REALTY  : \n"
     ]
    },
    {
     "data": {
      "text/html": [
       "<div>\n",
       "<style scoped>\n",
       "    .dataframe tbody tr th:only-of-type {\n",
       "        vertical-align: middle;\n",
       "    }\n",
       "\n",
       "    .dataframe tbody tr th {\n",
       "        vertical-align: top;\n",
       "    }\n",
       "\n",
       "    .dataframe thead th {\n",
       "        text-align: right;\n",
       "    }\n",
       "</style>\n",
       "<table border=\"1\" class=\"dataframe\">\n",
       "  <thead>\n",
       "    <tr style=\"text-align: right;\">\n",
       "      <th></th>\n",
       "      <th>variable</th>\n",
       "      <th>bin</th>\n",
       "      <th>count</th>\n",
       "      <th>count_distr</th>\n",
       "      <th>good</th>\n",
       "      <th>bad</th>\n",
       "      <th>badprob</th>\n",
       "      <th>woe</th>\n",
       "      <th>bin_iv</th>\n",
       "      <th>total_iv</th>\n",
       "      <th>breaks</th>\n",
       "      <th>is_special_values</th>\n",
       "    </tr>\n",
       "  </thead>\n",
       "  <tbody>\n",
       "    <tr>\n",
       "      <th>0</th>\n",
       "      <td>FLAG_OWN_REALTY</td>\n",
       "      <td>[-inf,1.0)</td>\n",
       "      <td>41009</td>\n",
       "      <td>0.357957</td>\n",
       "      <td>37256</td>\n",
       "      <td>3753</td>\n",
       "      <td>0.091516</td>\n",
       "      <td>-0.002779</td>\n",
       "      <td>0.000003</td>\n",
       "      <td>0.000004</td>\n",
       "      <td>1.0</td>\n",
       "      <td>False</td>\n",
       "    </tr>\n",
       "    <tr>\n",
       "      <th>1</th>\n",
       "      <td>FLAG_OWN_REALTY</td>\n",
       "      <td>[1.0,inf)</td>\n",
       "      <td>73555</td>\n",
       "      <td>0.642043</td>\n",
       "      <td>66797</td>\n",
       "      <td>6758</td>\n",
       "      <td>0.091877</td>\n",
       "      <td>0.001547</td>\n",
       "      <td>0.000002</td>\n",
       "      <td>0.000004</td>\n",
       "      <td>inf</td>\n",
       "      <td>False</td>\n",
       "    </tr>\n",
       "  </tbody>\n",
       "</table>\n",
       "</div>"
      ],
      "text/plain": [
       "          variable         bin  count  count_distr   good   bad   badprob  \\\n",
       "0  FLAG_OWN_REALTY  [-inf,1.0)  41009     0.357957  37256  3753  0.091516   \n",
       "1  FLAG_OWN_REALTY   [1.0,inf)  73555     0.642043  66797  6758  0.091877   \n",
       "\n",
       "        woe    bin_iv  total_iv breaks  is_special_values  \n",
       "0 -0.002779  0.000003  0.000004    1.0              False  \n",
       "1  0.001547  0.000002  0.000004    inf              False  "
      ]
     },
     "metadata": {},
     "output_type": "display_data"
    },
    {
     "name": "stdout",
     "output_type": "stream",
     "text": [
      "----------------------------------------------------------------------------------------------------\n",
      "AMT_INCOME_TOTAL  : \n"
     ]
    },
    {
     "data": {
      "text/html": [
       "<div>\n",
       "<style scoped>\n",
       "    .dataframe tbody tr th:only-of-type {\n",
       "        vertical-align: middle;\n",
       "    }\n",
       "\n",
       "    .dataframe tbody tr th {\n",
       "        vertical-align: top;\n",
       "    }\n",
       "\n",
       "    .dataframe thead th {\n",
       "        text-align: right;\n",
       "    }\n",
       "</style>\n",
       "<table border=\"1\" class=\"dataframe\">\n",
       "  <thead>\n",
       "    <tr style=\"text-align: right;\">\n",
       "      <th></th>\n",
       "      <th>variable</th>\n",
       "      <th>bin</th>\n",
       "      <th>count</th>\n",
       "      <th>count_distr</th>\n",
       "      <th>good</th>\n",
       "      <th>bad</th>\n",
       "      <th>badprob</th>\n",
       "      <th>woe</th>\n",
       "      <th>bin_iv</th>\n",
       "      <th>total_iv</th>\n",
       "      <th>breaks</th>\n",
       "      <th>is_special_values</th>\n",
       "    </tr>\n",
       "  </thead>\n",
       "  <tbody>\n",
       "    <tr>\n",
       "      <th>0</th>\n",
       "      <td>AMT_INCOME_TOTAL</td>\n",
       "      <td>[-inf,170000.0)</td>\n",
       "      <td>64065</td>\n",
       "      <td>0.559207</td>\n",
       "      <td>57661</td>\n",
       "      <td>6404</td>\n",
       "      <td>0.099961</td>\n",
       "      <td>0.094820</td>\n",
       "      <td>0.005226</td>\n",
       "      <td>0.021284</td>\n",
       "      <td>170000.0</td>\n",
       "      <td>False</td>\n",
       "    </tr>\n",
       "    <tr>\n",
       "      <th>1</th>\n",
       "      <td>AMT_INCOME_TOTAL</td>\n",
       "      <td>[170000.0,220000.0)</td>\n",
       "      <td>21151</td>\n",
       "      <td>0.184622</td>\n",
       "      <td>19194</td>\n",
       "      <td>1957</td>\n",
       "      <td>0.092525</td>\n",
       "      <td>0.009293</td>\n",
       "      <td>0.000016</td>\n",
       "      <td>0.021284</td>\n",
       "      <td>220000.0</td>\n",
       "      <td>False</td>\n",
       "    </tr>\n",
       "    <tr>\n",
       "      <th>2</th>\n",
       "      <td>AMT_INCOME_TOTAL</td>\n",
       "      <td>[220000.0,340000.0)</td>\n",
       "      <td>23182</td>\n",
       "      <td>0.202350</td>\n",
       "      <td>21409</td>\n",
       "      <td>1773</td>\n",
       "      <td>0.076482</td>\n",
       "      <td>-0.198660</td>\n",
       "      <td>0.007364</td>\n",
       "      <td>0.021284</td>\n",
       "      <td>340000.0</td>\n",
       "      <td>False</td>\n",
       "    </tr>\n",
       "    <tr>\n",
       "      <th>3</th>\n",
       "      <td>AMT_INCOME_TOTAL</td>\n",
       "      <td>[340000.0,inf)</td>\n",
       "      <td>6166</td>\n",
       "      <td>0.053821</td>\n",
       "      <td>5789</td>\n",
       "      <td>377</td>\n",
       "      <td>0.061142</td>\n",
       "      <td>-0.438992</td>\n",
       "      <td>0.008678</td>\n",
       "      <td>0.021284</td>\n",
       "      <td>inf</td>\n",
       "      <td>False</td>\n",
       "    </tr>\n",
       "  </tbody>\n",
       "</table>\n",
       "</div>"
      ],
      "text/plain": [
       "           variable                  bin  count  count_distr   good   bad  \\\n",
       "0  AMT_INCOME_TOTAL      [-inf,170000.0)  64065     0.559207  57661  6404   \n",
       "1  AMT_INCOME_TOTAL  [170000.0,220000.0)  21151     0.184622  19194  1957   \n",
       "2  AMT_INCOME_TOTAL  [220000.0,340000.0)  23182     0.202350  21409  1773   \n",
       "3  AMT_INCOME_TOTAL       [340000.0,inf)   6166     0.053821   5789   377   \n",
       "\n",
       "    badprob       woe    bin_iv  total_iv    breaks  is_special_values  \n",
       "0  0.099961  0.094820  0.005226  0.021284  170000.0              False  \n",
       "1  0.092525  0.009293  0.000016  0.021284  220000.0              False  \n",
       "2  0.076482 -0.198660  0.007364  0.021284  340000.0              False  \n",
       "3  0.061142 -0.438992  0.008678  0.021284       inf              False  "
      ]
     },
     "metadata": {},
     "output_type": "display_data"
    },
    {
     "name": "stdout",
     "output_type": "stream",
     "text": [
      "----------------------------------------------------------------------------------------------------\n",
      "FLAG_OWN_CAR  : \n"
     ]
    },
    {
     "data": {
      "text/html": [
       "<div>\n",
       "<style scoped>\n",
       "    .dataframe tbody tr th:only-of-type {\n",
       "        vertical-align: middle;\n",
       "    }\n",
       "\n",
       "    .dataframe tbody tr th {\n",
       "        vertical-align: top;\n",
       "    }\n",
       "\n",
       "    .dataframe thead th {\n",
       "        text-align: right;\n",
       "    }\n",
       "</style>\n",
       "<table border=\"1\" class=\"dataframe\">\n",
       "  <thead>\n",
       "    <tr style=\"text-align: right;\">\n",
       "      <th></th>\n",
       "      <th>variable</th>\n",
       "      <th>bin</th>\n",
       "      <th>count</th>\n",
       "      <th>count_distr</th>\n",
       "      <th>good</th>\n",
       "      <th>bad</th>\n",
       "      <th>badprob</th>\n",
       "      <th>woe</th>\n",
       "      <th>bin_iv</th>\n",
       "      <th>total_iv</th>\n",
       "      <th>breaks</th>\n",
       "      <th>is_special_values</th>\n",
       "    </tr>\n",
       "  </thead>\n",
       "  <tbody>\n",
       "    <tr>\n",
       "      <th>0</th>\n",
       "      <td>FLAG_OWN_CAR</td>\n",
       "      <td>[-inf,1.0)</td>\n",
       "      <td>67448</td>\n",
       "      <td>0.588736</td>\n",
       "      <td>60551</td>\n",
       "      <td>6897</td>\n",
       "      <td>0.102257</td>\n",
       "      <td>0.120079</td>\n",
       "      <td>0.008915</td>\n",
       "      <td>0.023431</td>\n",
       "      <td>1.0</td>\n",
       "      <td>False</td>\n",
       "    </tr>\n",
       "    <tr>\n",
       "      <th>1</th>\n",
       "      <td>FLAG_OWN_CAR</td>\n",
       "      <td>[1.0,inf)</td>\n",
       "      <td>47116</td>\n",
       "      <td>0.411264</td>\n",
       "      <td>43502</td>\n",
       "      <td>3614</td>\n",
       "      <td>0.076704</td>\n",
       "      <td>-0.195514</td>\n",
       "      <td>0.014516</td>\n",
       "      <td>0.023431</td>\n",
       "      <td>inf</td>\n",
       "      <td>False</td>\n",
       "    </tr>\n",
       "  </tbody>\n",
       "</table>\n",
       "</div>"
      ],
      "text/plain": [
       "       variable         bin  count  count_distr   good   bad   badprob  \\\n",
       "0  FLAG_OWN_CAR  [-inf,1.0)  67448     0.588736  60551  6897  0.102257   \n",
       "1  FLAG_OWN_CAR   [1.0,inf)  47116     0.411264  43502  3614  0.076704   \n",
       "\n",
       "        woe    bin_iv  total_iv breaks  is_special_values  \n",
       "0  0.120079  0.008915  0.023431    1.0              False  \n",
       "1 -0.195514  0.014516  0.023431    inf              False  "
      ]
     },
     "metadata": {},
     "output_type": "display_data"
    },
    {
     "name": "stdout",
     "output_type": "stream",
     "text": [
      "----------------------------------------------------------------------------------------------------\n",
      "NAME_CONTRACT_TYPE  : \n"
     ]
    },
    {
     "data": {
      "text/html": [
       "<div>\n",
       "<style scoped>\n",
       "    .dataframe tbody tr th:only-of-type {\n",
       "        vertical-align: middle;\n",
       "    }\n",
       "\n",
       "    .dataframe tbody tr th {\n",
       "        vertical-align: top;\n",
       "    }\n",
       "\n",
       "    .dataframe thead th {\n",
       "        text-align: right;\n",
       "    }\n",
       "</style>\n",
       "<table border=\"1\" class=\"dataframe\">\n",
       "  <thead>\n",
       "    <tr style=\"text-align: right;\">\n",
       "      <th></th>\n",
       "      <th>variable</th>\n",
       "      <th>bin</th>\n",
       "      <th>count</th>\n",
       "      <th>count_distr</th>\n",
       "      <th>good</th>\n",
       "      <th>bad</th>\n",
       "      <th>badprob</th>\n",
       "      <th>woe</th>\n",
       "      <th>bin_iv</th>\n",
       "      <th>total_iv</th>\n",
       "      <th>breaks</th>\n",
       "      <th>is_special_values</th>\n",
       "    </tr>\n",
       "  </thead>\n",
       "  <tbody>\n",
       "    <tr>\n",
       "      <th>0</th>\n",
       "      <td>NAME_CONTRACT_TYPE</td>\n",
       "      <td>[-inf,1.0)</td>\n",
       "      <td>103860</td>\n",
       "      <td>0.906568</td>\n",
       "      <td>93904</td>\n",
       "      <td>9956</td>\n",
       "      <td>0.09586</td>\n",
       "      <td>0.048380</td>\n",
       "      <td>0.002164</td>\n",
       "      <td>0.029617</td>\n",
       "      <td>1.0</td>\n",
       "      <td>False</td>\n",
       "    </tr>\n",
       "    <tr>\n",
       "      <th>1</th>\n",
       "      <td>NAME_CONTRACT_TYPE</td>\n",
       "      <td>[1.0,inf)</td>\n",
       "      <td>10704</td>\n",
       "      <td>0.093432</td>\n",
       "      <td>10149</td>\n",
       "      <td>555</td>\n",
       "      <td>0.05185</td>\n",
       "      <td>-0.613684</td>\n",
       "      <td>0.027453</td>\n",
       "      <td>0.029617</td>\n",
       "      <td>inf</td>\n",
       "      <td>False</td>\n",
       "    </tr>\n",
       "  </tbody>\n",
       "</table>\n",
       "</div>"
      ],
      "text/plain": [
       "             variable         bin   count  count_distr   good   bad  badprob  \\\n",
       "0  NAME_CONTRACT_TYPE  [-inf,1.0)  103860     0.906568  93904  9956  0.09586   \n",
       "1  NAME_CONTRACT_TYPE   [1.0,inf)   10704     0.093432  10149   555  0.05185   \n",
       "\n",
       "        woe    bin_iv  total_iv breaks  is_special_values  \n",
       "0  0.048380  0.002164  0.029617    1.0              False  \n",
       "1 -0.613684  0.027453  0.029617    inf              False  "
      ]
     },
     "metadata": {},
     "output_type": "display_data"
    },
    {
     "name": "stdout",
     "output_type": "stream",
     "text": [
      "----------------------------------------------------------------------------------------------------\n",
      "OCCUPATION_TYPE  : \n"
     ]
    },
    {
     "data": {
      "text/html": [
       "<div>\n",
       "<style scoped>\n",
       "    .dataframe tbody tr th:only-of-type {\n",
       "        vertical-align: middle;\n",
       "    }\n",
       "\n",
       "    .dataframe tbody tr th {\n",
       "        vertical-align: top;\n",
       "    }\n",
       "\n",
       "    .dataframe thead th {\n",
       "        text-align: right;\n",
       "    }\n",
       "</style>\n",
       "<table border=\"1\" class=\"dataframe\">\n",
       "  <thead>\n",
       "    <tr style=\"text-align: right;\">\n",
       "      <th></th>\n",
       "      <th>variable</th>\n",
       "      <th>bin</th>\n",
       "      <th>count</th>\n",
       "      <th>count_distr</th>\n",
       "      <th>good</th>\n",
       "      <th>bad</th>\n",
       "      <th>badprob</th>\n",
       "      <th>woe</th>\n",
       "      <th>bin_iv</th>\n",
       "      <th>total_iv</th>\n",
       "      <th>breaks</th>\n",
       "      <th>is_special_values</th>\n",
       "    </tr>\n",
       "  </thead>\n",
       "  <tbody>\n",
       "    <tr>\n",
       "      <th>0</th>\n",
       "      <td>OCCUPATION_TYPE</td>\n",
       "      <td>[-inf,5.0)</td>\n",
       "      <td>6718</td>\n",
       "      <td>0.058640</td>\n",
       "      <td>5835</td>\n",
       "      <td>883</td>\n",
       "      <td>0.131438</td>\n",
       "      <td>0.404174</td>\n",
       "      <td>0.011289</td>\n",
       "      <td>0.074947</td>\n",
       "      <td>5.0</td>\n",
       "      <td>False</td>\n",
       "    </tr>\n",
       "    <tr>\n",
       "      <th>1</th>\n",
       "      <td>OCCUPATION_TYPE</td>\n",
       "      <td>[5.0,10.0)</td>\n",
       "      <td>49353</td>\n",
       "      <td>0.430790</td>\n",
       "      <td>43908</td>\n",
       "      <td>5445</td>\n",
       "      <td>0.110328</td>\n",
       "      <td>0.205079</td>\n",
       "      <td>0.019698</td>\n",
       "      <td>0.074947</td>\n",
       "      <td>10.0</td>\n",
       "      <td>False</td>\n",
       "    </tr>\n",
       "    <tr>\n",
       "      <th>2</th>\n",
       "      <td>OCCUPATION_TYPE</td>\n",
       "      <td>[10.0,13.0)</td>\n",
       "      <td>23117</td>\n",
       "      <td>0.201782</td>\n",
       "      <td>21176</td>\n",
       "      <td>1941</td>\n",
       "      <td>0.083964</td>\n",
       "      <td>-0.097187</td>\n",
       "      <td>0.001832</td>\n",
       "      <td>0.074947</td>\n",
       "      <td>13.0</td>\n",
       "      <td>False</td>\n",
       "    </tr>\n",
       "    <tr>\n",
       "      <th>3</th>\n",
       "      <td>OCCUPATION_TYPE</td>\n",
       "      <td>[13.0,inf)</td>\n",
       "      <td>35376</td>\n",
       "      <td>0.308788</td>\n",
       "      <td>33134</td>\n",
       "      <td>2242</td>\n",
       "      <td>0.063376</td>\n",
       "      <td>-0.400714</td>\n",
       "      <td>0.042128</td>\n",
       "      <td>0.074947</td>\n",
       "      <td>inf</td>\n",
       "      <td>False</td>\n",
       "    </tr>\n",
       "  </tbody>\n",
       "</table>\n",
       "</div>"
      ],
      "text/plain": [
       "          variable          bin  count  count_distr   good   bad   badprob  \\\n",
       "0  OCCUPATION_TYPE   [-inf,5.0)   6718     0.058640   5835   883  0.131438   \n",
       "1  OCCUPATION_TYPE   [5.0,10.0)  49353     0.430790  43908  5445  0.110328   \n",
       "2  OCCUPATION_TYPE  [10.0,13.0)  23117     0.201782  21176  1941  0.083964   \n",
       "3  OCCUPATION_TYPE   [13.0,inf)  35376     0.308788  33134  2242  0.063376   \n",
       "\n",
       "        woe    bin_iv  total_iv breaks  is_special_values  \n",
       "0  0.404174  0.011289  0.074947    5.0              False  \n",
       "1  0.205079  0.019698  0.074947   10.0              False  \n",
       "2 -0.097187  0.001832  0.074947   13.0              False  \n",
       "3 -0.400714  0.042128  0.074947    inf              False  "
      ]
     },
     "metadata": {},
     "output_type": "display_data"
    },
    {
     "name": "stdout",
     "output_type": "stream",
     "text": [
      "----------------------------------------------------------------------------------------------------\n",
      "NAME_FAMILY_STATUS  : \n"
     ]
    },
    {
     "data": {
      "text/html": [
       "<div>\n",
       "<style scoped>\n",
       "    .dataframe tbody tr th:only-of-type {\n",
       "        vertical-align: middle;\n",
       "    }\n",
       "\n",
       "    .dataframe tbody tr th {\n",
       "        vertical-align: top;\n",
       "    }\n",
       "\n",
       "    .dataframe thead th {\n",
       "        text-align: right;\n",
       "    }\n",
       "</style>\n",
       "<table border=\"1\" class=\"dataframe\">\n",
       "  <thead>\n",
       "    <tr style=\"text-align: right;\">\n",
       "      <th></th>\n",
       "      <th>variable</th>\n",
       "      <th>bin</th>\n",
       "      <th>count</th>\n",
       "      <th>count_distr</th>\n",
       "      <th>good</th>\n",
       "      <th>bad</th>\n",
       "      <th>badprob</th>\n",
       "      <th>woe</th>\n",
       "      <th>bin_iv</th>\n",
       "      <th>total_iv</th>\n",
       "      <th>breaks</th>\n",
       "      <th>is_special_values</th>\n",
       "    </tr>\n",
       "  </thead>\n",
       "  <tbody>\n",
       "    <tr>\n",
       "      <th>0</th>\n",
       "      <td>NAME_FAMILY_STATUS</td>\n",
       "      <td>[-inf,1.0)</td>\n",
       "      <td>12185</td>\n",
       "      <td>0.106360</td>\n",
       "      <td>10877</td>\n",
       "      <td>1308</td>\n",
       "      <td>0.107345</td>\n",
       "      <td>0.174327</td>\n",
       "      <td>0.003470</td>\n",
       "      <td>0.009239</td>\n",
       "      <td>1.0</td>\n",
       "      <td>False</td>\n",
       "    </tr>\n",
       "    <tr>\n",
       "      <th>1</th>\n",
       "      <td>NAME_FAMILY_STATUS</td>\n",
       "      <td>[1.0,2.0)</td>\n",
       "      <td>78550</td>\n",
       "      <td>0.685643</td>\n",
       "      <td>71755</td>\n",
       "      <td>6795</td>\n",
       "      <td>0.086505</td>\n",
       "      <td>-0.064592</td>\n",
       "      <td>0.002786</td>\n",
       "      <td>0.009239</td>\n",
       "      <td>2.0</td>\n",
       "      <td>False</td>\n",
       "    </tr>\n",
       "    <tr>\n",
       "      <th>2</th>\n",
       "      <td>NAME_FAMILY_STATUS</td>\n",
       "      <td>[2.0,3.0)</td>\n",
       "      <td>6580</td>\n",
       "      <td>0.057435</td>\n",
       "      <td>5961</td>\n",
       "      <td>619</td>\n",
       "      <td>0.094073</td>\n",
       "      <td>0.027590</td>\n",
       "      <td>0.000044</td>\n",
       "      <td>0.009239</td>\n",
       "      <td>3.0</td>\n",
       "      <td>False</td>\n",
       "    </tr>\n",
       "    <tr>\n",
       "      <th>3</th>\n",
       "      <td>NAME_FAMILY_STATUS</td>\n",
       "      <td>[3.0,inf)</td>\n",
       "      <td>17249</td>\n",
       "      <td>0.150562</td>\n",
       "      <td>15460</td>\n",
       "      <td>1789</td>\n",
       "      <td>0.103716</td>\n",
       "      <td>0.135879</td>\n",
       "      <td>0.002938</td>\n",
       "      <td>0.009239</td>\n",
       "      <td>inf</td>\n",
       "      <td>False</td>\n",
       "    </tr>\n",
       "  </tbody>\n",
       "</table>\n",
       "</div>"
      ],
      "text/plain": [
       "             variable         bin  count  count_distr   good   bad   badprob  \\\n",
       "0  NAME_FAMILY_STATUS  [-inf,1.0)  12185     0.106360  10877  1308  0.107345   \n",
       "1  NAME_FAMILY_STATUS   [1.0,2.0)  78550     0.685643  71755  6795  0.086505   \n",
       "2  NAME_FAMILY_STATUS   [2.0,3.0)   6580     0.057435   5961   619  0.094073   \n",
       "3  NAME_FAMILY_STATUS   [3.0,inf)  17249     0.150562  15460  1789  0.103716   \n",
       "\n",
       "        woe    bin_iv  total_iv breaks  is_special_values  \n",
       "0  0.174327  0.003470  0.009239    1.0              False  \n",
       "1 -0.064592  0.002786  0.009239    2.0              False  \n",
       "2  0.027590  0.000044  0.009239    3.0              False  \n",
       "3  0.135879  0.002938  0.009239    inf              False  "
      ]
     },
     "metadata": {},
     "output_type": "display_data"
    },
    {
     "name": "stdout",
     "output_type": "stream",
     "text": [
      "----------------------------------------------------------------------------------------------------\n",
      "NAME_EDUCATION_TYPE  : \n"
     ]
    },
    {
     "data": {
      "text/html": [
       "<div>\n",
       "<style scoped>\n",
       "    .dataframe tbody tr th:only-of-type {\n",
       "        vertical-align: middle;\n",
       "    }\n",
       "\n",
       "    .dataframe tbody tr th {\n",
       "        vertical-align: top;\n",
       "    }\n",
       "\n",
       "    .dataframe thead th {\n",
       "        text-align: right;\n",
       "    }\n",
       "</style>\n",
       "<table border=\"1\" class=\"dataframe\">\n",
       "  <thead>\n",
       "    <tr style=\"text-align: right;\">\n",
       "      <th></th>\n",
       "      <th>variable</th>\n",
       "      <th>bin</th>\n",
       "      <th>count</th>\n",
       "      <th>count_distr</th>\n",
       "      <th>good</th>\n",
       "      <th>bad</th>\n",
       "      <th>badprob</th>\n",
       "      <th>woe</th>\n",
       "      <th>bin_iv</th>\n",
       "      <th>total_iv</th>\n",
       "      <th>breaks</th>\n",
       "      <th>is_special_values</th>\n",
       "    </tr>\n",
       "  </thead>\n",
       "  <tbody>\n",
       "    <tr>\n",
       "      <th>0</th>\n",
       "      <td>NAME_EDUCATION_TYPE</td>\n",
       "      <td>[-inf,4.0)</td>\n",
       "      <td>80017</td>\n",
       "      <td>0.698448</td>\n",
       "      <td>71454</td>\n",
       "      <td>8563</td>\n",
       "      <td>0.107015</td>\n",
       "      <td>0.170875</td>\n",
       "      <td>0.021866</td>\n",
       "      <td>0.089046</td>\n",
       "      <td>4.0</td>\n",
       "      <td>False</td>\n",
       "    </tr>\n",
       "    <tr>\n",
       "      <th>1</th>\n",
       "      <td>NAME_EDUCATION_TYPE</td>\n",
       "      <td>[4.0,inf)</td>\n",
       "      <td>34547</td>\n",
       "      <td>0.301552</td>\n",
       "      <td>32599</td>\n",
       "      <td>1948</td>\n",
       "      <td>0.056387</td>\n",
       "      <td>-0.525000</td>\n",
       "      <td>0.067180</td>\n",
       "      <td>0.089046</td>\n",
       "      <td>inf</td>\n",
       "      <td>False</td>\n",
       "    </tr>\n",
       "  </tbody>\n",
       "</table>\n",
       "</div>"
      ],
      "text/plain": [
       "              variable         bin  count  count_distr   good   bad   badprob  \\\n",
       "0  NAME_EDUCATION_TYPE  [-inf,4.0)  80017     0.698448  71454  8563  0.107015   \n",
       "1  NAME_EDUCATION_TYPE   [4.0,inf)  34547     0.301552  32599  1948  0.056387   \n",
       "\n",
       "        woe    bin_iv  total_iv breaks  is_special_values  \n",
       "0  0.170875  0.021866  0.089046    4.0              False  \n",
       "1 -0.525000  0.067180  0.089046    inf              False  "
      ]
     },
     "metadata": {},
     "output_type": "display_data"
    },
    {
     "name": "stdout",
     "output_type": "stream",
     "text": [
      "----------------------------------------------------------------------------------------------------\n",
      "EXT_SOURCE_2  : \n"
     ]
    },
    {
     "data": {
      "text/html": [
       "<div>\n",
       "<style scoped>\n",
       "    .dataframe tbody tr th:only-of-type {\n",
       "        vertical-align: middle;\n",
       "    }\n",
       "\n",
       "    .dataframe tbody tr th {\n",
       "        vertical-align: top;\n",
       "    }\n",
       "\n",
       "    .dataframe thead th {\n",
       "        text-align: right;\n",
       "    }\n",
       "</style>\n",
       "<table border=\"1\" class=\"dataframe\">\n",
       "  <thead>\n",
       "    <tr style=\"text-align: right;\">\n",
       "      <th></th>\n",
       "      <th>variable</th>\n",
       "      <th>bin</th>\n",
       "      <th>count</th>\n",
       "      <th>count_distr</th>\n",
       "      <th>good</th>\n",
       "      <th>bad</th>\n",
       "      <th>badprob</th>\n",
       "      <th>woe</th>\n",
       "      <th>bin_iv</th>\n",
       "      <th>total_iv</th>\n",
       "      <th>breaks</th>\n",
       "      <th>is_special_values</th>\n",
       "    </tr>\n",
       "  </thead>\n",
       "  <tbody>\n",
       "    <tr>\n",
       "      <th>0</th>\n",
       "      <td>EXT_SOURCE_2</td>\n",
       "      <td>[-inf,0.2)</td>\n",
       "      <td>10302</td>\n",
       "      <td>0.089924</td>\n",
       "      <td>8078</td>\n",
       "      <td>2224</td>\n",
       "      <td>0.215880</td>\n",
       "      <td>1.002641</td>\n",
       "      <td>0.134308</td>\n",
       "      <td>0.301292</td>\n",
       "      <td>0.2</td>\n",
       "      <td>False</td>\n",
       "    </tr>\n",
       "    <tr>\n",
       "      <th>1</th>\n",
       "      <td>EXT_SOURCE_2</td>\n",
       "      <td>[0.2,0.4)</td>\n",
       "      <td>19022</td>\n",
       "      <td>0.166038</td>\n",
       "      <td>16499</td>\n",
       "      <td>2523</td>\n",
       "      <td>0.132636</td>\n",
       "      <td>0.414627</td>\n",
       "      <td>0.033780</td>\n",
       "      <td>0.301292</td>\n",
       "      <td>0.4</td>\n",
       "      <td>False</td>\n",
       "    </tr>\n",
       "    <tr>\n",
       "      <th>2</th>\n",
       "      <td>EXT_SOURCE_2</td>\n",
       "      <td>[0.4,0.6000000000000001)</td>\n",
       "      <td>38352</td>\n",
       "      <td>0.334765</td>\n",
       "      <td>35065</td>\n",
       "      <td>3287</td>\n",
       "      <td>0.085706</td>\n",
       "      <td>-0.074750</td>\n",
       "      <td>0.001814</td>\n",
       "      <td>0.301292</td>\n",
       "      <td>0.6000000000000001</td>\n",
       "      <td>False</td>\n",
       "    </tr>\n",
       "    <tr>\n",
       "      <th>3</th>\n",
       "      <td>EXT_SOURCE_2</td>\n",
       "      <td>[0.6000000000000001,0.7000000000000001)</td>\n",
       "      <td>30621</td>\n",
       "      <td>0.267283</td>\n",
       "      <td>28756</td>\n",
       "      <td>1865</td>\n",
       "      <td>0.060906</td>\n",
       "      <td>-0.443107</td>\n",
       "      <td>0.043835</td>\n",
       "      <td>0.301292</td>\n",
       "      <td>0.7000000000000001</td>\n",
       "      <td>False</td>\n",
       "    </tr>\n",
       "    <tr>\n",
       "      <th>4</th>\n",
       "      <td>EXT_SOURCE_2</td>\n",
       "      <td>[0.7000000000000001,inf)</td>\n",
       "      <td>16267</td>\n",
       "      <td>0.141991</td>\n",
       "      <td>15655</td>\n",
       "      <td>612</td>\n",
       "      <td>0.037622</td>\n",
       "      <td>-0.949335</td>\n",
       "      <td>0.087555</td>\n",
       "      <td>0.301292</td>\n",
       "      <td>inf</td>\n",
       "      <td>False</td>\n",
       "    </tr>\n",
       "  </tbody>\n",
       "</table>\n",
       "</div>"
      ],
      "text/plain": [
       "       variable                                      bin  count  count_distr  \\\n",
       "0  EXT_SOURCE_2                               [-inf,0.2)  10302     0.089924   \n",
       "1  EXT_SOURCE_2                                [0.2,0.4)  19022     0.166038   \n",
       "2  EXT_SOURCE_2                 [0.4,0.6000000000000001)  38352     0.334765   \n",
       "3  EXT_SOURCE_2  [0.6000000000000001,0.7000000000000001)  30621     0.267283   \n",
       "4  EXT_SOURCE_2                 [0.7000000000000001,inf)  16267     0.141991   \n",
       "\n",
       "    good   bad   badprob       woe    bin_iv  total_iv              breaks  \\\n",
       "0   8078  2224  0.215880  1.002641  0.134308  0.301292                 0.2   \n",
       "1  16499  2523  0.132636  0.414627  0.033780  0.301292                 0.4   \n",
       "2  35065  3287  0.085706 -0.074750  0.001814  0.301292  0.6000000000000001   \n",
       "3  28756  1865  0.060906 -0.443107  0.043835  0.301292  0.7000000000000001   \n",
       "4  15655   612  0.037622 -0.949335  0.087555  0.301292                 inf   \n",
       "\n",
       "   is_special_values  \n",
       "0              False  \n",
       "1              False  \n",
       "2              False  \n",
       "3              False  \n",
       "4              False  "
      ]
     },
     "metadata": {},
     "output_type": "display_data"
    },
    {
     "name": "stdout",
     "output_type": "stream",
     "text": [
      "----------------------------------------------------------------------------------------------------\n",
      "AMT_ANNUITY  : \n"
     ]
    },
    {
     "data": {
      "text/html": [
       "<div>\n",
       "<style scoped>\n",
       "    .dataframe tbody tr th:only-of-type {\n",
       "        vertical-align: middle;\n",
       "    }\n",
       "\n",
       "    .dataframe tbody tr th {\n",
       "        vertical-align: top;\n",
       "    }\n",
       "\n",
       "    .dataframe thead th {\n",
       "        text-align: right;\n",
       "    }\n",
       "</style>\n",
       "<table border=\"1\" class=\"dataframe\">\n",
       "  <thead>\n",
       "    <tr style=\"text-align: right;\">\n",
       "      <th></th>\n",
       "      <th>variable</th>\n",
       "      <th>bin</th>\n",
       "      <th>count</th>\n",
       "      <th>count_distr</th>\n",
       "      <th>good</th>\n",
       "      <th>bad</th>\n",
       "      <th>badprob</th>\n",
       "      <th>woe</th>\n",
       "      <th>bin_iv</th>\n",
       "      <th>total_iv</th>\n",
       "      <th>breaks</th>\n",
       "      <th>is_special_values</th>\n",
       "    </tr>\n",
       "  </thead>\n",
       "  <tbody>\n",
       "    <tr>\n",
       "      <th>0</th>\n",
       "      <td>AMT_ANNUITY</td>\n",
       "      <td>[-inf,14000.0)</td>\n",
       "      <td>19409</td>\n",
       "      <td>0.169416</td>\n",
       "      <td>17979</td>\n",
       "      <td>1430</td>\n",
       "      <td>0.073677</td>\n",
       "      <td>-0.239052</td>\n",
       "      <td>8.782527e-03</td>\n",
       "      <td>0.032036</td>\n",
       "      <td>14000.0</td>\n",
       "      <td>False</td>\n",
       "    </tr>\n",
       "    <tr>\n",
       "      <th>1</th>\n",
       "      <td>AMT_ANNUITY</td>\n",
       "      <td>[14000.0,36000.0)</td>\n",
       "      <td>67860</td>\n",
       "      <td>0.592333</td>\n",
       "      <td>60889</td>\n",
       "      <td>6971</td>\n",
       "      <td>0.102726</td>\n",
       "      <td>0.125184</td>\n",
       "      <td>9.769004e-03</td>\n",
       "      <td>0.032036</td>\n",
       "      <td>36000.0</td>\n",
       "      <td>False</td>\n",
       "    </tr>\n",
       "    <tr>\n",
       "      <th>2</th>\n",
       "      <td>AMT_ANNUITY</td>\n",
       "      <td>[36000.0,42000.0)</td>\n",
       "      <td>10646</td>\n",
       "      <td>0.092926</td>\n",
       "      <td>9668</td>\n",
       "      <td>978</td>\n",
       "      <td>0.091865</td>\n",
       "      <td>0.001411</td>\n",
       "      <td>1.851115e-07</td>\n",
       "      <td>0.032036</td>\n",
       "      <td>42000.0</td>\n",
       "      <td>False</td>\n",
       "    </tr>\n",
       "    <tr>\n",
       "      <th>3</th>\n",
       "      <td>AMT_ANNUITY</td>\n",
       "      <td>[42000.0,inf)</td>\n",
       "      <td>16649</td>\n",
       "      <td>0.145325</td>\n",
       "      <td>15517</td>\n",
       "      <td>1132</td>\n",
       "      <td>0.067992</td>\n",
       "      <td>-0.325472</td>\n",
       "      <td>1.348406e-02</td>\n",
       "      <td>0.032036</td>\n",
       "      <td>inf</td>\n",
       "      <td>False</td>\n",
       "    </tr>\n",
       "  </tbody>\n",
       "</table>\n",
       "</div>"
      ],
      "text/plain": [
       "      variable                bin  count  count_distr   good   bad   badprob  \\\n",
       "0  AMT_ANNUITY     [-inf,14000.0)  19409     0.169416  17979  1430  0.073677   \n",
       "1  AMT_ANNUITY  [14000.0,36000.0)  67860     0.592333  60889  6971  0.102726   \n",
       "2  AMT_ANNUITY  [36000.0,42000.0)  10646     0.092926   9668   978  0.091865   \n",
       "3  AMT_ANNUITY      [42000.0,inf)  16649     0.145325  15517  1132  0.067992   \n",
       "\n",
       "        woe        bin_iv  total_iv   breaks  is_special_values  \n",
       "0 -0.239052  8.782527e-03  0.032036  14000.0              False  \n",
       "1  0.125184  9.769004e-03  0.032036  36000.0              False  \n",
       "2  0.001411  1.851115e-07  0.032036  42000.0              False  \n",
       "3 -0.325472  1.348406e-02  0.032036      inf              False  "
      ]
     },
     "metadata": {},
     "output_type": "display_data"
    },
    {
     "name": "stdout",
     "output_type": "stream",
     "text": [
      "----------------------------------------------------------------------------------------------------\n",
      "DAYS_EMPLOYED  : \n"
     ]
    },
    {
     "data": {
      "text/html": [
       "<div>\n",
       "<style scoped>\n",
       "    .dataframe tbody tr th:only-of-type {\n",
       "        vertical-align: middle;\n",
       "    }\n",
       "\n",
       "    .dataframe tbody tr th {\n",
       "        vertical-align: top;\n",
       "    }\n",
       "\n",
       "    .dataframe thead th {\n",
       "        text-align: right;\n",
       "    }\n",
       "</style>\n",
       "<table border=\"1\" class=\"dataframe\">\n",
       "  <thead>\n",
       "    <tr style=\"text-align: right;\">\n",
       "      <th></th>\n",
       "      <th>variable</th>\n",
       "      <th>bin</th>\n",
       "      <th>count</th>\n",
       "      <th>count_distr</th>\n",
       "      <th>good</th>\n",
       "      <th>bad</th>\n",
       "      <th>badprob</th>\n",
       "      <th>woe</th>\n",
       "      <th>bin_iv</th>\n",
       "      <th>total_iv</th>\n",
       "      <th>breaks</th>\n",
       "      <th>is_special_values</th>\n",
       "    </tr>\n",
       "  </thead>\n",
       "  <tbody>\n",
       "    <tr>\n",
       "      <th>0</th>\n",
       "      <td>DAYS_EMPLOYED</td>\n",
       "      <td>[-inf,-4000.0)</td>\n",
       "      <td>14262</td>\n",
       "      <td>0.124489</td>\n",
       "      <td>13453</td>\n",
       "      <td>809</td>\n",
       "      <td>0.056724</td>\n",
       "      <td>-0.518680</td>\n",
       "      <td>0.027139</td>\n",
       "      <td>0.06496</td>\n",
       "      <td>-4000.0</td>\n",
       "      <td>False</td>\n",
       "    </tr>\n",
       "    <tr>\n",
       "      <th>1</th>\n",
       "      <td>DAYS_EMPLOYED</td>\n",
       "      <td>[-4000.0,-1800.0)</td>\n",
       "      <td>36732</td>\n",
       "      <td>0.320624</td>\n",
       "      <td>33952</td>\n",
       "      <td>2780</td>\n",
       "      <td>0.075683</td>\n",
       "      <td>-0.210019</td>\n",
       "      <td>0.012981</td>\n",
       "      <td>0.06496</td>\n",
       "      <td>-1800.0</td>\n",
       "      <td>False</td>\n",
       "    </tr>\n",
       "    <tr>\n",
       "      <th>2</th>\n",
       "      <td>DAYS_EMPLOYED</td>\n",
       "      <td>[-1800.0,-1000.0)</td>\n",
       "      <td>25152</td>\n",
       "      <td>0.219545</td>\n",
       "      <td>22629</td>\n",
       "      <td>2523</td>\n",
       "      <td>0.100310</td>\n",
       "      <td>0.098694</td>\n",
       "      <td>0.002226</td>\n",
       "      <td>0.06496</td>\n",
       "      <td>-1000.0</td>\n",
       "      <td>False</td>\n",
       "    </tr>\n",
       "    <tr>\n",
       "      <th>3</th>\n",
       "      <td>DAYS_EMPLOYED</td>\n",
       "      <td>[-1000.0,inf)</td>\n",
       "      <td>38418</td>\n",
       "      <td>0.335341</td>\n",
       "      <td>34019</td>\n",
       "      <td>4399</td>\n",
       "      <td>0.114504</td>\n",
       "      <td>0.246936</td>\n",
       "      <td>0.022613</td>\n",
       "      <td>0.06496</td>\n",
       "      <td>inf</td>\n",
       "      <td>False</td>\n",
       "    </tr>\n",
       "  </tbody>\n",
       "</table>\n",
       "</div>"
      ],
      "text/plain": [
       "        variable                bin  count  count_distr   good   bad  \\\n",
       "0  DAYS_EMPLOYED     [-inf,-4000.0)  14262     0.124489  13453   809   \n",
       "1  DAYS_EMPLOYED  [-4000.0,-1800.0)  36732     0.320624  33952  2780   \n",
       "2  DAYS_EMPLOYED  [-1800.0,-1000.0)  25152     0.219545  22629  2523   \n",
       "3  DAYS_EMPLOYED      [-1000.0,inf)  38418     0.335341  34019  4399   \n",
       "\n",
       "    badprob       woe    bin_iv  total_iv   breaks  is_special_values  \n",
       "0  0.056724 -0.518680  0.027139   0.06496  -4000.0              False  \n",
       "1  0.075683 -0.210019  0.012981   0.06496  -1800.0              False  \n",
       "2  0.100310  0.098694  0.002226   0.06496  -1000.0              False  \n",
       "3  0.114504  0.246936  0.022613   0.06496      inf              False  "
      ]
     },
     "metadata": {},
     "output_type": "display_data"
    },
    {
     "name": "stdout",
     "output_type": "stream",
     "text": [
      "----------------------------------------------------------------------------------------------------\n",
      "NAME_INCOME_TYPE  : \n"
     ]
    },
    {
     "data": {
      "text/html": [
       "<div>\n",
       "<style scoped>\n",
       "    .dataframe tbody tr th:only-of-type {\n",
       "        vertical-align: middle;\n",
       "    }\n",
       "\n",
       "    .dataframe tbody tr th {\n",
       "        vertical-align: top;\n",
       "    }\n",
       "\n",
       "    .dataframe thead th {\n",
       "        text-align: right;\n",
       "    }\n",
       "</style>\n",
       "<table border=\"1\" class=\"dataframe\">\n",
       "  <thead>\n",
       "    <tr style=\"text-align: right;\">\n",
       "      <th></th>\n",
       "      <th>variable</th>\n",
       "      <th>bin</th>\n",
       "      <th>count</th>\n",
       "      <th>count_distr</th>\n",
       "      <th>good</th>\n",
       "      <th>bad</th>\n",
       "      <th>badprob</th>\n",
       "      <th>woe</th>\n",
       "      <th>bin_iv</th>\n",
       "      <th>total_iv</th>\n",
       "      <th>breaks</th>\n",
       "      <th>is_special_values</th>\n",
       "    </tr>\n",
       "  </thead>\n",
       "  <tbody>\n",
       "    <tr>\n",
       "      <th>0</th>\n",
       "      <td>NAME_INCOME_TYPE</td>\n",
       "      <td>[-inf,4.0)</td>\n",
       "      <td>72291</td>\n",
       "      <td>0.631010</td>\n",
       "      <td>64901</td>\n",
       "      <td>7390</td>\n",
       "      <td>0.102226</td>\n",
       "      <td>0.119743</td>\n",
       "      <td>0.009501</td>\n",
       "      <td>0.030883</td>\n",
       "      <td>4.0</td>\n",
       "      <td>False</td>\n",
       "    </tr>\n",
       "    <tr>\n",
       "      <th>1</th>\n",
       "      <td>NAME_INCOME_TYPE</td>\n",
       "      <td>[4.0,5.0)</td>\n",
       "      <td>10068</td>\n",
       "      <td>0.087881</td>\n",
       "      <td>9430</td>\n",
       "      <td>638</td>\n",
       "      <td>0.063369</td>\n",
       "      <td>-0.400835</td>\n",
       "      <td>0.011996</td>\n",
       "      <td>0.030883</td>\n",
       "      <td>5.0</td>\n",
       "      <td>False</td>\n",
       "    </tr>\n",
       "    <tr>\n",
       "      <th>2</th>\n",
       "      <td>NAME_INCOME_TYPE</td>\n",
       "      <td>[5.0,inf)</td>\n",
       "      <td>32205</td>\n",
       "      <td>0.281109</td>\n",
       "      <td>29722</td>\n",
       "      <td>2483</td>\n",
       "      <td>0.077100</td>\n",
       "      <td>-0.189942</td>\n",
       "      <td>0.009386</td>\n",
       "      <td>0.030883</td>\n",
       "      <td>inf</td>\n",
       "      <td>False</td>\n",
       "    </tr>\n",
       "  </tbody>\n",
       "</table>\n",
       "</div>"
      ],
      "text/plain": [
       "           variable         bin  count  count_distr   good   bad   badprob  \\\n",
       "0  NAME_INCOME_TYPE  [-inf,4.0)  72291     0.631010  64901  7390  0.102226   \n",
       "1  NAME_INCOME_TYPE   [4.0,5.0)  10068     0.087881   9430   638  0.063369   \n",
       "2  NAME_INCOME_TYPE   [5.0,inf)  32205     0.281109  29722  2483  0.077100   \n",
       "\n",
       "        woe    bin_iv  total_iv breaks  is_special_values  \n",
       "0  0.119743  0.009501  0.030883    4.0              False  \n",
       "1 -0.400835  0.011996  0.030883    5.0              False  \n",
       "2 -0.189942  0.009386  0.030883    inf              False  "
      ]
     },
     "metadata": {},
     "output_type": "display_data"
    },
    {
     "name": "stdout",
     "output_type": "stream",
     "text": [
      "----------------------------------------------------------------------------------------------------\n",
      "DEF_60_CNT_SOCIAL_CIRCLE  : \n"
     ]
    },
    {
     "data": {
      "text/html": [
       "<div>\n",
       "<style scoped>\n",
       "    .dataframe tbody tr th:only-of-type {\n",
       "        vertical-align: middle;\n",
       "    }\n",
       "\n",
       "    .dataframe tbody tr th {\n",
       "        vertical-align: top;\n",
       "    }\n",
       "\n",
       "    .dataframe thead th {\n",
       "        text-align: right;\n",
       "    }\n",
       "</style>\n",
       "<table border=\"1\" class=\"dataframe\">\n",
       "  <thead>\n",
       "    <tr style=\"text-align: right;\">\n",
       "      <th></th>\n",
       "      <th>variable</th>\n",
       "      <th>bin</th>\n",
       "      <th>count</th>\n",
       "      <th>count_distr</th>\n",
       "      <th>good</th>\n",
       "      <th>bad</th>\n",
       "      <th>badprob</th>\n",
       "      <th>woe</th>\n",
       "      <th>bin_iv</th>\n",
       "      <th>total_iv</th>\n",
       "      <th>breaks</th>\n",
       "      <th>is_special_values</th>\n",
       "    </tr>\n",
       "  </thead>\n",
       "  <tbody>\n",
       "    <tr>\n",
       "      <th>0</th>\n",
       "      <td>DEF_60_CNT_SOCIAL_CIRCLE</td>\n",
       "      <td>[-inf,1.0)</td>\n",
       "      <td>104874</td>\n",
       "      <td>0.915418</td>\n",
       "      <td>95565</td>\n",
       "      <td>9309</td>\n",
       "      <td>0.088764</td>\n",
       "      <td>-0.036347</td>\n",
       "      <td>0.001192</td>\n",
       "      <td>0.012266</td>\n",
       "      <td>1.0</td>\n",
       "      <td>False</td>\n",
       "    </tr>\n",
       "    <tr>\n",
       "      <th>1</th>\n",
       "      <td>DEF_60_CNT_SOCIAL_CIRCLE</td>\n",
       "      <td>[1.0,inf)</td>\n",
       "      <td>9690</td>\n",
       "      <td>0.084582</td>\n",
       "      <td>8488</td>\n",
       "      <td>1202</td>\n",
       "      <td>0.124045</td>\n",
       "      <td>0.337811</td>\n",
       "      <td>0.011074</td>\n",
       "      <td>0.012266</td>\n",
       "      <td>inf</td>\n",
       "      <td>False</td>\n",
       "    </tr>\n",
       "  </tbody>\n",
       "</table>\n",
       "</div>"
      ],
      "text/plain": [
       "                   variable         bin   count  count_distr   good   bad  \\\n",
       "0  DEF_60_CNT_SOCIAL_CIRCLE  [-inf,1.0)  104874     0.915418  95565  9309   \n",
       "1  DEF_60_CNT_SOCIAL_CIRCLE   [1.0,inf)    9690     0.084582   8488  1202   \n",
       "\n",
       "    badprob       woe    bin_iv  total_iv breaks  is_special_values  \n",
       "0  0.088764 -0.036347  0.001192  0.012266    1.0              False  \n",
       "1  0.124045  0.337811  0.011074  0.012266    inf              False  "
      ]
     },
     "metadata": {},
     "output_type": "display_data"
    },
    {
     "name": "stdout",
     "output_type": "stream",
     "text": [
      "----------------------------------------------------------------------------------------------------\n",
      "age  : \n"
     ]
    },
    {
     "data": {
      "text/html": [
       "<div>\n",
       "<style scoped>\n",
       "    .dataframe tbody tr th:only-of-type {\n",
       "        vertical-align: middle;\n",
       "    }\n",
       "\n",
       "    .dataframe tbody tr th {\n",
       "        vertical-align: top;\n",
       "    }\n",
       "\n",
       "    .dataframe thead th {\n",
       "        text-align: right;\n",
       "    }\n",
       "</style>\n",
       "<table border=\"1\" class=\"dataframe\">\n",
       "  <thead>\n",
       "    <tr style=\"text-align: right;\">\n",
       "      <th></th>\n",
       "      <th>variable</th>\n",
       "      <th>bin</th>\n",
       "      <th>count</th>\n",
       "      <th>count_distr</th>\n",
       "      <th>good</th>\n",
       "      <th>bad</th>\n",
       "      <th>badprob</th>\n",
       "      <th>woe</th>\n",
       "      <th>bin_iv</th>\n",
       "      <th>total_iv</th>\n",
       "      <th>breaks</th>\n",
       "      <th>is_special_values</th>\n",
       "    </tr>\n",
       "  </thead>\n",
       "  <tbody>\n",
       "    <tr>\n",
       "      <th>0</th>\n",
       "      <td>age</td>\n",
       "      <td>[-inf,32.0)</td>\n",
       "      <td>34162</td>\n",
       "      <td>0.298191</td>\n",
       "      <td>30533</td>\n",
       "      <td>3629</td>\n",
       "      <td>0.106229</td>\n",
       "      <td>0.162627</td>\n",
       "      <td>0.008427</td>\n",
       "      <td>0.01892</td>\n",
       "      <td>32.0</td>\n",
       "      <td>False</td>\n",
       "    </tr>\n",
       "    <tr>\n",
       "      <th>1</th>\n",
       "      <td>age</td>\n",
       "      <td>[32.0,37.0)</td>\n",
       "      <td>34633</td>\n",
       "      <td>0.302303</td>\n",
       "      <td>31382</td>\n",
       "      <td>3251</td>\n",
       "      <td>0.093870</td>\n",
       "      <td>0.025206</td>\n",
       "      <td>0.000194</td>\n",
       "      <td>0.01892</td>\n",
       "      <td>37.0</td>\n",
       "      <td>False</td>\n",
       "    </tr>\n",
       "    <tr>\n",
       "      <th>2</th>\n",
       "      <td>age</td>\n",
       "      <td>[37.0,40.0)</td>\n",
       "      <td>23321</td>\n",
       "      <td>0.203563</td>\n",
       "      <td>21392</td>\n",
       "      <td>1929</td>\n",
       "      <td>0.082715</td>\n",
       "      <td>-0.113537</td>\n",
       "      <td>0.002505</td>\n",
       "      <td>0.01892</td>\n",
       "      <td>40.0</td>\n",
       "      <td>False</td>\n",
       "    </tr>\n",
       "    <tr>\n",
       "      <th>3</th>\n",
       "      <td>age</td>\n",
       "      <td>[40.0,inf)</td>\n",
       "      <td>22448</td>\n",
       "      <td>0.195943</td>\n",
       "      <td>20746</td>\n",
       "      <td>1702</td>\n",
       "      <td>0.075820</td>\n",
       "      <td>-0.208071</td>\n",
       "      <td>0.007793</td>\n",
       "      <td>0.01892</td>\n",
       "      <td>inf</td>\n",
       "      <td>False</td>\n",
       "    </tr>\n",
       "  </tbody>\n",
       "</table>\n",
       "</div>"
      ],
      "text/plain": [
       "  variable          bin  count  count_distr   good   bad   badprob       woe  \\\n",
       "0      age  [-inf,32.0)  34162     0.298191  30533  3629  0.106229  0.162627   \n",
       "1      age  [32.0,37.0)  34633     0.302303  31382  3251  0.093870  0.025206   \n",
       "2      age  [37.0,40.0)  23321     0.203563  21392  1929  0.082715 -0.113537   \n",
       "3      age   [40.0,inf)  22448     0.195943  20746  1702  0.075820 -0.208071   \n",
       "\n",
       "     bin_iv  total_iv breaks  is_special_values  \n",
       "0  0.008427   0.01892   32.0              False  \n",
       "1  0.000194   0.01892   37.0              False  \n",
       "2  0.002505   0.01892   40.0              False  \n",
       "3  0.007793   0.01892    inf              False  "
      ]
     },
     "metadata": {},
     "output_type": "display_data"
    },
    {
     "name": "stdout",
     "output_type": "stream",
     "text": [
      "----------------------------------------------------------------------------------------------------\n"
     ]
    }
   ],
   "source": [
    "# automatically calculate bin ranges\n",
    "# bins = sc.woebin(df, y='STATUS',positive=\"bad|0\")\n",
    "bins = sc.woebin(df, y='STATUS')\n",
    "# make it easy to read the bins\n",
    "for variables , bindetails in bins.items():\n",
    "    print(variables , \" : \")\n",
    "    display(bindetails)\n",
    "    print(\"--\"*50)"
   ]
  },
  {
   "cell_type": "code",
   "execution_count": 20,
   "metadata": {},
   "outputs": [],
   "source": [
    "#drop credit_income_ratio\n",
    "df.drop(\"credit_income_ratio\",axis=1,inplace=True)\n",
    "df.drop(\"total_enquiries_cb\",axis=1,inplace=True)"
   ]
  },
  {
   "cell_type": "code",
   "execution_count": 21,
   "metadata": {},
   "outputs": [],
   "source": [
    "df.drop(\"FLAG_OWN_REALTY\",axis=1,inplace=True)\n",
    "df.drop(\"NAME_HOUSING_TYPE\",axis=1,inplace=True)"
   ]
  },
  {
   "cell_type": "code",
   "execution_count": 22,
   "metadata": {},
   "outputs": [
    {
     "name": "stdout",
     "output_type": "stream",
     "text": [
      "(114564, 15)\n"
     ]
    },
    {
     "data": {
      "text/html": [
       "<div>\n",
       "<style scoped>\n",
       "    .dataframe tbody tr th:only-of-type {\n",
       "        vertical-align: middle;\n",
       "    }\n",
       "\n",
       "    .dataframe tbody tr th {\n",
       "        vertical-align: top;\n",
       "    }\n",
       "\n",
       "    .dataframe thead th {\n",
       "        text-align: right;\n",
       "    }\n",
       "</style>\n",
       "<table border=\"1\" class=\"dataframe\">\n",
       "  <thead>\n",
       "    <tr style=\"text-align: right;\">\n",
       "      <th></th>\n",
       "      <th>STATUS</th>\n",
       "      <th>NAME_CONTRACT_TYPE</th>\n",
       "      <th>FLAG_OWN_CAR</th>\n",
       "      <th>AMT_INCOME_TOTAL</th>\n",
       "      <th>AMT_CREDIT</th>\n",
       "      <th>AMT_ANNUITY</th>\n",
       "      <th>NAME_INCOME_TYPE</th>\n",
       "      <th>NAME_EDUCATION_TYPE</th>\n",
       "      <th>NAME_FAMILY_STATUS</th>\n",
       "      <th>DAYS_EMPLOYED</th>\n",
       "      <th>OCCUPATION_TYPE</th>\n",
       "      <th>CNT_FAM_MEMBERS</th>\n",
       "      <th>EXT_SOURCE_2</th>\n",
       "      <th>DEF_60_CNT_SOCIAL_CIRCLE</th>\n",
       "      <th>age</th>\n",
       "    </tr>\n",
       "  </thead>\n",
       "  <tbody>\n",
       "    <tr>\n",
       "      <th>0</th>\n",
       "      <td>0</td>\n",
       "      <td>0</td>\n",
       "      <td>1</td>\n",
       "      <td>171000.0</td>\n",
       "      <td>1560726.0</td>\n",
       "      <td>41301.0</td>\n",
       "      <td>5</td>\n",
       "      <td>4</td>\n",
       "      <td>1</td>\n",
       "      <td>-3130</td>\n",
       "      <td>18</td>\n",
       "      <td>3.0</td>\n",
       "      <td>0.724000</td>\n",
       "      <td>0.0</td>\n",
       "      <td>37.0</td>\n",
       "    </tr>\n",
       "    <tr>\n",
       "      <th>1</th>\n",
       "      <td>0</td>\n",
       "      <td>0</td>\n",
       "      <td>0</td>\n",
       "      <td>112500.0</td>\n",
       "      <td>652500.0</td>\n",
       "      <td>21177.0</td>\n",
       "      <td>3</td>\n",
       "      <td>4</td>\n",
       "      <td>1</td>\n",
       "      <td>-679</td>\n",
       "      <td>16</td>\n",
       "      <td>3.0</td>\n",
       "      <td>0.651862</td>\n",
       "      <td>0.0</td>\n",
       "      <td>27.0</td>\n",
       "    </tr>\n",
       "    <tr>\n",
       "      <th>2</th>\n",
       "      <td>0</td>\n",
       "      <td>0</td>\n",
       "      <td>0</td>\n",
       "      <td>67500.0</td>\n",
       "      <td>80865.0</td>\n",
       "      <td>5881.5</td>\n",
       "      <td>3</td>\n",
       "      <td>2</td>\n",
       "      <td>1</td>\n",
       "      <td>-2717</td>\n",
       "      <td>6</td>\n",
       "      <td>2.0</td>\n",
       "      <td>0.715042</td>\n",
       "      <td>0.0</td>\n",
       "      <td>36.0</td>\n",
       "    </tr>\n",
       "    <tr>\n",
       "      <th>3</th>\n",
       "      <td>0</td>\n",
       "      <td>0</td>\n",
       "      <td>1</td>\n",
       "      <td>225000.0</td>\n",
       "      <td>918468.0</td>\n",
       "      <td>28966.5</td>\n",
       "      <td>3</td>\n",
       "      <td>2</td>\n",
       "      <td>1</td>\n",
       "      <td>-3028</td>\n",
       "      <td>7</td>\n",
       "      <td>3.0</td>\n",
       "      <td>0.566907</td>\n",
       "      <td>0.0</td>\n",
       "      <td>38.0</td>\n",
       "    </tr>\n",
       "    <tr>\n",
       "      <th>4</th>\n",
       "      <td>0</td>\n",
       "      <td>0</td>\n",
       "      <td>0</td>\n",
       "      <td>108000.0</td>\n",
       "      <td>509602.5</td>\n",
       "      <td>26149.5</td>\n",
       "      <td>3</td>\n",
       "      <td>2</td>\n",
       "      <td>1</td>\n",
       "      <td>-1317</td>\n",
       "      <td>7</td>\n",
       "      <td>2.0</td>\n",
       "      <td>0.236378</td>\n",
       "      <td>0.0</td>\n",
       "      <td>35.0</td>\n",
       "    </tr>\n",
       "  </tbody>\n",
       "</table>\n",
       "</div>"
      ],
      "text/plain": [
       "   STATUS  NAME_CONTRACT_TYPE  FLAG_OWN_CAR  AMT_INCOME_TOTAL  AMT_CREDIT  \\\n",
       "0       0                   0             1          171000.0   1560726.0   \n",
       "1       0                   0             0          112500.0    652500.0   \n",
       "2       0                   0             0           67500.0     80865.0   \n",
       "3       0                   0             1          225000.0    918468.0   \n",
       "4       0                   0             0          108000.0    509602.5   \n",
       "\n",
       "   AMT_ANNUITY  NAME_INCOME_TYPE  NAME_EDUCATION_TYPE  NAME_FAMILY_STATUS  \\\n",
       "0      41301.0                 5                    4                   1   \n",
       "1      21177.0                 3                    4                   1   \n",
       "2       5881.5                 3                    2                   1   \n",
       "3      28966.5                 3                    2                   1   \n",
       "4      26149.5                 3                    2                   1   \n",
       "\n",
       "   DAYS_EMPLOYED  OCCUPATION_TYPE  CNT_FAM_MEMBERS  EXT_SOURCE_2  \\\n",
       "0          -3130               18              3.0      0.724000   \n",
       "1           -679               16              3.0      0.651862   \n",
       "2          -2717                6              2.0      0.715042   \n",
       "3          -3028                7              3.0      0.566907   \n",
       "4          -1317                7              2.0      0.236378   \n",
       "\n",
       "   DEF_60_CNT_SOCIAL_CIRCLE   age  \n",
       "0                       0.0  37.0  \n",
       "1                       0.0  27.0  \n",
       "2                       0.0  36.0  \n",
       "3                       0.0  38.0  \n",
       "4                       0.0  35.0  "
      ]
     },
     "execution_count": 22,
     "metadata": {},
     "output_type": "execute_result"
    }
   ],
   "source": [
    "print(df.shape)\n",
    "df.head()"
   ]
  },
  {
   "cell_type": "markdown",
   "metadata": {},
   "source": [
    "# Adjust Occupation Type"
   ]
  },
  {
   "cell_type": "code",
   "execution_count": 23,
   "metadata": {},
   "outputs": [
    {
     "data": {
      "text/plain": [
       "1       923\n",
       "2      2459\n",
       "3      1179\n",
       "4      2157\n",
       "5       586\n",
       "6     25203\n",
       "7      8063\n",
       "8     15099\n",
       "9       402\n",
       "10      651\n",
       "11    18883\n",
       "12     3583\n",
       "13     9875\n",
       "14     5159\n",
       "15      279\n",
       "16    13653\n",
       "17     1300\n",
       "18     4800\n",
       "19      310\n",
       "Name: OCCUPATION_TYPE, dtype: int64"
      ]
     },
     "execution_count": 23,
     "metadata": {},
     "output_type": "execute_result"
    }
   ],
   "source": [
    "df[\"OCCUPATION_TYPE\"].value_counts().sort_index()"
   ]
  },
  {
   "cell_type": "code",
   "execution_count": 32,
   "metadata": {},
   "outputs": [
    {
     "name": "stdout",
     "output_type": "stream",
     "text": [
      "[INFO] creating woe binning ...\n",
      "Binning on 114564 rows and 15 columns in 00:00:11\n"
     ]
    },
    {
     "data": {
      "text/plain": [
       "{'OCCUPATION_TYPE': <Figure size 432x288 with 2 Axes>}"
      ]
     },
     "execution_count": 32,
     "metadata": {},
     "output_type": "execute_result"
    },
    {
     "data": {
      "image/png": "[encoded data removed]",
      "text/plain": [
       "<Figure size 432x288 with 2 Axes>"
      ]
     },
     "metadata": {
      "needs_background": "light"
     },
     "output_type": "display_data"
    }
   ],
   "source": [
    "#adjust the bins\n",
    "breaks_adj = {'OCCUPATION_TYPE' : [1,  6, 9, 11 ,19]}\n",
    "# bins2 = sc.woebin(df, y='STATUS',breaks_list=breaks_adj, positive=\"bad|0\")\n",
    "bins2 = sc.woebin(df, y='STATUS',breaks_list=breaks_adj)\n",
    "sc.woebin_plot(bins2['OCCUPATION_TYPE'])"
   ]
  },
  {
   "cell_type": "code",
   "execution_count": null,
   "metadata": {},
   "outputs": [],
   "source": [
    "#adjust the bins\n",
    "breaks_adj = {'OCCUPATION_TYPE' : [1,  6, 9, 11 ,19]}\n",
    "# bins2 = sc.woebin(df, y='STATUS',breaks_list=breaks_adj, positive=\"bad|0\")\n",
    "bins2 = sc.woebin(df, y='STATUS',breaks_list=breaks_adj)\n",
    "sc.woebin_plot(bins2['OCCUPATION_TYPE'])"
   ]
  },
  {
   "cell_type": "markdown",
   "metadata": {},
   "source": [
    "# Adjust name income type"
   ]
  },
  {
   "cell_type": "code",
   "execution_count": 141,
   "metadata": {},
   "outputs": [
    {
     "data": {
      "text/plain": [
       "1        6\n",
       "2      698\n",
       "3    71587\n",
       "4    10068\n",
       "5    32204\n",
       "6        1\n",
       "Name: NAME_INCOME_TYPE, dtype: int64"
      ]
     },
     "execution_count": 141,
     "metadata": {},
     "output_type": "execute_result"
    }
   ],
   "source": [
    "df[\"NAME_INCOME_TYPE\"].value_counts().sort_index()"
   ]
  },
  {
   "cell_type": "code",
   "execution_count": 77,
   "metadata": {},
   "outputs": [
    {
     "name": "stdout",
     "output_type": "stream",
     "text": [
      "[INFO] creating woe binning ...\n",
      "Binning on 114564 rows and 19 columns in 00:00:13\n"
     ]
    },
    {
     "data": {
      "text/plain": [
       "{'NAME_INCOME_TYPE': <Figure size 432x288 with 2 Axes>}"
      ]
     },
     "execution_count": 77,
     "metadata": {},
     "output_type": "execute_result"
    },
    {
     "data": {
      "image/png": "[encoded data removed]",
      "text/plain": [
       "<Figure size 432x288 with 2 Axes>"
      ]
     },
     "metadata": {
      "needs_background": "light"
     },
     "output_type": "display_data"
    }
   ],
   "source": [
    "#adjust the bins\n",
    "breaks_adj = {'NAME_INCOME_TYPE' : [ 3, 5]}\n",
    "# bins3 = sc.woebin(df, y='STATUS',breaks_list=breaks_adj, positive=\"bad|0\")\n",
    "bins3 = sc.woebin(df, y='STATUS',breaks_list=breaks_adj)\n",
    "sc.woebin_plot(bins3['NAME_INCOME_TYPE'])"
   ]
  },
  {
   "cell_type": "code",
   "execution_count": 75,
   "metadata": {},
   "outputs": [
    {
     "name": "stdout",
     "output_type": "stream",
     "text": [
      "[INFO] creating woe binning ...\n",
      "Binning on 114564 rows and 19 columns in 00:00:13\n"
     ]
    },
    {
     "data": {
      "text/plain": [
       "{'NAME_INCOME_TYPE': <Figure size 432x288 with 2 Axes>}"
      ]
     },
     "execution_count": 75,
     "metadata": {},
     "output_type": "execute_result"
    },
    {
     "data": {
      "image/png": "[encoded data removed]",
      "text/plain": [
       "<Figure size 432x288 with 2 Axes>"
      ]
     },
     "metadata": {
      "needs_background": "light"
     },
     "output_type": "display_data"
    }
   ],
   "source": [
    "#adjust the bins\n",
    "breaks_adj = {'NAME_INCOME_TYPE' : [ 4,5,6]}\n",
    "# bins3 = sc.woebin(df, y='STATUS',breaks_list=breaks_adj, positive=\"bad|0\")\n",
    "bins3 = sc.woebin(df, y='STATUS',breaks_list=breaks_adj)\n",
    "sc.woebin_plot(bins3['NAME_INCOME_TYPE'])"
   ]
  },
  {
   "cell_type": "markdown",
   "metadata": {},
   "source": [
    "# Adjust name education type"
   ]
  },
  {
   "cell_type": "code",
   "execution_count": 143,
   "metadata": {},
   "outputs": [
    {
     "data": {
      "text/plain": [
       "1     1184\n",
       "2    74076\n",
       "3     4757\n",
       "4    34483\n",
       "5       64\n",
       "Name: NAME_EDUCATION_TYPE, dtype: int64"
      ]
     },
     "execution_count": 143,
     "metadata": {},
     "output_type": "execute_result"
    }
   ],
   "source": [
    "df[\"NAME_EDUCATION_TYPE\"].value_counts().sort_index()"
   ]
  },
  {
   "cell_type": "code",
   "execution_count": 72,
   "metadata": {},
   "outputs": [
    {
     "name": "stdout",
     "output_type": "stream",
     "text": [
      "[INFO] creating woe binning ...\n",
      "Binning on 114564 rows and 19 columns in 00:00:13\n"
     ]
    },
    {
     "data": {
      "text/plain": [
       "{'NAME_EDUCATION_TYPE': <Figure size 432x288 with 2 Axes>}"
      ]
     },
     "execution_count": 72,
     "metadata": {},
     "output_type": "execute_result"
    },
    {
     "data": {
      "image/png": "[encoded data removed]",
      "text/plain": [
       "<Figure size 432x288 with 2 Axes>"
      ]
     },
     "metadata": {
      "needs_background": "light"
     },
     "output_type": "display_data"
    }
   ],
   "source": [
    "#adjust the bins\n",
    "breaks_adj = {'NAME_EDUCATION_TYPE' : [1,2,4]}\n",
    "# bins4 = sc.woebin(df, y='STATUS',breaks_list=breaks_adj, positive=\"bad|0\")\n",
    "bins4 = sc.woebin(df, y='STATUS',breaks_list=breaks_adj)\n",
    "sc.woebin_plot(bins4['NAME_EDUCATION_TYPE'])"
   ]
  },
  {
   "cell_type": "markdown",
   "metadata": {},
   "source": [
    "# Adjust amt income total"
   ]
  },
  {
   "cell_type": "code",
   "execution_count": null,
   "metadata": {},
   "outputs": [
    {
     "data": {
      "text/plain": [
       "26550.0         1\n",
       "27000.0        15\n",
       "27900.0         2\n",
       "28723.5         1\n",
       "29250.0         4\n",
       "               ..\n",
       "3375000.0       1\n",
       "3600000.0       2\n",
       "3950059.5       1\n",
       "4500000.0       1\n",
       "117000000.0     1\n",
       "Name: AMT_INCOME_TOTAL, Length: 1172, dtype: int64"
      ]
     },
     "execution_count": 19,
     "metadata": {},
     "output_type": "execute_result"
    }
   ],
   "source": [
    "df[\"AMT_INCOME_TOTAL\"].value_counts().sort_index()"
   ]
  },
  {
   "cell_type": "code",
   "execution_count": null,
   "metadata": {},
   "outputs": [
    {
     "name": "stdout",
     "output_type": "stream",
     "text": [
      "[INFO] creating woe binning ...\n"
     ]
    },
    {
     "data": {
      "text/plain": [
       "{'AMT_INCOME_TOTAL': <Figure size 432x288 with 2 Axes>}"
      ]
     },
     "execution_count": 20,
     "metadata": {},
     "output_type": "execute_result"
    },
    {
     "data": {
      "image/png": "[encoded data removed]",
      "text/plain": [
       "<Figure size 432x288 with 2 Axes>"
      ]
     },
     "metadata": {
      "needs_background": "light"
     },
     "output_type": "display_data"
    }
   ],
   "source": [
    "#adjust the bins\n",
    "breaks_adj = {'AMT_INCOME_TOTAL' : [200000,250000, 300000,400000]}\n",
    "# bins5 = sc.woebin(df, y='STATUS',breaks_list=breaks_adj, positive=\"bad|0\")\n",
    "bins5 = sc.woebin(df, y='STATUS',breaks_list=breaks_adj)\n",
    "sc.woebin_plot(bins5['AMT_INCOME_TOTAL'])"
   ]
  },
  {
   "cell_type": "markdown",
   "metadata": {},
   "source": [
    "# Adjust days employed"
   ]
  },
  {
   "cell_type": "code",
   "execution_count": null,
   "metadata": {},
   "outputs": [
    {
     "data": {
      "text/plain": [
       "-9136        1\n",
       "-9123        1\n",
       "-9112        1\n",
       "-9100        1\n",
       "-9039        1\n",
       "          ... \n",
       "-8           1\n",
       "-5           1\n",
       "-4           2\n",
       " 0           2\n",
       " 365243    697\n",
       "Name: DAYS_EMPLOYED, Length: 7976, dtype: int64"
      ]
     },
     "execution_count": 21,
     "metadata": {},
     "output_type": "execute_result"
    }
   ],
   "source": [
    "df[\"DAYS_EMPLOYED\"].value_counts().sort_index()"
   ]
  },
  {
   "cell_type": "code",
   "execution_count": null,
   "metadata": {},
   "outputs": [
    {
     "name": "stdout",
     "output_type": "stream",
     "text": [
      "[INFO] creating woe binning ...\n"
     ]
    },
    {
     "data": {
      "text/plain": [
       "{'DAYS_EMPLOYED': <Figure size 432x288 with 2 Axes>}"
      ]
     },
     "execution_count": 22,
     "metadata": {},
     "output_type": "execute_result"
    },
    {
     "data": {
      "image/png": "[encoded data removed]",
      "text/plain": [
       "<Figure size 432x288 with 2 Axes>"
      ]
     },
     "metadata": {
      "needs_background": "light"
     },
     "output_type": "display_data"
    }
   ],
   "source": [
    "#adjust the bins\n",
    "breaks_adj = {'DAYS_EMPLOYED' : [-5000,-3500, -2200, -1700, -1000]}\n",
    "# bins6 = sc.woebin(df, y='STATUS',breaks_list=breaks_adj, positive=\"bad|0\")\n",
    "bins6 = sc.woebin(df, y='STATUS',breaks_list=breaks_adj)\n",
    "sc.woebin_plot(bins6['DAYS_EMPLOYED'])"
   ]
  },
  {
   "cell_type": "markdown",
   "metadata": {},
   "source": [
    "# Adjust amt annuity"
   ]
  },
  {
   "cell_type": "code",
   "execution_count": null,
   "metadata": {},
   "outputs": [
    {
     "data": {
      "text/plain": [
       "0.0          5\n",
       "2187.0       1\n",
       "2205.0       1\n",
       "2754.0       1\n",
       "2781.0       2\n",
       "            ..\n",
       "213291.0     3\n",
       "215500.5     1\n",
       "220297.5     1\n",
       "225000.0    10\n",
       "258025.5     1\n",
       "Name: AMT_ANNUITY, Length: 10881, dtype: int64"
      ]
     },
     "execution_count": 23,
     "metadata": {},
     "output_type": "execute_result"
    }
   ],
   "source": [
    "df[\"AMT_ANNUITY\"].value_counts().sort_index()"
   ]
  },
  {
   "cell_type": "code",
   "execution_count": null,
   "metadata": {},
   "outputs": [
    {
     "name": "stdout",
     "output_type": "stream",
     "text": [
      "[INFO] creating woe binning ...\n"
     ]
    },
    {
     "data": {
      "text/plain": [
       "{'AMT_ANNUITY': <Figure size 432x288 with 2 Axes>}"
      ]
     },
     "execution_count": 24,
     "metadata": {},
     "output_type": "execute_result"
    },
    {
     "data": {
      "image/png": "[encoded data removed]",
      "text/plain": [
       "<Figure size 432x288 with 2 Axes>"
      ]
     },
     "metadata": {
      "needs_background": "light"
     },
     "output_type": "display_data"
    }
   ],
   "source": [
    "#adjust the bins\n",
    "breaks_adj = {'AMT_ANNUITY' : [4000, 7000, 16000]}\n",
    "# bins7 = sc.woebin(df, y='STATUS',breaks_list=breaks_adj, positive=\"bad|0\")\n",
    "bins7 = sc.woebin(df, y='STATUS',breaks_list=breaks_adj)\n",
    "sc.woebin_plot(bins7['AMT_ANNUITY'])"
   ]
  },
  {
   "cell_type": "markdown",
   "metadata": {},
   "source": [
    "# Adjust ext source 2"
   ]
  },
  {
   "cell_type": "code",
   "execution_count": null,
   "metadata": {},
   "outputs": [
    {
     "data": {
      "text/plain": [
       "0.000001    1\n",
       "0.000006    1\n",
       "0.000010    1\n",
       "0.000017    1\n",
       "0.000017    1\n",
       "           ..\n",
       "0.816462    1\n",
       "0.816504    1\n",
       "0.817873    1\n",
       "0.821714    1\n",
       "0.855000    9\n",
       "Name: EXT_SOURCE_2, Length: 72580, dtype: int64"
      ]
     },
     "execution_count": 25,
     "metadata": {},
     "output_type": "execute_result"
    }
   ],
   "source": [
    "df[\"EXT_SOURCE_2\"].value_counts().sort_index()"
   ]
  },
  {
   "cell_type": "code",
   "execution_count": null,
   "metadata": {},
   "outputs": [
    {
     "name": "stdout",
     "output_type": "stream",
     "text": [
      "[INFO] creating woe binning ...\n"
     ]
    },
    {
     "data": {
      "text/plain": [
       "{'EXT_SOURCE_2': <Figure size 432x288 with 2 Axes>}"
      ]
     },
     "execution_count": 26,
     "metadata": {},
     "output_type": "execute_result"
    },
    {
     "data": {
      "image/png": "[encoded data removed]",
      "text/plain": [
       "<Figure size 432x288 with 2 Axes>"
      ]
     },
     "metadata": {
      "needs_background": "light"
     },
     "output_type": "display_data"
    }
   ],
   "source": [
    "#adjust the bins\n",
    "breaks_adj = {'EXT_SOURCE_2' : [0.1,0.15,0.20,0.44,0.6,0.80]}\n",
    "# bins8 = sc.woebin(df, y='STATUS',breaks_list=breaks_adj, positive=\"bad|0\")\n",
    "bins8 = sc.woebin(df, y='STATUS',breaks_list=breaks_adj)\n",
    "sc.woebin_plot(bins8['EXT_SOURCE_2'])"
   ]
  },
  {
   "cell_type": "markdown",
   "metadata": {},
   "source": [
    "# Adjusting amt_credit"
   ]
  },
  {
   "cell_type": "code",
   "execution_count": null,
   "metadata": {},
   "outputs": [
    {
     "data": {
      "text/plain": [
       "45000.0      79\n",
       "47970.0      60\n",
       "48519.0       1\n",
       "49455.0       4\n",
       "49500.0      15\n",
       "             ..\n",
       "3312162.0     1\n",
       "3375000.0     3\n",
       "3600000.0     2\n",
       "3860019.0     1\n",
       "4050000.0     5\n",
       "Name: AMT_CREDIT, Length: 4124, dtype: int64"
      ]
     },
     "execution_count": 27,
     "metadata": {},
     "output_type": "execute_result"
    }
   ],
   "source": [
    "df[\"AMT_CREDIT\"].value_counts().sort_index()"
   ]
  },
  {
   "cell_type": "code",
   "execution_count": null,
   "metadata": {},
   "outputs": [
    {
     "name": "stdout",
     "output_type": "stream",
     "text": [
      "[INFO] creating woe binning ...\n"
     ]
    },
    {
     "data": {
      "text/plain": [
       "{'AMT_CREDIT': <Figure size 432x288 with 2 Axes>}"
      ]
     },
     "execution_count": 28,
     "metadata": {},
     "output_type": "execute_result"
    },
    {
     "data": {
      "image/png": "[encoded data removed]",
      "text/plain": [
       "<Figure size 432x288 with 2 Axes>"
      ]
     },
     "metadata": {
      "needs_background": "light"
     },
     "output_type": "display_data"
    }
   ],
   "source": [
    "#adjust the bins\n",
    "breaks_adj = {'AMT_CREDIT' : [91000,150000,200000,300000]}\n",
    "# bins9 = sc.woebin(df, y='STATUS',breaks_list=breaks_adj, positive=\"bad|0\")\n",
    "bins9 = sc.woebin(df, y='STATUS',breaks_list=breaks_adj)\n",
    "sc.woebin_plot(bins9['AMT_CREDIT'])"
   ]
  },
  {
   "cell_type": "code",
   "execution_count": null,
   "metadata": {},
   "outputs": [
    {
     "data": {
      "text/plain": [
       "1.0     15571\n",
       "2.0     45360\n",
       "3.0     32181\n",
       "4.0     18466\n",
       "5.0      2639\n",
       "6.0       270\n",
       "7.0        54\n",
       "8.0        11\n",
       "9.0         2\n",
       "10.0        3\n",
       "11.0        1\n",
       "12.0        1\n",
       "14.0        2\n",
       "16.0        1\n",
       "20.0        2\n",
       "Name: CNT_FAM_MEMBERS, dtype: int64"
      ]
     },
     "execution_count": 29,
     "metadata": {},
     "output_type": "execute_result"
    }
   ],
   "source": [
    "df[\"CNT_FAM_MEMBERS\"].value_counts().sort_index()"
   ]
  },
  {
   "cell_type": "code",
   "execution_count": null,
   "metadata": {},
   "outputs": [
    {
     "name": "stdout",
     "output_type": "stream",
     "text": [
      "[INFO] creating woe binning ...\n"
     ]
    },
    {
     "data": {
      "text/plain": [
       "{'CNT_FAM_MEMBERS': <Figure size 432x288 with 2 Axes>}"
      ]
     },
     "execution_count": 30,
     "metadata": {},
     "output_type": "execute_result"
    },
    {
     "data": {
      "image/png": "[encoded data removed]",
      "text/plain": [
       "<Figure size 432x288 with 2 Axes>"
      ]
     },
     "metadata": {
      "needs_background": "light"
     },
     "output_type": "display_data"
    }
   ],
   "source": [
    "#adjust the bins\n",
    "breaks_adj = {'CNT_FAM_MEMBERS' : [1,2,3]}\n",
    "# bins10 = sc.woebin(df, y='STATUS',breaks_list=breaks_adj, positive=\"bad|0\")\n",
    "bins10 = sc.woebin(df, y='STATUS',breaks_list=breaks_adj)\n",
    "sc.woebin_plot(bins10['CNT_FAM_MEMBERS'])"
   ]
  },
  {
   "cell_type": "code",
   "execution_count": null,
   "metadata": {},
   "outputs": [
    {
     "data": {
      "text/plain": [
       "0    12185\n",
       "1    78550\n",
       "2     6580\n",
       "3    16340\n",
       "4      909\n",
       "Name: NAME_FAMILY_STATUS, dtype: int64"
      ]
     },
     "execution_count": 31,
     "metadata": {},
     "output_type": "execute_result"
    }
   ],
   "source": [
    "df[\"NAME_FAMILY_STATUS\"].value_counts().sort_index()"
   ]
  },
  {
   "cell_type": "code",
   "execution_count": null,
   "metadata": {},
   "outputs": [
    {
     "name": "stdout",
     "output_type": "stream",
     "text": [
      "[INFO] creating woe binning ...\n"
     ]
    },
    {
     "data": {
      "text/plain": [
       "{'NAME_FAMILY_STATUS': <Figure size 432x288 with 2 Axes>}"
      ]
     },
     "execution_count": 32,
     "metadata": {},
     "output_type": "execute_result"
    },
    {
     "data": {
      "image/png": "[encoded data removed]",
      "text/plain": [
       "<Figure size 432x288 with 2 Axes>"
      ]
     },
     "metadata": {
      "needs_background": "light"
     },
     "output_type": "display_data"
    }
   ],
   "source": [
    "#adjust the bins\n",
    "breaks_adj = {'NAME_FAMILY_STATUS' : [0,3]}\n",
    "# bins11 = sc.woebin(df, y='STATUS',breaks_list=breaks_adj, positive=\"bad|0\")\n",
    "bins11 = sc.woebin(df, y='STATUS',breaks_list=breaks_adj)\n",
    "sc.woebin_plot(bins11['NAME_FAMILY_STATUS'])"
   ]
  },
  {
   "cell_type": "code",
   "execution_count": null,
   "metadata": {},
   "outputs": [
    {
     "data": {
      "text/plain": [
       "27.0    7061\n",
       "28.0    6700\n",
       "29.0    6491\n",
       "30.0    6636\n",
       "31.0    7274\n",
       "32.0    6833\n",
       "33.0    6789\n",
       "34.0    6675\n",
       "35.0    6824\n",
       "36.0    7512\n",
       "37.0    7779\n",
       "38.0    7860\n",
       "39.0    7682\n",
       "40.0    7677\n",
       "41.0    7500\n",
       "42.0    7271\n",
       "Name: age, dtype: int64"
      ]
     },
     "execution_count": 33,
     "metadata": {},
     "output_type": "execute_result"
    }
   ],
   "source": [
    "df[\"age\"].value_counts().sort_index()"
   ]
  },
  {
   "cell_type": "code",
   "execution_count": null,
   "metadata": {},
   "outputs": [
    {
     "name": "stdout",
     "output_type": "stream",
     "text": [
      "[INFO] creating woe binning ...\n"
     ]
    },
    {
     "data": {
      "text/plain": [
       "{'age': <Figure size 432x288 with 2 Axes>}"
      ]
     },
     "execution_count": 34,
     "metadata": {},
     "output_type": "execute_result"
    },
    {
     "data": {
      "image/png": "[encoded data removed]",
      "text/plain": [
       "<Figure size 432x288 with 2 Axes>"
      ]
     },
     "metadata": {
      "needs_background": "light"
     },
     "output_type": "display_data"
    }
   ],
   "source": [
    "#adjust the bins\n",
    "breaks_adj = {'age' : [27, 30,35, 40]}\n",
    "# bins12 = sc.woebin(df, y='STATUS',breaks_list=breaks_adj, positive=\"bad|0\")\n",
    "bins12 = sc.woebin(df, y='STATUS',breaks_list=breaks_adj)\n",
    "sc.woebin_plot(bins12['age'])"
   ]
  },
  {
   "cell_type": "code",
   "execution_count": null,
   "metadata": {},
   "outputs": [],
   "source": [
    "# #adjust the bins\n",
    "# breaks_adj = {'age' : [27, 34, 40]}\n",
    "# bins12 = sc.woebin(df, y='STATUS',breaks_list=breaks_adj, positive=\"bad|0\")\n",
    "# # bins12 = sc.woebin(df, y='STATUS',breaks_list=breaks_adj)\n",
    "# sc.woebin_plot(bins12['age'])"
   ]
  },
  {
   "cell_type": "code",
   "execution_count": null,
   "metadata": {},
   "outputs": [
    {
     "data": {
      "text/plain": [
       "0    103860\n",
       "1     10704\n",
       "Name: NAME_CONTRACT_TYPE, dtype: int64"
      ]
     },
     "execution_count": 36,
     "metadata": {},
     "output_type": "execute_result"
    }
   ],
   "source": [
    "df[\"NAME_CONTRACT_TYPE\"].value_counts().sort_index()"
   ]
  },
  {
   "cell_type": "code",
   "execution_count": null,
   "metadata": {},
   "outputs": [
    {
     "name": "stdout",
     "output_type": "stream",
     "text": [
      "[INFO] creating woe binning ...\n"
     ]
    },
    {
     "data": {
      "text/plain": [
       "{'NAME_CONTRACT_TYPE': <Figure size 432x288 with 2 Axes>}"
      ]
     },
     "execution_count": 37,
     "metadata": {},
     "output_type": "execute_result"
    },
    {
     "data": {
      "image/png": "[encoded data removed]",
      "text/plain": [
       "<Figure size 432x288 with 2 Axes>"
      ]
     },
     "metadata": {
      "needs_background": "light"
     },
     "output_type": "display_data"
    }
   ],
   "source": [
    "#adjust the bins\n",
    "breaks_adj = {'NAME_CONTRACT_TYPE' : [0,1]}\n",
    "# bins13 = sc.woebin(df, y='STATUS',breaks_list=breaks_adj, positive=\"bad|0\")\n",
    "bins13 = sc.woebin(df, y='STATUS',breaks_list=breaks_adj)\n",
    "sc.woebin_plot(bins13['NAME_CONTRACT_TYPE'])"
   ]
  },
  {
   "cell_type": "code",
   "execution_count": null,
   "metadata": {},
   "outputs": [
    {
     "data": {
      "text/plain": [
       "0.0     104874\n",
       "1.0       8268\n",
       "2.0       1154\n",
       "3.0        222\n",
       "4.0         39\n",
       "5.0          5\n",
       "6.0          1\n",
       "24.0         1\n",
       "Name: DEF_60_CNT_SOCIAL_CIRCLE, dtype: int64"
      ]
     },
     "execution_count": 38,
     "metadata": {},
     "output_type": "execute_result"
    }
   ],
   "source": [
    "df[\"DEF_60_CNT_SOCIAL_CIRCLE\"].value_counts().sort_index()"
   ]
  },
  {
   "cell_type": "code",
   "execution_count": null,
   "metadata": {},
   "outputs": [
    {
     "name": "stdout",
     "output_type": "stream",
     "text": [
      "[INFO] creating woe binning ...\n"
     ]
    },
    {
     "data": {
      "text/plain": [
       "{'DEF_60_CNT_SOCIAL_CIRCLE': <Figure size 432x288 with 2 Axes>}"
      ]
     },
     "execution_count": 39,
     "metadata": {},
     "output_type": "execute_result"
    },
    {
     "data": {
      "image/png": "[encoded data removed]",
      "text/plain": [
       "<Figure size 432x288 with 2 Axes>"
      ]
     },
     "metadata": {
      "needs_background": "light"
     },
     "output_type": "display_data"
    }
   ],
   "source": [
    "#adjust the bins\n",
    "breaks_adj = {'DEF_60_CNT_SOCIAL_CIRCLE' : [0,1,2]}\n",
    "# bins14 = sc.woebin(df, y='STATUS',breaks_list=breaks_adj, positive=\"bad|0\")\n",
    "bins14 = sc.woebin(df, y='STATUS',breaks_list=breaks_adj)\n",
    "sc.woebin_plot(bins14['DEF_60_CNT_SOCIAL_CIRCLE'])"
   ]
  },
  {
   "cell_type": "code",
   "execution_count": null,
   "metadata": {},
   "outputs": [],
   "source": [
    "# #adjust the bins\n",
    "# breaks_adj = {'DEF_60_CNT_SOCIAL_CIRCLE' : [0,1]}\n",
    "# bins14 = sc.woebin(df, y='STATUS',breaks_list=breaks_adj, positive=\"bad|0\")\n",
    "# # bins14 = sc.woebin(df, y='STATUS',breaks_list=breaks_adj)\n",
    "# sc.woebin_plot(bins14['DEF_60_CNT_SOCIAL_CIRCLE'])"
   ]
  },
  {
   "cell_type": "code",
   "execution_count": null,
   "metadata": {},
   "outputs": [
    {
     "data": {
      "text/plain": [
       "0    67448\n",
       "1    47116\n",
       "Name: FLAG_OWN_CAR, dtype: int64"
      ]
     },
     "execution_count": 41,
     "metadata": {},
     "output_type": "execute_result"
    }
   ],
   "source": [
    "df[\"FLAG_OWN_CAR\"].value_counts().sort_index()"
   ]
  },
  {
   "cell_type": "code",
   "execution_count": null,
   "metadata": {},
   "outputs": [
    {
     "name": "stdout",
     "output_type": "stream",
     "text": [
      "[INFO] creating woe binning ...\n"
     ]
    },
    {
     "data": {
      "text/plain": [
       "{'FLAG_OWN_CAR': <Figure size 432x288 with 2 Axes>}"
      ]
     },
     "execution_count": 42,
     "metadata": {},
     "output_type": "execute_result"
    },
    {
     "data": {
      "image/png": "[encoded data removed]",
      "text/plain": [
       "<Figure size 432x288 with 2 Axes>"
      ]
     },
     "metadata": {
      "needs_background": "light"
     },
     "output_type": "display_data"
    }
   ],
   "source": [
    "#adjust the bins\n",
    "breaks_adj = {'FLAG_OWN_CAR' : [0,1]}\n",
    "# bins15 = sc.woebin(df, y='STATUS',breaks_list=breaks_adj, positive=\"bad|0\")\n",
    "bins15 = sc.woebin(df, y='STATUS',breaks_list=breaks_adj)\n",
    "sc.woebin_plot(bins15['FLAG_OWN_CAR'])"
   ]
  },
  {
   "cell_type": "code",
   "execution_count": 112,
   "metadata": {},
   "outputs": [
    {
     "name": "stdout",
     "output_type": "stream",
     "text": [
      "[INFO] creating woe binning ...\n"
     ]
    }
   ],
   "source": [
    "breaks_adj = {\n",
    "       'OCCUPATION_TYPE' : [1,  6, 9, 11 ,19],\n",
    "       'NAME_INCOME_TYPE' : [3,5],\n",
    "        'NAME_EDUCATION_TYPE' : [0,2,3],\n",
    "        'AMT_INCOME_TOTAL' : [200000,250000, 300000,400000],\n",
    "        'DAYS_EMPLOYED' : [-5000,-3500, -2200, -1700, -1000],\n",
    "        'AMT_ANNUITY' : [4000, 7000, 16000],\n",
    "        'EXT_SOURCE_2' : [0.1,0.15,0.20,0.44,0.6,0.80],\n",
    "        'AMT_CREDIT' : [91000,150000,200000,300000],\n",
    "        'CNT_FAM_MEMBERS' : [1,2,3],\n",
    "        'NAME_FAMILY_STATUS' : [0,3],\n",
    "        'age' : [27, 30,35, 40],\n",
    "        'DEF_60_CNT_SOCIAL_CIRCLE' : [0,1,2],\n",
    "        'FLAG_OWN_CAR': [0,1]\n",
    "    }\n",
    "bins_final = sc.woebin(df, y='STATUS',breaks_list=breaks_adj)\n",
    "# bins_final = sc.woebin(df, y='STATUS',breaks_list=breaks_adj, positive=\"bad|0\")"
   ]
  },
  {
   "cell_type": "code",
   "execution_count": 113,
   "metadata": {},
   "outputs": [
    {
     "name": "stdout",
     "output_type": "stream",
     "text": [
      "(91651, 16)\n",
      "(22913, 16)\n"
     ]
    }
   ],
   "source": [
    "# sample code\n",
    "train, test = sc.split_df(df, 'STATUS', ratio=0.8).values()\n",
    "print(train.shape)\n",
    "print(test.shape)"
   ]
  },
  {
   "cell_type": "code",
   "execution_count": 114,
   "metadata": {},
   "outputs": [
    {
     "name": "stdout",
     "output_type": "stream",
     "text": [
      "Proportion of positive cases in train set: 0.09175022640233058\n",
      "Proportion of positive cases in test set: 0.09173831449395539\n"
     ]
    }
   ],
   "source": [
    "print('Proportion of positive cases in train set:', train['STATUS'].mean())\n",
    "print('Proportion of positive cases in test set:', test['STATUS'].mean())"
   ]
  },
  {
   "cell_type": "code",
   "execution_count": 115,
   "metadata": {},
   "outputs": [
    {
     "name": "stdout",
     "output_type": "stream",
     "text": [
      "[INFO] converting into woe values ...\n",
      "[INFO] converting into woe values ...\n"
     ]
    }
   ],
   "source": [
    "# train_woe = sc.woebin_ply(train, bins_final, positive=\"bad|0\")\n",
    "# test_woe = sc.woebin_ply(test, bins_final, positive=\"bad|0\")\n",
    "train_woe = sc.woebin_ply(train, bins_final)\n",
    "test_woe = sc.woebin_ply(test, bins_final)"
   ]
  },
  {
   "cell_type": "code",
   "execution_count": 116,
   "metadata": {},
   "outputs": [],
   "source": [
    "y_train = train_woe.loc[:,'STATUS']\n",
    "X_train = train_woe.loc[:,train_woe.columns != 'STATUS']\n",
    "y_test = test_woe.loc[:,'STATUS']\n",
    "X_test = test_woe.loc[:,test_woe.columns != 'STATUS']"
   ]
  },
  {
   "cell_type": "code",
   "execution_count": 117,
   "metadata": {},
   "outputs": [
    {
     "name": "stdout",
     "output_type": "stream",
     "text": [
      "[[0.88008226 1.19936291 0.67811694 0.64657517 0.04404349 0.7797081\n",
      "  0.88384483 0.38724303 0.84552333 0.73713267 0.51331987 0.61951754\n",
      "  0.07485943 0.86319151 0.63885725]]\n",
      "[-0.0034156]\n"
     ]
    }
   ],
   "source": [
    "#create a logistic regression model object\n",
    "lr = LogisticRegression(class_weight='balanced', random_state=7)\n",
    "lr.fit(X_train, y_train)\n",
    "print(lr.coef_)\n",
    "print(lr.intercept_)"
   ]
  },
  {
   "cell_type": "markdown",
   "metadata": {},
   "source": [
    "1 is good\n",
    "0 is default"
   ]
  },
  {
   "cell_type": "code",
   "execution_count": 118,
   "metadata": {},
   "outputs": [
    {
     "data": {
      "text/plain": [
       "0.6486710600968882"
      ]
     },
     "execution_count": 118,
     "metadata": {},
     "output_type": "execute_result"
    }
   ],
   "source": [
    "accuracy = lr.score(X_test, y_test)\n",
    "accuracy"
   ]
  },
  {
   "cell_type": "code",
   "execution_count": 119,
   "metadata": {},
   "outputs": [
    {
     "data": {
      "text/plain": [
       "0    20811\n",
       "1     2102\n",
       "Name: STATUS, dtype: int64"
      ]
     },
     "execution_count": 119,
     "metadata": {},
     "output_type": "execute_result"
    }
   ],
   "source": [
    "y_test.value_counts()"
   ]
  },
  {
   "cell_type": "code",
   "execution_count": 120,
   "metadata": {},
   "outputs": [],
   "source": [
    "# make predictions on the test set\n",
    "y_pred = lr.predict(X_test)"
   ]
  },
  {
   "cell_type": "code",
   "execution_count": 121,
   "metadata": {},
   "outputs": [
    {
     "name": "stdout",
     "output_type": "stream",
     "text": [
      "         Predict Good  Predict Default\n",
      "Good            13557             7254\n",
      "Default           796             1306\n"
     ]
    }
   ],
   "source": [
    "# assume y_true and y_pred are the true and predicted labels, respectively\n",
    "cm = confusion_matrix(y_test, y_pred, labels=[0,1])\n",
    "\n",
    "# create a dataframe from the confusion matrix\n",
    "df_cm = pd.DataFrame(cm, index=['Good', 'Default'], columns=['Predict Good', 'Predict Default'])\n",
    "\n",
    "\n",
    "# print the dataframe\n",
    "print(df_cm)"
   ]
  },
  {
   "cell_type": "markdown",
   "metadata": {},
   "source": [
    "True positive (TP)\n",
    "The model predicts a good customer, and the client did not default <br>\n",
    "False positive (FP)\n",
    "The model predicts a good customer, but the client defaulted<br>\n",
    "True negative (TN) \n",
    "The model predicts a default, and the client defaulted<br>\n",
    "False negative (FN)\n",
    "The model predicts a default, but the client did not default"
   ]
  },
  {
   "cell_type": "code",
   "execution_count": 122,
   "metadata": {},
   "outputs": [
    {
     "name": "stdout",
     "output_type": "stream",
     "text": [
      "13557 7254 796 1306\n",
      "Accuracy: 0.6486710600968882\n",
      "Precision: 0.9445412108966766\n",
      "Recall: 0.6514343376099179\n",
      "Specificity: 0.621313035204567\n",
      "F1: 0.7710726879763394\n"
     ]
    }
   ],
   "source": [
    "#import accuracy score from sklearn\n",
    "from sklearn.metrics import accuracy_score, recall_score, precision_score, f1_score, confusion_matrix\n",
    "tp, fn, fp, tn = confusion_matrix(y_test, y_pred, labels=[0,1]).ravel()\n",
    "print(tp,fn,fp,tn)\n",
    "\n",
    "accuracy = (tp + tn) / (tp + tn + fp + fn)\n",
    "precision = tp / (tp + fp) #Given that we predict positive, how often is it really positive\n",
    "recall = tp / (tp + fn) #How good at predicting positive\n",
    "f1 = 2 * (precision * recall) / (precision + recall)\n",
    "specificity = tn / (tn + fp) # How good at predicting negative?\n",
    "\n",
    "print(\"Accuracy:\", accuracy)\n",
    "print(\"Precision:\", precision)\n",
    "print(\"Recall:\", recall)\n",
    "print(\"Specificity:\", specificity) \n",
    "print(\"F1:\", f1)"
   ]
  },
  {
   "cell_type": "code",
   "execution_count": 124,
   "metadata": {},
   "outputs": [],
   "source": [
    "#import accuracy score from sklearn\n",
    "from sklearn.metrics import accuracy_score, recall_score, precision_score, f1_score, confusion_matrix\n",
    "def calculate(y_test,y_pred):\n",
    "    tp, fn, fp, tn = confusion_matrix(y_test, y_pred, labels=[0,1]).ravel()\n",
    "    return tn/(tn+fp)"
   ]
  },
  {
   "cell_type": "code",
   "execution_count": 125,
   "metadata": {},
   "outputs": [],
   "source": [
    "numbers = []\n",
    "for i in range(1, 200):\n",
    "    numbers.append(i / 100)\n",
    "\n",
    "best_c = 1\n",
    "spec = 0.6189343482397717"
   ]
  },
  {
   "cell_type": "code",
   "execution_count": 126,
   "metadata": {},
   "outputs": [],
   "source": [
    "for i in numbers:\n",
    "    lr = LogisticRegression(random_state=7,C= i, solver= 'liblinear', class_weight='balanced')\n",
    "    lr.fit(X_train, y_train)\n",
    "    y_pred = lr.predict(X_test)\n",
    "    res = calculate(y_test,y_pred)\n",
    "    if res > spec:\n",
    "        best_c=i\n",
    "        spec=res"
   ]
  },
  {
   "cell_type": "code",
   "execution_count": 127,
   "metadata": {},
   "outputs": [
    {
     "name": "stdout",
     "output_type": "stream",
     "text": [
      "0.08\n"
     ]
    }
   ],
   "source": [
    "print(best_c)"
   ]
  },
  {
   "cell_type": "code",
   "execution_count": 128,
   "metadata": {},
   "outputs": [
    {
     "name": "stdout",
     "output_type": "stream",
     "text": [
      "[[0.87969612 1.20083071 0.67620545 0.64659311 0.04381229 0.77964218\n",
      "  0.88391407 0.38580143 0.8454899  0.73742698 0.51328868 0.61929479\n",
      "  0.07582788 0.86360272 0.63886746]]\n",
      "[-0.00341884]\n"
     ]
    }
   ],
   "source": [
    "#create a logistic regression model object\n",
    "lr = LogisticRegression(C=1,class_weight='balanced', solver='liblinear', random_state=7)\n",
    "lr.fit(X_train, y_train)\n",
    "print(lr.coef_)\n",
    "print(lr.intercept_)"
   ]
  },
  {
   "cell_type": "code",
   "execution_count": 129,
   "metadata": {},
   "outputs": [
    {
     "name": "stdout",
     "output_type": "stream",
     "text": [
      "         Predict Good  Predict Default\n",
      "Good            13551             7260\n",
      "Default           794             1308\n"
     ]
    }
   ],
   "source": [
    "# assume y_true and y_pred are the true and predicted labels, respectively\n",
    "cm = confusion_matrix(y_test, y_pred, labels=[0,1])\n",
    "\n",
    "# create a dataframe from the confusion matrix\n",
    "df_cm = pd.DataFrame(cm, index=['Good', 'Default'], columns=['Predict Good', 'Predict Default'])\n",
    "\n",
    "\n",
    "# print the dataframe\n",
    "print(df_cm)"
   ]
  },
  {
   "cell_type": "code",
   "execution_count": 130,
   "metadata": {},
   "outputs": [
    {
     "name": "stdout",
     "output_type": "stream",
     "text": [
      "13551 7260 794 1308\n",
      "Accuracy: 0.648496486710601\n",
      "Precision: 0.9446497037295225\n",
      "Recall: 0.6511460285425976\n",
      "Specificity: 0.6222645099904852\n",
      "F1: 0.7709068153373535\n"
     ]
    }
   ],
   "source": [
    "#import accuracy score from sklearn\n",
    "from sklearn.metrics import accuracy_score, recall_score, precision_score, f1_score, confusion_matrix\n",
    "tp, fn, fp, tn = confusion_matrix(y_test, y_pred, labels=[0,1]).ravel()\n",
    "print(tp,fn,fp,tn)\n",
    "\n",
    "accuracy = (tp + tn) / (tp + tn + fp + fn)\n",
    "precision = tp / (tp + fp) #Given that we predict positive, how often is it really positive\n",
    "recall = tp / (tp + fn) #How good at predicting positive\n",
    "f1 = 2 * (precision * recall) / (precision + recall)\n",
    "specificity = tn / (tn + fp) # How good at predicting negative?\n",
    "\n",
    "print(\"Accuracy:\", accuracy)\n",
    "print(\"Precision:\", precision)\n",
    "print(\"Recall:\", recall)\n",
    "print(\"Specificity:\", specificity) \n",
    "print(\"F1:\", f1)"
   ]
  },
  {
   "cell_type": "code",
   "execution_count": 131,
   "metadata": {},
   "outputs": [
    {
     "data": {
      "text/plain": [
       "Index(['CNT_FAM_MEMBERS_woe', 'AMT_CREDIT_woe', 'FLAG_OWN_REALTY_woe',\n",
       "       'NAME_EDUCATION_TYPE_woe', 'AMT_INCOME_TOTAL_woe', 'FLAG_OWN_CAR_woe',\n",
       "       'EXT_SOURCE_2_woe', 'AMT_ANNUITY_woe', 'DAYS_EMPLOYED_woe',\n",
       "       'NAME_CONTRACT_TYPE_woe', 'OCCUPATION_TYPE_woe', 'NAME_INCOME_TYPE_woe',\n",
       "       'NAME_FAMILY_STATUS_woe', 'DEF_60_CNT_SOCIAL_CIRCLE_woe', 'age_woe'],\n",
       "      dtype='object')"
      ]
     },
     "execution_count": 131,
     "metadata": {},
     "output_type": "execute_result"
    }
   ],
   "source": [
    "X_train.columns"
   ]
  },
  {
   "cell_type": "code",
   "execution_count": 132,
   "metadata": {},
   "outputs": [
    {
     "name": "stdout",
     "output_type": "stream",
     "text": [
      "{'AMT_ANNUITY':        variable               bin  points\n",
      "36  AMT_ANNUITY     [-inf,4000.0)    42.0\n",
      "37  AMT_ANNUITY   [4000.0,7000.0)    39.0\n",
      "38  AMT_ANNUITY  [7000.0,16000.0)    36.0\n",
      "39  AMT_ANNUITY     [16000.0,inf)    34.0,\n",
      " 'AMT_CREDIT':      variable                  bin  points\n",
      "3  AMT_CREDIT       [-inf,91000.0)    49.0\n",
      "4  AMT_CREDIT   [91000.0,150000.0)    44.0\n",
      "5  AMT_CREDIT  [150000.0,200000.0)    39.0\n",
      "6  AMT_CREDIT  [200000.0,300000.0)    36.0\n",
      "7  AMT_CREDIT       [300000.0,inf)    33.0,\n",
      " 'AMT_INCOME_TOTAL':             variable                  bin  points\n",
      "10  AMT_INCOME_TOTAL      [-inf,200000.0)    34.0\n",
      "11  AMT_INCOME_TOTAL  [200000.0,250000.0)    34.0\n",
      "12  AMT_INCOME_TOTAL  [250000.0,300000.0)    35.0\n",
      "13  AMT_INCOME_TOTAL  [300000.0,400000.0)    35.0\n",
      "14  AMT_INCOME_TOTAL       [400000.0,inf)    35.0,\n",
      " 'CNT_FAM_MEMBERS':           variable         bin  points\n",
      "0  CNT_FAM_MEMBERS  [-inf,2.0)    31.0\n",
      "1  CNT_FAM_MEMBERS   [2.0,3.0)    33.0\n",
      "2  CNT_FAM_MEMBERS   [3.0,inf)    36.0,\n",
      " 'DAYS_EMPLOYED':          variable                bin  points\n",
      "40  DAYS_EMPLOYED     [-inf,-5000.0)    49.0\n",
      "41  DAYS_EMPLOYED  [-5000.0,-3500.0)    43.0\n",
      "42  DAYS_EMPLOYED  [-3500.0,-2200.0)    40.0\n",
      "43  DAYS_EMPLOYED  [-2200.0,-1700.0)    36.0\n",
      "44  DAYS_EMPLOYED  [-1700.0,-1000.0)    32.0\n",
      "45  DAYS_EMPLOYED      [-1000.0,inf)    28.0,\n",
      " 'DEF_60_CNT_SOCIAL_CIRCLE':                     variable         bin  points\n",
      "49  DEF_60_CNT_SOCIAL_CIRCLE  [-inf,1.0)    35.0\n",
      "50  DEF_60_CNT_SOCIAL_CIRCLE   [1.0,2.0)    27.0\n",
      "51  DEF_60_CNT_SOCIAL_CIRCLE   [2.0,inf)    22.0,\n",
      " 'EXT_SOURCE_2':         variable         bin  points\n",
      "29  EXT_SOURCE_2  [-inf,0.1)     3.0\n",
      "30  EXT_SOURCE_2  [0.1,0.15)     9.0\n",
      "31  EXT_SOURCE_2  [0.15,0.2)    17.0\n",
      "32  EXT_SOURCE_2  [0.2,0.44)    25.0\n",
      "33  EXT_SOURCE_2  [0.44,0.6)    37.0\n",
      "34  EXT_SOURCE_2   [0.6,0.8)    49.0\n",
      "35  EXT_SOURCE_2   [0.8,inf)    64.0,\n",
      " 'FLAG_OWN_CAR':         variable         bin  points\n",
      "15  FLAG_OWN_CAR  [-inf,1.0)    32.0\n",
      "16  FLAG_OWN_CAR   [1.0,inf)    39.0,\n",
      " 'FLAG_OWN_REALTY':           variable         bin  points\n",
      "8  FLAG_OWN_REALTY  [-inf,1.0)    34.0\n",
      "9  FLAG_OWN_REALTY   [1.0,inf)    34.0,\n",
      " 'NAME_CONTRACT_TYPE':               variable         bin  points\n",
      "17  NAME_CONTRACT_TYPE  [-inf,1.0)    33.0\n",
      "18  NAME_CONTRACT_TYPE   [1.0,inf)    47.0,\n",
      " 'NAME_EDUCATION_TYPE':                variable         bin  points\n",
      "26  NAME_EDUCATION_TYPE  [-inf,2.0)    24.0\n",
      "27  NAME_EDUCATION_TYPE   [2.0,3.0)    31.0\n",
      "28  NAME_EDUCATION_TYPE   [3.0,inf)    43.0,\n",
      " 'NAME_FAMILY_STATUS':               variable         bin  points\n",
      "24  NAME_FAMILY_STATUS  [-inf,3.0)    34.0\n",
      "25  NAME_FAMILY_STATUS   [3.0,inf)    34.0,\n",
      " 'NAME_INCOME_TYPE':             variable         bin  points\n",
      "46  NAME_INCOME_TYPE  [-inf,3.0)    32.0\n",
      "47  NAME_INCOME_TYPE   [3.0,5.0)    33.0\n",
      "48  NAME_INCOME_TYPE   [5.0,inf)    38.0,\n",
      " 'OCCUPATION_TYPE':            variable          bin  points\n",
      "19  OCCUPATION_TYPE   [-inf,6.0)    28.0\n",
      "20  OCCUPATION_TYPE    [6.0,9.0)    31.0\n",
      "21  OCCUPATION_TYPE   [9.0,11.0)    35.0\n",
      "22  OCCUPATION_TYPE  [11.0,19.0)    38.0\n",
      "23  OCCUPATION_TYPE   [19.0,inf)    44.0,\n",
      " 'age':    variable          bin  points\n",
      "52      age  [-inf,30.0)    31.0\n",
      "53      age  [30.0,35.0)    33.0\n",
      "54      age  [35.0,40.0)    35.0\n",
      "55      age   [40.0,inf)    38.0,\n",
      " 'basepoints':      variable  bin  points\n",
      "0  basepoints  NaN       0}\n"
     ]
    }
   ],
   "source": [
    "#generate a card from the model and bins. The scores will be based on probability of default from the model\n",
    "card = sc.scorecard(bins_final, lr, X_train.columns, points0 = 600, odds0 = 1/20, pdo = 20,\n",
    "      basepoints_eq0 = True)\n",
    "\n",
    "pprint.pprint(card)"
   ]
  },
  {
   "cell_type": "code",
   "execution_count": 133,
   "metadata": {},
   "outputs": [
    {
     "data": {
      "text/plain": [
       "array([[<AxesSubplot:title={'center':'score'}>]], dtype=object)"
      ]
     },
     "execution_count": 133,
     "metadata": {},
     "output_type": "execute_result"
    },
    {
     "data": {
      "image/png": "[encoded data removed]",
      "text/plain": [
       "<Figure size 1152x648 with 1 Axes>"
      ]
     },
     "metadata": {
      "needs_background": "light"
     },
     "output_type": "display_data"
    }
   ],
   "source": [
    "train_score = sc.scorecard_ply(train, card)\n",
    "test_score = sc.scorecard_ply(test, card)\n",
    "\n",
    "#distrubution of scores on test data\n",
    "test_score.hist(figsize=(16,9),bins=60)"
   ]
  },
  {
   "cell_type": "code",
   "execution_count": 134,
   "metadata": {},
   "outputs": [
    {
     "ename": "PermissionError",
     "evalue": "[Errno 13] Permission denied: 'scorecard.csv'",
     "output_type": "error",
     "traceback": [
      "\u001b[1;31m---------------------------------------------------------------------------\u001b[0m",
      "\u001b[1;31mPermissionError\u001b[0m                           Traceback (most recent call last)",
      "\u001b[1;32mc:\\Users\\Shuoan\\Desktop\\Financial Analytics\\FA\\Part 3 - Coarse Classing and creating Scorecard.ipynb Cell 81\u001b[0m in \u001b[0;36m<cell line: 18>\u001b[1;34m()\u001b[0m\n\u001b[0;32m     <a href='vscode-notebook-cell:/c%3A/Users/Shuoan/Desktop/Financial%20Analytics/FA/Part%203%20-%20Coarse%20Classing%20and%20creating%20Scorecard.ipynb#Y133sZmlsZQ%3D%3D?line=14'>15</a>\u001b[0m         value \u001b[39m=\u001b[39m \u001b[39m\"\u001b[39m\u001b[39m>\u001b[39m\u001b[39m\"\u001b[39m\u001b[39m+\u001b[39mvalue_list[\u001b[39m0\u001b[39m]\n\u001b[0;32m     <a href='vscode-notebook-cell:/c%3A/Users/Shuoan/Desktop/Financial%20Analytics/FA/Part%203%20-%20Coarse%20Classing%20and%20creating%20Scorecard.ipynb#Y133sZmlsZQ%3D%3D?line=15'>16</a>\u001b[0m     temp_df\u001b[39m.\u001b[39mat[i,\u001b[39m'\u001b[39m\u001b[39mbin\u001b[39m\u001b[39m'\u001b[39m] \u001b[39m=\u001b[39m value\n\u001b[1;32m---> <a href='vscode-notebook-cell:/c%3A/Users/Shuoan/Desktop/Financial%20Analytics/FA/Part%203%20-%20Coarse%20Classing%20and%20creating%20Scorecard.ipynb#Y133sZmlsZQ%3D%3D?line=17'>18</a>\u001b[0m temp_df\u001b[39m.\u001b[39;49mto_csv(\u001b[39m'\u001b[39;49m\u001b[39mscorecard.csv\u001b[39;49m\u001b[39m'\u001b[39;49m, index\u001b[39m=\u001b[39;49m\u001b[39mFalse\u001b[39;49;00m)\n",
      "File \u001b[1;32mc:\\Users\\Shuoan\\anaconda3\\lib\\site-packages\\pandas\\core\\generic.py:3466\u001b[0m, in \u001b[0;36mNDFrame.to_csv\u001b[1;34m(self, path_or_buf, sep, na_rep, float_format, columns, header, index, index_label, mode, encoding, compression, quoting, quotechar, line_terminator, chunksize, date_format, doublequote, escapechar, decimal, errors, storage_options)\u001b[0m\n\u001b[0;32m   3455\u001b[0m df \u001b[39m=\u001b[39m \u001b[39mself\u001b[39m \u001b[39mif\u001b[39;00m \u001b[39misinstance\u001b[39m(\u001b[39mself\u001b[39m, ABCDataFrame) \u001b[39melse\u001b[39;00m \u001b[39mself\u001b[39m\u001b[39m.\u001b[39mto_frame()\n\u001b[0;32m   3457\u001b[0m formatter \u001b[39m=\u001b[39m DataFrameFormatter(\n\u001b[0;32m   3458\u001b[0m     frame\u001b[39m=\u001b[39mdf,\n\u001b[0;32m   3459\u001b[0m     header\u001b[39m=\u001b[39mheader,\n\u001b[1;32m   (...)\u001b[0m\n\u001b[0;32m   3463\u001b[0m     decimal\u001b[39m=\u001b[39mdecimal,\n\u001b[0;32m   3464\u001b[0m )\n\u001b[1;32m-> 3466\u001b[0m \u001b[39mreturn\u001b[39;00m DataFrameRenderer(formatter)\u001b[39m.\u001b[39;49mto_csv(\n\u001b[0;32m   3467\u001b[0m     path_or_buf,\n\u001b[0;32m   3468\u001b[0m     line_terminator\u001b[39m=\u001b[39;49mline_terminator,\n\u001b[0;32m   3469\u001b[0m     sep\u001b[39m=\u001b[39;49msep,\n\u001b[0;32m   3470\u001b[0m     encoding\u001b[39m=\u001b[39;49mencoding,\n\u001b[0;32m   3471\u001b[0m     errors\u001b[39m=\u001b[39;49merrors,\n\u001b[0;32m   3472\u001b[0m     compression\u001b[39m=\u001b[39;49mcompression,\n\u001b[0;32m   3473\u001b[0m     quoting\u001b[39m=\u001b[39;49mquoting,\n\u001b[0;32m   3474\u001b[0m     columns\u001b[39m=\u001b[39;49mcolumns,\n\u001b[0;32m   3475\u001b[0m     index_label\u001b[39m=\u001b[39;49mindex_label,\n\u001b[0;32m   3476\u001b[0m     mode\u001b[39m=\u001b[39;49mmode,\n\u001b[0;32m   3477\u001b[0m     chunksize\u001b[39m=\u001b[39;49mchunksize,\n\u001b[0;32m   3478\u001b[0m     quotechar\u001b[39m=\u001b[39;49mquotechar,\n\u001b[0;32m   3479\u001b[0m     date_format\u001b[39m=\u001b[39;49mdate_format,\n\u001b[0;32m   3480\u001b[0m     doublequote\u001b[39m=\u001b[39;49mdoublequote,\n\u001b[0;32m   3481\u001b[0m     escapechar\u001b[39m=\u001b[39;49mescapechar,\n\u001b[0;32m   3482\u001b[0m     storage_options\u001b[39m=\u001b[39;49mstorage_options,\n\u001b[0;32m   3483\u001b[0m )\n",
      "File \u001b[1;32mc:\\Users\\Shuoan\\anaconda3\\lib\\site-packages\\pandas\\io\\formats\\format.py:1105\u001b[0m, in \u001b[0;36mDataFrameRenderer.to_csv\u001b[1;34m(self, path_or_buf, encoding, sep, columns, index_label, mode, compression, quoting, quotechar, line_terminator, chunksize, date_format, doublequote, escapechar, errors, storage_options)\u001b[0m\n\u001b[0;32m   1084\u001b[0m     created_buffer \u001b[39m=\u001b[39m \u001b[39mFalse\u001b[39;00m\n\u001b[0;32m   1086\u001b[0m csv_formatter \u001b[39m=\u001b[39m CSVFormatter(\n\u001b[0;32m   1087\u001b[0m     path_or_buf\u001b[39m=\u001b[39mpath_or_buf,\n\u001b[0;32m   1088\u001b[0m     line_terminator\u001b[39m=\u001b[39mline_terminator,\n\u001b[1;32m   (...)\u001b[0m\n\u001b[0;32m   1103\u001b[0m     formatter\u001b[39m=\u001b[39m\u001b[39mself\u001b[39m\u001b[39m.\u001b[39mfmt,\n\u001b[0;32m   1104\u001b[0m )\n\u001b[1;32m-> 1105\u001b[0m csv_formatter\u001b[39m.\u001b[39;49msave()\n\u001b[0;32m   1107\u001b[0m \u001b[39mif\u001b[39;00m created_buffer:\n\u001b[0;32m   1108\u001b[0m     \u001b[39massert\u001b[39;00m \u001b[39misinstance\u001b[39m(path_or_buf, StringIO)\n",
      "File \u001b[1;32mc:\\Users\\Shuoan\\anaconda3\\lib\\site-packages\\pandas\\io\\formats\\csvs.py:237\u001b[0m, in \u001b[0;36mCSVFormatter.save\u001b[1;34m(self)\u001b[0m\n\u001b[0;32m    233\u001b[0m \u001b[39m\"\"\"\u001b[39;00m\n\u001b[0;32m    234\u001b[0m \u001b[39mCreate the writer & save.\u001b[39;00m\n\u001b[0;32m    235\u001b[0m \u001b[39m\"\"\"\u001b[39;00m\n\u001b[0;32m    236\u001b[0m \u001b[39m# apply compression and byte/text conversion\u001b[39;00m\n\u001b[1;32m--> 237\u001b[0m \u001b[39mwith\u001b[39;00m get_handle(\n\u001b[0;32m    238\u001b[0m     \u001b[39mself\u001b[39;49m\u001b[39m.\u001b[39;49mfilepath_or_buffer,\n\u001b[0;32m    239\u001b[0m     \u001b[39mself\u001b[39;49m\u001b[39m.\u001b[39;49mmode,\n\u001b[0;32m    240\u001b[0m     encoding\u001b[39m=\u001b[39;49m\u001b[39mself\u001b[39;49m\u001b[39m.\u001b[39;49mencoding,\n\u001b[0;32m    241\u001b[0m     errors\u001b[39m=\u001b[39;49m\u001b[39mself\u001b[39;49m\u001b[39m.\u001b[39;49merrors,\n\u001b[0;32m    242\u001b[0m     compression\u001b[39m=\u001b[39;49m\u001b[39mself\u001b[39;49m\u001b[39m.\u001b[39;49mcompression,\n\u001b[0;32m    243\u001b[0m     storage_options\u001b[39m=\u001b[39;49m\u001b[39mself\u001b[39;49m\u001b[39m.\u001b[39;49mstorage_options,\n\u001b[0;32m    244\u001b[0m ) \u001b[39mas\u001b[39;00m handles:\n\u001b[0;32m    245\u001b[0m \n\u001b[0;32m    246\u001b[0m     \u001b[39m# Note: self.encoding is irrelevant here\u001b[39;00m\n\u001b[0;32m    247\u001b[0m     \u001b[39mself\u001b[39m\u001b[39m.\u001b[39mwriter \u001b[39m=\u001b[39m csvlib\u001b[39m.\u001b[39mwriter(\n\u001b[0;32m    248\u001b[0m         handles\u001b[39m.\u001b[39mhandle,  \u001b[39m# type: ignore[arg-type]\u001b[39;00m\n\u001b[0;32m    249\u001b[0m         lineterminator\u001b[39m=\u001b[39m\u001b[39mself\u001b[39m\u001b[39m.\u001b[39mline_terminator,\n\u001b[1;32m   (...)\u001b[0m\n\u001b[0;32m    254\u001b[0m         quotechar\u001b[39m=\u001b[39m\u001b[39mself\u001b[39m\u001b[39m.\u001b[39mquotechar,\n\u001b[0;32m    255\u001b[0m     )\n\u001b[0;32m    257\u001b[0m     \u001b[39mself\u001b[39m\u001b[39m.\u001b[39m_save()\n",
      "File \u001b[1;32mc:\\Users\\Shuoan\\anaconda3\\lib\\site-packages\\pandas\\io\\common.py:702\u001b[0m, in \u001b[0;36mget_handle\u001b[1;34m(path_or_buf, mode, encoding, compression, memory_map, is_text, errors, storage_options)\u001b[0m\n\u001b[0;32m    697\u001b[0m \u001b[39melif\u001b[39;00m \u001b[39misinstance\u001b[39m(handle, \u001b[39mstr\u001b[39m):\n\u001b[0;32m    698\u001b[0m     \u001b[39m# Check whether the filename is to be opened in binary mode.\u001b[39;00m\n\u001b[0;32m    699\u001b[0m     \u001b[39m# Binary mode does not support 'encoding' and 'newline'.\u001b[39;00m\n\u001b[0;32m    700\u001b[0m     \u001b[39mif\u001b[39;00m ioargs\u001b[39m.\u001b[39mencoding \u001b[39mand\u001b[39;00m \u001b[39m\"\u001b[39m\u001b[39mb\u001b[39m\u001b[39m\"\u001b[39m \u001b[39mnot\u001b[39;00m \u001b[39min\u001b[39;00m ioargs\u001b[39m.\u001b[39mmode:\n\u001b[0;32m    701\u001b[0m         \u001b[39m# Encoding\u001b[39;00m\n\u001b[1;32m--> 702\u001b[0m         handle \u001b[39m=\u001b[39m \u001b[39mopen\u001b[39;49m(\n\u001b[0;32m    703\u001b[0m             handle,\n\u001b[0;32m    704\u001b[0m             ioargs\u001b[39m.\u001b[39;49mmode,\n\u001b[0;32m    705\u001b[0m             encoding\u001b[39m=\u001b[39;49mioargs\u001b[39m.\u001b[39;49mencoding,\n\u001b[0;32m    706\u001b[0m             errors\u001b[39m=\u001b[39;49merrors,\n\u001b[0;32m    707\u001b[0m             newline\u001b[39m=\u001b[39;49m\u001b[39m\"\u001b[39;49m\u001b[39m\"\u001b[39;49m,\n\u001b[0;32m    708\u001b[0m         )\n\u001b[0;32m    709\u001b[0m     \u001b[39melse\u001b[39;00m:\n\u001b[0;32m    710\u001b[0m         \u001b[39m# Binary mode\u001b[39;00m\n\u001b[0;32m    711\u001b[0m         handle \u001b[39m=\u001b[39m \u001b[39mopen\u001b[39m(handle, ioargs\u001b[39m.\u001b[39mmode)\n",
      "\u001b[1;31mPermissionError\u001b[0m: [Errno 13] Permission denied: 'scorecard.csv'"
     ]
    }
   ],
   "source": [
    "temp_df = pd.DataFrame()\n",
    "\n",
    "for key in card:\n",
    "    if key != 'basepoints':\n",
    "        temp_df = temp_df.append(card[key], ignore_index=True)\n",
    "        \n",
    "temp_df['bin'] = temp_df['bin'].apply(lambda x: str(x).replace('[','').replace(')',''))\n",
    "\n",
    "for i in range(0, len(temp_df)):\n",
    "    value = str(temp_df.iloc[i]['bin'])\n",
    "    value_list = value.split(',')\n",
    "    if str(value_list[0]) == '-inf':\n",
    "        value = '<' + value_list[1]\n",
    "    elif str(value_list[1]) == 'inf':        \n",
    "        value = \">\"+value_list[0]\n",
    "    temp_df.at[i,'bin'] = value\n",
    "\n",
    "temp_df.to_csv('scorecard.csv', index=False)"
   ]
  }
 ],
 "metadata": {
  "kernelspec": {
   "display_name": "Python 3 (ipykernel)",
   "language": "python",
   "name": "python3"
  },
  "language_info": {
   "codemirror_mode": {
    "name": "ipython",
    "version": 3
   },
   "file_extension": ".py",
   "mimetype": "text/x-python",
   "name": "python",
   "nbconvert_exporter": "python",
   "pygments_lexer": "ipython3",
   "version": "3.9.12"
  }
 },
 "nbformat": 4,
 "nbformat_minor": 2
}
