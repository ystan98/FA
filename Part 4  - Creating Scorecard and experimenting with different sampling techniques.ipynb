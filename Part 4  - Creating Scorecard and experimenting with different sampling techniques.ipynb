{
 "cells": [
  {
   "cell_type": "code",
   "execution_count": 214,
   "metadata": {},
   "outputs": [],
   "source": [
    "import pandas as pd \n",
    "import numpy as np\n",
    "import matplotlib.pyplot as plt\n",
    "import seaborn as sns\n",
    "from sklearn.preprocessing import LabelEncoder\n",
    "from sklearn.linear_model import LogisticRegression\n",
    "from sklearn.metrics import make_scorer, f1_score\n",
    "from sklearn.metrics import classification_report\n",
    "from sklearn.metrics import confusion_matrix\n",
    "import warnings\n",
    "warnings.filterwarnings('ignore')\n",
    "from sklearn.model_selection import train_test_split\n",
    "import scorecardpy as sc\n",
    "import pprint\n",
    "\n",
    "from collections import Counter\n",
    "from imblearn.under_sampling import RandomUnderSampler\n",
    "from imblearn.over_sampling import RandomOverSampler\n",
    "from imblearn.over_sampling import SMOTE"
   ]
  },
  {
   "cell_type": "code",
   "execution_count": 215,
   "metadata": {},
   "outputs": [
    {
     "name": "stdout",
     "output_type": "stream",
     "text": [
      "<class 'pandas.core.frame.DataFrame'>\n",
      "RangeIndex: 114755 entries, 0 to 114754\n",
      "Data columns (total 18 columns):\n",
      " #   Column                    Non-Null Count   Dtype  \n",
      "---  ------                    --------------   -----  \n",
      " 0   Unnamed: 0                114755 non-null  int64  \n",
      " 1   STATUS                    114755 non-null  int64  \n",
      " 2   NAME_CONTRACT_TYPE        114755 non-null  object \n",
      " 3   FLAG_OWN_CAR              114755 non-null  object \n",
      " 4   FLAG_OWN_REALTY           114755 non-null  object \n",
      " 5   AMT_INCOME_TOTAL          114755 non-null  float64\n",
      " 6   AMT_CREDIT                114755 non-null  float64\n",
      " 7   AMT_ANNUITY               114755 non-null  float64\n",
      " 8   NAME_INCOME_TYPE          114755 non-null  object \n",
      " 9   NAME_EDUCATION_TYPE       114755 non-null  object \n",
      " 10  NAME_FAMILY_STATUS        114755 non-null  object \n",
      " 11  NAME_HOUSING_TYPE         114755 non-null  object \n",
      " 12  DAYS_EMPLOYED             114755 non-null  int64  \n",
      " 13  OCCUPATION_TYPE           114755 non-null  object \n",
      " 14  CNT_FAM_MEMBERS           114755 non-null  float64\n",
      " 15  EXT_SOURCE_2              114564 non-null  float64\n",
      " 16  DEF_60_CNT_SOCIAL_CIRCLE  114755 non-null  float64\n",
      " 17  age                       114755 non-null  float64\n",
      "dtypes: float64(7), int64(3), object(8)\n",
      "memory usage: 15.8+ MB\n"
     ]
    }
   ],
   "source": [
    "df_main = pd.read_csv('filtered_data_iter2.csv')\n",
    "df = df_main.copy()\n",
    "df.info()"
   ]
  },
  {
   "cell_type": "code",
   "execution_count": 216,
   "metadata": {},
   "outputs": [
    {
     "data": {
      "text/plain": [
       "0    104221\n",
       "1     10534\n",
       "Name: STATUS, dtype: int64"
      ]
     },
     "execution_count": 216,
     "metadata": {},
     "output_type": "execute_result"
    }
   ],
   "source": [
    "#replace value 0 in status with 2\n",
    "# df[\"STATUS\"].replace(0,2,inplace=True)\n",
    "# df[\"STATUS\"].replace(1,0,inplace=True)\n",
    "# df[\"STATUS\"].replace(2,1,inplace=True)\n",
    "df[\"STATUS\"].value_counts()\n"
   ]
  },
  {
   "cell_type": "code",
   "execution_count": 217,
   "metadata": {},
   "outputs": [
    {
     "data": {
      "text/plain": [
       "Unnamed: 0                  0\n",
       "STATUS                      0\n",
       "NAME_CONTRACT_TYPE          0\n",
       "FLAG_OWN_CAR                0\n",
       "FLAG_OWN_REALTY             0\n",
       "AMT_INCOME_TOTAL            0\n",
       "AMT_CREDIT                  0\n",
       "AMT_ANNUITY                 0\n",
       "NAME_INCOME_TYPE            0\n",
       "NAME_EDUCATION_TYPE         0\n",
       "NAME_FAMILY_STATUS          0\n",
       "NAME_HOUSING_TYPE           0\n",
       "DAYS_EMPLOYED               0\n",
       "OCCUPATION_TYPE             0\n",
       "CNT_FAM_MEMBERS             0\n",
       "EXT_SOURCE_2                0\n",
       "DEF_60_CNT_SOCIAL_CIRCLE    0\n",
       "age                         0\n",
       "dtype: int64"
      ]
     },
     "execution_count": 217,
     "metadata": {},
     "output_type": "execute_result"
    }
   ],
   "source": [
    "df.dropna(inplace=True)\n",
    "df.isnull().sum()"
   ]
  },
  {
   "cell_type": "code",
   "execution_count": 218,
   "metadata": {},
   "outputs": [],
   "source": [
    "data_dict = {}\n",
    "for col in df.columns:\n",
    "    data_dict[col] = [str(df[col].dtypes)]\n",
    "    "
   ]
  },
  {
   "cell_type": "code",
   "execution_count": 219,
   "metadata": {},
   "outputs": [
    {
     "data": {
      "text/plain": [
       "<AxesSubplot:>"
      ]
     },
     "execution_count": 219,
     "metadata": {},
     "output_type": "execute_result"
    },
    {
     "data": {
      "image/png": "[encoded data removed]",
      "text/plain": [
       "<Figure size 432x288 with 1 Axes>"
      ]
     },
     "metadata": {
      "needs_background": "light"
     },
     "output_type": "display_data"
    }
   ],
   "source": [
    "df.drop(df[df['DAYS_EMPLOYED'] > 0].index, inplace=True)\n",
    "df.drop(df[df['DAYS_EMPLOYED'] == 0].index, inplace=True)\n",
    "df['DAYS_EMPLOYED'] = df['DAYS_EMPLOYED'].abs()\n",
    "df['DAYS_EMPLOYED'].hist()"
   ]
  },
  {
   "cell_type": "markdown",
   "metadata": {},
   "source": [
    "# Manual Encoding so that the order is relevant"
   ]
  },
  {
   "cell_type": "code",
   "execution_count": 220,
   "metadata": {},
   "outputs": [],
   "source": [
    "df['OCCUPATION_TYPE'] = df['OCCUPATION_TYPE'].map({'Low-skill Laborers': 1, 'Cooking staff': 2, 'Cleaning staff': 3, 'Security staff': 4, 'Waiters/barmen staff': 5, 'Laborers': 6, 'Drivers': 7, 'Sales staff': 8, 'Realty agents': 9, 'Secretaries': 10, 'Not Specified': 11, 'Medicine staff': 12, 'Managers': 13, 'High skill tech staff': 14, 'HR staff': 15, 'Core staff': 16, 'Private service staff': 17, 'Accountants': 18, 'IT staff': 19})\n",
    "\n",
    "# Education labels are in order of increasing education level\n",
    "df['NAME_EDUCATION_TYPE'] = df['NAME_EDUCATION_TYPE'].map({'Lower secondary': 1, 'Secondary / secondary special': 2, 'Incomplete higher': 3, 'Higher education': 4, 'Academic degree': 5})\n",
    "\n",
    "# Income labels are in order of increasing income level\n",
    "df['NAME_INCOME_TYPE'] = df['NAME_INCOME_TYPE'].map({'Student': 1, 'Pensioner': 2, 'Working': 3, 'State servant': 4, 'Commercial associate': 5, 'Businessman': 6})\n",
    "\n",
    "# Housing labels are in order of increasing loan burden on the individual\n",
    "df['NAME_HOUSING_TYPE'] = df['NAME_HOUSING_TYPE'].map({'With parents': 1, 'Rented apartment': 2, 'Municipal apartment': 3, 'Office apartment': 4, 'Co-op apartment': 5, 'House / apartment': 6})"
   ]
  },
  {
   "cell_type": "markdown",
   "metadata": {},
   "source": [
    "# Label encode the rest that is not manually set."
   ]
  },
  {
   "cell_type": "code",
   "execution_count": 221,
   "metadata": {},
   "outputs": [
    {
     "name": "stdout",
     "output_type": "stream",
     "text": [
      "NAME_CONTRACT_TYPE\n",
      "FLAG_OWN_REALTY\n",
      "FLAG_OWN_CAR\n",
      "NAME_FAMILY_STATUS\n"
     ]
    }
   ],
   "source": [
    "manual_encodings = ['OCCUPATION_TYPE', 'NAME_EDUCATION_TYPE', 'NAME_INCOME_TYPE', 'NAME_HOUSING_TYPE']\n",
    "\n",
    "# define the target variable\n",
    "target = df['STATUS']\n",
    "\n",
    "# create a list of object columns\n",
    "object_list = [col for col in df.columns if df[col].dtype == 'object']\n",
    "\n",
    "# create a dictionary to store the original categorical variables and their encoded values\n",
    "df_label_encoded = df.copy()\n",
    "# label encode all object columns and store the original categorical variables and their encoded values\n",
    "for col in (set(object_list) - set(manual_encodings)):\n",
    "    print(col)\n",
    "    le = LabelEncoder()\n",
    "    df[col] = le.fit_transform(df[col])\n",
    "\n",
    "# label encode the target variable and add it to the dictionary\n",
    "le = LabelEncoder()\n",
    "target = le.fit_transform(target)"
   ]
  },
  {
   "cell_type": "code",
   "execution_count": 222,
   "metadata": {},
   "outputs": [
    {
     "data": {
      "text/html": [
       "<div>\n",
       "<style scoped>\n",
       "    .dataframe tbody tr th:only-of-type {\n",
       "        vertical-align: middle;\n",
       "    }\n",
       "\n",
       "    .dataframe tbody tr th {\n",
       "        vertical-align: top;\n",
       "    }\n",
       "\n",
       "    .dataframe thead th {\n",
       "        text-align: right;\n",
       "    }\n",
       "</style>\n",
       "<table border=\"1\" class=\"dataframe\">\n",
       "  <thead>\n",
       "    <tr style=\"text-align: right;\">\n",
       "      <th></th>\n",
       "      <th>STATUS</th>\n",
       "      <th>NAME_CONTRACT_TYPE</th>\n",
       "      <th>FLAG_OWN_CAR</th>\n",
       "      <th>AMT_INCOME_TOTAL</th>\n",
       "      <th>AMT_CREDIT</th>\n",
       "      <th>AMT_ANNUITY</th>\n",
       "      <th>NAME_INCOME_TYPE</th>\n",
       "      <th>NAME_EDUCATION_TYPE</th>\n",
       "      <th>NAME_FAMILY_STATUS</th>\n",
       "      <th>NAME_HOUSING_TYPE</th>\n",
       "      <th>DAYS_EMPLOYED</th>\n",
       "      <th>OCCUPATION_TYPE</th>\n",
       "      <th>CNT_FAM_MEMBERS</th>\n",
       "      <th>EXT_SOURCE_2</th>\n",
       "      <th>DEF_60_CNT_SOCIAL_CIRCLE</th>\n",
       "      <th>age</th>\n",
       "    </tr>\n",
       "  </thead>\n",
       "  <tbody>\n",
       "    <tr>\n",
       "      <th>0</th>\n",
       "      <td>0</td>\n",
       "      <td>0</td>\n",
       "      <td>1</td>\n",
       "      <td>171000.0</td>\n",
       "      <td>1560726.0</td>\n",
       "      <td>41301.0</td>\n",
       "      <td>5</td>\n",
       "      <td>4</td>\n",
       "      <td>1</td>\n",
       "      <td>6</td>\n",
       "      <td>3130</td>\n",
       "      <td>18</td>\n",
       "      <td>3.0</td>\n",
       "      <td>0.724000</td>\n",
       "      <td>0.0</td>\n",
       "      <td>37.0</td>\n",
       "    </tr>\n",
       "    <tr>\n",
       "      <th>1</th>\n",
       "      <td>0</td>\n",
       "      <td>0</td>\n",
       "      <td>0</td>\n",
       "      <td>112500.0</td>\n",
       "      <td>652500.0</td>\n",
       "      <td>21177.0</td>\n",
       "      <td>3</td>\n",
       "      <td>4</td>\n",
       "      <td>1</td>\n",
       "      <td>6</td>\n",
       "      <td>679</td>\n",
       "      <td>16</td>\n",
       "      <td>3.0</td>\n",
       "      <td>0.651862</td>\n",
       "      <td>0.0</td>\n",
       "      <td>27.0</td>\n",
       "    </tr>\n",
       "    <tr>\n",
       "      <th>2</th>\n",
       "      <td>0</td>\n",
       "      <td>0</td>\n",
       "      <td>0</td>\n",
       "      <td>67500.0</td>\n",
       "      <td>80865.0</td>\n",
       "      <td>5881.5</td>\n",
       "      <td>3</td>\n",
       "      <td>2</td>\n",
       "      <td>1</td>\n",
       "      <td>6</td>\n",
       "      <td>2717</td>\n",
       "      <td>6</td>\n",
       "      <td>2.0</td>\n",
       "      <td>0.715042</td>\n",
       "      <td>0.0</td>\n",
       "      <td>36.0</td>\n",
       "    </tr>\n",
       "    <tr>\n",
       "      <th>3</th>\n",
       "      <td>0</td>\n",
       "      <td>0</td>\n",
       "      <td>1</td>\n",
       "      <td>225000.0</td>\n",
       "      <td>918468.0</td>\n",
       "      <td>28966.5</td>\n",
       "      <td>3</td>\n",
       "      <td>2</td>\n",
       "      <td>1</td>\n",
       "      <td>6</td>\n",
       "      <td>3028</td>\n",
       "      <td>7</td>\n",
       "      <td>3.0</td>\n",
       "      <td>0.566907</td>\n",
       "      <td>0.0</td>\n",
       "      <td>38.0</td>\n",
       "    </tr>\n",
       "    <tr>\n",
       "      <th>4</th>\n",
       "      <td>0</td>\n",
       "      <td>0</td>\n",
       "      <td>0</td>\n",
       "      <td>108000.0</td>\n",
       "      <td>509602.5</td>\n",
       "      <td>26149.5</td>\n",
       "      <td>3</td>\n",
       "      <td>2</td>\n",
       "      <td>1</td>\n",
       "      <td>6</td>\n",
       "      <td>1317</td>\n",
       "      <td>7</td>\n",
       "      <td>2.0</td>\n",
       "      <td>0.236378</td>\n",
       "      <td>0.0</td>\n",
       "      <td>35.0</td>\n",
       "    </tr>\n",
       "  </tbody>\n",
       "</table>\n",
       "</div>"
      ],
      "text/plain": [
       "   STATUS  NAME_CONTRACT_TYPE  FLAG_OWN_CAR  AMT_INCOME_TOTAL  AMT_CREDIT  \\\n",
       "0       0                   0             1          171000.0   1560726.0   \n",
       "1       0                   0             0          112500.0    652500.0   \n",
       "2       0                   0             0           67500.0     80865.0   \n",
       "3       0                   0             1          225000.0    918468.0   \n",
       "4       0                   0             0          108000.0    509602.5   \n",
       "\n",
       "   AMT_ANNUITY  NAME_INCOME_TYPE  NAME_EDUCATION_TYPE  NAME_FAMILY_STATUS  \\\n",
       "0      41301.0                 5                    4                   1   \n",
       "1      21177.0                 3                    4                   1   \n",
       "2       5881.5                 3                    2                   1   \n",
       "3      28966.5                 3                    2                   1   \n",
       "4      26149.5                 3                    2                   1   \n",
       "\n",
       "   NAME_HOUSING_TYPE  DAYS_EMPLOYED  OCCUPATION_TYPE  CNT_FAM_MEMBERS  \\\n",
       "0                  6           3130               18              3.0   \n",
       "1                  6            679               16              3.0   \n",
       "2                  6           2717                6              2.0   \n",
       "3                  6           3028                7              3.0   \n",
       "4                  6           1317                7              2.0   \n",
       "\n",
       "   EXT_SOURCE_2  DEF_60_CNT_SOCIAL_CIRCLE   age  \n",
       "0      0.724000                       0.0  37.0  \n",
       "1      0.651862                       0.0  27.0  \n",
       "2      0.715042                       0.0  36.0  \n",
       "3      0.566907                       0.0  38.0  \n",
       "4      0.236378                       0.0  35.0  "
      ]
     },
     "execution_count": 222,
     "metadata": {},
     "output_type": "execute_result"
    }
   ],
   "source": [
    "del df['Unnamed: 0']\n",
    "df.drop(\"FLAG_OWN_REALTY\",axis=1,inplace=True) #0.000004 we know this from previous notebook.\n",
    "df.head()"
   ]
  },
  {
   "cell_type": "code",
   "execution_count": 223,
   "metadata": {},
   "outputs": [
    {
     "name": "stdout",
     "output_type": "stream",
     "text": [
      "Index(['STATUS', 'NAME_CONTRACT_TYPE', 'FLAG_OWN_CAR', 'AMT_INCOME_TOTAL',\n",
      "       'AMT_CREDIT', 'AMT_ANNUITY', 'NAME_INCOME_TYPE', 'NAME_EDUCATION_TYPE',\n",
      "       'NAME_FAMILY_STATUS', 'NAME_HOUSING_TYPE', 'DAYS_EMPLOYED',\n",
      "       'OCCUPATION_TYPE', 'CNT_FAM_MEMBERS', 'EXT_SOURCE_2',\n",
      "       'DEF_60_CNT_SOCIAL_CIRCLE', 'age'],\n",
      "      dtype='object')\n"
     ]
    }
   ],
   "source": [
    "len(df.columns)\n",
    "print(df.columns) #exlucing status, we have 15 characteristics"
   ]
  },
  {
   "cell_type": "code",
   "execution_count": 224,
   "metadata": {},
   "outputs": [
    {
     "name": "stdout",
     "output_type": "stream",
     "text": [
      "(113865, 16)\n"
     ]
    },
    {
     "data": {
      "text/html": [
       "<div>\n",
       "<style scoped>\n",
       "    .dataframe tbody tr th:only-of-type {\n",
       "        vertical-align: middle;\n",
       "    }\n",
       "\n",
       "    .dataframe tbody tr th {\n",
       "        vertical-align: top;\n",
       "    }\n",
       "\n",
       "    .dataframe thead th {\n",
       "        text-align: right;\n",
       "    }\n",
       "</style>\n",
       "<table border=\"1\" class=\"dataframe\">\n",
       "  <thead>\n",
       "    <tr style=\"text-align: right;\">\n",
       "      <th></th>\n",
       "      <th>STATUS</th>\n",
       "      <th>NAME_CONTRACT_TYPE</th>\n",
       "      <th>FLAG_OWN_CAR</th>\n",
       "      <th>AMT_INCOME_TOTAL</th>\n",
       "      <th>AMT_CREDIT</th>\n",
       "      <th>AMT_ANNUITY</th>\n",
       "      <th>NAME_INCOME_TYPE</th>\n",
       "      <th>NAME_EDUCATION_TYPE</th>\n",
       "      <th>NAME_FAMILY_STATUS</th>\n",
       "      <th>NAME_HOUSING_TYPE</th>\n",
       "      <th>DAYS_EMPLOYED</th>\n",
       "      <th>OCCUPATION_TYPE</th>\n",
       "      <th>CNT_FAM_MEMBERS</th>\n",
       "      <th>EXT_SOURCE_2</th>\n",
       "      <th>DEF_60_CNT_SOCIAL_CIRCLE</th>\n",
       "      <th>age</th>\n",
       "    </tr>\n",
       "  </thead>\n",
       "  <tbody>\n",
       "    <tr>\n",
       "      <th>0</th>\n",
       "      <td>0</td>\n",
       "      <td>0</td>\n",
       "      <td>1</td>\n",
       "      <td>171000.0</td>\n",
       "      <td>1560726.0</td>\n",
       "      <td>41301.0</td>\n",
       "      <td>5</td>\n",
       "      <td>4</td>\n",
       "      <td>1</td>\n",
       "      <td>6</td>\n",
       "      <td>3130</td>\n",
       "      <td>18</td>\n",
       "      <td>3.0</td>\n",
       "      <td>0.724000</td>\n",
       "      <td>0.0</td>\n",
       "      <td>37.0</td>\n",
       "    </tr>\n",
       "    <tr>\n",
       "      <th>1</th>\n",
       "      <td>0</td>\n",
       "      <td>0</td>\n",
       "      <td>0</td>\n",
       "      <td>112500.0</td>\n",
       "      <td>652500.0</td>\n",
       "      <td>21177.0</td>\n",
       "      <td>3</td>\n",
       "      <td>4</td>\n",
       "      <td>1</td>\n",
       "      <td>6</td>\n",
       "      <td>679</td>\n",
       "      <td>16</td>\n",
       "      <td>3.0</td>\n",
       "      <td>0.651862</td>\n",
       "      <td>0.0</td>\n",
       "      <td>27.0</td>\n",
       "    </tr>\n",
       "    <tr>\n",
       "      <th>2</th>\n",
       "      <td>0</td>\n",
       "      <td>0</td>\n",
       "      <td>0</td>\n",
       "      <td>67500.0</td>\n",
       "      <td>80865.0</td>\n",
       "      <td>5881.5</td>\n",
       "      <td>3</td>\n",
       "      <td>2</td>\n",
       "      <td>1</td>\n",
       "      <td>6</td>\n",
       "      <td>2717</td>\n",
       "      <td>6</td>\n",
       "      <td>2.0</td>\n",
       "      <td>0.715042</td>\n",
       "      <td>0.0</td>\n",
       "      <td>36.0</td>\n",
       "    </tr>\n",
       "    <tr>\n",
       "      <th>3</th>\n",
       "      <td>0</td>\n",
       "      <td>0</td>\n",
       "      <td>1</td>\n",
       "      <td>225000.0</td>\n",
       "      <td>918468.0</td>\n",
       "      <td>28966.5</td>\n",
       "      <td>3</td>\n",
       "      <td>2</td>\n",
       "      <td>1</td>\n",
       "      <td>6</td>\n",
       "      <td>3028</td>\n",
       "      <td>7</td>\n",
       "      <td>3.0</td>\n",
       "      <td>0.566907</td>\n",
       "      <td>0.0</td>\n",
       "      <td>38.0</td>\n",
       "    </tr>\n",
       "    <tr>\n",
       "      <th>4</th>\n",
       "      <td>0</td>\n",
       "      <td>0</td>\n",
       "      <td>0</td>\n",
       "      <td>108000.0</td>\n",
       "      <td>509602.5</td>\n",
       "      <td>26149.5</td>\n",
       "      <td>3</td>\n",
       "      <td>2</td>\n",
       "      <td>1</td>\n",
       "      <td>6</td>\n",
       "      <td>1317</td>\n",
       "      <td>7</td>\n",
       "      <td>2.0</td>\n",
       "      <td>0.236378</td>\n",
       "      <td>0.0</td>\n",
       "      <td>35.0</td>\n",
       "    </tr>\n",
       "  </tbody>\n",
       "</table>\n",
       "</div>"
      ],
      "text/plain": [
       "   STATUS  NAME_CONTRACT_TYPE  FLAG_OWN_CAR  AMT_INCOME_TOTAL  AMT_CREDIT  \\\n",
       "0       0                   0             1          171000.0   1560726.0   \n",
       "1       0                   0             0          112500.0    652500.0   \n",
       "2       0                   0             0           67500.0     80865.0   \n",
       "3       0                   0             1          225000.0    918468.0   \n",
       "4       0                   0             0          108000.0    509602.5   \n",
       "\n",
       "   AMT_ANNUITY  NAME_INCOME_TYPE  NAME_EDUCATION_TYPE  NAME_FAMILY_STATUS  \\\n",
       "0      41301.0                 5                    4                   1   \n",
       "1      21177.0                 3                    4                   1   \n",
       "2       5881.5                 3                    2                   1   \n",
       "3      28966.5                 3                    2                   1   \n",
       "4      26149.5                 3                    2                   1   \n",
       "\n",
       "   NAME_HOUSING_TYPE  DAYS_EMPLOYED  OCCUPATION_TYPE  CNT_FAM_MEMBERS  \\\n",
       "0                  6           3130               18              3.0   \n",
       "1                  6            679               16              3.0   \n",
       "2                  6           2717                6              2.0   \n",
       "3                  6           3028                7              3.0   \n",
       "4                  6           1317                7              2.0   \n",
       "\n",
       "   EXT_SOURCE_2  DEF_60_CNT_SOCIAL_CIRCLE   age  \n",
       "0      0.724000                       0.0  37.0  \n",
       "1      0.651862                       0.0  27.0  \n",
       "2      0.715042                       0.0  36.0  \n",
       "3      0.566907                       0.0  38.0  \n",
       "4      0.236378                       0.0  35.0  "
      ]
     },
     "execution_count": 224,
     "metadata": {},
     "output_type": "execute_result"
    }
   ],
   "source": [
    "print(df.shape)\n",
    "df.head()"
   ]
  },
  {
   "cell_type": "markdown",
   "metadata": {},
   "source": [
    "# Select best bins identified in notebook 3"
   ]
  },
  {
   "cell_type": "code",
   "execution_count": 225,
   "metadata": {},
   "outputs": [
    {
     "name": "stdout",
     "output_type": "stream",
     "text": [
      "[INFO] creating woe binning ...\n"
     ]
    }
   ],
   "source": [
    "breaks_adj = {\n",
    "       'OCCUPATION_TYPE' : [1,  6, 9],\n",
    "    'NAME_HOUSING_TYPE': [4],\n",
    "       'NAME_INCOME_TYPE' : [4,5],\n",
    "        'NAME_EDUCATION_TYPE' : [3],\n",
    "        'AMT_INCOME_TOTAL' : [90000,200000,250000, 300000],\n",
    "    'DAYS_EMPLOYED' : [1000,1700,2200,3500,5000],\n",
    "        'AMT_ANNUITY' : [12000, 16000],\n",
    "        'EXT_SOURCE_2' : [0.14,0.25,0.35,0.6],\n",
    "        'AMT_CREDIT' : [150000,200000,250000, 300000],\n",
    "        'CNT_FAM_MEMBERS' : [1,2,3],\n",
    "        'NAME_FAMILY_STATUS' : [0,3],\n",
    "        'age' : [27, 30,35, 40],\n",
    "        'DEF_60_CNT_SOCIAL_CIRCLE' : [0,1],\n",
    "        'FLAG_OWN_CAR': [0,1]\n",
    "    }\n",
    "bins_final = sc.woebin(df, y='STATUS',breaks_list=breaks_adj)\n",
    "# bins_final = sc.woebin(df, y='STATUS',breaks_list=breaks_adj, positive=\"bad|0\")"
   ]
  },
  {
   "cell_type": "markdown",
   "metadata": {},
   "source": [
    "# Split dataset"
   ]
  },
  {
   "cell_type": "markdown",
   "metadata": {},
   "source": [
    "Imbalanced dataset"
   ]
  },
  {
   "cell_type": "code",
   "execution_count": 226,
   "metadata": {},
   "outputs": [
    {
     "name": "stdout",
     "output_type": "stream",
     "text": [
      "(91092, 16)\n",
      "(22773, 16)\n"
     ]
    }
   ],
   "source": [
    "# sample code\n",
    "train, test = sc.split_df(df, 'STATUS', ratio=0.8).values()\n",
    "print(train.shape)\n",
    "print(test.shape)"
   ]
  },
  {
   "cell_type": "code",
   "execution_count": 227,
   "metadata": {},
   "outputs": [
    {
     "name": "stdout",
     "output_type": "stream",
     "text": [
      "Proportion of positive cases in train set: 0.09166556887542265\n",
      "Proportion of positive cases in test set: 0.09168752470030299\n"
     ]
    }
   ],
   "source": [
    "print('Proportion of positive cases in train set:', train['STATUS'].mean())\n",
    "print('Proportion of positive cases in test set:', test['STATUS'].mean())"
   ]
  },
  {
   "cell_type": "code",
   "execution_count": 228,
   "metadata": {},
   "outputs": [
    {
     "name": "stdout",
     "output_type": "stream",
     "text": [
      "[INFO] converting into woe values ...\n",
      "[INFO] converting into woe values ...\n"
     ]
    }
   ],
   "source": [
    "train_woe = sc.woebin_ply(train, bins_final)\n",
    "test_woe = sc.woebin_ply(test, bins_final)"
   ]
  },
  {
   "cell_type": "code",
   "execution_count": 229,
   "metadata": {},
   "outputs": [],
   "source": [
    "y_train = train_woe.loc[:,'STATUS']\n",
    "X_train = train_woe.loc[:,train_woe.columns != 'STATUS']\n",
    "y_test = test_woe.loc[:,'STATUS']\n",
    "X_test = test_woe.loc[:,test_woe.columns != 'STATUS']"
   ]
  },
  {
   "cell_type": "markdown",
   "metadata": {},
   "source": [
    "RUS"
   ]
  },
  {
   "cell_type": "code",
   "execution_count": 230,
   "metadata": {},
   "outputs": [
    {
     "name": "stdout",
     "output_type": "stream",
     "text": [
      "Class distribution in original train set: Counter({0: 82742, 1: 8350})\n",
      "Class distribution in resampled train set: Counter({0: 8350, 1: 8350})\n"
     ]
    }
   ],
   "source": [
    "print(\"Class distribution in original train set:\", Counter(y_train))\n",
    "rus = RandomUnderSampler(random_state=7)\n",
    "X_train_rus_resampled, y_train_rus_resampled = rus.fit_resample(X_train, y_train)\n",
    "print(\"Class distribution in resampled train set:\", Counter(y_train_rus_resampled))"
   ]
  },
  {
   "cell_type": "markdown",
   "metadata": {},
   "source": [
    "ROS"
   ]
  },
  {
   "cell_type": "code",
   "execution_count": 231,
   "metadata": {},
   "outputs": [
    {
     "name": "stdout",
     "output_type": "stream",
     "text": [
      "Class distribution in original train set: Counter({0: 82742, 1: 8350})\n",
      "Class distribution in resampled train set: Counter({0: 82742, 1: 82742})\n"
     ]
    }
   ],
   "source": [
    "print(\"Class distribution in original train set:\", Counter(y_train))\n",
    "ros = RandomOverSampler(random_state=7)\n",
    "X_train_ros_resampled, y_train_ros_resampled = ros.fit_resample(X_train, y_train)\n",
    "print(\"Class distribution in resampled train set:\", Counter(y_train_ros_resampled))"
   ]
  },
  {
   "cell_type": "markdown",
   "metadata": {},
   "source": [
    "SMOTE"
   ]
  },
  {
   "cell_type": "code",
   "execution_count": 232,
   "metadata": {},
   "outputs": [
    {
     "name": "stdout",
     "output_type": "stream",
     "text": [
      "Class distribution in original train set: Counter({0: 82742, 1: 8350})\n",
      "Class distribution in resampled train set: Counter({0: 82742, 1: 82742})\n"
     ]
    }
   ],
   "source": [
    "print(\"Class distribution in original train set:\", Counter(y_train))\n",
    "smote = SMOTE(random_state=7)\n",
    "X_train_smote_resampled, y_train_smote_resampled = smote.fit_resample(X_train, y_train)\n",
    "print(\"Class distribution in resampled train set:\", Counter(y_train_smote_resampled))"
   ]
  },
  {
   "cell_type": "markdown",
   "metadata": {},
   "source": [
    "# Logistic Regression on imbalanced dataset"
   ]
  },
  {
   "cell_type": "code",
   "execution_count": 233,
   "metadata": {},
   "outputs": [
    {
     "name": "stdout",
     "output_type": "stream",
     "text": [
      "[[0.87975782 0.80063105 1.21110071 0.47872454 0.23639465 0.72383228\n",
      "  0.47927701 0.25370404 0.78939219 0.64550122 0.58816327 0.52384314\n",
      "  0.71998035 0.07154707 0.74832349]]\n",
      "[0.00069821]\n"
     ]
    }
   ],
   "source": [
    "#create a logistic regression model object\n",
    "lr = LogisticRegression(class_weight='balanced', random_state=7)\n",
    "lr.fit(X_train, y_train)\n",
    "print(lr.coef_)\n",
    "print(lr.intercept_)"
   ]
  },
  {
   "cell_type": "markdown",
   "metadata": {},
   "source": [
    "1 is good\n",
    "0 is default"
   ]
  },
  {
   "cell_type": "code",
   "execution_count": 234,
   "metadata": {},
   "outputs": [
    {
     "data": {
      "text/plain": [
       "0.6483994203662231"
      ]
     },
     "execution_count": 234,
     "metadata": {},
     "output_type": "execute_result"
    }
   ],
   "source": [
    "accuracy = lr.score(X_test, y_test)\n",
    "accuracy"
   ]
  },
  {
   "cell_type": "code",
   "execution_count": 235,
   "metadata": {},
   "outputs": [],
   "source": [
    "# make predictions on the test set\n",
    "y_pred = lr.predict(X_test)"
   ]
  },
  {
   "cell_type": "code",
   "execution_count": 236,
   "metadata": {},
   "outputs": [
    {
     "name": "stdout",
     "output_type": "stream",
     "text": [
      "         Predict Good  Predict Default\n",
      "Good            13456             7229\n",
      "Default           778             1310\n"
     ]
    }
   ],
   "source": [
    "# assume y_true and y_pred are the true and predicted labels, respectively\n",
    "cm = confusion_matrix(y_test, y_pred, labels=[0,1])\n",
    "\n",
    "# create a dataframe from the confusion matrix\n",
    "df_cm = pd.DataFrame(cm, index=['Good', 'Default'], columns=['Predict Good', 'Predict Default'])\n",
    "\n",
    "\n",
    "# print the dataframe\n",
    "print(df_cm)"
   ]
  },
  {
   "cell_type": "markdown",
   "metadata": {},
   "source": [
    "True positive (TP)\n",
    "The model predicts a good customer, and the client did not default <br>\n",
    "False positive (FP)\n",
    "The model predicts a good customer, but the client defaulted<br>\n",
    "True negative (TN) \n",
    "The model predicts a default, and the client defaulted<br>\n",
    "False negative (FN)\n",
    "The model predicts a default, but the client did not default"
   ]
  },
  {
   "cell_type": "code",
   "execution_count": 237,
   "metadata": {},
   "outputs": [
    {
     "name": "stdout",
     "output_type": "stream",
     "text": [
      "13456 7229 778 1310\n",
      "Accuracy: 0.6483994203662231\n",
      "Precision: 0.9453421385415203\n",
      "Recall: 0.6505197002658931\n",
      "Specificity: 0.6273946360153256\n",
      "F1: 0.7706979008562673\n"
     ]
    }
   ],
   "source": [
    "#import accuracy score from sklearn\n",
    "from sklearn.metrics import accuracy_score, recall_score, precision_score, f1_score, confusion_matrix\n",
    "tp, fn, fp, tn = confusion_matrix(y_test, y_pred, labels=[0,1]).ravel()\n",
    "print(tp,fn,fp,tn)\n",
    "\n",
    "accuracy = (tp + tn) / (tp + tn + fp + fn)\n",
    "precision = tp / (tp + fp) #Given that we predict positive, how often is it really positive\n",
    "recall = tp / (tp + fn) #How good at predicting positive\n",
    "f1 = 2 * (precision * recall) / (precision + recall)\n",
    "specificity = tn / (tn + fp) # How good at predicting negative?\n",
    "\n",
    "print(\"Accuracy:\", accuracy)\n",
    "print(\"Precision:\", precision)\n",
    "print(\"Recall:\", recall)\n",
    "print(\"Specificity:\", specificity) \n",
    "print(\"F1:\", f1)"
   ]
  },
  {
   "cell_type": "markdown",
   "metadata": {},
   "source": [
    "# Logistic Regression with RUS"
   ]
  },
  {
   "cell_type": "code",
   "execution_count": 238,
   "metadata": {},
   "outputs": [
    {
     "name": "stdout",
     "output_type": "stream",
     "text": [
      "[[0.86281869 0.75108112 1.24368989 0.50230555 0.29715    0.61047928\n",
      "  0.50879618 0.48601639 0.78043852 0.58913559 0.4360266  0.49713405\n",
      "  0.64611787 0.09371306 0.58785159]]\n",
      "[-0.00165633]\n"
     ]
    }
   ],
   "source": [
    "lr_rus = LogisticRegression(C=1, solver='liblinear', random_state=7)\n",
    "lr_rus.fit(X_train_rus_resampled, y_train_rus_resampled)\n",
    "print(lr_rus.coef_)\n",
    "print(lr_rus.intercept_)"
   ]
  },
  {
   "cell_type": "code",
   "execution_count": 239,
   "metadata": {},
   "outputs": [
    {
     "name": "stdout",
     "output_type": "stream",
     "text": [
      "         Predict Good  Predict Default\n",
      "Good            13507             7178\n",
      "Default           785             1303\n"
     ]
    }
   ],
   "source": [
    "y_rus_pred = lr_rus.predict(X_test)\n",
    "cm = confusion_matrix(y_test, y_rus_pred, labels=[0,1])\n",
    "df_cm = pd.DataFrame(cm, index=['Good', 'Default'], columns=['Predict Good', 'Predict Default'])\n",
    "print(df_cm)"
   ]
  },
  {
   "cell_type": "code",
   "execution_count": 240,
   "metadata": {},
   "outputs": [
    {
     "name": "stdout",
     "output_type": "stream",
     "text": [
      "13507 7178 785 1303\n",
      "Accuracy: 0.6503315329556931\n",
      "Precision: 0.9450741673663589\n",
      "Recall: 0.6529852550157119\n",
      "Specificity: 0.6240421455938697\n",
      "F1: 0.7723361065843268\n"
     ]
    }
   ],
   "source": [
    "#import accuracy score from sklearn\n",
    "from sklearn.metrics import accuracy_score, recall_score, precision_score, f1_score, confusion_matrix\n",
    "tp, fn, fp, tn = confusion_matrix(y_test, y_rus_pred, labels=[0,1]).ravel()\n",
    "print(tp,fn,fp,tn)\n",
    "\n",
    "accuracy = (tp + tn) / (tp + tn + fp + fn)\n",
    "precision = tp / (tp + fp) #Given that we predict positive, how often is it really positive\n",
    "recall = tp / (tp + fn) #How good at predicting positive\n",
    "f1 = 2 * (precision * recall) / (precision + recall)\n",
    "specificity = tn / (tn + fp) # How good at predicting negative?\n",
    "\n",
    "print(\"Accuracy:\", accuracy)\n",
    "print(\"Precision:\", precision)\n",
    "print(\"Recall:\", recall)\n",
    "print(\"Specificity:\", specificity) \n",
    "print(\"F1:\", f1)"
   ]
  },
  {
   "cell_type": "markdown",
   "metadata": {},
   "source": [
    "# Logistic Regression with ROS"
   ]
  },
  {
   "cell_type": "code",
   "execution_count": 241,
   "metadata": {},
   "outputs": [
    {
     "name": "stdout",
     "output_type": "stream",
     "text": [
      "[[0.88170951 0.83532577 1.19083122 0.4827123  0.22546434 0.68701493\n",
      "  0.48415704 0.23999939 0.8118242  0.62940435 0.61045184 0.49957816\n",
      "  0.70248361 0.089215   0.72563378]]\n",
      "[0.00040464]\n"
     ]
    }
   ],
   "source": [
    "lr_ros = LogisticRegression(C=1, solver='liblinear', random_state=7)\n",
    "lr_ros.fit(X_train_ros_resampled, y_train_ros_resampled)\n",
    "print(lr_ros.coef_)\n",
    "print(lr_ros.intercept_)"
   ]
  },
  {
   "cell_type": "code",
   "execution_count": 242,
   "metadata": {},
   "outputs": [
    {
     "name": "stdout",
     "output_type": "stream",
     "text": [
      "         Predict Good  Predict Default\n",
      "Good            13470             7215\n",
      "Default           780             1308\n"
     ]
    }
   ],
   "source": [
    "lr_ros_pred = lr_ros.predict(X_test)\n",
    "cm = confusion_matrix(y_test, lr_ros_pred, labels=[0,1])\n",
    "df_cm = pd.DataFrame(cm, index=['Good', 'Default'], columns=['Predict Good', 'Predict Default'])\n",
    "print(df_cm)"
   ]
  },
  {
   "cell_type": "code",
   "execution_count": 243,
   "metadata": {},
   "outputs": [
    {
     "name": "stdout",
     "output_type": "stream",
     "text": [
      "13470 7215 780 1308\n",
      "Accuracy: 0.6489263601633514\n",
      "Precision: 0.9452631578947368\n",
      "Recall: 0.6511965192168238\n",
      "Specificity: 0.6264367816091954\n",
      "F1: 0.7711464147702877\n"
     ]
    }
   ],
   "source": [
    "#import accuracy score from sklearn\n",
    "from sklearn.metrics import accuracy_score, recall_score, precision_score, f1_score, confusion_matrix\n",
    "tp, fn, fp, tn = confusion_matrix(y_test, lr_ros_pred, labels=[0,1]).ravel()\n",
    "print(tp,fn,fp,tn)\n",
    "\n",
    "accuracy = (tp + tn) / (tp + tn + fp + fn)\n",
    "precision = tp / (tp + fp) #Given that we predict positive, how often is it really positive\n",
    "recall = tp / (tp + fn) #How good at predicting positive\n",
    "f1 = 2 * (precision * recall) / (precision + recall)\n",
    "specificity = tn / (tn + fp) # How good at predicting negative?\n",
    "\n",
    "print(\"Accuracy:\", accuracy)\n",
    "print(\"Precision:\", precision)\n",
    "print(\"Recall:\", recall)\n",
    "print(\"Specificity:\", specificity) \n",
    "print(\"F1:\", f1)"
   ]
  },
  {
   "cell_type": "markdown",
   "metadata": {},
   "source": [
    "# Logistic Regression with SMOTE"
   ]
  },
  {
   "cell_type": "code",
   "execution_count": 244,
   "metadata": {},
   "outputs": [
    {
     "name": "stdout",
     "output_type": "stream",
     "text": [
      "[[ 0.87151097  0.89387732  1.8530341   0.43479698  0.48700391  0.17535071\n",
      "   0.63854736 -0.91828031  0.90057906  0.61555582  0.67709026  0.71369207\n",
      "   0.63281279  0.3490886   0.52094032]]\n",
      "[-0.00900432]\n"
     ]
    }
   ],
   "source": [
    "lr_smote = LogisticRegression(C=1, solver='liblinear', random_state=7)\n",
    "lr_smote.fit(X_train_smote_resampled, y_train_smote_resampled)\n",
    "print(lr_smote.coef_)\n",
    "print(lr_smote.intercept_)"
   ]
  },
  {
   "cell_type": "code",
   "execution_count": 245,
   "metadata": {},
   "outputs": [
    {
     "name": "stdout",
     "output_type": "stream",
     "text": [
      "         Predict Good  Predict Default\n",
      "Good            13448             7237\n",
      "Default           777             1311\n"
     ]
    }
   ],
   "source": [
    "y_smote_pred = lr_smote.predict(X_test)\n",
    "cm = confusion_matrix(y_test, y_smote_pred, labels=[0,1])\n",
    "df_cm = pd.DataFrame(cm, index=['Good', 'Default'], columns=['Predict Good', 'Predict Default'])\n",
    "print(df_cm)"
   ]
  },
  {
   "cell_type": "code",
   "execution_count": 246,
   "metadata": {},
   "outputs": [
    {
     "name": "stdout",
     "output_type": "stream",
     "text": [
      "13448 7237 777 1311\n",
      "Accuracy: 0.6480920388178983\n",
      "Precision: 0.945377855887522\n",
      "Recall: 0.650132946579647\n",
      "Specificity: 0.6278735632183908\n",
      "F1: 0.7704382698367229\n"
     ]
    }
   ],
   "source": [
    "#import accuracy score from sklearn\n",
    "from sklearn.metrics import accuracy_score, recall_score, precision_score, f1_score, confusion_matrix\n",
    "tp, fn, fp, tn = confusion_matrix(y_test, y_smote_pred, labels=[0,1]).ravel()\n",
    "print(tp,fn,fp,tn)\n",
    "\n",
    "accuracy = (tp + tn) / (tp + tn + fp + fn)\n",
    "precision = tp / (tp + fp) #Given that we predict positive, how often is it really positive\n",
    "recall = tp / (tp + fn) #How good at predicting positive\n",
    "f1 = 2 * (precision * recall) / (precision + recall)\n",
    "specificity = tn / (tn + fp) # How good at predicting negative?\n",
    "\n",
    "print(\"Accuracy:\", accuracy)\n",
    "print(\"Precision:\", precision)\n",
    "print(\"Recall:\", recall)\n",
    "print(\"Specificity:\", specificity) \n",
    "print(\"F1:\", f1)"
   ]
  },
  {
   "cell_type": "markdown",
   "metadata": {},
   "source": [
    "# Function to maximize specificity"
   ]
  },
  {
   "cell_type": "code",
   "execution_count": 156,
   "metadata": {},
   "outputs": [],
   "source": [
    "#import accuracy score from sklearn\n",
    "from sklearn.metrics import accuracy_score, recall_score, precision_score, f1_score, confusion_matrix\n",
    "def calculate(y_test,y_pred):\n",
    "    tp, fn, fp, tn = confusion_matrix(y_test, y_pred, labels=[0,1]).ravel()\n",
    "    return tn/(tn+fp)"
   ]
  },
  {
   "cell_type": "markdown",
   "metadata": {},
   "source": [
    "# Original dataset tuning"
   ]
  },
  {
   "cell_type": "code",
   "execution_count": 247,
   "metadata": {},
   "outputs": [],
   "source": [
    "numbers = []\n",
    "for i in range(1, 200):\n",
    "    numbers.append(i / 100)\n",
    "\n",
    "best_c = 1\n",
    "spec = 0.6273946360153256"
   ]
  },
  {
   "cell_type": "code",
   "execution_count": 248,
   "metadata": {},
   "outputs": [],
   "source": [
    "for i in numbers:\n",
    "    lr = LogisticRegression(random_state=7,C= i, solver= 'liblinear', class_weight='balanced')\n",
    "    lr.fit(X_train, y_train)\n",
    "    y_pred = lr.predict(X_test)\n",
    "    res = calculate(y_test,y_pred)\n",
    "    if res > spec:\n",
    "        best_c=i\n",
    "        spec=res"
   ]
  },
  {
   "cell_type": "code",
   "execution_count": 249,
   "metadata": {},
   "outputs": [
    {
     "name": "stdout",
     "output_type": "stream",
     "text": [
      "1\n"
     ]
    }
   ],
   "source": [
    "print(best_c)"
   ]
  },
  {
   "cell_type": "code",
   "execution_count": 254,
   "metadata": {},
   "outputs": [
    {
     "name": "stdout",
     "output_type": "stream",
     "text": [
      "[[0.87975782 0.80063105 1.21110071 0.47872454 0.23639465 0.72383228\n",
      "  0.47927701 0.25370404 0.78939219 0.64550122 0.58816327 0.52384314\n",
      "  0.71998035 0.07154707 0.74832349]]\n",
      "[0.00069821]\n"
     ]
    }
   ],
   "source": [
    "#create a logistic regression model object\n",
    "lr = LogisticRegression(C=1,class_weight='balanced', random_state=7)\n",
    "lr.fit(X_train, y_train)\n",
    "print(lr.coef_)\n",
    "print(lr.intercept_)"
   ]
  },
  {
   "cell_type": "code",
   "execution_count": 255,
   "metadata": {},
   "outputs": [],
   "source": [
    "# make predictions on the test set\n",
    "y_pred = lr.predict(X_test)"
   ]
  },
  {
   "cell_type": "code",
   "execution_count": 256,
   "metadata": {},
   "outputs": [
    {
     "name": "stdout",
     "output_type": "stream",
     "text": [
      "         Predict Good  Predict Default\n",
      "Good            13456             7229\n",
      "Default           778             1310\n"
     ]
    }
   ],
   "source": [
    "# assume y_true and y_pred are the true and predicted labels, respectively\n",
    "cm = confusion_matrix(y_test, y_pred, labels=[0,1])\n",
    "\n",
    "# create a dataframe from the confusion matrix\n",
    "df_cm = pd.DataFrame(cm, index=['Good', 'Default'], columns=['Predict Good', 'Predict Default'])\n",
    "\n",
    "\n",
    "# print the dataframe\n",
    "print(df_cm)"
   ]
  },
  {
   "cell_type": "code",
   "execution_count": 257,
   "metadata": {},
   "outputs": [
    {
     "name": "stdout",
     "output_type": "stream",
     "text": [
      "13456 7229 778 1310\n",
      "Accuracy: 0.6483994203662231\n",
      "Precision: 0.9453421385415203\n",
      "Recall: 0.6505197002658931\n",
      "Specificity: 0.6273946360153256\n",
      "F1: 0.7706979008562673\n"
     ]
    }
   ],
   "source": [
    "#import accuracy score from sklearn\n",
    "from sklearn.metrics import accuracy_score, recall_score, precision_score, f1_score, confusion_matrix\n",
    "tp, fn, fp, tn = confusion_matrix(y_test, y_pred, labels=[0,1]).ravel()\n",
    "print(tp,fn,fp,tn)\n",
    "\n",
    "accuracy = (tp + tn) / (tp + tn + fp + fn)\n",
    "precision = tp / (tp + fp) #Given that we predict positive, how often is it really positive\n",
    "recall = tp / (tp + fn) #How good at predicting positive\n",
    "f1 = 2 * (precision * recall) / (precision + recall)\n",
    "specificity = tn / (tn + fp) # How good at predicting negative?\n",
    "\n",
    "print(\"Accuracy:\", accuracy)\n",
    "print(\"Precision:\", precision)\n",
    "print(\"Recall:\", recall)\n",
    "print(\"Specificity:\", specificity) \n",
    "print(\"F1:\", f1)"
   ]
  },
  {
   "cell_type": "markdown",
   "metadata": {},
   "source": [
    "# RUS Tuning"
   ]
  },
  {
   "cell_type": "code",
   "execution_count": 258,
   "metadata": {},
   "outputs": [],
   "source": [
    "numbers = []\n",
    "for i in range(1, 200):\n",
    "    numbers.append(i / 100)\n",
    "\n",
    "best_c = 1\n",
    "spec = 0.6240421455938697"
   ]
  },
  {
   "cell_type": "code",
   "execution_count": 259,
   "metadata": {},
   "outputs": [],
   "source": [
    "for i in numbers:\n",
    "    lr = LogisticRegression(random_state=7,C= i, solver= 'liblinear')\n",
    "    lr.fit(X_train_rus_resampled, y_train_rus_resampled)\n",
    "    y_pred = lr.predict(X_test)\n",
    "    res = calculate(y_test,y_pred)\n",
    "    if res > spec:\n",
    "        best_c=i\n",
    "        spec=res"
   ]
  },
  {
   "cell_type": "code",
   "execution_count": 260,
   "metadata": {},
   "outputs": [
    {
     "name": "stdout",
     "output_type": "stream",
     "text": [
      "1\n"
     ]
    }
   ],
   "source": [
    "print(best_c)"
   ]
  },
  {
   "cell_type": "code",
   "execution_count": 261,
   "metadata": {},
   "outputs": [
    {
     "name": "stdout",
     "output_type": "stream",
     "text": [
      "[[0.86281869 0.75108112 1.24368989 0.50230555 0.29715    0.61047928\n",
      "  0.50879618 0.48601639 0.78043852 0.58913559 0.4360266  0.49713405\n",
      "  0.64611787 0.09371306 0.58785159]]\n",
      "[-0.00165633]\n"
     ]
    }
   ],
   "source": [
    "lr_rus = LogisticRegression(C=1, solver='liblinear', random_state=7)\n",
    "lr_rus.fit(X_train_rus_resampled, y_train_rus_resampled)\n",
    "print(lr_rus.coef_)\n",
    "print(lr_rus.intercept_)\n"
   ]
  },
  {
   "cell_type": "code",
   "execution_count": 262,
   "metadata": {},
   "outputs": [
    {
     "name": "stdout",
     "output_type": "stream",
     "text": [
      "         Predict Good  Predict Default\n",
      "Good            13507             7178\n",
      "Default           785             1303\n"
     ]
    }
   ],
   "source": [
    "y_rus_pred = lr_rus.predict(X_test)\n",
    "cm = confusion_matrix(y_test, y_rus_pred, labels=[0,1])\n",
    "df_cm = pd.DataFrame(cm, index=['Good', 'Default'], columns=['Predict Good', 'Predict Default'])\n",
    "print(df_cm)"
   ]
  },
  {
   "cell_type": "code",
   "execution_count": 263,
   "metadata": {},
   "outputs": [
    {
     "name": "stdout",
     "output_type": "stream",
     "text": [
      "13507 7178 785 1303\n",
      "Accuracy: 0.6503315329556931\n",
      "Precision: 0.9450741673663589\n",
      "Recall: 0.6529852550157119\n",
      "Specificity: 0.6240421455938697\n",
      "F1: 0.7723361065843268\n"
     ]
    }
   ],
   "source": [
    "#import accuracy score from sklearn\n",
    "from sklearn.metrics import accuracy_score, recall_score, precision_score, f1_score, confusion_matrix\n",
    "tp, fn, fp, tn = confusion_matrix(y_test, y_rus_pred, labels=[0,1]).ravel()\n",
    "print(tp,fn,fp,tn)\n",
    "\n",
    "accuracy = (tp + tn) / (tp + tn + fp + fn)\n",
    "precision = tp / (tp + fp) #Given that we predict positive, how often is it really positive\n",
    "recall = tp / (tp + fn) #How good at predicting positive\n",
    "f1 = 2 * (precision * recall) / (precision + recall)\n",
    "specificity = tn / (tn + fp) # How good at predicting negative?\n",
    "\n",
    "print(\"Accuracy:\", accuracy)\n",
    "print(\"Precision:\", precision)\n",
    "print(\"Recall:\", recall)\n",
    "print(\"Specificity:\", specificity) \n",
    "print(\"F1:\", f1)"
   ]
  },
  {
   "cell_type": "markdown",
   "metadata": {},
   "source": [
    "# ROS Tuning"
   ]
  },
  {
   "cell_type": "code",
   "execution_count": 264,
   "metadata": {},
   "outputs": [],
   "source": [
    "numbers = []\n",
    "for i in range(1, 200):\n",
    "    numbers.append(i / 100)\n",
    "\n",
    "best_c = 1\n",
    "spec = 0.6264367816091954"
   ]
  },
  {
   "cell_type": "code",
   "execution_count": 265,
   "metadata": {},
   "outputs": [],
   "source": [
    "for i in numbers:\n",
    "    lr = LogisticRegression(random_state=7,C= i, solver= 'liblinear')\n",
    "    lr.fit(X_train_ros_resampled, y_train_ros_resampled)\n",
    "    y_pred = lr.predict(X_test)\n",
    "    res = calculate(y_test,y_pred)\n",
    "    if res > spec:\n",
    "        best_c=i\n",
    "        spec=res"
   ]
  },
  {
   "cell_type": "code",
   "execution_count": 266,
   "metadata": {},
   "outputs": [
    {
     "name": "stdout",
     "output_type": "stream",
     "text": [
      "1\n"
     ]
    }
   ],
   "source": [
    "print(best_c)"
   ]
  },
  {
   "cell_type": "code",
   "execution_count": 267,
   "metadata": {},
   "outputs": [
    {
     "data": {
      "text/html": [
       "<style>#sk-container-id-4 {color: black;background-color: white;}#sk-container-id-4 pre{padding: 0;}#sk-container-id-4 div.sk-toggleable {background-color: white;}#sk-container-id-4 label.sk-toggleable__label {cursor: pointer;display: block;width: 100%;margin-bottom: 0;padding: 0.3em;box-sizing: border-box;text-align: center;}#sk-container-id-4 label.sk-toggleable__label-arrow:before {content: \"▸\";float: left;margin-right: 0.25em;color: #696969;}#sk-container-id-4 label.sk-toggleable__label-arrow:hover:before {color: black;}#sk-container-id-4 div.sk-estimator:hover label.sk-toggleable__label-arrow:before {color: black;}#sk-container-id-4 div.sk-toggleable__content {max-height: 0;max-width: 0;overflow: hidden;text-align: left;background-color: #f0f8ff;}#sk-container-id-4 div.sk-toggleable__content pre {margin: 0.2em;color: black;border-radius: 0.25em;background-color: #f0f8ff;}#sk-container-id-4 input.sk-toggleable__control:checked~div.sk-toggleable__content {max-height: 200px;max-width: 100%;overflow: auto;}#sk-container-id-4 input.sk-toggleable__control:checked~label.sk-toggleable__label-arrow:before {content: \"▾\";}#sk-container-id-4 div.sk-estimator input.sk-toggleable__control:checked~label.sk-toggleable__label {background-color: #d4ebff;}#sk-container-id-4 div.sk-label input.sk-toggleable__control:checked~label.sk-toggleable__label {background-color: #d4ebff;}#sk-container-id-4 input.sk-hidden--visually {border: 0;clip: rect(1px 1px 1px 1px);clip: rect(1px, 1px, 1px, 1px);height: 1px;margin: -1px;overflow: hidden;padding: 0;position: absolute;width: 1px;}#sk-container-id-4 div.sk-estimator {font-family: monospace;background-color: #f0f8ff;border: 1px dotted black;border-radius: 0.25em;box-sizing: border-box;margin-bottom: 0.5em;}#sk-container-id-4 div.sk-estimator:hover {background-color: #d4ebff;}#sk-container-id-4 div.sk-parallel-item::after {content: \"\";width: 100%;border-bottom: 1px solid gray;flex-grow: 1;}#sk-container-id-4 div.sk-label:hover label.sk-toggleable__label {background-color: #d4ebff;}#sk-container-id-4 div.sk-serial::before {content: \"\";position: absolute;border-left: 1px solid gray;box-sizing: border-box;top: 0;bottom: 0;left: 50%;z-index: 0;}#sk-container-id-4 div.sk-serial {display: flex;flex-direction: column;align-items: center;background-color: white;padding-right: 0.2em;padding-left: 0.2em;position: relative;}#sk-container-id-4 div.sk-item {position: relative;z-index: 1;}#sk-container-id-4 div.sk-parallel {display: flex;align-items: stretch;justify-content: center;background-color: white;position: relative;}#sk-container-id-4 div.sk-item::before, #sk-container-id-4 div.sk-parallel-item::before {content: \"\";position: absolute;border-left: 1px solid gray;box-sizing: border-box;top: 0;bottom: 0;left: 50%;z-index: -1;}#sk-container-id-4 div.sk-parallel-item {display: flex;flex-direction: column;z-index: 1;position: relative;background-color: white;}#sk-container-id-4 div.sk-parallel-item:first-child::after {align-self: flex-end;width: 50%;}#sk-container-id-4 div.sk-parallel-item:last-child::after {align-self: flex-start;width: 50%;}#sk-container-id-4 div.sk-parallel-item:only-child::after {width: 0;}#sk-container-id-4 div.sk-dashed-wrapped {border: 1px dashed gray;margin: 0 0.4em 0.5em 0.4em;box-sizing: border-box;padding-bottom: 0.4em;background-color: white;}#sk-container-id-4 div.sk-label label {font-family: monospace;font-weight: bold;display: inline-block;line-height: 1.2em;}#sk-container-id-4 div.sk-label-container {text-align: center;}#sk-container-id-4 div.sk-container {/* jupyter's `normalize.less` sets `[hidden] { display: none; }` but bootstrap.min.css set `[hidden] { display: none !important; }` so we also need the `!important` here to be able to override the default hidden behavior on the sphinx rendered scikit-learn.org. See: https://github.com/scikit-learn/scikit-learn/issues/21755 */display: inline-block !important;position: relative;}#sk-container-id-4 div.sk-text-repr-fallback {display: none;}</style><div id=\"sk-container-id-4\" class=\"sk-top-container\"><div class=\"sk-text-repr-fallback\"><pre>LogisticRegression(C=1, random_state=7, solver=&#x27;liblinear&#x27;)</pre><b>In a Jupyter environment, please rerun this cell to show the HTML representation or trust the notebook. <br />On GitHub, the HTML representation is unable to render, please try loading this page with nbviewer.org.</b></div><div class=\"sk-container\" hidden><div class=\"sk-item\"><div class=\"sk-estimator sk-toggleable\"><input class=\"sk-toggleable__control sk-hidden--visually\" id=\"sk-estimator-id-4\" type=\"checkbox\" checked><label for=\"sk-estimator-id-4\" class=\"sk-toggleable__label sk-toggleable__label-arrow\">LogisticRegression</label><div class=\"sk-toggleable__content\"><pre>LogisticRegression(C=1, random_state=7, solver=&#x27;liblinear&#x27;)</pre></div></div></div></div></div>"
      ],
      "text/plain": [
       "LogisticRegression(C=1, random_state=7, solver='liblinear')"
      ]
     },
     "execution_count": 267,
     "metadata": {},
     "output_type": "execute_result"
    }
   ],
   "source": [
    "lr = LogisticRegression(random_state=7,C= 1, solver= 'liblinear')\n",
    "lr.fit(X_train_ros_resampled, y_train_ros_resampled)"
   ]
  },
  {
   "cell_type": "code",
   "execution_count": 268,
   "metadata": {},
   "outputs": [
    {
     "name": "stdout",
     "output_type": "stream",
     "text": [
      "         Predict Good  Predict Default\n",
      "Good            13470             7215\n",
      "Default           780             1308\n"
     ]
    }
   ],
   "source": [
    "lr_ros_pred = lr_ros.predict(X_test)\n",
    "cm = confusion_matrix(y_test, lr_ros_pred, labels=[0,1])\n",
    "df_cm = pd.DataFrame(cm, index=['Good', 'Default'], columns=['Predict Good', 'Predict Default'])\n",
    "print(df_cm)"
   ]
  },
  {
   "cell_type": "code",
   "execution_count": 269,
   "metadata": {},
   "outputs": [
    {
     "name": "stdout",
     "output_type": "stream",
     "text": [
      "13470 7215 780 1308\n",
      "Accuracy: 0.6489263601633514\n",
      "Precision: 0.9452631578947368\n",
      "Recall: 0.6511965192168238\n",
      "Specificity: 0.6264367816091954\n",
      "F1: 0.7711464147702877\n"
     ]
    }
   ],
   "source": [
    "#import accuracy score from sklearn\n",
    "from sklearn.metrics import accuracy_score, recall_score, precision_score, f1_score, confusion_matrix\n",
    "tp, fn, fp, tn = confusion_matrix(y_test, lr_ros_pred, labels=[0,1]).ravel()\n",
    "print(tp,fn,fp,tn)\n",
    "\n",
    "accuracy = (tp + tn) / (tp + tn + fp + fn)\n",
    "precision = tp / (tp + fp) #Given that we predict positive, how often is it really positive\n",
    "recall = tp / (tp + fn) #How good at predicting positive\n",
    "f1 = 2 * (precision * recall) / (precision + recall)\n",
    "specificity = tn / (tn + fp) # How good at predicting negative?\n",
    "\n",
    "print(\"Accuracy:\", accuracy)\n",
    "print(\"Precision:\", precision)\n",
    "print(\"Recall:\", recall)\n",
    "print(\"Specificity:\", specificity) \n",
    "print(\"F1:\", f1)"
   ]
  },
  {
   "cell_type": "markdown",
   "metadata": {},
   "source": [
    "# SMOTE Tuning"
   ]
  },
  {
   "cell_type": "code",
   "execution_count": 270,
   "metadata": {},
   "outputs": [],
   "source": [
    "numbers = []\n",
    "for i in range(1, 200):\n",
    "    numbers.append(i / 100)\n",
    "\n",
    "best_c = 1\n",
    "spec = 0.6278735632183908"
   ]
  },
  {
   "cell_type": "code",
   "execution_count": 271,
   "metadata": {},
   "outputs": [],
   "source": [
    "for i in numbers:\n",
    "    lr_smote = LogisticRegression(C=i, solver='liblinear', random_state=7)\n",
    "    lr_smote.fit(X_train_smote_resampled, y_train_smote_resampled)\n",
    "    y_pred = lr_smote.predict(X_test)\n",
    "    res = calculate(y_test,y_pred)\n",
    "    if res > spec:\n",
    "        best_c=i\n",
    "        spec=res"
   ]
  },
  {
   "cell_type": "code",
   "execution_count": 272,
   "metadata": {},
   "outputs": [
    {
     "name": "stdout",
     "output_type": "stream",
     "text": [
      "0.29\n"
     ]
    }
   ],
   "source": [
    "print(best_c)"
   ]
  },
  {
   "cell_type": "code",
   "execution_count": 273,
   "metadata": {},
   "outputs": [
    {
     "name": "stdout",
     "output_type": "stream",
     "text": [
      "[[0.88170951 0.83532577 1.19083122 0.4827123  0.22546434 0.68701493\n",
      "  0.48415704 0.23999939 0.8118242  0.62940435 0.61045184 0.49957816\n",
      "  0.70248361 0.089215   0.72563378]]\n",
      "[0.00040464]\n"
     ]
    }
   ],
   "source": [
    "#create a logistic regression model object\n",
    "lr_smote = LogisticRegression(C=0.29, solver='liblinear', random_state=7)\n",
    "lr_smote.fit(X_train_smote_resampled, y_train_smote_resampled)\n",
    "print(lr.coef_)\n",
    "print(lr.intercept_)"
   ]
  },
  {
   "cell_type": "code",
   "execution_count": 274,
   "metadata": {},
   "outputs": [
    {
     "name": "stdout",
     "output_type": "stream",
     "text": [
      "         Predict Good  Predict Default\n",
      "Good            13453             7232\n",
      "Default           774             1314\n"
     ]
    }
   ],
   "source": [
    "y_smote_pred = lr_smote.predict(X_test)\n",
    "cm = confusion_matrix(y_test, y_smote_pred, labels=[0,1])\n",
    "df_cm = pd.DataFrame(cm, index=['Good', 'Default'], columns=['Predict Good', 'Predict Default'])\n",
    "print(df_cm)"
   ]
  },
  {
   "cell_type": "code",
   "execution_count": 275,
   "metadata": {},
   "outputs": [
    {
     "name": "stdout",
     "output_type": "stream",
     "text": [
      "13453 7232 774 1314\n",
      "Accuracy: 0.6484433320159838\n",
      "Precision: 0.9455964012089688\n",
      "Recall: 0.6503746676335509\n",
      "Specificity: 0.6293103448275862\n",
      "F1: 0.7706805682859761\n"
     ]
    }
   ],
   "source": [
    "#import accuracy score from sklearn\n",
    "from sklearn.metrics import accuracy_score, recall_score, precision_score, f1_score, confusion_matrix\n",
    "tp, fn, fp, tn = confusion_matrix(y_test, y_smote_pred, labels=[0,1]).ravel()\n",
    "print(tp,fn,fp,tn)\n",
    "\n",
    "accuracy = (tp + tn) / (tp + tn + fp + fn)\n",
    "precision = tp / (tp + fp) #Given that we predict positive, how often is it really positive\n",
    "recall = tp / (tp + fn) #How good at predicting positive\n",
    "f1 = 2 * (precision * recall) / (precision + recall)\n",
    "specificity = tn / (tn + fp) # How good at predicting negative?\n",
    "\n",
    "print(\"Accuracy:\", accuracy)\n",
    "print(\"Precision:\", precision)\n",
    "print(\"Recall:\", recall)\n",
    "print(\"Specificity:\", specificity) \n",
    "print(\"F1:\", f1)"
   ]
  },
  {
   "cell_type": "markdown",
   "metadata": {},
   "source": [
    "# Let us see the results"
   ]
  },
  {
   "cell_type": "markdown",
   "metadata": {},
   "source": [
    "BEST SMOTE\n",
    "<br> \n",
    "Accuracy: 0.6484433320159838<br> \n",
    "Precision: 0.9455964012089688<br> \n",
    "Recall: 0.6503746676335509<br> \n",
    "Specificity: 0.6293103448275862<br> \n",
    "F1: 0.7706805682859761\n",
    "<br>\n",
    "    \n",
    "BEST ROS\n",
    "<br>\n",
    "Accuracy: 0.6489263601633514<br>\n",
    "Precision: 0.9452631578947368<br>\n",
    "Recall: 0.6511965192168238<br>\n",
    "Specificity: 0.6264367816091954<br>\n",
    "F1: 0.7711464147702877<br>\n",
    "\n",
    "\n",
    "<br> \n",
    "    \n",
    "BEST RUS\n",
    "<br> \n",
    "Accuracy: 0.6503315329556931<br> \n",
    "Precision: 0.9450741673663589<br> \n",
    "Recall: 0.6529852550157119<br> \n",
    "Specificity: 0.6240421455938697<br> \n",
    "F1: 0.7723361065843268\n",
    "<br> \n",
    "\n",
    "\n",
    "BEST ORIGINAL DATASET (imbalanced)\n",
    "<br>\n",
    "Accuracy: 0.6483994203662231<br>\n",
    "Precision: 0.9453421385415203<br>\n",
    "Recall: 0.6505197002658931<br>\n",
    "Specificity: 0.6273946360153256<br>\n",
    "F1: 0.7706979008562673"
   ]
  },
  {
   "cell_type": "markdown",
   "metadata": {},
   "source": [
    "# Comparing Results"
   ]
  },
  {
   "cell_type": "markdown",
   "metadata": {},
   "source": [
    "Best Accuracy: <br>\n",
    "RUS (0.6503)\n",
    "\n",
    "Best Precision:<br>\n",
    "SMOTE (0.946)<br>\n",
    "\n",
    "Best Recall:<br>\n",
    "RUS (0.653) <br>\n",
    "\n",
    "Best Specificity:<br>\n",
    "SMOTE (0.629)<br>\n",
    "\n",
    "Best F1 Score:<br>\n",
    "RUS (0.772)<br>"
   ]
  },
  {
   "cell_type": "markdown",
   "metadata": {},
   "source": [
    "Overall, RUS and SMOTE performed the best, though by a little (3rd to 4th decimal place).\n",
    "\n",
    "We will proceed with RUS since it is better overall."
   ]
  },
  {
   "cell_type": "code",
   "execution_count": 280,
   "metadata": {},
   "outputs": [
    {
     "name": "stdout",
     "output_type": "stream",
     "text": [
      "RUS\n"
     ]
    },
    {
     "data": {
      "image/png": "[encoded data removed]",
      "text/plain": [
       "<Figure size 432x288 with 1 Axes>"
      ]
     },
     "metadata": {
      "needs_background": "light"
     },
     "output_type": "display_data"
    },
    {
     "data": {
      "image/png": "[encoded data removed]",
      "text/plain": [
       "<Figure size 432x288 with 1 Axes>"
      ]
     },
     "metadata": {
      "needs_background": "light"
     },
     "output_type": "display_data"
    }
   ],
   "source": [
    "print(\"RUS\")\n",
    "train_pred = lr_rus.predict_proba(X_train_rus_resampled)[:,1]\n",
    "test_pred = lr_rus.predict_proba(X_test)[:,1]\n",
    "\n",
    "\n",
    "train_perf = sc.perf_eva(y_train_rus_resampled, train_pred, plot_type=['roc'], title = \"train\")\n",
    "test_perf = sc.perf_eva(y_test, test_pred, plot_type=['roc'], title = \"test\")"
   ]
  },
  {
   "cell_type": "markdown",
   "metadata": {},
   "source": [
    "# We will select the LR trained with the RUS"
   ]
  },
  {
   "cell_type": "code",
   "execution_count": 281,
   "metadata": {},
   "outputs": [
    {
     "data": {
      "image/png": "[encoded data removed]",
      "text/plain": [
       "<Figure size 432x288 with 2 Axes>"
      ]
     },
     "metadata": {
      "needs_background": "light"
     },
     "output_type": "display_data"
    },
    {
     "data": {
      "image/png": "[encoded data removed]",
      "text/plain": [
       "<Figure size 432x288 with 2 Axes>"
      ]
     },
     "metadata": {
      "needs_background": "light"
     },
     "output_type": "display_data"
    }
   ],
   "source": [
    "train_pred = lr_rus.predict_proba(X_train_rus_resampled)[:,1]\n",
    "test_pred = lr_rus.predict_proba(X_test)[:,1]\n",
    "\n",
    "train_perf = sc.perf_eva(y_train_rus_resampled, train_pred, title = \"train\")\n",
    "test_perf = sc.perf_eva(y_test, test_pred, title = \"test\")"
   ]
  },
  {
   "cell_type": "markdown",
   "metadata": {},
   "source": [
    "# Creating Scorecard"
   ]
  },
  {
   "cell_type": "code",
   "execution_count": 282,
   "metadata": {},
   "outputs": [
    {
     "name": "stdout",
     "output_type": "stream",
     "text": [
      "{'AMT_ANNUITY':       variable                bin  points\n",
      "0  AMT_ANNUITY     [-inf,12000.0)     2.0\n",
      "1  AMT_ANNUITY  [12000.0,16000.0)     1.0\n",
      "2  AMT_ANNUITY      [16000.0,inf)    -0.0,\n",
      " 'AMT_CREDIT':       variable                  bin  points\n",
      "28  AMT_CREDIT      [-inf,150000.0)    12.0\n",
      "29  AMT_CREDIT  [150000.0,200000.0)     5.0\n",
      "30  AMT_CREDIT  [200000.0,250000.0)     3.0\n",
      "31  AMT_CREDIT  [250000.0,300000.0)     1.0\n",
      "32  AMT_CREDIT       [300000.0,inf)    -1.0,\n",
      " 'AMT_INCOME_TOTAL':             variable                  bin  points\n",
      "14  AMT_INCOME_TOTAL       [-inf,90000.0)    -0.0\n",
      "15  AMT_INCOME_TOTAL   [90000.0,200000.0)    -0.0\n",
      "16  AMT_INCOME_TOTAL  [200000.0,250000.0)     0.0\n",
      "17  AMT_INCOME_TOTAL  [250000.0,300000.0)     1.0\n",
      "18  AMT_INCOME_TOTAL       [300000.0,inf)     1.0,\n",
      " 'CNT_FAM_MEMBERS':            variable         bin  points\n",
      "11  CNT_FAM_MEMBERS  [-inf,2.0)    -2.0\n",
      "12  CNT_FAM_MEMBERS   [2.0,3.0)    -0.0\n",
      "13  CNT_FAM_MEMBERS   [3.0,inf)     1.0,\n",
      " 'DAYS_EMPLOYED':          variable              bin  points\n",
      "38  DAYS_EMPLOYED    [-inf,1000.0)    -6.0\n",
      "39  DAYS_EMPLOYED  [1000.0,1700.0)    -2.0\n",
      "40  DAYS_EMPLOYED  [1700.0,2200.0)     2.0\n",
      "41  DAYS_EMPLOYED  [2200.0,3500.0)     5.0\n",
      "42  DAYS_EMPLOYED  [3500.0,5000.0)     8.0\n",
      "43  DAYS_EMPLOYED     [5000.0,inf)    13.0,\n",
      " 'DEF_60_CNT_SOCIAL_CIRCLE':                     variable         bin  points\n",
      "19  DEF_60_CNT_SOCIAL_CIRCLE  [-inf,1.0)     1.0\n",
      "20  DEF_60_CNT_SOCIAL_CIRCLE   [1.0,inf)    -6.0,\n",
      " 'EXT_SOURCE_2':         variable          bin  points\n",
      "21  EXT_SOURCE_2  [-inf,0.14)   -29.0\n",
      "22  EXT_SOURCE_2  [0.14,0.25)   -16.0\n",
      "23  EXT_SOURCE_2  [0.25,0.35)   -10.0\n",
      "24  EXT_SOURCE_2   [0.35,0.6)     0.0\n",
      "25  EXT_SOURCE_2    [0.6,inf)    15.0,\n",
      " 'FLAG_OWN_CAR':         variable         bin  points\n",
      "26  FLAG_OWN_CAR  [-inf,1.0)    -3.0\n",
      "27  FLAG_OWN_CAR   [1.0,inf)     4.0,\n",
      " 'NAME_CONTRACT_TYPE':               variable         bin  points\n",
      "9   NAME_CONTRACT_TYPE  [-inf,1.0)    -1.0\n",
      "10  NAME_CONTRACT_TYPE   [1.0,inf)    11.0,\n",
      " 'NAME_EDUCATION_TYPE':               variable         bin  points\n",
      "3  NAME_EDUCATION_TYPE  [-inf,3.0)    -3.0\n",
      "4  NAME_EDUCATION_TYPE   [3.0,inf)     8.0,\n",
      " 'NAME_FAMILY_STATUS':               variable         bin  points\n",
      "47  NAME_FAMILY_STATUS  [-inf,3.0)     0.0\n",
      "48  NAME_FAMILY_STATUS   [3.0,inf)    -2.0,\n",
      " 'NAME_HOUSING_TYPE':              variable         bin  points\n",
      "36  NAME_HOUSING_TYPE  [-inf,4.0)    -4.0\n",
      "37  NAME_HOUSING_TYPE   [4.0,inf)     1.0,\n",
      " 'NAME_INCOME_TYPE':             variable         bin  points\n",
      "44  NAME_INCOME_TYPE  [-inf,4.0)    -2.0\n",
      "45  NAME_INCOME_TYPE   [4.0,5.0)     6.0\n",
      "46  NAME_INCOME_TYPE   [5.0,inf)     3.0,\n",
      " 'OCCUPATION_TYPE':            variable         bin  points\n",
      "33  OCCUPATION_TYPE  [-inf,6.0)    -6.0\n",
      "34  OCCUPATION_TYPE   [6.0,9.0)    -3.0\n",
      "35  OCCUPATION_TYPE   [9.0,inf)     4.0,\n",
      " 'age':   variable          bin  points\n",
      "5      age  [-inf,30.0)    -3.0\n",
      "6      age  [30.0,35.0)    -1.0\n",
      "7      age  [35.0,40.0)     1.0\n",
      "8      age   [40.0,inf)     3.0,\n",
      " 'basepoints':      variable  bin  points\n",
      "0  basepoints  NaN   514.0}\n"
     ]
    }
   ],
   "source": [
    "#generate a card from the model and bins. The scores will be based on probability of default from the model\n",
    "card = sc.scorecard(bins_final, lr_rus, X_train.columns, points0 = 600, odds0 = 1/20, pdo = 20,\n",
    "      basepoints_eq0 = False)\n",
    "\n",
    "pprint.pprint(card)"
   ]
  },
  {
   "cell_type": "code",
   "execution_count": 283,
   "metadata": {},
   "outputs": [
    {
     "data": {
      "text/plain": [
       "array([[<AxesSubplot:title={'center':'score'}>]], dtype=object)"
      ]
     },
     "execution_count": 283,
     "metadata": {},
     "output_type": "execute_result"
    },
    {
     "data": {
      "image/png": "[encoded data removed]",
      "text/plain": [
       "<Figure size 1152x648 with 1 Axes>"
      ]
     },
     "metadata": {
      "needs_background": "light"
     },
     "output_type": "display_data"
    }
   ],
   "source": [
    "train_score = sc.scorecard_ply(train, card)\n",
    "test_score = sc.scorecard_ply(test, card)\n",
    "\n",
    "#distrubution of scores on test data\n",
    "test_score.hist(figsize=(16,9),bins=60)"
   ]
  },
  {
   "cell_type": "code",
   "execution_count": 284,
   "metadata": {},
   "outputs": [],
   "source": [
    "temp_df = pd.DataFrame()\n",
    "\n",
    "for key in card:\n",
    "    if key != 'basepoints':\n",
    "        temp_df = temp_df.append(card[key], ignore_index=True)\n",
    "        \n",
    "temp_df['bin'] = temp_df['bin'].apply(lambda x: str(x).replace('[','').replace(')',''))\n",
    "\n",
    "for i in range(0, len(temp_df)):\n",
    "    value = str(temp_df.iloc[i]['bin'])\n",
    "    value_list = value.split(',')\n",
    "    if str(value_list[0]) == '-inf':\n",
    "        value = '<' + value_list[1]\n",
    "    elif str(value_list[1]) == 'inf':        \n",
    "        value = \">\"+value_list[0]\n",
    "    temp_df.at[i,'bin'] = value\n",
    "\n",
    "temp_df.to_csv('scorecard.csv', index=False)"
   ]
  },
  {
   "cell_type": "markdown",
   "metadata": {},
   "source": [
    "Without base"
   ]
  },
  {
   "cell_type": "code",
   "execution_count": 285,
   "metadata": {},
   "outputs": [
    {
     "name": "stdout",
     "output_type": "stream",
     "text": [
      "{'AMT_ANNUITY':       variable                bin  points\n",
      "0  AMT_ANNUITY     [-inf,12000.0)    36.0\n",
      "1  AMT_ANNUITY  [12000.0,16000.0)    35.0\n",
      "2  AMT_ANNUITY      [16000.0,inf)    34.0,\n",
      " 'AMT_CREDIT':       variable                  bin  points\n",
      "28  AMT_CREDIT      [-inf,150000.0)    45.0\n",
      "29  AMT_CREDIT  [150000.0,200000.0)    39.0\n",
      "30  AMT_CREDIT  [200000.0,250000.0)    37.0\n",
      "31  AMT_CREDIT  [250000.0,300000.0)    35.0\n",
      "32  AMT_CREDIT       [300000.0,inf)    33.0,\n",
      " 'AMT_INCOME_TOTAL':             variable                  bin  points\n",
      "14  AMT_INCOME_TOTAL       [-inf,90000.0)    34.0\n",
      "15  AMT_INCOME_TOTAL   [90000.0,200000.0)    34.0\n",
      "16  AMT_INCOME_TOTAL  [200000.0,250000.0)    34.0\n",
      "17  AMT_INCOME_TOTAL  [250000.0,300000.0)    35.0\n",
      "18  AMT_INCOME_TOTAL       [300000.0,inf)    35.0,\n",
      " 'CNT_FAM_MEMBERS':            variable         bin  points\n",
      "11  CNT_FAM_MEMBERS  [-inf,2.0)    32.0\n",
      "12  CNT_FAM_MEMBERS   [2.0,3.0)    34.0\n",
      "13  CNT_FAM_MEMBERS   [3.0,inf)    36.0,\n",
      " 'DAYS_EMPLOYED':          variable              bin  points\n",
      "38  DAYS_EMPLOYED    [-inf,1000.0)    28.0\n",
      "39  DAYS_EMPLOYED  [1000.0,1700.0)    32.0\n",
      "40  DAYS_EMPLOYED  [1700.0,2200.0)    36.0\n",
      "41  DAYS_EMPLOYED  [2200.0,3500.0)    40.0\n",
      "42  DAYS_EMPLOYED  [3500.0,5000.0)    43.0\n",
      "43  DAYS_EMPLOYED     [5000.0,inf)    48.0,\n",
      " 'DEF_60_CNT_SOCIAL_CIRCLE':                     variable         bin  points\n",
      "19  DEF_60_CNT_SOCIAL_CIRCLE  [-inf,1.0)    35.0\n",
      "20  DEF_60_CNT_SOCIAL_CIRCLE   [1.0,inf)    27.0,\n",
      " 'EXT_SOURCE_2':         variable          bin  points\n",
      "21  EXT_SOURCE_2  [-inf,0.14)     4.0\n",
      "22  EXT_SOURCE_2  [0.14,0.25)    18.0\n",
      "23  EXT_SOURCE_2  [0.25,0.35)    24.0\n",
      "24  EXT_SOURCE_2   [0.35,0.6)    35.0\n",
      "25  EXT_SOURCE_2    [0.6,inf)    49.0,\n",
      " 'FLAG_OWN_CAR':         variable         bin  points\n",
      "26  FLAG_OWN_CAR  [-inf,1.0)    31.0\n",
      "27  FLAG_OWN_CAR   [1.0,inf)    39.0,\n",
      " 'NAME_CONTRACT_TYPE':               variable         bin  points\n",
      "9   NAME_CONTRACT_TYPE  [-inf,1.0)    33.0\n",
      "10  NAME_CONTRACT_TYPE   [1.0,inf)    47.0,\n",
      " 'NAME_EDUCATION_TYPE':               variable         bin  points\n",
      "3  NAME_EDUCATION_TYPE  [-inf,3.0)    31.0\n",
      "4  NAME_EDUCATION_TYPE   [3.0,inf)    43.0,\n",
      " 'NAME_FAMILY_STATUS':               variable         bin  points\n",
      "47  NAME_FAMILY_STATUS  [-inf,3.0)    34.0\n",
      "48  NAME_FAMILY_STATUS   [3.0,inf)    33.0,\n",
      " 'NAME_HOUSING_TYPE':              variable         bin  points\n",
      "36  NAME_HOUSING_TYPE  [-inf,4.0)    30.0\n",
      "37  NAME_HOUSING_TYPE   [4.0,inf)    35.0,\n",
      " 'NAME_INCOME_TYPE':             variable         bin  points\n",
      "44  NAME_INCOME_TYPE  [-inf,4.0)    33.0\n",
      "45  NAME_INCOME_TYPE   [4.0,5.0)    40.0\n",
      "46  NAME_INCOME_TYPE   [5.0,inf)    37.0,\n",
      " 'OCCUPATION_TYPE':            variable         bin  points\n",
      "33  OCCUPATION_TYPE  [-inf,6.0)    29.0\n",
      "34  OCCUPATION_TYPE   [6.0,9.0)    31.0\n",
      "35  OCCUPATION_TYPE   [9.0,inf)    38.0,\n",
      " 'age':   variable          bin  points\n",
      "5      age  [-inf,30.0)    32.0\n",
      "6      age  [30.0,35.0)    33.0\n",
      "7      age  [35.0,40.0)    35.0\n",
      "8      age   [40.0,inf)    37.0,\n",
      " 'basepoints':      variable  bin  points\n",
      "0  basepoints  NaN       0}\n"
     ]
    }
   ],
   "source": [
    "#generate a card from the model and bins. The scores will be based on probability of default from the model\n",
    "card = sc.scorecard(bins_final, lr, X_train.columns, points0 = 600, odds0 = 1/20, pdo = 20,\n",
    "      basepoints_eq0 = True)\n",
    "\n",
    "pprint.pprint(card)"
   ]
  },
  {
   "cell_type": "code",
   "execution_count": 286,
   "metadata": {},
   "outputs": [
    {
     "data": {
      "text/plain": [
       "array([[<AxesSubplot:title={'center':'score'}>]], dtype=object)"
      ]
     },
     "execution_count": 286,
     "metadata": {},
     "output_type": "execute_result"
    },
    {
     "data": {
      "image/png": "[encoded data removed]",
      "text/plain": [
       "<Figure size 1152x648 with 1 Axes>"
      ]
     },
     "metadata": {
      "needs_background": "light"
     },
     "output_type": "display_data"
    }
   ],
   "source": [
    "train_score = sc.scorecard_ply(train, card)\n",
    "test_score = sc.scorecard_ply(test, card)\n",
    "\n",
    "#distrubution of scores on test data\n",
    "test_score.hist(figsize=(16,9),bins=60)"
   ]
  },
  {
   "cell_type": "code",
   "execution_count": 287,
   "metadata": {},
   "outputs": [],
   "source": [
    "temp_df = pd.DataFrame()\n",
    "\n",
    "for key in card:\n",
    "    if key != 'basepoints':\n",
    "        temp_df = temp_df.append(card[key], ignore_index=True)\n",
    "        \n",
    "temp_df['bin'] = temp_df['bin'].apply(lambda x: str(x).replace('[','').replace(')',''))\n",
    "\n",
    "for i in range(0, len(temp_df)):\n",
    "    value = str(temp_df.iloc[i]['bin'])\n",
    "    value_list = value.split(',')\n",
    "    if str(value_list[0]) == '-inf':\n",
    "        value = '<' + value_list[1]\n",
    "    elif str(value_list[1]) == 'inf':        \n",
    "        value = \">\"+value_list[0]\n",
    "    temp_df.at[i,'bin'] = value\n",
    "\n",
    "temp_df.to_csv('scorecard_base.csv', index=False)"
   ]
  },
  {
   "cell_type": "code",
   "execution_count": null,
   "metadata": {},
   "outputs": [],
   "source": []
  }
 ],
 "metadata": {
  "kernelspec": {
   "display_name": "Python 3 (ipykernel)",
   "language": "python",
   "name": "python3"
  },
  "language_info": {
   "codemirror_mode": {
    "name": "ipython",
    "version": 3
   },
   "file_extension": ".py",
   "mimetype": "text/x-python",
   "name": "python",
   "nbconvert_exporter": "python",
   "pygments_lexer": "ipython3",
   "version": "3.9.7"
  }
 },
 "nbformat": 4,
 "nbformat_minor": 2
}
